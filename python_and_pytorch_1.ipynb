{
  "nbformat": 4,
  "nbformat_minor": 0,
  "metadata": {
    "colab": {
      "name": "python and pytorch 1.ipynb",
      "provenance": [],
      "collapsed_sections": [],
      "authorship_tag": "ABX9TyPcigCG7w5aIKEsyEGKqAX7",
      "include_colab_link": true
    },
    "kernelspec": {
      "name": "python3",
      "display_name": "Python 3"
    },
    "accelerator": "GPU"
  },
  "cells": [
    {
      "cell_type": "markdown",
      "metadata": {
        "id": "view-in-github",
        "colab_type": "text"
      },
      "source": [
        "<a href=\"https://colab.research.google.com/github/Alecia113/self-directed-exercises-python-/blob/main/python_and_pytorch_1.ipynb\" target=\"_parent\"><img src=\"https://colab.research.google.com/assets/colab-badge.svg\" alt=\"Open In Colab\"/></a>"
      ]
    },
    {
      "cell_type": "markdown",
      "metadata": {
        "id": "WOm580kLa3bg"
      },
      "source": [
        "# **First independent study**"
      ]
    },
    {
      "cell_type": "code",
      "metadata": {
        "id": "a1zKoCZ8kMQR"
      },
      "source": [
        "#https://blog.csdn.net/zdswyh123/article/details/106575404?ops_request_misc=&request_id=&biz_id=102&utm_term=colab%20python%20invalid%20syntax&utm_medium=distribute.pc_search_result.none-task-blog-2~all~sobaiduweb~default-3-106575404.first_rank_v2_pc_rank_v29"
      ],
      "execution_count": null,
      "outputs": []
    },
    {
      "cell_type": "code",
      "metadata": {
        "id": "xPz_q_XIbbZ6"
      },
      "source": [
        "#https://www.overleaf.com/learn/latex/Typesetting%20exams%20in%20LaTeX"
      ],
      "execution_count": null,
      "outputs": []
    },
    {
      "cell_type": "code",
      "metadata": {
        "colab": {
          "base_uri": "https://localhost:8080/"
        },
        "id": "CbkzljhycfZi",
        "outputId": "6e1a5021-971a-47ee-ffb8-ff6661849799"
      },
      "source": [
        "#在使用colab都需要有这段代码\n",
        "from google.colab import drive\n",
        "drive.mount('/content/drive')\n",
        "\n",
        "#将google drive (谷歌驱动器）挂到cloab上/ 从goocolab导入驱动器\n",
        "'''Drive already mounted at /content/drive; to attempt to forcibly remount, call drive.mount(\"/content/drive\", force_remount=True).\n",
        "mounted 安装，挂载在； forcibly remount 强制重新挂载; to attempt 要尝试'''\n",
        "\n",
        "import os #输入操作系统\n",
        "os.chdir(\"/content/drive/My Drive/\")\n",
        " #大写的My 错一点都不行。应该是路径问题。\n",
        "\n",
        "\n"
      ],
      "execution_count": null,
      "outputs": [
        {
          "output_type": "stream",
          "text": [
            "Drive already mounted at /content/drive; to attempt to forcibly remount, call drive.mount(\"/content/drive\", force_remount=True).\n"
          ],
          "name": "stdout"
        }
      ]
    },
    {
      "cell_type": "code",
      "metadata": {
        "id": "7UPjjJALfecX"
      },
      "source": [
        "#双击CM 变成文本栏； CMA前加代 CMB后 ^MD删框 中断：CMI（不好用）；CMY变代码框；CMM文； C-+浏览页面变大变小；CM- 从光标处分栏\n"
      ],
      "execution_count": null,
      "outputs": []
    },
    {
      "cell_type": "code",
      "metadata": {
        "colab": {
          "base_uri": "https://localhost:8080/"
        },
        "id": "o0d2Ak0Ufdwn",
        "outputId": "8a7fb1ae-c9cf-41e7-b1fb-8ce703485e8e"
      },
      "source": [
        "ls#当前目录"
      ],
      "execution_count": null,
      "outputs": [
        {
          "output_type": "stream",
          "text": [
            "\u001b[0m\u001b[01;34m'5206 共享'\u001b[0m/                  lab3.ipynb\n",
            " \u001b[01;34m5301tut4\u001b[0m/                    \u001b[01;34mNLP\u001b[0m/\n",
            " \u001b[01;34m5318a1\u001b[0m/                      \u001b[01;34mNotability\u001b[0m/\n",
            " \u001b[01;34m5318A2\u001b[0m/                     \u001b[01;34m'Notability (1)'\u001b[0m/\n",
            "'6007 1st meeting.gdoc'      \u001b[01;34m'Notability (2)'\u001b[0m/\n",
            "'6007 Gantt Chart.gdoc'       \u001b[01;34mpercy\u001b[0m/\n",
            " 6007ppt.gslides              predicted_labels_NB_withoutPCA.h5\n",
            "\u001b[01;34m'9106 ღ( ´･ᴗ･` )比心'\u001b[0m/        \u001b[01;34mpy\u001b[0m/\n",
            "\u001b[01;34m'Colab Notebooks'\u001b[0m/            SID490136906_L_code.ipynb\n",
            "'COMP9007 W5 tut2 .mp4'       \u001b[01;34mZUIXINZUOYE\u001b[0m/\n",
            " Gender.gdoc                  \u001b[01;34m自己ML资料\u001b[0m/\n",
            " KNN+NB+LR-checkpoint.ipynb   \u001b[01;34m计划\u001b[0m/\n"
          ],
          "name": "stdout"
        }
      ]
    },
    {
      "cell_type": "markdown",
      "metadata": {
        "id": "mo0qH5KPfuht"
      },
      "source": [
        "# prevent colab disruptive execution\n",
        "\n"
      ]
    },
    {
      "cell_type": "code",
      "metadata": {
        "id": "Xe_-EWLoftbU"
      },
      "source": [
        "#使用js 程序自动点击连接按钮;这种报错,指的是无效语法。这种情况一般是代码中有括号不完整或者代码首行缩进造成的\n",
        "#长时间训练模型时一定要经常清回收站，Google Drive 只有15G，并且它被覆盖或删除的文件都保存在回收站中，并没有真的删除，需要手动清除，如果15G满了，会出现各种错误！这是由于tensorflow版本与cuda版本不兼容导致\n",
        "#应该是没装包，在cmd下安装，还要到python的安装目录里找到pip的目录进行安装\n",
        "#还有可能是命名时候多了个空格"
      ],
      "execution_count": null,
      "outputs": []
    },
    {
      "cell_type": "markdown",
      "metadata": {
        "id": "OZJzNQJlueeR"
      },
      "source": [
        "关联你的colab，加载colabpratory\n",
        "\n",
        "> 基于TensorFlow 2.2.0 练习的代码。 \n",
        "\n",
        "\n"
      ]
    },
    {
      "cell_type": "code",
      "metadata": {
        "id": "JXiPwR3PwuCR"
      },
      "source": [
        "#https://blog.csdn.net/zdswyh123/article/details/106575404?ops_request_misc=&request_id=&biz_id=102&utm_term=colab%20python%20invalid%20syntax&utm_medium=distribute.pc_search_result.none-task-blog-2~all~sobaiduweb~default-3-106575404.first_rank_v2_pc_rank_v29"
      ],
      "execution_count": null,
      "outputs": []
    },
    {
      "cell_type": "code",
      "metadata": {
        "id": "nyITSNcsuezw"
      },
      "source": [
        "!pip install tensorflow-gpu\n",
        "#在安装tensorflow 然后配置环境。\n",
        "#https://blog.csdn.net/gangeqian2/article/details/79358543?ops_request_misc=&request_id=&biz_id=102&utm_term=!pip%20install%20tensorflow-gpu&utm_medium=distribute.pc_search_result.none-task-blog-2~all~sobaiduweb~default-1-79358543.nonecase\n",
        "#安装tensorflow的教程\n",
        "'''https://blog.csdn.net/qq_33866063/article/details/108642045?ops_request_misc=%257B%2522request%255Fid%2522%253A%2522161475284016780271585261%2522%252C%2522scm%2522%253A%252220140713.130102334.pc%255Fall.%2522%257D&request_id=161475284016780271585261&biz_id=0&utm_medium=distribute.pc_search_result.none-task-blog-2~all~first_rank_v2~rank_v29-3-108642045.first_rank_v2_pc_rank_v29&utm_term=%21pip+install+mlxtend%3D%3D0.17.0\n",
        "三、python 虚拟环境的创建  用pip install XX来安装相应的包'''"
      ],
      "execution_count": null,
      "outputs": []
    },
    {
      "cell_type": "code",
      "metadata": {
        "colab": {
          "base_uri": "https://localhost:8080/"
        },
        "id": "Mlnw7XWCuiKX",
        "outputId": "52812fb8-6538-467c-ccdd-64d33cb0cd52"
      },
      "source": [
        "!pip install mlxtend==0.17.0"
      ],
      "execution_count": null,
      "outputs": [
        {
          "output_type": "stream",
          "text": [
            "Requirement already satisfied: mlxtend==0.17.0 in /usr/local/lib/python3.7/dist-packages (0.17.0)\n",
            "Requirement already satisfied: scikit-learn>=0.20.3 in /usr/local/lib/python3.7/dist-packages (from mlxtend==0.17.0) (0.22.2.post1)\n",
            "Requirement already satisfied: scipy>=1.2.1 in /usr/local/lib/python3.7/dist-packages (from mlxtend==0.17.0) (1.4.1)\n",
            "Requirement already satisfied: pandas>=0.24.2 in /usr/local/lib/python3.7/dist-packages (from mlxtend==0.17.0) (1.1.5)\n",
            "Requirement already satisfied: setuptools in /usr/local/lib/python3.7/dist-packages (from mlxtend==0.17.0) (54.0.0)\n",
            "Requirement already satisfied: numpy>=1.16.2 in /usr/local/lib/python3.7/dist-packages (from mlxtend==0.17.0) (1.19.5)\n",
            "Requirement already satisfied: joblib>=0.13.2 in /usr/local/lib/python3.7/dist-packages (from mlxtend==0.17.0) (1.0.1)\n",
            "Requirement already satisfied: matplotlib>=3.0.0 in /usr/local/lib/python3.7/dist-packages (from mlxtend==0.17.0) (3.2.2)\n",
            "Requirement already satisfied: pytz>=2017.2 in /usr/local/lib/python3.7/dist-packages (from pandas>=0.24.2->mlxtend==0.17.0) (2018.9)\n",
            "Requirement already satisfied: python-dateutil>=2.7.3 in /usr/local/lib/python3.7/dist-packages (from pandas>=0.24.2->mlxtend==0.17.0) (2.8.1)\n",
            "Requirement already satisfied: pyparsing!=2.0.4,!=2.1.2,!=2.1.6,>=2.0.1 in /usr/local/lib/python3.7/dist-packages (from matplotlib>=3.0.0->mlxtend==0.17.0) (2.4.7)\n",
            "Requirement already satisfied: cycler>=0.10 in /usr/local/lib/python3.7/dist-packages (from matplotlib>=3.0.0->mlxtend==0.17.0) (0.10.0)\n",
            "Requirement already satisfied: kiwisolver>=1.0.1 in /usr/local/lib/python3.7/dist-packages (from matplotlib>=3.0.0->mlxtend==0.17.0) (1.3.1)\n",
            "Requirement already satisfied: six>=1.5 in /usr/local/lib/python3.7/dist-packages (from python-dateutil>=2.7.3->pandas>=0.24.2->mlxtend==0.17.0) (1.15.0)\n"
          ],
          "name": "stdout"
        }
      ]
    },
    {
      "cell_type": "code",
      "metadata": {
        "id": "_TNJzmHFxzph"
      },
      "source": [
        "!pip show mlxtend\n",
        "#展示包的信息,加了！\n",
        "#Summary: Machine Learning Library Extensions\n",
        "#三、中内容；； 集成学习总结，和Stack （堆积）利器库；可以进行数据关联。\n",
        "'''https://blog.csdn.net/weixin_39842918/article/details/111627130?ops_request_misc=%257B%2522request%255Fid%2522%253A%2522161475296916780262566702%2522%252C%2522scm%2522%253A%252220140713.130102334.pc%255Fall.%2522%257D&request_id=161475296916780262566702&biz_id=0&utm_medium=distribute.pc_search_result.none-task-blog-2~all~first_rank_v2~rank_v29-7-111627130.first_rank_v2_pc_rank_v29&utm_term=mlxtend\n",
        "介绍关于mlxtend数据关联'''\n",
        "#https://blog.csdn.net/Charzous/article/details/107748508?ops_request_misc=&request_id=&biz_id=102&utm_term=from%20tensorflow.keras%20import%20S&utm_medium=distribute.pc_search_result.none-task-blog-2~all~sobaiduweb~default-1-107748508.nonecase\n",
        "#深度学习手写数字识别\n"
      ],
      "execution_count": null,
      "outputs": []
    },
    {
      "cell_type": "code",
      "metadata": {
        "id": "tZOdyy-JzYP1"
      },
      "source": [
        ""
      ],
      "execution_count": null,
      "outputs": []
    },
    {
      "cell_type": "code",
      "metadata": {
        "id": "tZnZS9TJyDQF"
      },
      "source": [
        "pip list #展示所有包的情况"
      ],
      "execution_count": null,
      "outputs": []
    },
    {
      "cell_type": "code",
      "metadata": {
        "id": "hbdASZuPvYRT"
      },
      "source": [
        "import tensorflow as tf\n",
        "from tensorflow.keras import Sequential \n",
        "from tensorflow.keras.layers import Flatten, Dense, Conv2D, MaxPool2D, Dropout\n",
        "#https://blog.csdn.net/Forrest97/article/details/106120080?ops_request_misc=%257B%2522request%255Fid%2522%253A%2522161475315016780269836733%2522%252C%2522scm%2522%253A%252220140713.130102334..%2522%257D&request_id=161475315016780269836733&biz_id=0&utm_medium=distribute.pc_search_result.none-task-blog-2~all~baidu_landing_v2~default-2-106120080.first_rank_v2_pc_rank_v29&utm_term=from+tensorflow.keras+import+Sequential\n",
        "#sequential，keras 深度学习建立网络的方法。"
      ],
      "execution_count": null,
      "outputs": []
    },
    {
      "cell_type": "code",
      "metadata": {
        "colab": {
          "base_uri": "https://localhost:8080/"
        },
        "id": "5-jRGhrFvYfj",
        "outputId": "d4412abe-3fc2-45a0-fba4-df458c9dc21b"
      },
      "source": [
        "print(tf.__version__)\n",
        "#查看版本信息。"
      ],
      "execution_count": null,
      "outputs": [
        {
          "output_type": "stream",
          "text": [
            "2.4.1\n"
          ],
          "name": "stdout"
        }
      ]
    },
    {
      "cell_type": "code",
      "metadata": {
        "colab": {
          "base_uri": "https://localhost:8080/",
          "height": 71
        },
        "id": "RmXopWo7vZGA",
        "outputId": "212ead29-1ab0-40cb-bb7f-db135df0d0e1"
      },
      "source": [
        "import numpy as np\n",
        "import matplotlib.pyplot as plt #绘图包 matplot #要代入pyplot\n",
        "#https://blog.csdn.net/qq_34770012/article/details/89277738?ops_request_misc=%257B%2522request%255Fid%2522%253A%2522161475106816780255232148%2522%252C%2522scm%2522%253A%252220140713.130102334..%2522%257D&request_id=161475106816780255232148&biz_id=0&utm_medium=distribute.pc_search_result.none-task-blog-2~all~top_click~default-1-89277738.first_rank_v2_pc_rank_v29&utm_term=matplotlib.pyplot\n",
        "#绘图包教程【没看】\n",
        "import matplotlib  #将导入此仓库中的所有文件；我的理解方式是：pyplot是matplotlib的子模块\n",
        "#https://blog.csdn.net/weixin_39942474/article/details/110539659?ops_request_misc=%257B%2522request%255Fid%2522%253A%2522161475408216780261950095%2522%252C%2522scm%2522%253A%252220140713.130102334.pc%255Fall.%2522%257D&request_id=161475408216780261950095&biz_id=0&utm_medium=distribute.pc_search_result.none-task-blog-2~all~first_rank_v2~rank_v29-3-110539659.first_rank_v2_pc_rank_v29&utm_term=matplotlib.pyplot与matplotlib\n",
        "#关于两个区别的一点讲解mat ：算是讨论吧\n",
        "'''https://blog.csdn.net/weixin_34409357/article/details/89719189?ops_request_misc=&request_id=&biz_id=102&utm_term=matplotlib.pyplot与matplotlib有什&utm_medium=distribute.pc_search_result.none-task-blog-2~all~sobaiduweb~default-3-89719189.first_rank_v2_pc_rank_v29\n",
        "一些更为正规化的理解。就是需要什么功能导入什么'''\n"
      ],
      "execution_count": null,
      "outputs": [
        {
          "output_type": "execute_result",
          "data": {
            "application/vnd.google.colaboratory.intrinsic+json": {
              "type": "string"
            },
            "text/plain": [
              "'https://blog.csdn.net/weixin_34409357/article/details/89719189?ops_request_misc=&request_id=&biz_id=102&utm_term=matplotlib.pyplot与matplotlib有什&utm_medium=distribute.pc_search_result.none-task-blog-2~all~sobaiduweb~default-3-89719189.first_rank_v2_pc_rank_v29\\n一些更为正规化的理解。就是需要什么功能导入什么'"
            ]
          },
          "metadata": {
            "tags": []
          },
          "execution_count": 6
        }
      ]
    },
    {
      "cell_type": "code",
      "metadata": {
        "colab": {
          "base_uri": "https://localhost:8080/",
          "height": 124
        },
        "id": "bs2YaHbDvZmh",
        "outputId": "44887ef2-10cb-482f-aa13-0162246944a4"
      },
      "source": [
        "'''tensorflow 好比是木头，Keras 好比是拿 tensorflow 做好的木板。如果你盖的房子简单，形状大众，Keras 调用起来会很方便。但如果想设计特殊的房子，那就要从木料开始。tensorflow 已经可以调用 keras相关函数. keras的关键计算依托于tensorflow 或者 theano. theano不更新了，keras封装的比较好。初学和入门的话建议用 keras。但是想要深入或者做自己的APP的话建议用 tensorflow。\n",
        "tensorflow是比较底层的深度学习模型开发语言\n",
        "keras是基于tensorflow的高级API，通常直接调用一些封装好的函数就可以实现某些功能，而tensorflow虽然比较底层，但是可以比较灵活的定义模型结构\n",
        "就好比C语言是最基础的语言\n",
        "C++在其基础上进行了高级封装\n",
        "tensorflow 像是A1 keras 像是sklearn\n",
        "tensor 意为张量（即多维数组），flow 意为流动。即多维数组从数据流图一端流动到另一端。'''\n"
      ],
      "execution_count": null,
      "outputs": [
        {
          "output_type": "execute_result",
          "data": {
            "application/vnd.google.colaboratory.intrinsic+json": {
              "type": "string"
            },
            "text/plain": [
              "'tensorflow 好比是木头，Keras 好比是拿 tensorflow 做好的木板。如果你盖的房子简单，形状大众，Keras 调用起来会很方便。但如果想设计特殊的房子，那就要从木料开始。tensorflow 已经可以调用 keras相关函数. keras的关键计算依托于tensorflow 或者 theano. theano不更新了，keras封装的比较好。初学和入门的话建议用 keras。但是想要深入或者做自己的APP的话建议用 tensorflow。\\ntensorflow是比较底层的深度学习模型开发语言\\nkeras是基于tensorflow的高级API，通常直接调用一些封装好的函数就可以实现某些功能，而tensorflow虽然比较底层，但是可以比较灵活的定义模型结构\\n就好比C语言是最基础的语言\\nC++在其基础上进行了高级封装\\ntensorflow 像是A1 keras 像是sklearn\\ntensor 意为张量（即多维数组），flow 意为流动。即多维数组从数据流图一端流动到另一端。'"
            ]
          },
          "metadata": {
            "tags": []
          },
          "execution_count": 16
        }
      ]
    },
    {
      "cell_type": "markdown",
      "metadata": {
        "id": "SgXWnLovvZv2"
      },
      "source": [
        "【keras】Sequential 模型是一系列网络层按顺序构成的栈，是单输入和单输出的，层与层之间只有相邻关系，是最简单的一种模型。Model 模型是用来建立更 复杂的模型的。"
      ]
    },
    {
      "cell_type": "code",
      "metadata": {
        "id": "cA9z9En8Cmpd"
      },
      "source": [
        "#https://blog.csdn.net/zhangbaoanhadoop/article/details/82111056 ； 关于keras"
      ],
      "execution_count": null,
      "outputs": []
    },
    {
      "cell_type": "code",
      "metadata": {
        "id": "BNLU1JYVKNrh"
      },
      "source": [
        "from tensorflow.keras.datasets import cifar10\n",
        "(X_train, y_train),(X_test, y_test)= cifar10.load_data()\n",
        "#C+左右row 最前最后 加载数据"
      ],
      "execution_count": null,
      "outputs": []
    },
    {
      "cell_type": "markdown",
      "metadata": {
        "id": "POCFk3_wD__K"
      },
      "source": [
        "**class_name没有定义**\n"
      ]
    },
    {
      "cell_type": "code",
      "metadata": {
        "id": "EHqrjcVLEGlS"
      },
      "source": [
        "class_name = ['airplane','automobile','bird','cat','deer','dog','frog','horse','ship','truck']"
      ],
      "execution_count": null,
      "outputs": []
    },
    {
      "cell_type": "code",
      "metadata": {
        "colab": {
          "base_uri": "https://localhost:8080/"
        },
        "id": "z5O0omaZLSHc",
        "outputId": "f011bd2f-ef18-49d0-d289-3b6bbbc66720"
      },
      "source": [
        "X_test.shape"
      ],
      "execution_count": null,
      "outputs": [
        {
          "output_type": "execute_result",
          "data": {
            "text/plain": [
              "(10000, 32, 32, 3)"
            ]
          },
          "metadata": {
            "tags": []
          },
          "execution_count": 16
        }
      ]
    },
    {
      "cell_type": "markdown",
      "metadata": {
        "id": "kJTqoNQb9TUC"
      },
      "source": [
        "ValueError: x必须是一个浮点张量，因为它将被缩放。得到了一个<dtype: 'uint8'>张量。\n",
        "感觉是这个地方出了问题"
      ]
    },
    {
      "cell_type": "code",
      "metadata": {
        "id": "swNOFdKILBIW"
      },
      "source": [
        "#归一化\n",
        "X_train = X_train/255\n",
        "X_test = X_test/255"
      ],
      "execution_count": null,
      "outputs": []
    },
    {
      "cell_type": "code",
      "metadata": {
        "colab": {
          "base_uri": "https://localhost:8080/"
        },
        "id": "DnHLbydCLLjv",
        "outputId": "a9dea5a7-50d4-4dd2-e620-4e1a18148965"
      },
      "source": [
        "X_test.shape"
      ],
      "execution_count": null,
      "outputs": [
        {
          "output_type": "execute_result",
          "data": {
            "text/plain": [
              "(10000, 32, 32, 3)"
            ]
          },
          "metadata": {
            "tags": []
          },
          "execution_count": 15
        }
      ]
    },
    {
      "cell_type": "markdown",
      "metadata": {
        "id": "37Z57zw4LL33"
      },
      "source": [
        "建立CNN; C+回车是run（Carriage return）"
      ]
    },
    {
      "cell_type": "markdown",
      "metadata": {
        "id": "qLf3HwpcLMWN"
      },
      "source": [
        "https://www.cnblogs.com/hotsnow/p/9734375.html\n",
        "CNN 的常用模型\n"
      ]
    },
    {
      "cell_type": "markdown",
      "metadata": {
        "id": "zQFcxBUU8jD4"
      },
      "source": [
        "**Model**"
      ]
    },
    {
      "cell_type": "code",
      "metadata": {
        "id": "IRXbeMtELMhF"
      },
      "source": [
        "model = Sequential()#get this model , it discributes a line relationshop between every layers."
      ],
      "execution_count": null,
      "outputs": []
    },
    {
      "cell_type": "code",
      "metadata": {
        "id": "8qYzS-XbNzHw"
      },
      "source": [
        "#添加第一个卷积层 convolution ; 池化层：pooling 全连接层：Fully connected 全连接层\n",
        "''' convolution which is to import line operation downscaling 降维 and feature extraction 特征提取 input image \n",
        "convolution operation\n",
        " sigmoid 函数，tanh 函数，ReLU 函数等。\n",
        "whether 无论，how big the input image , convolution parameters are immobilization  ；stabilize稳定\n",
        "\n",
        "卷积降维特征提取，池化再降维。一个区域用一个值（平均max etc）[平移旋转不变] （improve speed）\n",
        "https://blog.csdn.net/zfjBIT/article/details/88075569?ops_request_misc=%257B%2522request%255Fid%2522%253A%2522161485863916780274184743%2522%252C%2522scm%2522%253A%252220140713.130102334..%2522%257D&request_id=161485863916780274184743&biz_id=0&utm_medium=distribute.pc_search_result.none-task-blog-2~all~top_click~default-1-88075569.first_rank_v2_pc_rank_v29&utm_term=卷积层\n",
        "真好可以反复看\n",
        "filter 过滤\n",
        "'''\n",
        "\n",
        "model.add(Conv2D(filters=32, kernel_size=(3,3),padding='same',activation='relu',input_shape = [32,32,3]))\n",
        "\n",
        "'''\n",
        " model.add(ZeroPadding2D((1,1),input_shape=(38, 38, 1)))\n",
        "    model.add(Conv2D(filters=32, kernel_size = (3,3), strides=(1,1),activation='relu', padding='same'))\n",
        "feel these two models similar；；；They differ in shape'''\n",
        "\n",
        "model.add(Conv2D(filters=32,kernel_size=(3,3),padding='same',activation='relu'))\n",
        "#add the seconde convolution \n",
        "model.add(MaxPool2D(pool_size=(2,2),strides=2,padding='valid'))  #strides 缩小几倍\n"
      ],
      "execution_count": null,
      "outputs": []
    },
    {
      "cell_type": "code",
      "metadata": {
        "id": "Tpzj8nhoWJfo"
      },
      "source": [
        "model.add(Dropout(0.5)) #一般设置为0.5或者0.3 主要解决过拟合\n",
        "#CF 算法时基于物品的协同过滤算法。1计算物品间相似度，根据这些相似度以及用户历史行为给用户生成推荐列表\n",
        "'''https://blog.csdn.net/Flying_sfeng/article/details/56280872?utm_medium=distribute.pc_relevant.none-task-blog-OPENSEARCH-3.control&dist_request_id=1328603.383.16148636412292667&depth_1-utm_source=distribute.pc_relevant.none-task-blog-OPENSEARCH-3.control\n",
        "这里有关于这个算法的介绍\n",
        "https://blog.csdn.net/weixin_39793644/article/details/80173360?ops_request_misc=%257B%2522request%255Fid%2522%253A%2522161486362816780274174353%2522%252C%2522scm%2522%253A%252220140713.130102334.pc%255Fall.%2522%257D&request_id=161486362816780274174353&biz_id=0&utm_medium=distribute.pc_search_result.none-task-blog-2~all~first_rank_v2~rank_v29-2-80173360.first_rank_v2_pc_rank_v29&utm_term=CF算法干什么的\n",
        "https://blog.csdn.net/Jameslvt/article/details/81143351?utm_medium=distribute.pc_relevant.none-task-blog-BlogCommendFromMachineLearnPai2-5.control&dist_request_id=1328603.383.16148636412292667&depth_1-utm_source=distribute.pc_relevant.none-task-blog-BlogCommendFromMachineLearnPai2-5.control\n",
        "这是CB和CF的比较\n",
        "CF 跟数据挖掘很有关系，精度会更高一些\n",
        "\n",
        "'''\n",
        "model.add(Flatten())\n",
        "model.add(Dense(units=128,activation='relu'))#relu 接力赛 添加cf  units像是改变了形状\n",
        "#每次都需要重新运作一下这个模型\n",
        "\n",
        "#添加输出层\n",
        "model.add(Dense(units=10,activation='softmax')) #柔性最大值传输函数 softmax 分类器函数；units 图形单位 activation 激活函数"
      ],
      "execution_count": null,
      "outputs": []
    },
    {
      "cell_type": "code",
      "metadata": {
        "colab": {
          "base_uri": "https://localhost:8080/"
        },
        "id": "4MRv9YixVK-I",
        "outputId": "59b2db03-fa25-4eb1-cf83-730704201ef8"
      },
      "source": [
        "model.summary()"
      ],
      "execution_count": null,
      "outputs": [
        {
          "output_type": "stream",
          "text": [
            "Model: \"sequential_1\"\n",
            "_________________________________________________________________\n",
            "Layer (type)                 Output Shape              Param #   \n",
            "=================================================================\n",
            "conv2d_2 (Conv2D)            (None, 32, 32, 32)        896       \n",
            "_________________________________________________________________\n",
            "conv2d_3 (Conv2D)            (None, 32, 32, 32)        9248      \n",
            "_________________________________________________________________\n",
            "max_pooling2d_1 (MaxPooling2 (None, 16, 16, 32)        0         \n",
            "_________________________________________________________________\n",
            "dropout (Dropout)            (None, 16, 16, 32)        0         \n",
            "_________________________________________________________________\n",
            "flatten (Flatten)            (None, 8192)              0         \n",
            "_________________________________________________________________\n",
            "dense (Dense)                (None, 128)               1048704   \n",
            "_________________________________________________________________\n",
            "dense_1 (Dense)              (None, 10)                1290      \n",
            "=================================================================\n",
            "Total params: 1,060,138\n",
            "Trainable params: 1,060,138\n",
            "Non-trainable params: 0\n",
            "_________________________________________________________________\n"
          ],
          "name": "stdout"
        }
      ]
    },
    {
      "cell_type": "markdown",
      "metadata": {
        "id": "Oc03A_2XSjhS"
      },
      "source": [
        "自定义损失函数用法：keras 都是keras 库中的函数。\n",
        "compile "
      ]
    },
    {
      "cell_type": "markdown",
      "metadata": {
        "id": "MG0rvhrvbG3g"
      },
      "source": [
        "以上是建立整个CNN的过程建立了两层，convolution 一个pooling 采用Cf数挖， 使用dropout 防止过拟合，添加输出 summary 【1.5 hour CNN】"
      ]
    },
    {
      "cell_type": "markdown",
      "metadata": {
        "id": "vRM48JCpVWm4"
      },
      "source": [
        "# **建立优化模型**"
      ]
    },
    {
      "cell_type": "code",
      "metadata": {
        "colab": {
          "base_uri": "https://localhost:8080/",
          "height": 35
        },
        "id": "L7Pw-072VW3P",
        "outputId": "6f694693-37be-4318-ce78-c94e70beea13"
      },
      "source": [
        "#model.compile(optimizer='adam',loss='sparse_categorical_crossentropy',metrics=['sparse_categorical_accuracy'])\n",
        "model.compile(optimizer='adam', loss='sparse_categorical_crossentropy',metrics=['sparse_categorical_accuracy'])\n",
        "#compile 编译 optimizer 最优控制器\n",
        "#还是要注意单词的拼写\n",
        "#https://blog.csdn.net/qq_39422642/article/details/80986644?ops_request_misc=%257B%2522request%255Fid%2522%253A%2522161491470716780266295701%2522%252C%2522scm%2522%253A%252220140713.130102334.pc%255Fall.%2522%257D&request_id=161491470716780266295701&biz_id=0&utm_medium=distribute.pc_search_result.none-task-blog-2~all~first_rank_v2~rank_v29-1-80986644.first_rank_v2_pc_rank_v29&utm_term=建立优化模型有什么用\n",
        "#https://blog.csdn.net/sinat_16388393/article/details/93207842?ops_request_misc=%257B%2522request%255Fid%2522%253A%2522161491495316780265423641%2522%252C%2522scm%2522%253A%252220140713.130102334.pc%255Fall.%2522%257D&request_id=161491495316780265423641&biz_id=0&utm_medium=distribute.pc_search_result.none-task-blog-2~all~first_rank_v2~rank_v29-3-93207842.first_rank_v2_pc_rank_v29&utm_term=model.compile如何优化模型\n",
        "'关于损失函数的详解'"
      ],
      "execution_count": null,
      "outputs": [
        {
          "output_type": "execute_result",
          "data": {
            "application/vnd.google.colaboratory.intrinsic+json": {
              "type": "string"
            },
            "text/plain": [
              "'关于损失函数的详解'"
            ]
          },
          "metadata": {
            "tags": []
          },
          "execution_count": 21
        }
      ]
    },
    {
      "cell_type": "markdown",
      "metadata": {
        "id": "Z32lBR8jVXGI"
      },
      "source": [
        "model.compile"
      ]
    },
    {
      "cell_type": "markdown",
      "metadata": {
        "id": "lF5BJXgeZEJo"
      },
      "source": [
        "# **拟合数据**"
      ]
    },
    {
      "cell_type": "code",
      "metadata": {
        "colab": {
          "base_uri": "https://localhost:8080/",
          "height": 411
        },
        "id": "DgSiWrSYj3jG",
        "outputId": "18f48e56-4d5e-410b-82c3-014b1db9558f"
      },
      "source": [
        "#history = model.fit(X_train,y_train,batch_size=10,epochs=10,verbose=1,validation_data=(X_test,y_test))\n",
        "#其History.history属性记录了损失函数和其他指标的数值随epoch变化的情况，如果有验证集的话，也包含了验证集的这些指标变化情况\n",
        "history = model.fit(X_train,y_train,batch_size=10,epochs=10,verbose=1,validation_data=(X_test,y_test))\n",
        "#https://blog.csdn.net/weixin_43883907/article/details/90482284?ops_request_misc=%257B%2522request%255Fid%2522%253A%2522161491770016780262571581%2522%252C%2522scm%2522%253A%252220140713.130102334.pc%255Fall.%2522%257D&request_id=161491770016780262571581&biz_id=0&utm_medium=distribute.pc_search_result.none-task-blog-2~all~first_rank_v2~rank_v29-3-90482284.first_rank_v2_pc_rank_v29&utm_term=model.fit+结果都是什么意思\n",
        "'model.fit 的参数含义'"
      ],
      "execution_count": null,
      "outputs": [
        {
          "output_type": "stream",
          "text": [
            "Epoch 1/10\n",
            "5000/5000 [==============================] - 47s 3ms/step - loss: 1.5914 - sparse_categorical_accuracy: 0.4188 - val_loss: 1.1243 - val_sparse_categorical_accuracy: 0.5953\n",
            "Epoch 2/10\n",
            "5000/5000 [==============================] - 14s 3ms/step - loss: 1.0937 - sparse_categorical_accuracy: 0.6098 - val_loss: 0.9959 - val_sparse_categorical_accuracy: 0.6465\n",
            "Epoch 3/10\n",
            "5000/5000 [==============================] - 14s 3ms/step - loss: 0.9532 - sparse_categorical_accuracy: 0.6643 - val_loss: 0.9440 - val_sparse_categorical_accuracy: 0.6708\n",
            "Epoch 4/10\n",
            "5000/5000 [==============================] - 14s 3ms/step - loss: 0.8747 - sparse_categorical_accuracy: 0.6884 - val_loss: 0.9668 - val_sparse_categorical_accuracy: 0.6589\n",
            "Epoch 5/10\n",
            "5000/5000 [==============================] - 14s 3ms/step - loss: 0.7989 - sparse_categorical_accuracy: 0.7162 - val_loss: 0.9063 - val_sparse_categorical_accuracy: 0.6809\n",
            "Epoch 6/10\n",
            "5000/5000 [==============================] - 14s 3ms/step - loss: 0.7474 - sparse_categorical_accuracy: 0.7351 - val_loss: 0.9080 - val_sparse_categorical_accuracy: 0.6843\n",
            "Epoch 7/10\n",
            "5000/5000 [==============================] - 14s 3ms/step - loss: 0.6870 - sparse_categorical_accuracy: 0.7546 - val_loss: 0.8893 - val_sparse_categorical_accuracy: 0.6893\n",
            "Epoch 8/10\n",
            "5000/5000 [==============================] - 14s 3ms/step - loss: 0.6386 - sparse_categorical_accuracy: 0.7723 - val_loss: 0.9096 - val_sparse_categorical_accuracy: 0.6867\n",
            "Epoch 9/10\n",
            "5000/5000 [==============================] - 14s 3ms/step - loss: 0.6078 - sparse_categorical_accuracy: 0.7860 - val_loss: 0.9378 - val_sparse_categorical_accuracy: 0.6847\n",
            "Epoch 10/10\n",
            "5000/5000 [==============================] - 13s 3ms/step - loss: 0.5798 - sparse_categorical_accuracy: 0.7944 - val_loss: 0.9767 - val_sparse_categorical_accuracy: 0.6760\n"
          ],
          "name": "stdout"
        },
        {
          "output_type": "execute_result",
          "data": {
            "application/vnd.google.colaboratory.intrinsic+json": {
              "type": "string"
            },
            "text/plain": [
              "'model.fit 的参数含义'"
            ]
          },
          "metadata": {
            "tags": []
          },
          "execution_count": 22
        }
      ]
    },
    {
      "cell_type": "markdown",
      "metadata": {
        "id": "zeLn3dGg44Zx"
      },
      "source": [
        "# **绘制曲线**\n"
      ]
    },
    {
      "cell_type": "code",
      "metadata": {
        "colab": {
          "base_uri": "https://localhost:8080/",
          "height": 573
        },
        "id": "wUbWqLTj5Bdq",
        "outputId": "2d8d1702-9df6-42c3-97a6-b9422ec61ccf"
      },
      "source": [
        "#纪元epoch\n",
        "epoch_range = range(1,11)\n",
        "plt.plot(epoch_range, history.history['sparse_categorical_accuracy'])## 蓝色x为横轴的值，y为纵轴的值，第三个参数为标签有o这个参数的话，plot默认画的是线图\n",
        "plt.plot(epoch_range, history.history['val_sparse_categorical_accuracy'])#橘色\n",
        "plt.title('Model Accuracy')#上面标题\n",
        "plt.xlabel('Epoch')#下面x\n",
        "plt.ylabel('Accuracy')# 左边y\n",
        "plt.legend(['Train','Val'], loc ='upper right')#右上角的那个表示每条线的名称。\n",
        "plt.show()#输出\n",
        "\n",
        "\n",
        "plt.plot(epoch_range, history.history['loss'])\n",
        "plt.plot(epoch_range, history.history['val_loss'])\n",
        "plt.title('Model Loss')\n",
        "plt.xlabel('Epoch')\n",
        "plt.ylabel('Loss')\n",
        "plt.legend(['Train','Val'], loc = 'upper left')#没有locals这个\n",
        "plt.show()\n",
        "#https://blog.csdn.net/qq_43527679/article/details/107957438?ops_request_misc=%257B%2522request%255Fid%2522%253A%2522161500699416780274158101%2522%252C%2522scm%2522%253A%252220140713.130102334..%2522%257D&request_id=161500699416780274158101&biz_id=0&utm_medium=distribute.pc_search_result.none-task-blog-2~all~sobaiduend~default-1-107957438.first_rank_v2_pc_rank_v29&utm_term=plt.plot怎么用\n",
        "#基础画图\n",
        "#画出各种细节的\n",
        "#https://blog.csdn.net/byron123456sfsfsfa/article/details/83035090?ops_request_misc=&request_id=&biz_id=102&utm_term=plt.plot怎么用&utm_medium=distribute.pc_search_result.none-task-blog-2~all~sobaiduweb~default-6-83035090.first_rank_v2_pc_rank_v29\n"
      ],
      "execution_count": null,
      "outputs": [
        {
          "output_type": "display_data",
          "data": {
            "image/png": "[encoded data removed]",
            "text/plain": [
              "<Figure size 432x288 with 1 Axes>"
            ]
          },
          "metadata": {
            "tags": [],
            "needs_background": "light"
          }
        },
        {
          "output_type": "display_data",
          "data": {
            "image/png": "[encoded data removed]",
            "text/plain": [
              "<Figure size 432x288 with 1 Axes>"
            ]
          },
          "metadata": {
            "tags": [],
            "needs_background": "light"
          }
        }
      ]
    },
    {
      "cell_type": "markdown",
      "metadata": {
        "id": "VLztevju5Bsx"
      },
      "source": [
        "**验证集在3次训练之后，loss并没有太大下降，表明，其没有学习**"
      ]
    },
    {
      "cell_type": "markdown",
      "metadata": {
        "id": "32DbwDIu5B41"
      },
      "source": [
        "# **绘制混淆矩阵**"
      ]
    },
    {
      "cell_type": "code",
      "metadata": {
        "id": "gVjwTXi8BITu"
      },
      "source": [
        "from mlxtend.plotting import plot_confusion_matrix\n",
        "#mlxtend 是补充说明sklearn的 包括模块：分类器；聚类器；数据；评估方法；特征提取；特征选择；文件读写；关联算法；常见概念；图像；数学；绘图；预处理；回归器；文本\n",
        "#具，比如分类散点图、热图、决策边界图、多分类混淆矩阵图等等\n",
        "from sklearn.metrics import confusion_matrix"
      ],
      "execution_count": null,
      "outputs": []
    },
    {
      "cell_type": "code",
      "metadata": {
        "colab": {
          "base_uri": "https://localhost:8080/"
        },
        "id": "Zl8xMpjrBIkl",
        "outputId": "d7f9c3ea-4ad5-4e46-ad2d-404808941bd9"
      },
      "source": [
        "y_pred = model.predict_classes(X_test)"
      ],
      "execution_count": null,
      "outputs": [
        {
          "output_type": "stream",
          "text": [
            "/usr/local/lib/python3.7/dist-packages/tensorflow/python/keras/engine/sequential.py:450: UserWarning: `model.predict_classes()` is deprecated and will be removed after 2021-01-01. Please use instead:* `np.argmax(model.predict(x), axis=-1)`,   if your model does multi-class classification   (e.g. if it uses a `softmax` last-layer activation).* `(model.predict(x) > 0.5).astype(\"int32\")`,   if your model does binary classification   (e.g. if it uses a `sigmoid` last-layer activation).\n",
            "  warnings.warn('`model.predict_classes()` is deprecated and '\n"
          ],
          "name": "stderr"
        }
      ]
    },
    {
      "cell_type": "code",
      "metadata": {
        "colab": {
          "base_uri": "https://localhost:8080/"
        },
        "id": "SXpcuz3hBI-_",
        "outputId": "82249ff8-6678-4c2b-fb6a-2a432ad7a95d"
      },
      "source": [
        "y_pred"
      ],
      "execution_count": null,
      "outputs": [
        {
          "output_type": "execute_result",
          "data": {
            "text/plain": [
              "array([3, 8, 8, ..., 5, 4, 7])"
            ]
          },
          "metadata": {
            "tags": []
          },
          "execution_count": 48
        }
      ]
    },
    {
      "cell_type": "code",
      "metadata": {
        "colab": {
          "base_uri": "https://localhost:8080/",
          "height": 570
        },
        "id": "vs6bSrzhDNY1",
        "outputId": "2c4340a9-9877-41bf-e77f-71f1d4e227d2"
      },
      "source": [
        "mat = confusion_matrix(y_test, y_pred)\n",
        "plot_confusion_matrix(conf_mat= mat,figsize=(8,8), class_names=class_name,show_normed=True)"
      ],
      "execution_count": null,
      "outputs": [
        {
          "output_type": "execute_result",
          "data": {
            "text/plain": [
              "(<Figure size 576x576 with 1 Axes>,\n",
              " <matplotlib.axes._subplots.AxesSubplot at 0x7fee6ef8cad0>)"
            ]
          },
          "metadata": {
            "tags": []
          },
          "execution_count": 56
        },
        {
          "output_type": "display_data",
          "data": {
            "image/png": "[encoded data removed]",
            "text/plain": [
              "<Figure size 576x576 with 1 Axes>"
            ]
          },
          "metadata": {
            "tags": [],
            "needs_background": "light"
          }
        }
      ]
    },
    {
      "cell_type": "code",
      "metadata": {
        "id": "O2k4woh4HPIn"
      },
      "source": [
        "'''关于混淆矩阵\n",
        "一列是一个类\n",
        "我们采用的是recall来计算模型好坏\n",
        "真阳性（True Positive，TP）：样本的真实类别是正例，并且模型预测的结果也是正例\n",
        "\n",
        "真阴性（True Negative，TN）：样本的真实类别是负例，并且模型将其预测成为负例\n",
        "\n",
        "假阳性（False Positive，FP）：样本的真实类别是负例，但是模型将其预测成为正例\n",
        "\n",
        "假阴性（False Negative，FN）：样本的真实类别是正例，但是模型将其预测成为负例\n",
        "\n",
        "正确率（Accuracy）：被正确分类的样本比例或数量\n",
        "(TP+TN)/Total = (35+50)/100 = 85%\n",
        "\n",
        "错误率（Misclassification/Error Rate）：被错误分类的样本比例或数量\n",
        "(FP+FN)/Total = (5+10)/100 = 15%\n",
        "\n",
        "真阳率（True Positive Rate）：分类器预测为正例的样本占实际正例样本数量的比例，也叫敏感度（sensitivity）或召回率（recall），描述了分类器对正例类别的敏感程度。\n",
        "TP/ actual yes = 35/40 = 87%\n",
        "\n",
        "假阳率（False Positive Rate）：分类器预测为正例的样本占实际负例样本数量的比例。\n",
        "FP/actual no = 10/60 = 17%\n",
        "\n",
        "特异性（Specificity）：实例是负例，分类器预测结果的类别也是负例的比例。\n",
        "TN/actual no = 50/60 = 83%\n",
        "\n",
        "精度（Precision）：在所有判别为正例的结果中，真正正例所占的比例。\n",
        "TP/predicted yes = 35/45 = 77%\n",
        "\n",
        "流行程度（Prevalence）：正例在样本中所占比例。\n",
        "Actual Yes/Total = 40/100 = 40%\n",
        "阳性预测值： 其术语概念与精度非常类似，只是在计算阳性预测值考虑了流行程度。在流行程度为50%的时候，阳性预测值（PPV）与精度相同。\n",
        "\n",
        "空错误率： 当模型总是预测比例较高的类别，其预测错误的实例所占百分比。在上述示例中，空错误率为60/100 = 60%，因为如果分类器总是预测“是”，那么对于60个为“否”的事件则可能进行错误预测。该指标可用于分类器间的性能比较。然而，对于某些特定的应用程序来说，其最佳分类器的错误率有时会比空错误率更高。\n",
        "\n",
        "F值：F 值即为正确率和召回率的调和平均值。\n",
        "\n",
        "Roc曲线：即接收者操作特征曲线(receiver operating characteristic curve)，反映了真阳性率（灵敏度）和假阳性率（1-特异度）之间的变化关系。Roc曲线越趋近于左上角，预测结果越准确。\n",
        "行代表了实际的类别，列代表了预测的结果，从图中可看出大致都在正对角线上，说明分类结果还不错\n",
        "https://blog.csdn.net/JustKian/article/details/82859032?ops_request_misc=%257B%2522request%255Fid%2522%253A%2522161501110616780269836993%2522%252C%2522scm%2522%253A%252220140713.130102334..%2522%257D&request_id=161501110616780269836993&biz_id=0&utm_medium=distribute.pc_search_result.none-task-blog-2~all~baidu_landing_v2~default-1-82859032.first_rank_v2_pc_rank_v29&utm_term=多分类混淆矩阵图怎么看\n",
        "\n",
        "'''"
      ],
      "execution_count": null,
      "outputs": []
    },
    {
      "cell_type": "markdown",
      "metadata": {
        "id": "cY-W20cjlZVn"
      },
      "source": [
        "**要做一个time函数了**"
      ]
    },
    {
      "cell_type": "markdown",
      "metadata": {
        "id": "g339VgA6VXr7"
      },
      "source": [
        "**扩展学习**"
      ]
    },
    {
      "cell_type": "code",
      "metadata": {
        "colab": {
          "base_uri": "https://localhost:8080/",
          "height": 136
        },
        "id": "Xq-Dr_MZU_oT",
        "outputId": "1d849ec2-ceb1-4575-f5c5-8d1590d82dfa"
      },
      "source": [
        "#基本用法。basic usage ；建立优化模型\n",
        "#metrics 决定了acc loss  acc 和 val_acc 就是定义评价函数得到的；取决于你操作的数据集。会影响准确度。\n",
        "#需要学会看loss 而不是单纯的看val_acc\n",
        "'''评价函数是binary_accuracy，这种评价函数适用于二分类问题的处理\n",
        "threshold：阈值 1和0  （I guess预测和原本的都不同） 【它的默认值是0.5】 如果预测序列概率大于阈值的设为1；否则0；（所有的概率和0.5比，大于0.5为1反之0）然后再用binary\n",
        "'''\n",
        "'model.compile(optimizer=Adam(lr=1e-4), loss='binary_crossentropy', metrics=['accuracy'])'\n",
        "\n",
        "model.compile(optimizer='adam',loss='sparse_categorical_crossentropy',metrics=['sparse_categorical_accuracy'])\n",
        "\n",
        "#这里用到的就是多分类问题，作者选择的就是评价函数中的categorical_accuracy 与 sparse_categorical_accuracy.\n",
        "'''\n",
        "这里用到的就是one-hot向量 categorical_accuracy 比较两个向量max元素的下标index值是否一致（max index）// 用于多分类单标签的任务（不用于多标签）\n",
        "[0, 0, 3, 1]而预测值为[0.2, 0.1, 0.9, 0.5]则视为预测准确。\n",
        "sparse_categorical_accuracy 真实值为2（注意下标从0开始），预测序列为[0.1, 0.38, 0.79, 0.5]\n",
        "\\\\真实值本身已经是下标index，而预测值仍然是个向量,比较真实值的下标值所对应的预测序列中的值是否为整个序列中最大的，(感觉是让真实值变成了一个(用位置来代替），然后去看预测这个位置的（+1）是不是整个的最大值。感觉要遍历整个预测向量)\n",
        "\n",
        "第三大类：top_k_categorical_accuracy  本在真值类别上的预测分数排在其在所有类别上的预测分数的前k名就行。\n",
        "因为相当于允许最大值只需要排进前k就算预测对了。当然这也就意味着预测准确与否跟k的取值息息相关\n",
        "K是类别（你的预测的数组每个向量的值的个数）\n",
        "这篇文章可以反复研究一下\n",
        "只是目前懂了，估计用的时候又有很多的问题。//涉及了one-hot\n",
        "****注意在使用的过程中Keras默认的k值取为5；分类个数大于5才能出现命中率100%\n",
        "K设成1就跟之前那种一样了。跟没有top_k一样了\n",
        "\n",
        "总之预测值都是向量。根据真实值来选择。真实值具体的index用 spar·se 如果是one-hot形式就用categorical_accuracy\n",
        "https://blog.csdn.net/qq_39381654/article/details/108747701?ops_request_misc=%257B%2522request%255Fid%2522%253A%2522161489624916780266260710%2522%252C%2522scm%2522%253A%252220140713.130102334..%2522%257D&request_id=161489624916780266260710&biz_id=0&utm_medium=distribute.pc_search_result.none-task-blog-2~all~sobaiduend~default-4-108747701.first_rank_v2_pc_rank_v29&utm_term=model.compile用法\n",
        "\n",
        "'''\n"
      ],
      "execution_count": null,
      "outputs": [
        {
          "output_type": "error",
          "ename": "SyntaxError",
          "evalue": "ignored",
          "traceback": [
            "\u001b[0;36m  File \u001b[0;32m\"<ipython-input-30-798ad98d8dab>\"\u001b[0;36m, line \u001b[0;32m7\u001b[0m\n\u001b[0;31m    'model.compile(optimizer=Adam(lr=1e-4), loss='binary_crossentropy', metrics=['accuracy'])'\u001b[0m\n\u001b[0m                                                                    ^\u001b[0m\n\u001b[0;31mSyntaxError\u001b[0m\u001b[0;31m:\u001b[0m invalid syntax\n"
          ]
        }
      ]
    },
    {
      "cell_type": "markdown",
      "metadata": {
        "id": "Ta0UmGVseYkJ"
      },
      "source": [
        "损失函数 loss 选择了binary_crossentropy\n",
        "有两种损失函数。\n",
        "binary_crossentropy；用于多标签分类eg：yolov3 ;各个i是相互独立的\n",
        "\n",
        "categorical_crossentropy\n",
        "sigmoid激活函数\n"
      ]
    },
    {
      "cell_type": "code",
      "metadata": {
        "id": "HyQjiRKFes-D"
      },
      "source": [
        "#https://blog.csdn.net/qq_40661327/article/details/107033333?ops_request_misc=%257B%2522request%255Fid%2522%253A%2522161489886616780269831685%2522%252C%2522scm%2522%253A%252220140713.130102334..%2522%257D&request_id=161489886616780269831685&biz_id=0&utm_medium=distribute.pc_search_result.none-task-b\n",
        "'''\n",
        "binary_crossentropy各个i是相互独立的，意味着是有可能出现一下这种情况：（举例）\n",
        "‘人’ 标签的概率是0.9， ‘男人’ 标签概率是0.6，‘女人’ 标签概率是0.3。\n",
        "那么我们有足够的说服力断定他是 ‘人’，并且很可能是 ‘男人’。\n",
        "'''\n"
      ],
      "execution_count": null,
      "outputs": []
    },
    {
      "cell_type": "code",
      "metadata": {
        "id": "ym1h1HvUwxzp"
      },
      "source": [
        "y_pred = [[[0.5]]] #这是个列表额外的"
      ],
      "execution_count": null,
      "outputs": []
    },
    {
      "cell_type": "markdown",
      "metadata": {
        "id": "BNvc6XDowxrM"
      },
      "source": [
        "额外loss\n"
      ]
    },
    {
      "cell_type": "code",
      "metadata": {
        "id": "k-ziuXjJwxVM"
      },
      "source": [
        "import tensorflow as tf\n",
        "y_true = [[[0.]]] #X[:,0] 是个二维数组，取该二维数组第一维中的所有数据。第二位中去第0个数据。\n",
        "y_pred = [[[0.5]]]\n",
        "loss = tf.keras.losses.binary_crossentropy(y_true, y_pred)"
      ],
      "execution_count": null,
      "outputs": []
    },
    {
      "cell_type": "code",
      "metadata": {
        "colab": {
          "base_uri": "https://localhost:8080/"
        },
        "id": "61OwztUIyE9Q",
        "outputId": "e659f535-6636-4407-c17f-80c3f7533779"
      },
      "source": [
        "loss"
      ],
      "execution_count": null,
      "outputs": [
        {
          "output_type": "execute_result",
          "data": {
            "text/plain": [
              "<tf.Tensor: shape=(1, 1), dtype=float32, numpy=array([[0.69314694]], dtype=float32)>"
            ]
          },
          "metadata": {
            "tags": []
          },
          "execution_count": 34
        }
      ]
    },
    {
      "cell_type": "code",
      "metadata": {
        "colab": {
          "base_uri": "https://localhost:8080/"
        },
        "id": "1rCgixYryHTv",
        "outputId": "1c40f6f6-cb8d-4c1f-82c6-c1478a8d21aa"
      },
      "source": [
        "loss.numpy"
      ],
      "execution_count": null,
      "outputs": [
        {
          "output_type": "execute_result",
          "data": {
            "text/plain": [
              "<bound method _EagerTensorBase.numpy of <tf.Tensor: shape=(1, 1), dtype=float32, numpy=array([[0.69314694]], dtype=float32)>>"
            ]
          },
          "metadata": {
            "tags": []
          },
          "execution_count": 35
        }
      ]
    },
    {
      "cell_type": "code",
      "metadata": {
        "colab": {
          "base_uri": "https://localhost:8080/"
        },
        "id": "SPT_zbP8yLZO",
        "outputId": "f285b910-685a-46f9-ce66-a67169889998"
      },
      "source": [
        "loss.numpy()"
      ],
      "execution_count": null,
      "outputs": [
        {
          "output_type": "execute_result",
          "data": {
            "text/plain": [
              "array([[0.69314694]], dtype=float32)"
            ]
          },
          "metadata": {
            "tags": []
          },
          "execution_count": 36
        }
      ]
    },
    {
      "cell_type": "markdown",
      "metadata": {
        "id": "-9XdPtxFyQWq"
      },
      "source": [
        "![image.png](data:image/png;base64,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)"
      ]
    },
    {
      "cell_type": "code",
      "metadata": {
        "id": "yoJzHjZzy94W"
      },
      "source": [
        "#举例1：当batch_size为1，标签总数为1，即输出shape为(1,1,1)时\n",
        "\n"
      ],
      "execution_count": null,
      "outputs": []
    },
    {
      "cell_type": "code",
      "metadata": {
        "id": "z0mTjBZsyugB"
      },
      "source": [
        "loss = -(1/1)*( 0*tf.math.log(0.5) +(1-0)*tf.math.log(1-0.5))"
      ],
      "execution_count": null,
      "outputs": []
    },
    {
      "cell_type": "code",
      "metadata": {
        "colab": {
          "base_uri": "https://localhost:8080/"
        },
        "id": "cXKPdcy-zNBG",
        "outputId": "5d35025b-3cee-4eca-958a-ea08f81a26d9"
      },
      "source": [
        "loss"
      ],
      "execution_count": null,
      "outputs": [
        {
          "output_type": "execute_result",
          "data": {
            "text/plain": [
              "<tf.Tensor: shape=(), dtype=float32, numpy=0.6931472>"
            ]
          },
          "metadata": {
            "tags": []
          },
          "execution_count": 39
        }
      ]
    },
    {
      "cell_type": "code",
      "metadata": {
        "id": "I5VspE9hzVeR"
      },
      "source": [
        "#eg2:当batch_size为1，标签总数为4，即输出shape为(1,1,4)时\n",
        "import tensorflow as tf\n",
        "y_true = [[[0.,1,0.,1]]]#这里设两个标签\n",
        "y_pred = [[[0.5, 0.8, 0.3, 0.5]]]\n",
        "loss = tf.keras.losses.binary_crossentropy(y_true, y_pred)\n"
      ],
      "execution_count": null,
      "outputs": []
    },
    {
      "cell_type": "code",
      "metadata": {
        "colab": {
          "base_uri": "https://localhost:8080/"
        },
        "id": "3dQSs0nbzVtg",
        "outputId": "20fa3f66-eb6d-47e0-9a40-00e3f0ef8101"
      },
      "source": [
        "loss #loss~不做输出的（无）"
      ],
      "execution_count": null,
      "outputs": [
        {
          "output_type": "execute_result",
          "data": {
            "text/plain": [
              "<tf.Tensor: shape=(1, 1), dtype=float32, numpy=array([[0.49152803]], dtype=float32)>"
            ]
          },
          "metadata": {
            "tags": []
          },
          "execution_count": 41
        }
      ]
    },
    {
      "cell_type": "code",
      "metadata": {
        "id": "T-0vEncHz6SI"
      },
      "source": [
        "loss.numpy"
      ],
      "execution_count": null,
      "outputs": []
    },
    {
      "cell_type": "code",
      "metadata": {
        "id": "_4dzubkRz8s8"
      },
      "source": [
        "loss.numpy()#这还没有完，你还得进行公式的计算"
      ],
      "execution_count": null,
      "outputs": []
    },
    {
      "cell_type": "code",
      "metadata": {
        "id": "iiNnlaVN_YAn"
      },
      "source": [
        "#tf.cast(my_tensor, tf.int32)\n",
        "'tf.cast(x, dtype, name=None)'"
      ],
      "execution_count": null,
      "outputs": []
    },
    {
      "cell_type": "code",
      "metadata": {
        "id": "mntksNgj0LRK"
      },
      "source": [
        "loss = -(1/4)*( (tf.constant(0, dtype=tf.float32) *tf.math.log(0.5) +tf.constant(1, dtype=tf.float32)*tf.math.log(1-0,5))+\n",
        "               (tf.constant(1, dtype=tf.float32) *tf.math.log(0.8) +tf.constant(0, dtype=tf.float32)*tf.math.log(1-0.8))+\n",
        "               (tf.constant(0,dtype=tf.float32) *tf.math.log(0.3) +tf.constant(1, dtype=tf.float32)*tf.math.log(1-0.3))+\n",
        "               (tf.constant(1,dtype=tf.float32) *tf.math.log(0.5) +tf.constant(0, dtype=tf.float32)*tf.math.log(1-0.5)) )\n",
        "#https://stackoverflow.com/questions/51252580/how-to-resolve-typeerror-can-only-concatenate-str-not-int-to-str\n",
        "'''\n",
        "python的学习使用中遇到了这个错误：can only concatenate str (not \"int\") to str；\n",
        "上网查过后发现是因为我没有做数据类型的转换，python并不能像java一样，在做拼接的时候自动把类型转换为string类型;\n",
        "故而需要进行一个类型转换，譬如将print(1+\"a\")改为print(str(1)+\"a\")就可以了；\n",
        "特此记录下，以免后续再犯\n",
        "—'''\n",
        "#TypeError: Cannot convert '0' to EagerTensor of dtype float\n",
        "#不能将'0'转换为dtype float的EagerTensor。\n",
        "#https://blog.csdn.net/zhenpixiaoyang/article/details/109342548?ops_request_misc=%257B%2522request%255Fid%2522%253A%2522161490693716780269824165%2522%252C%2522scm%2522%253A%252220140713.130102334.pc%255Fall.%2522%257D&request_id=161490693716780269824165&biz_id=0&utm_medium=distribute.pc_search_result.none-task-blog-2~all~first_rank_v2~rank_v29-1-109342548.first_rank_v2_pc_rank_v29&utm_term=Cannot+convert+%270%27+to+EagerTensor+of+dtype+floa\n",
        "#https://blog.csdn.net/qq_36201400/article/details/108397419?ops_request_misc=%257B%2522request%255Fid%2522%253A%2522161490771316780262516292%2522%252C%2522scm%2522%253A%252220140713.130102334..%2522%257D&request_id=161490771316780262516292&biz_id=0&utm_medium=distribute.pc_search_result.none-task-blog-2~all~top_click~default-1-108397419.first_rank_v2_pc_rank_v29&utm_term=tf.cast\n"
      ],
      "execution_count": null,
      "outputs": []
    },
    {
      "cell_type": "markdown",
      "metadata": {
        "id": "T5DMFb7L_WXV"
      },
      "source": [
        ""
      ]
    },
    {
      "cell_type": "code",
      "metadata": {
        "id": "i5rTMI5c_XIF"
      },
      "source": [
        ""
      ],
      "execution_count": null,
      "outputs": []
    },
    {
      "cell_type": "code",
      "metadata": {
        "id": "3-xu1uze1Rbu"
      },
      "source": [
        "loss"
      ],
      "execution_count": null,
      "outputs": []
    },
    {
      "cell_type": "code",
      "metadata": {
        "colab": {
          "base_uri": "https://localhost:8080/"
        },
        "id": "gezT3CK921rV",
        "outputId": "2000c543-78b0-493f-c25b-07efbb0844df"
      },
      "source": [
        "loss = -(1/4)*( (0*tf.math.log(0.5) +(1-0)*tf.math.log(1-0.5)) + \n",
        "                (1*tf.math.log(0.8) +(1-1)*tf.math.log(1-0.8)) +\n",
        "                (0*tf.math.log(0.3) +(1-0)*tf.math.log(1-0.3)) +\n",
        "                (1*tf.math.log(0.5) +(1-1)*tf.math.log(1-0.5)) )\n",
        "loss\n",
        "\n"
      ],
      "execution_count": null,
      "outputs": [
        {
          "output_type": "execute_result",
          "data": {
            "text/plain": [
              "<tf.Tensor: shape=(), dtype=float32, numpy=0.4915282>"
            ]
          },
          "metadata": {
            "tags": []
          },
          "execution_count": 42
        }
      ]
    },
    {
      "cell_type": "markdown",
      "metadata": {
        "id": "nzezKVGvzWMf"
      },
      "source": [
        "numpy"
      ]
    },
    {
      "cell_type": "code",
      "metadata": {
        "colab": {
          "base_uri": "https://localhost:8080/",
          "height": 88
        },
        "id": "T3eSu3CUghC7",
        "outputId": "ed149520-9b61-4a4e-fc0e-c72d87af6f75"
      },
      "source": [
        "import numpy as np\n",
        "O = np.array([[1,2,3,4],[9,10,11,12]])#这是个矩阵。如果只有一个行就是向量。\n",
        "#** 向量一行用[]括上，如果要写第二行要用逗号（，）分开\n",
        "'''\n",
        "tuples 元组\n",
        "\n",
        "TypeError: Field elements must be 2- or 3-tuples, got '9'\n",
        "是向量的行向量你没有再用[]括起来。整个的矩阵写完需要用[]再括一下；向量和数组都需要引用np的包\n",
        "\n",
        "'''\n",
        "print(O)\n",
        "print(O[:1])\n",
        "#https://blog.csdn.net/bj_zhb/article/details/104626481?ops_request_misc=%257B%2522request%255Fid%2522%253A%2522161489963516780255286961%2522%252C%2522scm%2522%253A%252220140713.130102334.pc%255Fall.%2522%257D&request_id=161489963516780255286961&biz_id=0&utm_medium=distribute.pc_search_result.none-task-blog-2~all~first_rank_v2~rank_v29-3-104626481.first_rank_v2_pc_rank_v29&utm_term=列表索引必须是整数或切片，而不是元组%E3%80%82\n",
        "\n",
        "#https://blog.csdn.net/weixin_42676678/article/details/111975879?ops_request_misc=%257B%2522request%255Fid%2522%253A%2522161489986816780255256915%2522%252C%2522scm%2522%253A%252220140713.130102334..%2522%257D&request_id=161489986816780255256915&biz_id=0&utm_medium=distribute.pc_search_result.none-task-blog-2~all~sobaiduend~default-1-111975879.first_rank_v2_pc_rank_v29&utm_term=python中向量的定义\n",
        "'感觉不错的函数用法'"
      ],
      "execution_count": null,
      "outputs": [
        {
          "output_type": "stream",
          "text": [
            "[[ 1  2  3  4]\n",
            " [ 9 10 11 12]]\n",
            "[[1 2 3 4]]\n"
          ],
          "name": "stdout"
        },
        {
          "output_type": "execute_result",
          "data": {
            "application/vnd.google.colaboratory.intrinsic+json": {
              "type": "string"
            },
            "text/plain": [
              "'感觉不错的函数用法'"
            ]
          },
          "metadata": {
            "tags": []
          },
          "execution_count": 43
        }
      ]
    },
    {
      "cell_type": "code",
      "metadata": {
        "id": "C9OVLr9LIcN_"
      },
      "source": [
        "#fn+C+f9全运行"
      ],
      "execution_count": null,
      "outputs": []
    },
    {
      "cell_type": "markdown",
      "metadata": {
        "id": "eR4YL_-TInkD"
      },
      "source": [
        "指定TensorFLow版本"
      ]
    },
    {
      "cell_type": "code",
      "metadata": {
        "colab": {
          "base_uri": "https://localhost:8080/"
        },
        "id": "ScX2HutEIqRa",
        "outputId": "1261eb4c-7588-4760-f060-474301cb4b54"
      },
      "source": [
        "%tensorflow_version 1.x"
      ],
      "execution_count": null,
      "outputs": [
        {
          "output_type": "stream",
          "text": [
            "TensorFlow is already loaded. Please restart the runtime to change versions.\n"
          ],
          "name": "stdout"
        }
      ]
    },
    {
      "cell_type": "code",
      "metadata": {
        "colab": {
          "base_uri": "https://localhost:8080/"
        },
        "id": "L-aPs0tVIutb",
        "outputId": "73375b25-3cfa-4088-bb32-ac71e891cf27"
      },
      "source": [
        "import tensorflow\n",
        "print(tensorflow.__version__)#查看版本\n",
        "#果要在导入后切换TensorFlow版本，则需要使用'Runtime'->'Restart runtime ...'重新启动运行时，然后在再次导入之前指定版本。\n",
        "#https://colab.research.google.com/notebooks/tensorflow_version.ipynb#scrollTo=8UvRkm1JGUrk\n",
        "#https://colab.research.google.com/notebooks/io.ipynb#scrollTo=20twTTnCJT74\n",
        "#如何上传你的"
      ],
      "execution_count": null,
      "outputs": [
        {
          "output_type": "stream",
          "text": [
            "2.4.1\n"
          ],
          "name": "stdout"
        }
      ]
    }
  ]
}