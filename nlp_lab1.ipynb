{
  "nbformat": 4,
  "nbformat_minor": 0,
  "metadata": {
    "colab": {
      "name": "nlp.lab1.ipynb",
      "provenance": [],
      "collapsed_sections": [],
      "authorship_tag": "ABX9TyNfKHfbLSnLj9jnJv2zMGHA",
      "include_colab_link": true
    },
    "kernelspec": {
      "name": "python3",
      "display_name": "Python 3"
    }
  },
  "cells": [
    {
      "cell_type": "markdown",
      "metadata": {
        "id": "view-in-github",
        "colab_type": "text"
      },
      "source": [
        "<a href=\"https://colab.research.google.com/github/Alecia113/self-directed-exercises-python-/blob/NLP/nlp_lab1.ipynb\" target=\"_parent\"><img src=\"https://colab.research.google.com/assets/colab-badge.svg\" alt=\"Open In Colab\"/></a>"
      ]
    },
    {
      "cell_type": "markdown",
      "metadata": {
        "id": "qjvhbt84fF_w"
      },
      "source": [
        "# **PyTorch**"
      ]
    },
    {
      "cell_type": "markdown",
      "metadata": {
        "id": "-E1DTgW9V-f_"
      },
      "source": [
        "**Tensor张量**"
      ]
    },
    {
      "cell_type": "code",
      "metadata": {
        "id": "ejx4WI1SSd8l"
      },
      "source": [
        "#Tensor 张量 computation graph + automatic differentiation \\计算图和自动微分\n",
        "'''\n",
        "nerual networks\n",
        "  nd-tensor instance \\调用 nd——》n dimensional\n",
        "attributes\n",
        "  1:rank 等级 dimensions numbers(维数):rank-2 tensor == 2d-tensor\n",
        "  2：Axes 轴 specific demensions(特定尺寸) Axes == dimensions(number) 轴数等于尺寸数（维度数）\n",
        "              axes length == how number elements running along this axis (轴长＝沿该轴延伸的元素数)\n",
        "  3： shape 形状 axis length (formed) [由每个轴的长度形成]\n",
        "              eg:shape(1,2)== 2d-tensor :first axis = 1(length) second axis = 2 [2d张量，第一轴长度1，第二轴长度2]\n",
        "              scalar(标量); vector(向量) ;matrix（矩阵）;cube（立方骰子）\n",
        " 【代码】key properties 关键属性\n",
        "    torch.dtype: torch.float32（数据类型）\n",
        "    torch.device:CPU/CUDA(GPU)\\(一个对象在其上；或将要分配的torch.Tensor的设备【火炬张量】)\n",
        "    torch.layout: memory layout (torch.Tensor 内存布局对象)\n",
        "  \n",
        "              '''\n"
      ],
      "execution_count": null,
      "outputs": []
    },
    {
      "cell_type": "markdown",
      "metadata": {
        "id": "uF-CKHn2SsvI"
      },
      "source": [
        "**Computational graph and automatic differentiation 计算图和自动微分**"
      ]
    },
    {
      "cell_type": "code",
      "metadata": {
        "id": "2OlW07D3WL6c"
      },
      "source": [
        "'''\n",
        "  （有向无环 directed acyclic) 计算图 computational graphs to draw some doing functional about tensors in neural networks\n",
        "  PyTorch使用（有向无环）计算图来绘制应用于神经网络内部张量的功能操作，从而计算出用于网络优化的导数\n",
        "   use in net optimization : by  calculate derivatives \n",
        "In graphs (🐰)\n",
        "  nodes == tensors\n",
        "  eages == functions: + * [ output tensors from input tensors(入到出函数 求和×)]\n",
        "  computational graph == dynamic computational graph\n",
        "  当在神经网络的前向传递过程中创建操作时，PyTorch会即时生成计算图，称为动态计算图\n",
        "  '''"
      ],
      "execution_count": null,
      "outputs": []
    },
    {
      "cell_type": "markdown",
      "metadata": {
        "id": "9reBdCVKX45k"
      },
      "source": [
        "# **programming**"
      ]
    },
    {
      "cell_type": "markdown",
      "metadata": {
        "id": "hJBatq9rX8uX"
      },
      "source": [
        "**importing PyTorch library**[beginning]\n"
      ]
    },
    {
      "cell_type": "code",
      "metadata": {
        "colab": {
          "base_uri": "https://localhost:8080/"
        },
        "id": "g5DdimlFYBpH",
        "outputId": "54670de3-e76b-4cef-db4e-bb7ff1702289"
      },
      "source": [
        "import torch \n",
        "print(torch.__version__)"
      ],
      "execution_count": 35,
      "outputs": [
        {
          "output_type": "stream",
          "text": [
            "1.7.1+cu101\n"
          ],
          "name": "stdout"
        }
      ]
    },
    {
      "cell_type": "markdown",
      "metadata": {
        "id": "f3J4U18JYQWM"
      },
      "source": [
        "**create tensors ~~numerical data (数值数据）**"
      ]
    },
    {
      "cell_type": "markdown",
      "metadata": {
        "id": "hWi1655BaPj1"
      },
      "source": [
        "数scalar"
      ]
    },
    {
      "cell_type": "code",
      "metadata": {
        "colab": {
          "base_uri": "https://localhost:8080/"
        },
        "id": "Oe8GwttbYyQo",
        "outputId": "32f96f6d-2155-4ecb-ce6f-67c27cfd0dbf"
      },
      "source": [
        "import numpy as np\n",
        "\n",
        "data = torch.tensor(1)# scalar (0 rank)[0demensions]\n",
        "print(data.shape)"
      ],
      "execution_count": 36,
      "outputs": [
        {
          "output_type": "stream",
          "text": [
            "torch.Size([])\n"
          ],
          "name": "stdout"
        }
      ]
    },
    {
      "cell_type": "code",
      "metadata": {
        "colab": {
          "base_uri": "https://localhost:8080/"
        },
        "id": "x8iVR4i3a8ym",
        "outputId": "2cc8c170-3496-4a13-8cc9-9b65c67c6fc1"
      },
      "source": [
        "data#tensor(1)"
      ],
      "execution_count": 3,
      "outputs": [
        {
          "output_type": "execute_result",
          "data": {
            "text/plain": [
              "tensor(1)"
            ]
          },
          "metadata": {
            "tags": []
          },
          "execution_count": 3
        }
      ]
    },
    {
      "cell_type": "markdown",
      "metadata": {
        "id": "hGvqntinaTEK"
      },
      "source": [
        "向量"
      ]
    },
    {
      "cell_type": "code",
      "metadata": {
        "colab": {
          "base_uri": "https://localhost:8080/"
        },
        "id": "A7MEig7yZgQu",
        "outputId": "fe313e30-0fb0-40b5-f895-cc15a4eb31a3"
      },
      "source": [
        "data = np.array([1,2]) # Vector (1 rank~~~1 demensions)\n",
        "data = torch.Tensor(data)\n",
        "print(data.shape)"
      ],
      "execution_count": null,
      "outputs": [
        {
          "output_type": "stream",
          "text": [
            "torch.Size([2])\n"
          ],
          "name": "stdout"
        }
      ]
    },
    {
      "cell_type": "code",
      "metadata": {
        "colab": {
          "base_uri": "https://localhost:8080/"
        },
        "id": "cCYEBqkUa0_Q",
        "outputId": "b25d5722-12b7-4ab0-aca5-3792760c47fd"
      },
      "source": [
        "data #tensor([1., 2.])"
      ],
      "execution_count": null,
      "outputs": [
        {
          "output_type": "execute_result",
          "data": {
            "text/plain": [
              "tensor([1., 2.])"
            ]
          },
          "metadata": {
            "tags": []
          },
          "execution_count": 7
        }
      ]
    },
    {
      "cell_type": "markdown",
      "metadata": {
        "id": "G7jm5pDMaU1O"
      },
      "source": [
        "Tensor he tensor 测试"
      ]
    },
    {
      "cell_type": "code",
      "metadata": {
        "colab": {
          "base_uri": "https://localhost:8080/"
        },
        "id": "zLPBuWysZ45i",
        "outputId": "1d172d58-f1c2-44d0-a304-04a4e8a039b8"
      },
      "source": [
        "data = np.array([1,2])\n",
        "data = torch.tensor(data)#大小写\n",
        "print(data.shape)"
      ],
      "execution_count": null,
      "outputs": [
        {
          "output_type": "stream",
          "text": [
            "torch.Size([2])\n"
          ],
          "name": "stdout"
        }
      ]
    },
    {
      "cell_type": "code",
      "metadata": {
        "colab": {
          "base_uri": "https://localhost:8080/"
        },
        "id": "KUuPIBPwaveG",
        "outputId": "be185bf2-47fa-402f-feb4-655512f6da7c"
      },
      "source": [
        "data#tensor([1, 2])"
      ],
      "execution_count": null,
      "outputs": [
        {
          "output_type": "execute_result",
          "data": {
            "text/plain": [
              "tensor([1, 2])"
            ]
          },
          "metadata": {
            "tags": []
          },
          "execution_count": 9
        }
      ]
    },
    {
      "cell_type": "markdown",
      "metadata": {
        "id": "VpN9wudoaL2p"
      },
      "source": [
        "矩阵 matrx"
      ]
    },
    {
      "cell_type": "code",
      "metadata": {
        "colab": {
          "base_uri": "https://localhost:8080/"
        },
        "id": "HCFKMutmadi9",
        "outputId": "9d1166b4-e5c2-4989-ab21-89cf3058a43b"
      },
      "source": [
        "data = np.ones((2,2,))# matrix (2rank) 2D 注意括号\n",
        "data = torch.Tensor(data) #大写\n",
        "print(data.shape)"
      ],
      "execution_count": null,
      "outputs": [
        {
          "output_type": "stream",
          "text": [
            "torch.Size([2, 2])\n"
          ],
          "name": "stdout"
        }
      ]
    },
    {
      "cell_type": "code",
      "metadata": {
        "colab": {
          "base_uri": "https://localhost:8080/"
        },
        "id": "QD8puf23atsD",
        "outputId": "c4a9896a-fc84-4e22-810f-296b189b6a6c"
      },
      "source": [
        "data\n",
        "'''tensor([[1., 1.],\n",
        "          [1., 1.]])\n",
        "        '''"
      ],
      "execution_count": null,
      "outputs": [
        {
          "output_type": "execute_result",
          "data": {
            "text/plain": [
              "tensor([[1., 1.],\n",
              "        [1., 1.]])"
            ]
          },
          "metadata": {
            "tags": []
          },
          "execution_count": 11
        }
      ]
    },
    {
      "cell_type": "markdown",
      "metadata": {
        "id": "c7a5z-OBbNJ3"
      },
      "source": [
        "块：cube"
      ]
    },
    {
      "cell_type": "code",
      "metadata": {
        "colab": {
          "base_uri": "https://localhost:8080/"
        },
        "id": "De60wuyjbQ0I",
        "outputId": "855a4680-4aa7-4fc6-a9ee-dfc6c5af1797"
      },
      "source": [
        "data = np.ones((2,2,2))# Cube (3 rank = 3D 括号)\n",
        "data = torch.Tensor(data)#还得让张量跑一下\n",
        "print(data.shape)"
      ],
      "execution_count": null,
      "outputs": [
        {
          "output_type": "stream",
          "text": [
            "torch.Size([2, 2, 2])\n"
          ],
          "name": "stdout"
        }
      ]
    },
    {
      "cell_type": "code",
      "metadata": {
        "colab": {
          "base_uri": "https://localhost:8080/"
        },
        "id": "H7CWx6UIblm7",
        "outputId": "69298ed3-8027-40a5-c60c-b2d25bfecce1"
      },
      "source": [
        "data\n",
        "'''\n",
        "tensor([[[1., 1.],\n",
        "         [1., 1.]],\n",
        "\n",
        "        [[1., 1.],\n",
        "         [1., 1.]]])\n",
        "         '''"
      ],
      "execution_count": null,
      "outputs": [
        {
          "output_type": "execute_result",
          "data": {
            "text/plain": [
              "tensor([[[1., 1.],\n",
              "         [1., 1.]],\n",
              "\n",
              "        [[1., 1.],\n",
              "         [1., 1.]]])"
            ]
          },
          "metadata": {
            "tags": []
          },
          "execution_count": 14
        }
      ]
    },
    {
      "cell_type": "markdown",
      "metadata": {
        "id": "9Wz5_eU5bqGN"
      },
      "source": [
        "块向量"
      ]
    },
    {
      "cell_type": "code",
      "metadata": {
        "colab": {
          "base_uri": "https://localhost:8080/"
        },
        "id": "dt01Cz4_bwcX",
        "outputId": "76a33eb7-f020-4a48-d264-a735075ecfa5"
      },
      "source": [
        "data = np.ones((2,2,2,2,))#都是one  vector of cubes  4rank 4d\n",
        "data = torch.Tensor(data)\n",
        "print(data.shape)"
      ],
      "execution_count": null,
      "outputs": [
        {
          "output_type": "stream",
          "text": [
            "torch.Size([2, 2, 2, 2])\n"
          ],
          "name": "stdout"
        }
      ]
    },
    {
      "cell_type": "code",
      "metadata": {
        "colab": {
          "base_uri": "https://localhost:8080/"
        },
        "id": "dqC4y9qvb_lm",
        "outputId": "1c406008-a0ae-4a06-c83d-fdeb45d20a7b"
      },
      "source": [
        "data #有点像国王下棋盘那种feel\n",
        "'''\n",
        "tensor([[[[1., 1.],\n",
        "          [1., 1.]],\n",
        "\n",
        "         [[1., 1.],\n",
        "          [1., 1.]]],\n",
        "\n",
        "\n",
        "        [[[1., 1.],\n",
        "          [1., 1.]],\n",
        "\n",
        "         [[1., 1.],\n",
        "          [1., 1.]]]])\n",
        "          '''"
      ],
      "execution_count": null,
      "outputs": [
        {
          "output_type": "execute_result",
          "data": {
            "text/plain": [
              "tensor([[[[1., 1.],\n",
              "          [1., 1.]],\n",
              "\n",
              "         [[1., 1.],\n",
              "          [1., 1.]]],\n",
              "\n",
              "\n",
              "        [[[1., 1.],\n",
              "          [1., 1.]],\n",
              "\n",
              "         [[1., 1.],\n",
              "          [1., 1.]]]])"
            ]
          },
          "metadata": {
            "tags": []
          },
          "execution_count": 17
        }
      ]
    },
    {
      "cell_type": "code",
      "metadata": {
        "id": "KYv_QirCcOFQ"
      },
      "source": [
        "#注意1：大小写的t、、2：T: constructor ( bulid function)   t: factory function(construct+return to caller)\n",
        "'''\n",
        "t: 它不仅构造了torch.Tensor 还反馈了他们给调用者\n",
        "T： can return empty tensor don't use input special data but t : must input data\n",
        "\n",
        "'''"
      ],
      "execution_count": null,
      "outputs": []
    },
    {
      "cell_type": "code",
      "metadata": {
        "colab": {
          "base_uri": "https://localhost:8080/"
        },
        "id": "QVQLA3qbdk-H",
        "outputId": "136ff964-9d6b-4100-8c46-2798c805fd9e"
      },
      "source": [
        "data = torch.Tensor()#一个数就不需要ones了大于3都需要2 是array\n",
        "print(data)"
      ],
      "execution_count": null,
      "outputs": [
        {
          "output_type": "stream",
          "text": [
            "tensor([])\n"
          ],
          "name": "stdout"
        }
      ]
    },
    {
      "cell_type": "code",
      "metadata": {
        "id": "IhEDlBa4eEl6"
      },
      "source": [
        "'''data = torch.tensor()\n",
        "print(data)\n",
        "'''\n",
        "#TypeError: tensor() missing 1 required positional arguments: \"data\""
      ],
      "execution_count": null,
      "outputs": []
    },
    {
      "cell_type": "markdown",
      "metadata": {
        "id": "L65HJiZ-ee2p"
      },
      "source": [
        "数据类型"
      ]
    },
    {
      "cell_type": "code",
      "metadata": {
        "id": "fGqF_KV-ehu_"
      },
      "source": [
        "'''\n",
        "  torch.Tensor default dtype \"float32\" \n",
        "  torch.tensor() dtype == input data dtype #传入的数据（类型推断）\n",
        "  example\n",
        "  '''"
      ],
      "execution_count": null,
      "outputs": []
    },
    {
      "cell_type": "code",
      "metadata": {
        "id": "-BGL0Frke3SL",
        "colab": {
          "base_uri": "https://localhost:8080/"
        },
        "outputId": "b65b83c2-2d8a-4815-a5b7-67477aa62288"
      },
      "source": [
        "data = np.array([1,2]) #数组int64\n",
        "print(data.dtype)"
      ],
      "execution_count": 5,
      "outputs": [
        {
          "output_type": "stream",
          "text": [
            "int64\n"
          ],
          "name": "stdout"
        }
      ]
    },
    {
      "cell_type": "code",
      "metadata": {
        "colab": {
          "base_uri": "https://localhost:8080/"
        },
        "id": "AlIpkKFzRnkD",
        "outputId": "6994f48b-ea16-495d-a954-d82da0e012de"
      },
      "source": [
        "data_T = torch.Tensor(data)  #是之前传入的\n",
        "print(data_T)"
      ],
      "execution_count": 6,
      "outputs": [
        {
          "output_type": "stream",
          "text": [
            "tensor([1., 2.])\n"
          ],
          "name": "stdout"
        }
      ]
    },
    {
      "cell_type": "code",
      "metadata": {
        "colab": {
          "base_uri": "https://localhost:8080/"
        },
        "id": "mT2ZPS_-RuUE",
        "outputId": "159a9ede-6246-49d5-cf7a-489f2da4069c"
      },
      "source": [
        "print(data_T.dtype) #默认是float32"
      ],
      "execution_count": 7,
      "outputs": [
        {
          "output_type": "stream",
          "text": [
            "torch.float32\n"
          ],
          "name": "stdout"
        }
      ]
    },
    {
      "cell_type": "code",
      "metadata": {
        "colab": {
          "base_uri": "https://localhost:8080/"
        },
        "id": "d6y6-NihR-Si",
        "outputId": "ebdf0a55-46f9-4b60-f7bd-cd6ba9d44669"
      },
      "source": [
        "print(data_T.dtype== torch.get_default_dtype())# default 默认 "
      ],
      "execution_count": 8,
      "outputs": [
        {
          "output_type": "stream",
          "text": [
            "True\n"
          ],
          "name": "stdout"
        }
      ]
    },
    {
      "cell_type": "code",
      "metadata": {
        "colab": {
          "base_uri": "https://localhost:8080/"
        },
        "id": "5elrBGrvlgQs",
        "outputId": "98a3d348-45b4-4410-ba29-48cc1d3a1fed"
      },
      "source": [
        "print()"
      ],
      "execution_count": 9,
      "outputs": [
        {
          "output_type": "stream",
          "text": [
            "\n"
          ],
          "name": "stdout"
        }
      ]
    },
    {
      "cell_type": "code",
      "metadata": {
        "id": "4zZYBpvKloeE"
      },
      "source": [
        "# change use 'torch.set_default_dtype(dtype)"
      ],
      "execution_count": null,
      "outputs": []
    },
    {
      "cell_type": "code",
      "metadata": {
        "id": "60DWb0XLmOc8"
      },
      "source": [
        "data_t = torch.tensor(data)"
      ],
      "execution_count": 10,
      "outputs": []
    },
    {
      "cell_type": "code",
      "metadata": {
        "colab": {
          "base_uri": "https://localhost:8080/"
        },
        "id": "rdjRluZtmViT",
        "outputId": "b1ad092a-22b6-4057-92d1-fc0906342e42"
      },
      "source": [
        "data_t"
      ],
      "execution_count": 11,
      "outputs": [
        {
          "output_type": "execute_result",
          "data": {
            "text/plain": [
              "tensor([1, 2])"
            ]
          },
          "metadata": {
            "tags": []
          },
          "execution_count": 11
        }
      ]
    },
    {
      "cell_type": "code",
      "metadata": {
        "colab": {
          "base_uri": "https://localhost:8080/"
        },
        "id": "RRGrLkyemYA_",
        "outputId": "ee61fd5f-236b-4a43-cd45-23d197cc9fb7"
      },
      "source": [
        "print(data_t)"
      ],
      "execution_count": 12,
      "outputs": [
        {
          "output_type": "stream",
          "text": [
            "tensor([1, 2])\n"
          ],
          "name": "stdout"
        }
      ]
    },
    {
      "cell_type": "code",
      "metadata": {
        "colab": {
          "base_uri": "https://localhost:8080/"
        },
        "id": "Dl4R7GYjmaTV",
        "outputId": "3188737d-699f-4646-ef99-2ed51ea91e27"
      },
      "source": [
        "print(data_t.dtype)"
      ],
      "execution_count": 13,
      "outputs": [
        {
          "output_type": "stream",
          "text": [
            "torch.int64\n"
          ],
          "name": "stdout"
        }
      ]
    },
    {
      "cell_type": "code",
      "metadata": {
        "id": "sIJPnmyImdPJ"
      },
      "source": [
        "#specify datatype (指定) 'torch.tensor()\n",
        "data_t = torch.tensor(data, dtype=torch.float64)#(tensou) 就是在后面多加个参数"
      ],
      "execution_count": 19,
      "outputs": []
    },
    {
      "cell_type": "code",
      "metadata": {
        "colab": {
          "base_uri": "https://localhost:8080/"
        },
        "id": "0VNDpwy7mzY9",
        "outputId": "88b93faa-d151-4624-9366-b29dadc3875d"
      },
      "source": [
        "data_t.dtype"
      ],
      "execution_count": 20,
      "outputs": [
        {
          "output_type": "execute_result",
          "data": {
            "text/plain": [
              "torch.float64"
            ]
          },
          "metadata": {
            "tags": []
          },
          "execution_count": 20
        }
      ]
    },
    {
      "cell_type": "code",
      "metadata": {
        "colab": {
          "base_uri": "https://localhost:8080/"
        },
        "id": "_7pLSPLtm_fv",
        "outputId": "80d12600-a056-4b1f-a476-cd76d0f6d57e"
      },
      "source": [
        "data_t"
      ],
      "execution_count": 21,
      "outputs": [
        {
          "output_type": "execute_result",
          "data": {
            "text/plain": [
              "tensor([1., 2.], dtype=torch.float64)"
            ]
          },
          "metadata": {
            "tags": []
          },
          "execution_count": 21
        }
      ]
    },
    {
      "cell_type": "code",
      "metadata": {
        "id": "GUGByuPznBXT"
      },
      "source": [
        "#期望expect 使用torch.Tensor + torch.tensor  or // torch.as_tensor  + torch.from_numpy"
      ],
      "execution_count": 22,
      "outputs": []
    },
    {
      "cell_type": "code",
      "metadata": {
        "id": "f6NEoZN3nTA8"
      },
      "source": [
        "#创建张量tensor 'torch.as_tensor'\n",
        "data = np.ones((2,2,2))"
      ],
      "execution_count": 23,
      "outputs": []
    },
    {
      "cell_type": "code",
      "metadata": {
        "colab": {
          "base_uri": "https://localhost:8080/"
        },
        "id": "zxHNumfNnclj",
        "outputId": "8fee8739-f5e4-4f3f-8c94-f0d73aa1b4d8"
      },
      "source": [
        "data"
      ],
      "execution_count": 24,
      "outputs": [
        {
          "output_type": "execute_result",
          "data": {
            "text/plain": [
              "array([[[1., 1.],\n",
              "        [1., 1.]],\n",
              "\n",
              "       [[1., 1.],\n",
              "        [1., 1.]]])"
            ]
          },
          "metadata": {
            "tags": []
          },
          "execution_count": 24
        }
      ]
    },
    {
      "cell_type": "code",
      "metadata": {
        "id": "zj1LnPvKnc6L"
      },
      "source": [
        "data = torch.as_tensor(data)"
      ],
      "execution_count": 25,
      "outputs": []
    },
    {
      "cell_type": "code",
      "metadata": {
        "colab": {
          "base_uri": "https://localhost:8080/"
        },
        "id": "Je1z5elGnhw0",
        "outputId": "7c56515b-a4ea-42a4-8f31-dbe8f895b833"
      },
      "source": [
        "data"
      ],
      "execution_count": 26,
      "outputs": [
        {
          "output_type": "execute_result",
          "data": {
            "text/plain": [
              "tensor([[[1., 1.],\n",
              "         [1., 1.]],\n",
              "\n",
              "        [[1., 1.],\n",
              "         [1., 1.]]], dtype=torch.float64)"
            ]
          },
          "metadata": {
            "tags": []
          },
          "execution_count": 26
        }
      ]
    },
    {
      "cell_type": "code",
      "metadata": {
        "colab": {
          "base_uri": "https://localhost:8080/"
        },
        "id": "Fq_i6O9Nnjjj",
        "outputId": "47aaa2c1-4ad4-4677-881b-096a3231ca21"
      },
      "source": [
        "print(data.shape)"
      ],
      "execution_count": 27,
      "outputs": [
        {
          "output_type": "stream",
          "text": [
            "torch.Size([2, 2, 2])\n"
          ],
          "name": "stdout"
        }
      ]
    },
    {
      "cell_type": "code",
      "metadata": {
        "id": "hA0Rnm01nma8"
      },
      "source": [
        "# 创建张量 create tensor 'torch.form_numpy\n",
        "data = np.ones((2,2,2,2))"
      ],
      "execution_count": 39,
      "outputs": []
    },
    {
      "cell_type": "code",
      "metadata": {
        "colab": {
          "base_uri": "https://localhost:8080/"
        },
        "id": "M0njEC9bn7CS",
        "outputId": "16e04344-e232-40ff-f6d3-6bd3d397fa34"
      },
      "source": [
        "data"
      ],
      "execution_count": 40,
      "outputs": [
        {
          "output_type": "execute_result",
          "data": {
            "text/plain": [
              "array([[[[1., 1.],\n",
              "         [1., 1.]],\n",
              "\n",
              "        [[1., 1.],\n",
              "         [1., 1.]]],\n",
              "\n",
              "\n",
              "       [[[1., 1.],\n",
              "         [1., 1.]],\n",
              "\n",
              "        [[1., 1.],\n",
              "         [1., 1.]]]])"
            ]
          },
          "metadata": {
            "tags": []
          },
          "execution_count": 40
        }
      ]
    },
    {
      "cell_type": "code",
      "metadata": {
        "id": "jOhzJmj9n8zH"
      },
      "source": [
        "data = torch.from_numpy(data) #from form  \n",
        "'''为啥要建张量？'''"
      ],
      "execution_count": 41,
      "outputs": []
    },
    {
      "cell_type": "code",
      "metadata": {
        "colab": {
          "base_uri": "https://localhost:8080/"
        },
        "id": "pbhD3T0koSkU",
        "outputId": "8d9b8f3e-cf62-41bb-d0df-1657508976c3"
      },
      "source": [
        "data"
      ],
      "execution_count": 42,
      "outputs": [
        {
          "output_type": "execute_result",
          "data": {
            "text/plain": [
              "tensor([[[[1., 1.],\n",
              "          [1., 1.]],\n",
              "\n",
              "         [[1., 1.],\n",
              "          [1., 1.]]],\n",
              "\n",
              "\n",
              "        [[[1., 1.],\n",
              "          [1., 1.]],\n",
              "\n",
              "         [[1., 1.],\n",
              "          [1., 1.]]]], dtype=torch.float64)"
            ]
          },
          "metadata": {
            "tags": []
          },
          "execution_count": 42
        }
      ]
    },
    {
      "cell_type": "code",
      "metadata": {
        "colab": {
          "base_uri": "https://localhost:8080/"
        },
        "id": "14G6-iiHoWAS",
        "outputId": "e0d271d7-dac5-4cd3-f602-ec641cc69bc6"
      },
      "source": [
        "print(data.shape)"
      ],
      "execution_count": 43,
      "outputs": [
        {
          "output_type": "stream",
          "text": [
            "torch.Size([2, 2, 2, 2])\n"
          ],
          "name": "stdout"
        }
      ]
    },
    {
      "cell_type": "markdown",
      "metadata": {
        "id": "h-2gPnorollO"
      },
      "source": [
        "factory functions  to create tensors without data"
      ]
    },
    {
      "cell_type": "code",
      "metadata": {
        "colab": {
          "base_uri": "https://localhost:8080/"
        },
        "id": "gSLAgULKoxIl",
        "outputId": "d5950856-0ee2-46f1-bbbc-a588905cee49"
      },
      "source": [
        "torch.eye(2)  #单位矩阵 identity matrix"
      ],
      "execution_count": 46,
      "outputs": [
        {
          "output_type": "execute_result",
          "data": {
            "text/plain": [
              "tensor([[1., 0.],\n",
              "        [0., 1.]])"
            ]
          },
          "metadata": {
            "tags": []
          },
          "execution_count": 46
        }
      ]
    },
    {
      "cell_type": "code",
      "metadata": {
        "colab": {
          "base_uri": "https://localhost:8080/"
        },
        "id": "NbxiaxhGozw1",
        "outputId": "162d6a3d-9f7b-4b8e-cdec-b0437799022e"
      },
      "source": [
        "torch.zeros(2,2)# all zeros"
      ],
      "execution_count": 47,
      "outputs": [
        {
          "output_type": "execute_result",
          "data": {
            "text/plain": [
              "tensor([[0., 0.],\n",
              "        [0., 0.]])"
            ]
          },
          "metadata": {
            "tags": []
          },
          "execution_count": 47
        }
      ]
    },
    {
      "cell_type": "code",
      "metadata": {
        "colab": {
          "base_uri": "https://localhost:8080/"
        },
        "id": "RomWzef2pCiF",
        "outputId": "c99c2600-aa90-4489-d6ab-20e2484d073a"
      },
      "source": [
        "torch.zeros(2,2,2)"
      ],
      "execution_count": 48,
      "outputs": [
        {
          "output_type": "execute_result",
          "data": {
            "text/plain": [
              "tensor([[[0., 0.],\n",
              "         [0., 0.]],\n",
              "\n",
              "        [[0., 0.],\n",
              "         [0., 0.]]])"
            ]
          },
          "metadata": {
            "tags": []
          },
          "execution_count": 48
        }
      ]
    },
    {
      "cell_type": "code",
      "metadata": {
        "colab": {
          "base_uri": "https://localhost:8080/"
        },
        "id": "sTziRj9ppGM9",
        "outputId": "b73a6f6e-1f60-4fd9-df0a-598daf0919f5"
      },
      "source": [
        "torch.ones(2,2)# 返回给定形状的张量。并填满 given shape filled with all ones"
      ],
      "execution_count": 49,
      "outputs": [
        {
          "output_type": "execute_result",
          "data": {
            "text/plain": [
              "tensor([[1., 1.],\n",
              "        [1., 1.]])"
            ]
          },
          "metadata": {
            "tags": []
          },
          "execution_count": 49
        }
      ]
    },
    {
      "cell_type": "code",
      "metadata": {
        "colab": {
          "base_uri": "https://localhost:8080/"
        },
        "id": "GOZ0eB4UpQzY",
        "outputId": "54f901b1-bfba-4e0a-e224-a5b8484ea425"
      },
      "source": [
        "torch.ones(2,2,2,2)"
      ],
      "execution_count": 50,
      "outputs": [
        {
          "output_type": "execute_result",
          "data": {
            "text/plain": [
              "tensor([[[[1., 1.],\n",
              "          [1., 1.]],\n",
              "\n",
              "         [[1., 1.],\n",
              "          [1., 1.]]],\n",
              "\n",
              "\n",
              "        [[[1., 1.],\n",
              "          [1., 1.]],\n",
              "\n",
              "         [[1., 1.],\n",
              "          [1., 1.]]]])"
            ]
          },
          "metadata": {
            "tags": []
          },
          "execution_count": 50
        }
      ]
    },
    {
      "cell_type": "code",
      "metadata": {
        "colab": {
          "base_uri": "https://localhost:8080/"
        },
        "id": "-iC_NpFYpnAp",
        "outputId": "c1b9f94e-c942-427d-ffeb-18e81f8cc349"
      },
      "source": [
        "torch.ones(4)#行"
      ],
      "execution_count": 54,
      "outputs": [
        {
          "output_type": "execute_result",
          "data": {
            "text/plain": [
              "tensor([1., 1., 1., 1.])"
            ]
          },
          "metadata": {
            "tags": []
          },
          "execution_count": 54
        }
      ]
    },
    {
      "cell_type": "code",
      "metadata": {
        "colab": {
          "base_uri": "https://localhost:8080/"
        },
        "id": "jpHGXE_npUAg",
        "outputId": "4309389b-504d-4fe0-fd3b-1242d3956cb1"
      },
      "source": [
        "torch.ones(4,4)#1"
      ],
      "execution_count": 51,
      "outputs": [
        {
          "output_type": "execute_result",
          "data": {
            "text/plain": [
              "tensor([[1., 1., 1., 1.],\n",
              "        [1., 1., 1., 1.],\n",
              "        [1., 1., 1., 1.],\n",
              "        [1., 1., 1., 1.]])"
            ]
          },
          "metadata": {
            "tags": []
          },
          "execution_count": 51
        }
      ]
    },
    {
      "cell_type": "code",
      "metadata": {
        "colab": {
          "base_uri": "https://localhost:8080/"
        },
        "id": "qEho0JeFpXNg",
        "outputId": "cbe1568e-764b-4a8d-f2c4-e2113ee5db43"
      },
      "source": [
        "torch.ones(4,4,4)#4"
      ],
      "execution_count": 52,
      "outputs": [
        {
          "output_type": "execute_result",
          "data": {
            "text/plain": [
              "tensor([[[1., 1., 1., 1.],\n",
              "         [1., 1., 1., 1.],\n",
              "         [1., 1., 1., 1.],\n",
              "         [1., 1., 1., 1.]],\n",
              "\n",
              "        [[1., 1., 1., 1.],\n",
              "         [1., 1., 1., 1.],\n",
              "         [1., 1., 1., 1.],\n",
              "         [1., 1., 1., 1.]],\n",
              "\n",
              "        [[1., 1., 1., 1.],\n",
              "         [1., 1., 1., 1.],\n",
              "         [1., 1., 1., 1.],\n",
              "         [1., 1., 1., 1.]],\n",
              "\n",
              "        [[1., 1., 1., 1.],\n",
              "         [1., 1., 1., 1.],\n",
              "         [1., 1., 1., 1.],\n",
              "         [1., 1., 1., 1.]]])"
            ]
          },
          "metadata": {
            "tags": []
          },
          "execution_count": 52
        }
      ]
    },
    {
      "cell_type": "code",
      "metadata": {
        "colab": {
          "base_uri": "https://localhost:8080/"
        },
        "id": "c6poBf7Ipc-A",
        "outputId": "cdb09a3b-f17f-4689-cb7a-ebaf0c841086"
      },
      "source": [
        "torch.ones(4,4,4,4)  #16"
      ],
      "execution_count": 53,
      "outputs": [
        {
          "output_type": "execute_result",
          "data": {
            "text/plain": [
              "tensor([[[[1., 1., 1., 1.],\n",
              "          [1., 1., 1., 1.],\n",
              "          [1., 1., 1., 1.],\n",
              "          [1., 1., 1., 1.]],\n",
              "\n",
              "         [[1., 1., 1., 1.],\n",
              "          [1., 1., 1., 1.],\n",
              "          [1., 1., 1., 1.],\n",
              "          [1., 1., 1., 1.]],\n",
              "\n",
              "         [[1., 1., 1., 1.],\n",
              "          [1., 1., 1., 1.],\n",
              "          [1., 1., 1., 1.],\n",
              "          [1., 1., 1., 1.]],\n",
              "\n",
              "         [[1., 1., 1., 1.],\n",
              "          [1., 1., 1., 1.],\n",
              "          [1., 1., 1., 1.],\n",
              "          [1., 1., 1., 1.]]],\n",
              "\n",
              "\n",
              "        [[[1., 1., 1., 1.],\n",
              "          [1., 1., 1., 1.],\n",
              "          [1., 1., 1., 1.],\n",
              "          [1., 1., 1., 1.]],\n",
              "\n",
              "         [[1., 1., 1., 1.],\n",
              "          [1., 1., 1., 1.],\n",
              "          [1., 1., 1., 1.],\n",
              "          [1., 1., 1., 1.]],\n",
              "\n",
              "         [[1., 1., 1., 1.],\n",
              "          [1., 1., 1., 1.],\n",
              "          [1., 1., 1., 1.],\n",
              "          [1., 1., 1., 1.]],\n",
              "\n",
              "         [[1., 1., 1., 1.],\n",
              "          [1., 1., 1., 1.],\n",
              "          [1., 1., 1., 1.],\n",
              "          [1., 1., 1., 1.]]],\n",
              "\n",
              "\n",
              "        [[[1., 1., 1., 1.],\n",
              "          [1., 1., 1., 1.],\n",
              "          [1., 1., 1., 1.],\n",
              "          [1., 1., 1., 1.]],\n",
              "\n",
              "         [[1., 1., 1., 1.],\n",
              "          [1., 1., 1., 1.],\n",
              "          [1., 1., 1., 1.],\n",
              "          [1., 1., 1., 1.]],\n",
              "\n",
              "         [[1., 1., 1., 1.],\n",
              "          [1., 1., 1., 1.],\n",
              "          [1., 1., 1., 1.],\n",
              "          [1., 1., 1., 1.]],\n",
              "\n",
              "         [[1., 1., 1., 1.],\n",
              "          [1., 1., 1., 1.],\n",
              "          [1., 1., 1., 1.],\n",
              "          [1., 1., 1., 1.]]],\n",
              "\n",
              "\n",
              "        [[[1., 1., 1., 1.],\n",
              "          [1., 1., 1., 1.],\n",
              "          [1., 1., 1., 1.],\n",
              "          [1., 1., 1., 1.]],\n",
              "\n",
              "         [[1., 1., 1., 1.],\n",
              "          [1., 1., 1., 1.],\n",
              "          [1., 1., 1., 1.],\n",
              "          [1., 1., 1., 1.]],\n",
              "\n",
              "         [[1., 1., 1., 1.],\n",
              "          [1., 1., 1., 1.],\n",
              "          [1., 1., 1., 1.],\n",
              "          [1., 1., 1., 1.]],\n",
              "\n",
              "         [[1., 1., 1., 1.],\n",
              "          [1., 1., 1., 1.],\n",
              "          [1., 1., 1., 1.],\n",
              "          [1., 1., 1., 1.]]]])"
            ]
          },
          "metadata": {
            "tags": []
          },
          "execution_count": 53
        }
      ]
    },
    {
      "cell_type": "code",
      "metadata": {
        "colab": {
          "base_uri": "https://localhost:8080/"
        },
        "id": "rCHhiiKbprlg",
        "outputId": "0b48cbb3-fd9b-4578-b93d-628613109aab"
      },
      "source": [
        "torch.rand(2)#given shap____values fill it  uniform distribution 均匀分布 on[0,1)"
      ],
      "execution_count": 55,
      "outputs": [
        {
          "output_type": "execute_result",
          "data": {
            "text/plain": [
              "tensor([0.6223, 0.8618])"
            ]
          },
          "metadata": {
            "tags": []
          },
          "execution_count": 55
        }
      ]
    },
    {
      "cell_type": "code",
      "metadata": {
        "colab": {
          "base_uri": "https://localhost:8080/"
        },
        "id": "jirPB-3WpwDn",
        "outputId": "f180dfb6-acab-4feb-88ad-ae41e02b7ecd"
      },
      "source": [
        "torch.rand(2)"
      ],
      "execution_count": 56,
      "outputs": [
        {
          "output_type": "execute_result",
          "data": {
            "text/plain": [
              "tensor([0.7719, 0.1198])"
            ]
          },
          "metadata": {
            "tags": []
          },
          "execution_count": 56
        }
      ]
    },
    {
      "cell_type": "code",
      "metadata": {
        "colab": {
          "base_uri": "https://localhost:8080/"
        },
        "id": "R-3msoRmpyzT",
        "outputId": "b4d148dc-8180-4f69-ee76-a5ffa3a3439b"
      },
      "source": [
        "torch.rand(2,2) "
      ],
      "execution_count": 57,
      "outputs": [
        {
          "output_type": "execute_result",
          "data": {
            "text/plain": [
              "tensor([[0.6878, 0.1390],\n",
              "        [0.4860, 0.7395]])"
            ]
          },
          "metadata": {
            "tags": []
          },
          "execution_count": 57
        }
      ]
    },
    {
      "cell_type": "code",
      "metadata": {
        "colab": {
          "base_uri": "https://localhost:8080/"
        },
        "id": "mKGRMD_Fp1bT",
        "outputId": "80cf9b78-9c0a-47fe-ca7d-bb8d70ff65cd"
      },
      "source": [
        "torch.rand(2,2,2)"
      ],
      "execution_count": 58,
      "outputs": [
        {
          "output_type": "execute_result",
          "data": {
            "text/plain": [
              "tensor([[[0.9508, 0.8656],\n",
              "         [0.3788, 0.8393]],\n",
              "\n",
              "        [[0.6918, 0.4496],\n",
              "         [0.5283, 0.5645]]])"
            ]
          },
          "metadata": {
            "tags": []
          },
          "execution_count": 58
        }
      ]
    },
    {
      "cell_type": "markdown",
      "metadata": {
        "id": "Xcs66jSNqIDj"
      },
      "source": [
        "**basic tensor operations 基本张量计算**"
      ]
    },
    {
      "cell_type": "code",
      "metadata": {
        "id": "eOzCbnNIqLhj"
      },
      "source": [
        "#https://pytorch.org/docs/stable/torch.html#math-operations\n"
      ],
      "execution_count": null,
      "outputs": []
    },
    {
      "cell_type": "markdown",
      "metadata": {
        "id": "om5fn-GhqIOb"
      },
      "source": [
        "simple linear regression algorithm"
      ]
    },
    {
      "cell_type": "markdown",
      "metadata": {
        "id": "9cAOJbhSqo3X"
      },
      "source": [
        "prepare data 准备数据"
      ]
    },
    {
      "cell_type": "code",
      "metadata": {
        "id": "4hxqt7HiqtHK"
      },
      "source": [
        "import numpy\n",
        "import matplotlib.pyplot as plt\n",
        "import torch"
      ],
      "execution_count": 59,
      "outputs": []
    },
    {
      "cell_type": "code",
      "metadata": {
        "id": "j4ipL8h5q3cw"
      },
      "source": [
        "#training data\n",
        "x_training = numpy.asarray([1,2,5,8,9,12,14,16,18,20])\n",
        "y_training = numpy.asarray([1500,3500,7200,11000,12500,18500,22000,24500,28000,30500])\n",
        "\n",
        "x_test = numpy.asarray([3,7,13,15,19])\n",
        "y_test = numpy.asarray([4400,10000,19500,23500,29000])\n"
      ],
      "execution_count": 64,
      "outputs": []
    },
    {
      "cell_type": "code",
      "metadata": {
        "id": "OYl4H0DCrdVB"
      },
      "source": [
        "#create tensor : training\n",
        "x_data = torch.from_numpy(x_training)"
      ],
      "execution_count": 65,
      "outputs": []
    },
    {
      "cell_type": "code",
      "metadata": {
        "colab": {
          "base_uri": "https://localhost:8080/"
        },
        "id": "YvO86cU7ri90",
        "outputId": "90987882-9665-4d5d-dd4d-91f89c98efd3"
      },
      "source": [
        "x_data#就是输出出来了"
      ],
      "execution_count": 66,
      "outputs": [
        {
          "output_type": "execute_result",
          "data": {
            "text/plain": [
              "tensor([ 1,  2,  5,  8,  9, 12, 14, 16, 18, 20])"
            ]
          },
          "metadata": {
            "tags": []
          },
          "execution_count": 66
        }
      ]
    },
    {
      "cell_type": "code",
      "metadata": {
        "id": "oFRNsbNurquj"
      },
      "source": [
        "y_data = torch.from_numpy(y_training)"
      ],
      "execution_count": 67,
      "outputs": []
    },
    {
      "cell_type": "code",
      "metadata": {
        "colab": {
          "base_uri": "https://localhost:8080/"
        },
        "id": "gkxoT8EVr0Sn",
        "outputId": "65aceb4f-2e7c-48ea-b20a-0454d6a19bfc"
      },
      "source": [
        "y_data#依旧输出"
      ],
      "execution_count": 68,
      "outputs": [
        {
          "output_type": "execute_result",
          "data": {
            "text/plain": [
              "tensor([ 1500,  3500,  7200, 11000, 12500, 18500, 22000, 24500, 28000, 30500])"
            ]
          },
          "metadata": {
            "tags": []
          },
          "execution_count": 68
        }
      ]
    },
    {
      "cell_type": "code",
      "metadata": {
        "id": "Fht3vpmIr33y"
      },
      "source": [
        "x_test_data = torch.from_numpy(x_test)"
      ],
      "execution_count": 69,
      "outputs": []
    },
    {
      "cell_type": "code",
      "metadata": {
        "colab": {
          "base_uri": "https://localhost:8080/"
        },
        "id": "cspdvs0tr9x9",
        "outputId": "0d7ab955-b6d9-49fb-cb50-c2c83cdbc0d1"
      },
      "source": [
        "x_test_data#依旧"
      ],
      "execution_count": 70,
      "outputs": [
        {
          "output_type": "execute_result",
          "data": {
            "text/plain": [
              "tensor([ 3,  7, 13, 15, 19])"
            ]
          },
          "metadata": {
            "tags": []
          },
          "execution_count": 70
        }
      ]
    },
    {
      "cell_type": "code",
      "metadata": {
        "id": "UlRSNEdEsAph"
      },
      "source": [
        "y_test_data = torch.from_numpy(y_test)"
      ],
      "execution_count": 71,
      "outputs": []
    },
    {
      "cell_type": "code",
      "metadata": {
        "colab": {
          "base_uri": "https://localhost:8080/"
        },
        "id": "a6fIYp0usG6A",
        "outputId": "5aed4a0f-80df-4233-f753-19aa5da6e403"
      },
      "source": [
        "y_test_data# same"
      ],
      "execution_count": 72,
      "outputs": [
        {
          "output_type": "execute_result",
          "data": {
            "text/plain": [
              "tensor([ 4400, 10000, 19500, 23500, 29000])"
            ]
          },
          "metadata": {
            "tags": []
          },
          "execution_count": 72
        }
      ]
    },
    {
      "cell_type": "markdown",
      "metadata": {
        "id": "TEoLRNv4sMG3"
      },
      "source": [
        "上面就是在准备数据，将正常的数组变成张量（有点像换形式）\n",
        "then define model architecture"
      ]
    },
    {
      "cell_type": "code",
      "metadata": {
        "id": "GXUXkdpHsVW3"
      },
      "source": [
        "#define weights +biases 权重和偏差\n",
        "weight = torch.tensor(numpy.random.randn())"
      ],
      "execution_count": 74,
      "outputs": []
    },
    {
      "cell_type": "code",
      "metadata": {
        "colab": {
          "base_uri": "https://localhost:8080/"
        },
        "id": "7TVv7Q-jshDw",
        "outputId": "b619d82b-252f-4826-a6ca-a3372db9aa92"
      },
      "source": [
        "weight"
      ],
      "execution_count": 75,
      "outputs": [
        {
          "output_type": "execute_result",
          "data": {
            "text/plain": [
              "tensor(0.7722)"
            ]
          },
          "metadata": {
            "tags": []
          },
          "execution_count": 75
        }
      ]
    },
    {
      "cell_type": "code",
      "metadata": {
        "id": "X1szlGHaszpU"
      },
      "source": [
        "weight = torch.tensor(numpy.random.randn(),requires_grad = True)# open automatic gradient compute weight bias打开自动剃度计算关于权重和偏差"
      ],
      "execution_count": 76,
      "outputs": []
    },
    {
      "cell_type": "code",
      "metadata": {
        "colab": {
          "base_uri": "https://localhost:8080/"
        },
        "id": "N31BzSCFs4iG",
        "outputId": "e9b839c4-33f6-4abf-dde0-a83a11b42b09"
      },
      "source": [
        "weight"
      ],
      "execution_count": 77,
      "outputs": [
        {
          "output_type": "execute_result",
          "data": {
            "text/plain": [
              "tensor(2.4253, requires_grad=True)"
            ]
          },
          "metadata": {
            "tags": []
          },
          "execution_count": 77
        }
      ]
    },
    {
      "cell_type": "code",
      "metadata": {
        "id": "ksjEHEkPs6bx"
      },
      "source": [
        "bias = torch.tensor(numpy.random.randn(),requires_grad=True)#true开关"
      ],
      "execution_count": 78,
      "outputs": []
    },
    {
      "cell_type": "code",
      "metadata": {
        "colab": {
          "base_uri": "https://localhost:8080/"
        },
        "id": "aN5gRbP8thXP",
        "outputId": "d222adab-3807-4c2f-acc6-ce128db3220a"
      },
      "source": [
        "bias"
      ],
      "execution_count": 79,
      "outputs": [
        {
          "output_type": "execute_result",
          "data": {
            "text/plain": [
              "tensor(0.4342, requires_grad=True)"
            ]
          },
          "metadata": {
            "tags": []
          },
          "execution_count": 79
        }
      ]
    },
    {
      "cell_type": "code",
      "metadata": {
        "colab": {
          "base_uri": "https://localhost:8080/"
        },
        "id": "wsiRayvVtj1Q",
        "outputId": "abaeebc5-afe3-4bf1-d22d-e352d4a654f5"
      },
      "source": [
        "print(weight,bias)\n",
        "'''\n",
        "print(weight)\n",
        "print(bias)'''"
      ],
      "execution_count": 80,
      "outputs": [
        {
          "output_type": "stream",
          "text": [
            "tensor(2.4253, requires_grad=True) tensor(0.4342, requires_grad=True)\n"
          ],
          "name": "stdout"
        }
      ]
    },
    {
      "cell_type": "markdown",
      "metadata": {
        "id": "2R7Cknb0tr66"
      },
      "source": [
        "every Tensor has a flag(标志）‘require_grad' increase efficiency \n",
        "grain exclusion of subgraphs from gradient compute允许从梯度计算中细粒度地排除子图\n",
        "如果单个操作的打单个输入需要渐变 gradient ，那么output also gradient渐变\n",
        "反之亦然不变-不变；performed 执行 所有tensors 不需要gradient 的子图中，never backward comput 向后计算。"
      ]
    },
    {
      "cell_type": "code",
      "metadata": {
        "id": "lP071qdqut6u"
      },
      "source": [
        "#define model\n",
        "#Hypothesis 假设 = W * X + b(linear model)\n",
        "def linearRegression(x):\n",
        "  return x * weight + bias"
      ],
      "execution_count": 83,
      "outputs": []
    },
    {
      "cell_type": "code",
      "metadata": {
        "id": "wpZQU5-Tu_Zg"
      },
      "source": [
        "#generate(create) predictions(gass) + compare grounnd truth labels\n",
        "#randomly initialise weight +bias ---> model can't predict properly (right) at the moment\n",
        "predictions = linearRegression(x_data) #x_training的tensor"
      ],
      "execution_count": 86,
      "outputs": []
    },
    {
      "cell_type": "code",
      "metadata": {
        "colab": {
          "base_uri": "https://localhost:8080/"
        },
        "id": "SOSQDeGJvoVo",
        "outputId": "4307b66f-5992-4c9c-e006-75f59a6d7157"
      },
      "source": [
        "print(predictions)"
      ],
      "execution_count": 90,
      "outputs": [
        {
          "output_type": "stream",
          "text": [
            "tensor([ 2.8595,  5.2848, 12.5607, 19.8366, 22.2619, 29.5378, 34.3884, 39.2390,\n",
            "        44.0896, 48.9402], grad_fn=<AddBackward0>)\n"
          ],
          "name": "stdout"
        }
      ]
    },
    {
      "cell_type": "code",
      "metadata": {
        "colab": {
          "base_uri": "https://localhost:8080/"
        },
        "id": "dlKVz44mvvSZ",
        "outputId": "1d9f14e4-d5ec-4df6-e65d-2f794994730b"
      },
      "source": [
        "print(y_data)  #y_data = y_training \n",
        "'''\n",
        "为什么不是呢？那正确的是什么呢？what's the correct answer？\n",
        "'''"
      ],
      "execution_count": 88,
      "outputs": [
        {
          "output_type": "stream",
          "text": [
            "tensor([ 1500,  3500,  7200, 11000, 12500, 18500, 22000, 24500, 28000, 30500])\n"
          ],
          "name": "stdout"
        }
      ]
    },
    {
      "cell_type": "markdown",
      "metadata": {
        "id": "wSQBKrpbwh0s"
      },
      "source": [
        "loss function [先导入数据+改tensor +定函数线回归 + 定损失"
      ]
    },
    {
      "cell_type": "code",
      "metadata": {
        "id": "WuqildTnxdsd"
      },
      "source": [
        "#loss --> use [MSE] mean squared error 均方误差（那应该还有别的）\n",
        "def mse(x1,x2):\n",
        "  diff = x1 - x2\n",
        "  return torch.sum(diff*diff)/diff.numel() #numel 元素个数(12345)->5\n",
        "  "
      ],
      "execution_count": 91,
      "outputs": []
    },
    {
      "cell_type": "code",
      "metadata": {
        "colab": {
          "base_uri": "https://localhost:8080/"
        },
        "id": "jK1pKLrCyEN4",
        "outputId": "192b0912-b64c-4f11-97f8-bb1630e677e0"
      },
      "source": [
        "#comput loss  ** lower better\n",
        "loss = mse(predictions, y_data)  #预测和y训练\n",
        "print(loss)\n",
        "\n",
        "'''\n",
        "PyTorch会自动计算损耗的梯度/导数（关于此处的权重和偏差）\n",
        "gradient/derivative\n",
        "weight and bias\n",
        "想要 automatically compute need 设置 set 'requires_grad = True' 这个话就像开关\n",
        "call 调用 backward()  trigger 触发 automatical compute gradients on chain rule（基于链规则的梯度自动计算）"
      ],
      "execution_count": 95,
      "outputs": [
        {
          "output_type": "stream",
          "text": [
            "tensor(3.4731e+08, grad_fn=<DivBackward0>)\n"
          ],
          "name": "stdout"
        }
      ]
    },
    {
      "cell_type": "code",
      "metadata": {
        "id": "JP0irPGcyT56"
      },
      "source": [
        "#就是计算梯度：compute gradients\n",
        "loss.backward()"
      ],
      "execution_count": 96,
      "outputs": []
    },
    {
      "cell_type": "code",
      "metadata": {
        "colab": {
          "base_uri": "https://localhost:8080/"
        },
        "id": "Z3wCiMmszNkZ",
        "outputId": "59021c57-34fa-43fe-81a3-e4014b36481a"
      },
      "source": [
        "loss"
      ],
      "execution_count": 97,
      "outputs": [
        {
          "output_type": "execute_result",
          "data": {
            "text/plain": [
              "tensor(3.4731e+08, grad_fn=<DivBackward0>)"
            ]
          },
          "metadata": {
            "tags": []
          },
          "execution_count": 97
        }
      ]
    },
    {
      "cell_type": "code",
      "metadata": {
        "colab": {
          "base_uri": "https://localhost:8080/"
        },
        "id": "AQYCIcDozR0H",
        "outputId": "d4cc1ec1-c5c9-4364-a957-f83301726a17"
      },
      "source": [
        "# after backward (倒推法？倒退)向后传递后, store gradients in tensors(involved 相关) ' .grad ' property性能属性 \n",
        "print(weight)"
      ],
      "execution_count": 98,
      "outputs": [
        {
          "output_type": "stream",
          "text": [
            "tensor(2.4253, requires_grad=True)\n"
          ],
          "name": "stdout"
        }
      ]
    },
    {
      "cell_type": "code",
      "metadata": {
        "colab": {
          "base_uri": "https://localhost:8080/"
        },
        "id": "pYZsBwsrz8mK",
        "outputId": "7257e569-5b6a-483e-d6e1-f6e9e9f9e96f"
      },
      "source": [
        "print(weight.grad)#重量梯度"
      ],
      "execution_count": 99,
      "outputs": [
        {
          "output_type": "stream",
          "text": [
            "tensor(-455465.7188)\n"
          ],
          "name": "stdout"
        }
      ]
    },
    {
      "cell_type": "code",
      "metadata": {
        "colab": {
          "base_uri": "https://localhost:8080/"
        },
        "id": "AM3TWnjdz_jW",
        "outputId": "1477e2d0-23e4-4a8f-b521-eb4c88bda3e7"
      },
      "source": [
        "print()"
      ],
      "execution_count": 100,
      "outputs": [
        {
          "output_type": "stream",
          "text": [
            "\n"
          ],
          "name": "stdout"
        }
      ]
    },
    {
      "cell_type": "code",
      "metadata": {
        "colab": {
          "base_uri": "https://localhost:8080/"
        },
        "id": "2yAXGEAX0AyT",
        "outputId": "f28a64d1-98c2-489a-85a2-e5864404977b"
      },
      "source": [
        "# gradient for bias 梯度偏差\n",
        "print(bias)\n",
        "print(bias.grad)"
      ],
      "execution_count": 101,
      "outputs": [
        {
          "output_type": "stream",
          "text": [
            "tensor(0.4342, requires_grad=True)\n",
            "tensor(-31788.2012)\n"
          ],
          "name": "stdout"
        }
      ]
    },
    {
      "cell_type": "markdown",
      "metadata": {
        "id": "fSyNJx7L0Qo1"
      },
      "source": [
        "adjust weight + bias use gradients 调参 用梯度\n",
        "reset gradients before next forward pass(向前通过) because PyTorch accumulates gradients(累积梯度/渐变）"
      ]
    },
    {
      "cell_type": "code",
      "metadata": {
        "colab": {
          "base_uri": "https://localhost:8080/"
        },
        "id": "uZvpJYyb0sAe",
        "outputId": "d16bbd0e-17ac-481c-82d3-872f7039855e"
      },
      "source": [
        "'''\n",
        "don't want update operation though gradient\n",
        "in '【torch.no_grad()】' don't automatic gradient (stop)【requires_grad = True】（start）\n",
        "le-5 == learning rate （this part)\n",
        "'''\n",
        "with torch.no_grad():\n",
        "  weight -= weight.grad * 1e-5 # 重量梯度  【a *=2(乘以 a=a*2)】 [weight = weight -weight.grad * 1e-5]【Wnew = Wold -lr * Loss'/w'】\n",
        "  bias -= bias * 1e-5  # next reset the gradients (don't forget) #是一e－5\n",
        "  weight.grad.zero_()\n",
        "  bias.grad.zero_()\n",
        "print(weight)\n",
        "print(bias)\n"
      ],
      "execution_count": 110,
      "outputs": [
        {
          "output_type": "stream",
          "text": [
            "tensor(6.9800, requires_grad=True)\n",
            "tensor(0.4342, requires_grad=True)\n"
          ],
          "name": "stdout"
        }
      ]
    },
    {
      "cell_type": "code",
      "metadata": {
        "colab": {
          "base_uri": "https://localhost:8080/"
        },
        "id": "NamNMMbj21xt",
        "outputId": "1ad22cd8-905f-454a-aabd-86adeeb449d2"
      },
      "source": [
        "weight"
      ],
      "execution_count": 106,
      "outputs": [
        {
          "output_type": "execute_result",
          "data": {
            "text/plain": [
              "tensor(6.9800, requires_grad=True)"
            ]
          },
          "metadata": {
            "tags": []
          },
          "execution_count": 106
        }
      ]
    },
    {
      "cell_type": "code",
      "metadata": {
        "colab": {
          "base_uri": "https://localhost:8080/"
        },
        "id": "jMlbqlFf3g7Y",
        "outputId": "3fbe7f1a-6d07-4bd0-ac22-f4dbeb26800c"
      },
      "source": [
        "bias"
      ],
      "execution_count": 107,
      "outputs": [
        {
          "output_type": "execute_result",
          "data": {
            "text/plain": [
              "tensor(0.4342, requires_grad=True)"
            ]
          },
          "metadata": {
            "tags": []
          },
          "execution_count": 107
        }
      ]
    },
    {
      "cell_type": "code",
      "metadata": {
        "colab": {
          "base_uri": "https://localhost:8080/"
        },
        "id": "pVUcfikt3ntB",
        "outputId": "607972c0-e219-49d9-c3b6-f875ca53bd17"
      },
      "source": [
        "bias"
      ],
      "execution_count": 109,
      "outputs": [
        {
          "output_type": "execute_result",
          "data": {
            "text/plain": [
              "tensor(0.4342, requires_grad=True)"
            ]
          },
          "metadata": {
            "tags": []
          },
          "execution_count": 109
        }
      ]
    },
    {
      "cell_type": "code",
      "metadata": {
        "colab": {
          "base_uri": "https://localhost:8080/"
        },
        "id": "M_7XdpNI3udS",
        "outputId": "115cc081-3f2c-4268-9017-b6978a3385fc"
      },
      "source": [
        "print(weight.grad, bias.grad)\n"
      ],
      "execution_count": 112,
      "outputs": [
        {
          "output_type": "stream",
          "text": [
            "tensor(0.) tensor(0.)\n"
          ],
          "name": "stdout"
        }
      ]
    },
    {
      "cell_type": "code",
      "metadata": {
        "colab": {
          "base_uri": "https://localhost:8080/"
        },
        "id": "eD8RE_ed36lP",
        "outputId": "ed224f46-4534-4d1a-a552-a680a6d9d914"
      },
      "source": [
        "# predict + compute loss again  这回loss will lower (weights +biases)  【变成了重量梯度？'】\n",
        "predictions = linearRegression(x_data)\n",
        "loss = mse(predictions, y_data)\n",
        "print(predictions)\n",
        "print(y_data)\n",
        "print(loss)   #3.4731e+08, 低了点"
      ],
      "execution_count": 116,
      "outputs": [
        {
          "output_type": "stream",
          "text": [
            "tensor([  7.4141,  14.3941,  35.3340,  56.2738,  63.2538,  84.1936,  98.1536,\n",
            "        112.1135, 126.0734, 140.0333], grad_fn=<AddBackward0>)\n",
            "tensor([ 1500,  3500,  7200, 11000, 12500, 18500, 22000, 24500, 28000, 30500])\n",
            "tensor(3.4524e+08, grad_fn=<DivBackward0>)\n"
          ],
          "name": "stdout"
        }
      ]
    },
    {
      "cell_type": "markdown",
      "metadata": {
        "id": "LuNPXy6l5IBd"
      },
      "source": [
        "multiple epochs 【多时期】（循环起来）loop"
      ]
    },
    {
      "cell_type": "code",
      "metadata": {
        "id": "zfCvd9cb5P3w"
      },
      "source": [
        ""
      ],
      "execution_count": null,
      "outputs": []
    }
  ]
}