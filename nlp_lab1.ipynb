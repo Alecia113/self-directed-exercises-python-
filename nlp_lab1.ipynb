{
  "nbformat": 4,
  "nbformat_minor": 0,
  "metadata": {
    "colab": {
      "name": "nlp.lab1.ipynb",
      "provenance": [],
      "collapsed_sections": [],
      "authorship_tag": "ABX9TyOpppqaQgS4ISPOdZitZKvA",
      "include_colab_link": true
    },
    "kernelspec": {
      "name": "python3",
      "display_name": "Python 3"
    }
  },
  "cells": [
    {
      "cell_type": "markdown",
      "metadata": {
        "id": "view-in-github",
        "colab_type": "text"
      },
      "source": [
        "<a href=\"https://colab.research.google.com/github/Alecia113/self-directed-exercises-python-/blob/NLP/nlp_lab1.ipynb\" target=\"_parent\"><img src=\"https://colab.research.google.com/assets/colab-badge.svg\" alt=\"Open In Colab\"/></a>"
      ]
    },
    {
      "cell_type": "markdown",
      "metadata": {
        "id": "qjvhbt84fF_w"
      },
      "source": [
        "# **PyTorch**"
      ]
    },
    {
      "cell_type": "markdown",
      "metadata": {
        "id": "-E1DTgW9V-f_"
      },
      "source": [
        "**Tensor张量**"
      ]
    },
    {
      "cell_type": "code",
      "metadata": {
        "id": "ejx4WI1SSd8l"
      },
      "source": [
        "#Tensor 张量 computation graph + automatic differentiation \\计算图和自动微分\n",
        "'''\n",
        "nerual networks\n",
        "  nd-tensor instance \\调用 nd——》n dimensional\n",
        "attributes\n",
        "  1:rank 等级 dimensions numbers(维数):rank-2 tensor == 2d-tensor\n",
        "  2：Axes 轴 specific demensions(特定尺寸) Axes == dimensions(number) 轴数等于尺寸数（维度数）\n",
        "              axes length == how number elements running along this axis (轴长＝沿该轴延伸的元素数)\n",
        "  3： shape 形状 axis length (formed) [由每个轴的长度形成]\n",
        "              eg:shape(1,2)== 2d-tensor :first axis = 1(length) second axis = 2 [2d张量，第一轴长度1，第二轴长度2]\n",
        "              scalar(标量); vector(向量) ;matrix（矩阵）;cube（立方骰子）\n",
        " 【代码】key properties 关键属性\n",
        "    torch.dtype: torch.float32（数据类型）\n",
        "    torch.device:CPU/CUDA(GPU)\\(一个对象在其上；或将要分配的torch.Tensor的设备【火炬张量】)\n",
        "    torch.layout: memory layout (torch.Tensor 内存布局对象)\n",
        "  \n",
        "              '''\n"
      ],
      "execution_count": null,
      "outputs": []
    },
    {
      "cell_type": "markdown",
      "metadata": {
        "id": "uF-CKHn2SsvI"
      },
      "source": [
        "**Computational graph and automatic differentiation 计算图和自动微分**"
      ]
    },
    {
      "cell_type": "code",
      "metadata": {
        "id": "2OlW07D3WL6c"
      },
      "source": [
        "'''\n",
        "  （有向无环 directed acyclic) 计算图 computational graphs to draw some doing functional about tensors in neural networks\n",
        "  PyTorch使用（有向无环）计算图来绘制应用于神经网络内部张量的功能操作，从而计算出用于网络优化的导数\n",
        "   use in net optimization : by  calculate derivatives \n",
        "In graphs (🐰)\n",
        "  nodes == tensors\n",
        "  eages == functions: + * [ output tensors from input tensors(入到出函数 求和×)]\n",
        "  computational graph == dynamic computational graph\n",
        "  当在神经网络的前向传递过程中创建操作时，PyTorch会即时生成计算图，称为动态计算图\n",
        "  '''"
      ],
      "execution_count": null,
      "outputs": []
    },
    {
      "cell_type": "markdown",
      "metadata": {
        "id": "9reBdCVKX45k"
      },
      "source": [
        "# **programming**"
      ]
    },
    {
      "cell_type": "markdown",
      "metadata": {
        "id": "hJBatq9rX8uX"
      },
      "source": [
        "**importing PyTorch library**[beginning]\n"
      ]
    },
    {
      "cell_type": "code",
      "metadata": {
        "colab": {
          "base_uri": "https://localhost:8080/"
        },
        "id": "g5DdimlFYBpH",
        "outputId": "54670de3-e76b-4cef-db4e-bb7ff1702289"
      },
      "source": [
        "import torch \n",
        "print(torch.__version__)"
      ],
      "execution_count": 35,
      "outputs": [
        {
          "output_type": "stream",
          "text": [
            "1.7.1+cu101\n"
          ],
          "name": "stdout"
        }
      ]
    },
    {
      "cell_type": "markdown",
      "metadata": {
        "id": "f3J4U18JYQWM"
      },
      "source": [
        "**create tensors ~~numerical data (数值数据）**"
      ]
    },
    {
      "cell_type": "markdown",
      "metadata": {
        "id": "hWi1655BaPj1"
      },
      "source": [
        "数scalar"
      ]
    },
    {
      "cell_type": "code",
      "metadata": {
        "colab": {
          "base_uri": "https://localhost:8080/"
        },
        "id": "Oe8GwttbYyQo",
        "outputId": "32f96f6d-2155-4ecb-ce6f-67c27cfd0dbf"
      },
      "source": [
        "import numpy as np\n",
        "\n",
        "data = torch.tensor(1)# scalar (0 rank)[0demensions]\n",
        "print(data.shape)"
      ],
      "execution_count": 36,
      "outputs": [
        {
          "output_type": "stream",
          "text": [
            "torch.Size([])\n"
          ],
          "name": "stdout"
        }
      ]
    },
    {
      "cell_type": "code",
      "metadata": {
        "colab": {
          "base_uri": "https://localhost:8080/"
        },
        "id": "x8iVR4i3a8ym",
        "outputId": "2cc8c170-3496-4a13-8cc9-9b65c67c6fc1"
      },
      "source": [
        "data#tensor(1)"
      ],
      "execution_count": 3,
      "outputs": [
        {
          "output_type": "execute_result",
          "data": {
            "text/plain": [
              "tensor(1)"
            ]
          },
          "metadata": {
            "tags": []
          },
          "execution_count": 3
        }
      ]
    },
    {
      "cell_type": "markdown",
      "metadata": {
        "id": "hGvqntinaTEK"
      },
      "source": [
        "向量"
      ]
    },
    {
      "cell_type": "code",
      "metadata": {
        "colab": {
          "base_uri": "https://localhost:8080/"
        },
        "id": "A7MEig7yZgQu",
        "outputId": "fe313e30-0fb0-40b5-f895-cc15a4eb31a3"
      },
      "source": [
        "data = np.array([1,2]) # Vector (1 rank~~~1 demensions)\n",
        "data = torch.Tensor(data)\n",
        "print(data.shape)"
      ],
      "execution_count": null,
      "outputs": [
        {
          "output_type": "stream",
          "text": [
            "torch.Size([2])\n"
          ],
          "name": "stdout"
        }
      ]
    },
    {
      "cell_type": "code",
      "metadata": {
        "colab": {
          "base_uri": "https://localhost:8080/"
        },
        "id": "cCYEBqkUa0_Q",
        "outputId": "b25d5722-12b7-4ab0-aca5-3792760c47fd"
      },
      "source": [
        "data #tensor([1., 2.])"
      ],
      "execution_count": null,
      "outputs": [
        {
          "output_type": "execute_result",
          "data": {
            "text/plain": [
              "tensor([1., 2.])"
            ]
          },
          "metadata": {
            "tags": []
          },
          "execution_count": 7
        }
      ]
    },
    {
      "cell_type": "markdown",
      "metadata": {
        "id": "G7jm5pDMaU1O"
      },
      "source": [
        "Tensor he tensor 测试"
      ]
    },
    {
      "cell_type": "code",
      "metadata": {
        "colab": {
          "base_uri": "https://localhost:8080/"
        },
        "id": "zLPBuWysZ45i",
        "outputId": "1d172d58-f1c2-44d0-a304-04a4e8a039b8"
      },
      "source": [
        "data = np.array([1,2])\n",
        "data = torch.tensor(data)#大小写\n",
        "print(data.shape)"
      ],
      "execution_count": null,
      "outputs": [
        {
          "output_type": "stream",
          "text": [
            "torch.Size([2])\n"
          ],
          "name": "stdout"
        }
      ]
    },
    {
      "cell_type": "code",
      "metadata": {
        "colab": {
          "base_uri": "https://localhost:8080/"
        },
        "id": "KUuPIBPwaveG",
        "outputId": "be185bf2-47fa-402f-feb4-655512f6da7c"
      },
      "source": [
        "data#tensor([1, 2])"
      ],
      "execution_count": null,
      "outputs": [
        {
          "output_type": "execute_result",
          "data": {
            "text/plain": [
              "tensor([1, 2])"
            ]
          },
          "metadata": {
            "tags": []
          },
          "execution_count": 9
        }
      ]
    },
    {
      "cell_type": "markdown",
      "metadata": {
        "id": "VpN9wudoaL2p"
      },
      "source": [
        "矩阵 matrx"
      ]
    },
    {
      "cell_type": "code",
      "metadata": {
        "colab": {
          "base_uri": "https://localhost:8080/"
        },
        "id": "HCFKMutmadi9",
        "outputId": "9d1166b4-e5c2-4989-ab21-89cf3058a43b"
      },
      "source": [
        "data = np.ones((2,2,))# matrix (2rank) 2D 注意括号\n",
        "data = torch.Tensor(data) #大写\n",
        "print(data.shape)"
      ],
      "execution_count": null,
      "outputs": [
        {
          "output_type": "stream",
          "text": [
            "torch.Size([2, 2])\n"
          ],
          "name": "stdout"
        }
      ]
    },
    {
      "cell_type": "code",
      "metadata": {
        "colab": {
          "base_uri": "https://localhost:8080/"
        },
        "id": "QD8puf23atsD",
        "outputId": "c4a9896a-fc84-4e22-810f-296b189b6a6c"
      },
      "source": [
        "data\n",
        "'''tensor([[1., 1.],\n",
        "          [1., 1.]])\n",
        "        '''"
      ],
      "execution_count": null,
      "outputs": [
        {
          "output_type": "execute_result",
          "data": {
            "text/plain": [
              "tensor([[1., 1.],\n",
              "        [1., 1.]])"
            ]
          },
          "metadata": {
            "tags": []
          },
          "execution_count": 11
        }
      ]
    },
    {
      "cell_type": "markdown",
      "metadata": {
        "id": "c7a5z-OBbNJ3"
      },
      "source": [
        "块：cube"
      ]
    },
    {
      "cell_type": "code",
      "metadata": {
        "colab": {
          "base_uri": "https://localhost:8080/"
        },
        "id": "De60wuyjbQ0I",
        "outputId": "855a4680-4aa7-4fc6-a9ee-dfc6c5af1797"
      },
      "source": [
        "data = np.ones((2,2,2))# Cube (3 rank = 3D 括号)\n",
        "data = torch.Tensor(data)#还得让张量跑一下\n",
        "print(data.shape)"
      ],
      "execution_count": null,
      "outputs": [
        {
          "output_type": "stream",
          "text": [
            "torch.Size([2, 2, 2])\n"
          ],
          "name": "stdout"
        }
      ]
    },
    {
      "cell_type": "code",
      "metadata": {
        "colab": {
          "base_uri": "https://localhost:8080/"
        },
        "id": "H7CWx6UIblm7",
        "outputId": "69298ed3-8027-40a5-c60c-b2d25bfecce1"
      },
      "source": [
        "data\n",
        "'''\n",
        "tensor([[[1., 1.],\n",
        "         [1., 1.]],\n",
        "\n",
        "        [[1., 1.],\n",
        "         [1., 1.]]])\n",
        "         '''"
      ],
      "execution_count": null,
      "outputs": [
        {
          "output_type": "execute_result",
          "data": {
            "text/plain": [
              "tensor([[[1., 1.],\n",
              "         [1., 1.]],\n",
              "\n",
              "        [[1., 1.],\n",
              "         [1., 1.]]])"
            ]
          },
          "metadata": {
            "tags": []
          },
          "execution_count": 14
        }
      ]
    },
    {
      "cell_type": "markdown",
      "metadata": {
        "id": "9Wz5_eU5bqGN"
      },
      "source": [
        "块向量"
      ]
    },
    {
      "cell_type": "code",
      "metadata": {
        "colab": {
          "base_uri": "https://localhost:8080/"
        },
        "id": "dt01Cz4_bwcX",
        "outputId": "76a33eb7-f020-4a48-d264-a735075ecfa5"
      },
      "source": [
        "data = np.ones((2,2,2,2,))#都是one  vector of cubes  4rank 4d\n",
        "data = torch.Tensor(data)\n",
        "print(data.shape)"
      ],
      "execution_count": null,
      "outputs": [
        {
          "output_type": "stream",
          "text": [
            "torch.Size([2, 2, 2, 2])\n"
          ],
          "name": "stdout"
        }
      ]
    },
    {
      "cell_type": "code",
      "metadata": {
        "colab": {
          "base_uri": "https://localhost:8080/"
        },
        "id": "dqC4y9qvb_lm",
        "outputId": "1c406008-a0ae-4a06-c83d-fdeb45d20a7b"
      },
      "source": [
        "data #有点像国王下棋盘那种feel\n",
        "'''\n",
        "tensor([[[[1., 1.],\n",
        "          [1., 1.]],\n",
        "\n",
        "         [[1., 1.],\n",
        "          [1., 1.]]],\n",
        "\n",
        "\n",
        "        [[[1., 1.],\n",
        "          [1., 1.]],\n",
        "\n",
        "         [[1., 1.],\n",
        "          [1., 1.]]]])\n",
        "          '''"
      ],
      "execution_count": null,
      "outputs": [
        {
          "output_type": "execute_result",
          "data": {
            "text/plain": [
              "tensor([[[[1., 1.],\n",
              "          [1., 1.]],\n",
              "\n",
              "         [[1., 1.],\n",
              "          [1., 1.]]],\n",
              "\n",
              "\n",
              "        [[[1., 1.],\n",
              "          [1., 1.]],\n",
              "\n",
              "         [[1., 1.],\n",
              "          [1., 1.]]]])"
            ]
          },
          "metadata": {
            "tags": []
          },
          "execution_count": 17
        }
      ]
    },
    {
      "cell_type": "code",
      "metadata": {
        "id": "KYv_QirCcOFQ"
      },
      "source": [
        "#注意1：大小写的t、、2：T: constructor ( bulid function)   t: factory function(construct+return to caller)\n",
        "'''\n",
        "t: 它不仅构造了torch.Tensor 还反馈了他们给调用者\n",
        "T： can return empty tensor don't use input special data but t : must input data\n",
        "\n",
        "'''"
      ],
      "execution_count": null,
      "outputs": []
    },
    {
      "cell_type": "code",
      "metadata": {
        "colab": {
          "base_uri": "https://localhost:8080/"
        },
        "id": "QVQLA3qbdk-H",
        "outputId": "136ff964-9d6b-4100-8c46-2798c805fd9e"
      },
      "source": [
        "data = torch.Tensor()#一个数就不需要ones了大于3都需要2 是array\n",
        "print(data)"
      ],
      "execution_count": null,
      "outputs": [
        {
          "output_type": "stream",
          "text": [
            "tensor([])\n"
          ],
          "name": "stdout"
        }
      ]
    },
    {
      "cell_type": "code",
      "metadata": {
        "id": "IhEDlBa4eEl6"
      },
      "source": [
        "'''data = torch.tensor()\n",
        "print(data)\n",
        "'''\n",
        "#TypeError: tensor() missing 1 required positional arguments: \"data\""
      ],
      "execution_count": null,
      "outputs": []
    },
    {
      "cell_type": "markdown",
      "metadata": {
        "id": "L65HJiZ-ee2p"
      },
      "source": [
        "数据类型"
      ]
    },
    {
      "cell_type": "code",
      "metadata": {
        "id": "fGqF_KV-ehu_"
      },
      "source": [
        "'''\n",
        "  torch.Tensor default dtype \"float32\" \n",
        "  torch.tensor() dtype == input data dtype #传入的数据（类型推断）\n",
        "  example\n",
        "  '''"
      ],
      "execution_count": null,
      "outputs": []
    },
    {
      "cell_type": "code",
      "metadata": {
        "id": "-BGL0Frke3SL",
        "colab": {
          "base_uri": "https://localhost:8080/"
        },
        "outputId": "b65b83c2-2d8a-4815-a5b7-67477aa62288"
      },
      "source": [
        "data = np.array([1,2]) #数组int64\n",
        "print(data.dtype)"
      ],
      "execution_count": 5,
      "outputs": [
        {
          "output_type": "stream",
          "text": [
            "int64\n"
          ],
          "name": "stdout"
        }
      ]
    },
    {
      "cell_type": "code",
      "metadata": {
        "colab": {
          "base_uri": "https://localhost:8080/"
        },
        "id": "AlIpkKFzRnkD",
        "outputId": "6994f48b-ea16-495d-a954-d82da0e012de"
      },
      "source": [
        "data_T = torch.Tensor(data)  #是之前传入的\n",
        "print(data_T)"
      ],
      "execution_count": 6,
      "outputs": [
        {
          "output_type": "stream",
          "text": [
            "tensor([1., 2.])\n"
          ],
          "name": "stdout"
        }
      ]
    },
    {
      "cell_type": "code",
      "metadata": {
        "colab": {
          "base_uri": "https://localhost:8080/"
        },
        "id": "mT2ZPS_-RuUE",
        "outputId": "159a9ede-6246-49d5-cf7a-489f2da4069c"
      },
      "source": [
        "print(data_T.dtype) #默认是float32"
      ],
      "execution_count": 7,
      "outputs": [
        {
          "output_type": "stream",
          "text": [
            "torch.float32\n"
          ],
          "name": "stdout"
        }
      ]
    },
    {
      "cell_type": "code",
      "metadata": {
        "colab": {
          "base_uri": "https://localhost:8080/"
        },
        "id": "d6y6-NihR-Si",
        "outputId": "ebdf0a55-46f9-4b60-f7bd-cd6ba9d44669"
      },
      "source": [
        "print(data_T.dtype== torch.get_default_dtype())# default 默认 "
      ],
      "execution_count": 8,
      "outputs": [
        {
          "output_type": "stream",
          "text": [
            "True\n"
          ],
          "name": "stdout"
        }
      ]
    },
    {
      "cell_type": "code",
      "metadata": {
        "colab": {
          "base_uri": "https://localhost:8080/"
        },
        "id": "5elrBGrvlgQs",
        "outputId": "98a3d348-45b4-4410-ba29-48cc1d3a1fed"
      },
      "source": [
        "print()"
      ],
      "execution_count": 9,
      "outputs": [
        {
          "output_type": "stream",
          "text": [
            "\n"
          ],
          "name": "stdout"
        }
      ]
    },
    {
      "cell_type": "code",
      "metadata": {
        "id": "4zZYBpvKloeE"
      },
      "source": [
        "# change use 'torch.set_default_dtype(dtype)"
      ],
      "execution_count": null,
      "outputs": []
    },
    {
      "cell_type": "code",
      "metadata": {
        "id": "60DWb0XLmOc8"
      },
      "source": [
        "data_t = torch.tensor(data)"
      ],
      "execution_count": 10,
      "outputs": []
    },
    {
      "cell_type": "code",
      "metadata": {
        "colab": {
          "base_uri": "https://localhost:8080/"
        },
        "id": "rdjRluZtmViT",
        "outputId": "b1ad092a-22b6-4057-92d1-fc0906342e42"
      },
      "source": [
        "data_t"
      ],
      "execution_count": 11,
      "outputs": [
        {
          "output_type": "execute_result",
          "data": {
            "text/plain": [
              "tensor([1, 2])"
            ]
          },
          "metadata": {
            "tags": []
          },
          "execution_count": 11
        }
      ]
    },
    {
      "cell_type": "code",
      "metadata": {
        "colab": {
          "base_uri": "https://localhost:8080/"
        },
        "id": "RRGrLkyemYA_",
        "outputId": "ee61fd5f-236b-4a43-cd45-23d197cc9fb7"
      },
      "source": [
        "print(data_t)"
      ],
      "execution_count": 12,
      "outputs": [
        {
          "output_type": "stream",
          "text": [
            "tensor([1, 2])\n"
          ],
          "name": "stdout"
        }
      ]
    },
    {
      "cell_type": "code",
      "metadata": {
        "colab": {
          "base_uri": "https://localhost:8080/"
        },
        "id": "Dl4R7GYjmaTV",
        "outputId": "3188737d-699f-4646-ef99-2ed51ea91e27"
      },
      "source": [
        "print(data_t.dtype)"
      ],
      "execution_count": 13,
      "outputs": [
        {
          "output_type": "stream",
          "text": [
            "torch.int64\n"
          ],
          "name": "stdout"
        }
      ]
    },
    {
      "cell_type": "code",
      "metadata": {
        "id": "sIJPnmyImdPJ"
      },
      "source": [
        "#specify datatype (指定) 'torch.tensor()\n",
        "data_t = torch.tensor(data, dtype=torch.float64)#(tensou) 就是在后面多加个参数"
      ],
      "execution_count": 19,
      "outputs": []
    },
    {
      "cell_type": "code",
      "metadata": {
        "colab": {
          "base_uri": "https://localhost:8080/"
        },
        "id": "0VNDpwy7mzY9",
        "outputId": "88b93faa-d151-4624-9366-b29dadc3875d"
      },
      "source": [
        "data_t.dtype"
      ],
      "execution_count": 20,
      "outputs": [
        {
          "output_type": "execute_result",
          "data": {
            "text/plain": [
              "torch.float64"
            ]
          },
          "metadata": {
            "tags": []
          },
          "execution_count": 20
        }
      ]
    },
    {
      "cell_type": "code",
      "metadata": {
        "colab": {
          "base_uri": "https://localhost:8080/"
        },
        "id": "_7pLSPLtm_fv",
        "outputId": "80d12600-a056-4b1f-a476-cd76d0f6d57e"
      },
      "source": [
        "data_t"
      ],
      "execution_count": 21,
      "outputs": [
        {
          "output_type": "execute_result",
          "data": {
            "text/plain": [
              "tensor([1., 2.], dtype=torch.float64)"
            ]
          },
          "metadata": {
            "tags": []
          },
          "execution_count": 21
        }
      ]
    },
    {
      "cell_type": "code",
      "metadata": {
        "id": "GUGByuPznBXT"
      },
      "source": [
        "#期望expect 使用torch.Tensor + torch.tensor  or // torch.as_tensor  + torch.from_numpy"
      ],
      "execution_count": 22,
      "outputs": []
    },
    {
      "cell_type": "code",
      "metadata": {
        "id": "f6NEoZN3nTA8"
      },
      "source": [
        "#创建张量tensor 'torch.as_tensor'\n",
        "data = np.ones((2,2,2))"
      ],
      "execution_count": 23,
      "outputs": []
    },
    {
      "cell_type": "code",
      "metadata": {
        "colab": {
          "base_uri": "https://localhost:8080/"
        },
        "id": "zxHNumfNnclj",
        "outputId": "8fee8739-f5e4-4f3f-8c94-f0d73aa1b4d8"
      },
      "source": [
        "data"
      ],
      "execution_count": 24,
      "outputs": [
        {
          "output_type": "execute_result",
          "data": {
            "text/plain": [
              "array([[[1., 1.],\n",
              "        [1., 1.]],\n",
              "\n",
              "       [[1., 1.],\n",
              "        [1., 1.]]])"
            ]
          },
          "metadata": {
            "tags": []
          },
          "execution_count": 24
        }
      ]
    },
    {
      "cell_type": "code",
      "metadata": {
        "id": "zj1LnPvKnc6L"
      },
      "source": [
        "data = torch.as_tensor(data)"
      ],
      "execution_count": 25,
      "outputs": []
    },
    {
      "cell_type": "code",
      "metadata": {
        "colab": {
          "base_uri": "https://localhost:8080/"
        },
        "id": "Je1z5elGnhw0",
        "outputId": "7c56515b-a4ea-42a4-8f31-dbe8f895b833"
      },
      "source": [
        "data"
      ],
      "execution_count": 26,
      "outputs": [
        {
          "output_type": "execute_result",
          "data": {
            "text/plain": [
              "tensor([[[1., 1.],\n",
              "         [1., 1.]],\n",
              "\n",
              "        [[1., 1.],\n",
              "         [1., 1.]]], dtype=torch.float64)"
            ]
          },
          "metadata": {
            "tags": []
          },
          "execution_count": 26
        }
      ]
    },
    {
      "cell_type": "code",
      "metadata": {
        "colab": {
          "base_uri": "https://localhost:8080/"
        },
        "id": "Fq_i6O9Nnjjj",
        "outputId": "47aaa2c1-4ad4-4677-881b-096a3231ca21"
      },
      "source": [
        "print(data.shape)"
      ],
      "execution_count": 27,
      "outputs": [
        {
          "output_type": "stream",
          "text": [
            "torch.Size([2, 2, 2])\n"
          ],
          "name": "stdout"
        }
      ]
    },
    {
      "cell_type": "code",
      "metadata": {
        "id": "hA0Rnm01nma8"
      },
      "source": [
        "# 创建张量 create tensor 'torch.form_numpy\n",
        "data = np.ones((2,2,2,2))"
      ],
      "execution_count": 39,
      "outputs": []
    },
    {
      "cell_type": "code",
      "metadata": {
        "colab": {
          "base_uri": "https://localhost:8080/"
        },
        "id": "M0njEC9bn7CS",
        "outputId": "16e04344-e232-40ff-f6d3-6bd3d397fa34"
      },
      "source": [
        "data"
      ],
      "execution_count": 40,
      "outputs": [
        {
          "output_type": "execute_result",
          "data": {
            "text/plain": [
              "array([[[[1., 1.],\n",
              "         [1., 1.]],\n",
              "\n",
              "        [[1., 1.],\n",
              "         [1., 1.]]],\n",
              "\n",
              "\n",
              "       [[[1., 1.],\n",
              "         [1., 1.]],\n",
              "\n",
              "        [[1., 1.],\n",
              "         [1., 1.]]]])"
            ]
          },
          "metadata": {
            "tags": []
          },
          "execution_count": 40
        }
      ]
    },
    {
      "cell_type": "code",
      "metadata": {
        "id": "jOhzJmj9n8zH"
      },
      "source": [
        "data = torch.from_numpy(data) #from form  \n",
        "'''为啥要建张量？'''"
      ],
      "execution_count": 41,
      "outputs": []
    },
    {
      "cell_type": "code",
      "metadata": {
        "colab": {
          "base_uri": "https://localhost:8080/"
        },
        "id": "pbhD3T0koSkU",
        "outputId": "8d9b8f3e-cf62-41bb-d0df-1657508976c3"
      },
      "source": [
        "data"
      ],
      "execution_count": 42,
      "outputs": [
        {
          "output_type": "execute_result",
          "data": {
            "text/plain": [
              "tensor([[[[1., 1.],\n",
              "          [1., 1.]],\n",
              "\n",
              "         [[1., 1.],\n",
              "          [1., 1.]]],\n",
              "\n",
              "\n",
              "        [[[1., 1.],\n",
              "          [1., 1.]],\n",
              "\n",
              "         [[1., 1.],\n",
              "          [1., 1.]]]], dtype=torch.float64)"
            ]
          },
          "metadata": {
            "tags": []
          },
          "execution_count": 42
        }
      ]
    },
    {
      "cell_type": "code",
      "metadata": {
        "colab": {
          "base_uri": "https://localhost:8080/"
        },
        "id": "14G6-iiHoWAS",
        "outputId": "e0d271d7-dac5-4cd3-f602-ec641cc69bc6"
      },
      "source": [
        "print(data.shape)"
      ],
      "execution_count": 43,
      "outputs": [
        {
          "output_type": "stream",
          "text": [
            "torch.Size([2, 2, 2, 2])\n"
          ],
          "name": "stdout"
        }
      ]
    },
    {
      "cell_type": "markdown",
      "metadata": {
        "id": "h-2gPnorollO"
      },
      "source": [
        "factory functions  to create tensors without data"
      ]
    },
    {
      "cell_type": "code",
      "metadata": {
        "colab": {
          "base_uri": "https://localhost:8080/"
        },
        "id": "gSLAgULKoxIl",
        "outputId": "d5950856-0ee2-46f1-bbbc-a588905cee49"
      },
      "source": [
        "torch.eye(2)  #单位矩阵 identity matrix"
      ],
      "execution_count": 46,
      "outputs": [
        {
          "output_type": "execute_result",
          "data": {
            "text/plain": [
              "tensor([[1., 0.],\n",
              "        [0., 1.]])"
            ]
          },
          "metadata": {
            "tags": []
          },
          "execution_count": 46
        }
      ]
    },
    {
      "cell_type": "code",
      "metadata": {
        "colab": {
          "base_uri": "https://localhost:8080/"
        },
        "id": "NbxiaxhGozw1",
        "outputId": "162d6a3d-9f7b-4b8e-cdec-b0437799022e"
      },
      "source": [
        "torch.zeros(2,2)# all zeros"
      ],
      "execution_count": 47,
      "outputs": [
        {
          "output_type": "execute_result",
          "data": {
            "text/plain": [
              "tensor([[0., 0.],\n",
              "        [0., 0.]])"
            ]
          },
          "metadata": {
            "tags": []
          },
          "execution_count": 47
        }
      ]
    },
    {
      "cell_type": "code",
      "metadata": {
        "colab": {
          "base_uri": "https://localhost:8080/"
        },
        "id": "RomWzef2pCiF",
        "outputId": "c99c2600-aa90-4489-d6ab-20e2484d073a"
      },
      "source": [
        "torch.zeros(2,2,2)"
      ],
      "execution_count": 48,
      "outputs": [
        {
          "output_type": "execute_result",
          "data": {
            "text/plain": [
              "tensor([[[0., 0.],\n",
              "         [0., 0.]],\n",
              "\n",
              "        [[0., 0.],\n",
              "         [0., 0.]]])"
            ]
          },
          "metadata": {
            "tags": []
          },
          "execution_count": 48
        }
      ]
    },
    {
      "cell_type": "code",
      "metadata": {
        "colab": {
          "base_uri": "https://localhost:8080/"
        },
        "id": "sTziRj9ppGM9",
        "outputId": "b73a6f6e-1f60-4fd9-df0a-598daf0919f5"
      },
      "source": [
        "torch.ones(2,2)# 返回给定形状的张量。并填满 given shape filled with all ones"
      ],
      "execution_count": 49,
      "outputs": [
        {
          "output_type": "execute_result",
          "data": {
            "text/plain": [
              "tensor([[1., 1.],\n",
              "        [1., 1.]])"
            ]
          },
          "metadata": {
            "tags": []
          },
          "execution_count": 49
        }
      ]
    },
    {
      "cell_type": "code",
      "metadata": {
        "colab": {
          "base_uri": "https://localhost:8080/"
        },
        "id": "GOZ0eB4UpQzY",
        "outputId": "54f901b1-bfba-4e0a-e224-a5b8484ea425"
      },
      "source": [
        "torch.ones(2,2,2,2)"
      ],
      "execution_count": 50,
      "outputs": [
        {
          "output_type": "execute_result",
          "data": {
            "text/plain": [
              "tensor([[[[1., 1.],\n",
              "          [1., 1.]],\n",
              "\n",
              "         [[1., 1.],\n",
              "          [1., 1.]]],\n",
              "\n",
              "\n",
              "        [[[1., 1.],\n",
              "          [1., 1.]],\n",
              "\n",
              "         [[1., 1.],\n",
              "          [1., 1.]]]])"
            ]
          },
          "metadata": {
            "tags": []
          },
          "execution_count": 50
        }
      ]
    },
    {
      "cell_type": "code",
      "metadata": {
        "colab": {
          "base_uri": "https://localhost:8080/"
        },
        "id": "-iC_NpFYpnAp",
        "outputId": "c1b9f94e-c942-427d-ffeb-18e81f8cc349"
      },
      "source": [
        "torch.ones(4)#行"
      ],
      "execution_count": 54,
      "outputs": [
        {
          "output_type": "execute_result",
          "data": {
            "text/plain": [
              "tensor([1., 1., 1., 1.])"
            ]
          },
          "metadata": {
            "tags": []
          },
          "execution_count": 54
        }
      ]
    },
    {
      "cell_type": "code",
      "metadata": {
        "colab": {
          "base_uri": "https://localhost:8080/"
        },
        "id": "jpHGXE_npUAg",
        "outputId": "4309389b-504d-4fe0-fd3b-1242d3956cb1"
      },
      "source": [
        "torch.ones(4,4)#1"
      ],
      "execution_count": 51,
      "outputs": [
        {
          "output_type": "execute_result",
          "data": {
            "text/plain": [
              "tensor([[1., 1., 1., 1.],\n",
              "        [1., 1., 1., 1.],\n",
              "        [1., 1., 1., 1.],\n",
              "        [1., 1., 1., 1.]])"
            ]
          },
          "metadata": {
            "tags": []
          },
          "execution_count": 51
        }
      ]
    },
    {
      "cell_type": "code",
      "metadata": {
        "colab": {
          "base_uri": "https://localhost:8080/"
        },
        "id": "qEho0JeFpXNg",
        "outputId": "cbe1568e-764b-4a8d-f2c4-e2113ee5db43"
      },
      "source": [
        "torch.ones(4,4,4)#4"
      ],
      "execution_count": 52,
      "outputs": [
        {
          "output_type": "execute_result",
          "data": {
            "text/plain": [
              "tensor([[[1., 1., 1., 1.],\n",
              "         [1., 1., 1., 1.],\n",
              "         [1., 1., 1., 1.],\n",
              "         [1., 1., 1., 1.]],\n",
              "\n",
              "        [[1., 1., 1., 1.],\n",
              "         [1., 1., 1., 1.],\n",
              "         [1., 1., 1., 1.],\n",
              "         [1., 1., 1., 1.]],\n",
              "\n",
              "        [[1., 1., 1., 1.],\n",
              "         [1., 1., 1., 1.],\n",
              "         [1., 1., 1., 1.],\n",
              "         [1., 1., 1., 1.]],\n",
              "\n",
              "        [[1., 1., 1., 1.],\n",
              "         [1., 1., 1., 1.],\n",
              "         [1., 1., 1., 1.],\n",
              "         [1., 1., 1., 1.]]])"
            ]
          },
          "metadata": {
            "tags": []
          },
          "execution_count": 52
        }
      ]
    },
    {
      "cell_type": "code",
      "metadata": {
        "colab": {
          "base_uri": "https://localhost:8080/"
        },
        "id": "c6poBf7Ipc-A",
        "outputId": "cdb09a3b-f17f-4689-cb7a-ebaf0c841086"
      },
      "source": [
        "torch.ones(4,4,4,4)  #16"
      ],
      "execution_count": 53,
      "outputs": [
        {
          "output_type": "execute_result",
          "data": {
            "text/plain": [
              "tensor([[[[1., 1., 1., 1.],\n",
              "          [1., 1., 1., 1.],\n",
              "          [1., 1., 1., 1.],\n",
              "          [1., 1., 1., 1.]],\n",
              "\n",
              "         [[1., 1., 1., 1.],\n",
              "          [1., 1., 1., 1.],\n",
              "          [1., 1., 1., 1.],\n",
              "          [1., 1., 1., 1.]],\n",
              "\n",
              "         [[1., 1., 1., 1.],\n",
              "          [1., 1., 1., 1.],\n",
              "          [1., 1., 1., 1.],\n",
              "          [1., 1., 1., 1.]],\n",
              "\n",
              "         [[1., 1., 1., 1.],\n",
              "          [1., 1., 1., 1.],\n",
              "          [1., 1., 1., 1.],\n",
              "          [1., 1., 1., 1.]]],\n",
              "\n",
              "\n",
              "        [[[1., 1., 1., 1.],\n",
              "          [1., 1., 1., 1.],\n",
              "          [1., 1., 1., 1.],\n",
              "          [1., 1., 1., 1.]],\n",
              "\n",
              "         [[1., 1., 1., 1.],\n",
              "          [1., 1., 1., 1.],\n",
              "          [1., 1., 1., 1.],\n",
              "          [1., 1., 1., 1.]],\n",
              "\n",
              "         [[1., 1., 1., 1.],\n",
              "          [1., 1., 1., 1.],\n",
              "          [1., 1., 1., 1.],\n",
              "          [1., 1., 1., 1.]],\n",
              "\n",
              "         [[1., 1., 1., 1.],\n",
              "          [1., 1., 1., 1.],\n",
              "          [1., 1., 1., 1.],\n",
              "          [1., 1., 1., 1.]]],\n",
              "\n",
              "\n",
              "        [[[1., 1., 1., 1.],\n",
              "          [1., 1., 1., 1.],\n",
              "          [1., 1., 1., 1.],\n",
              "          [1., 1., 1., 1.]],\n",
              "\n",
              "         [[1., 1., 1., 1.],\n",
              "          [1., 1., 1., 1.],\n",
              "          [1., 1., 1., 1.],\n",
              "          [1., 1., 1., 1.]],\n",
              "\n",
              "         [[1., 1., 1., 1.],\n",
              "          [1., 1., 1., 1.],\n",
              "          [1., 1., 1., 1.],\n",
              "          [1., 1., 1., 1.]],\n",
              "\n",
              "         [[1., 1., 1., 1.],\n",
              "          [1., 1., 1., 1.],\n",
              "          [1., 1., 1., 1.],\n",
              "          [1., 1., 1., 1.]]],\n",
              "\n",
              "\n",
              "        [[[1., 1., 1., 1.],\n",
              "          [1., 1., 1., 1.],\n",
              "          [1., 1., 1., 1.],\n",
              "          [1., 1., 1., 1.]],\n",
              "\n",
              "         [[1., 1., 1., 1.],\n",
              "          [1., 1., 1., 1.],\n",
              "          [1., 1., 1., 1.],\n",
              "          [1., 1., 1., 1.]],\n",
              "\n",
              "         [[1., 1., 1., 1.],\n",
              "          [1., 1., 1., 1.],\n",
              "          [1., 1., 1., 1.],\n",
              "          [1., 1., 1., 1.]],\n",
              "\n",
              "         [[1., 1., 1., 1.],\n",
              "          [1., 1., 1., 1.],\n",
              "          [1., 1., 1., 1.],\n",
              "          [1., 1., 1., 1.]]]])"
            ]
          },
          "metadata": {
            "tags": []
          },
          "execution_count": 53
        }
      ]
    },
    {
      "cell_type": "code",
      "metadata": {
        "colab": {
          "base_uri": "https://localhost:8080/"
        },
        "id": "rCHhiiKbprlg",
        "outputId": "0b48cbb3-fd9b-4578-b93d-628613109aab"
      },
      "source": [
        "torch.rand(2)#given shap____values fill it  uniform distribution 均匀分布 on[0,1)"
      ],
      "execution_count": 55,
      "outputs": [
        {
          "output_type": "execute_result",
          "data": {
            "text/plain": [
              "tensor([0.6223, 0.8618])"
            ]
          },
          "metadata": {
            "tags": []
          },
          "execution_count": 55
        }
      ]
    },
    {
      "cell_type": "code",
      "metadata": {
        "colab": {
          "base_uri": "https://localhost:8080/"
        },
        "id": "jirPB-3WpwDn",
        "outputId": "f180dfb6-acab-4feb-88ad-ae41e02b7ecd"
      },
      "source": [
        "torch.rand(2)"
      ],
      "execution_count": 56,
      "outputs": [
        {
          "output_type": "execute_result",
          "data": {
            "text/plain": [
              "tensor([0.7719, 0.1198])"
            ]
          },
          "metadata": {
            "tags": []
          },
          "execution_count": 56
        }
      ]
    },
    {
      "cell_type": "code",
      "metadata": {
        "colab": {
          "base_uri": "https://localhost:8080/"
        },
        "id": "R-3msoRmpyzT",
        "outputId": "b4d148dc-8180-4f69-ee76-a5ffa3a3439b"
      },
      "source": [
        "torch.rand(2,2) "
      ],
      "execution_count": 57,
      "outputs": [
        {
          "output_type": "execute_result",
          "data": {
            "text/plain": [
              "tensor([[0.6878, 0.1390],\n",
              "        [0.4860, 0.7395]])"
            ]
          },
          "metadata": {
            "tags": []
          },
          "execution_count": 57
        }
      ]
    },
    {
      "cell_type": "code",
      "metadata": {
        "colab": {
          "base_uri": "https://localhost:8080/"
        },
        "id": "mKGRMD_Fp1bT",
        "outputId": "80cf9b78-9c0a-47fe-ca7d-bb8d70ff65cd"
      },
      "source": [
        "torch.rand(2,2,2)"
      ],
      "execution_count": 58,
      "outputs": [
        {
          "output_type": "execute_result",
          "data": {
            "text/plain": [
              "tensor([[[0.9508, 0.8656],\n",
              "         [0.3788, 0.8393]],\n",
              "\n",
              "        [[0.6918, 0.4496],\n",
              "         [0.5283, 0.5645]]])"
            ]
          },
          "metadata": {
            "tags": []
          },
          "execution_count": 58
        }
      ]
    },
    {
      "cell_type": "markdown",
      "metadata": {
        "id": "Xcs66jSNqIDj"
      },
      "source": [
        "**basic tensor operations 基本张量计算**"
      ]
    },
    {
      "cell_type": "code",
      "metadata": {
        "id": "eOzCbnNIqLhj"
      },
      "source": [
        "#https://pytorch.org/docs/stable/torch.html#math-operations\n"
      ],
      "execution_count": null,
      "outputs": []
    },
    {
      "cell_type": "markdown",
      "metadata": {
        "id": "om5fn-GhqIOb"
      },
      "source": [
        "simple linear regression algorithm"
      ]
    },
    {
      "cell_type": "markdown",
      "metadata": {
        "id": "9cAOJbhSqo3X"
      },
      "source": [
        "prepare data 准备数据"
      ]
    },
    {
      "cell_type": "code",
      "metadata": {
        "id": "4hxqt7HiqtHK"
      },
      "source": [
        "import numpy\n",
        "import matplotlib.pyplot as plt\n",
        "import torch"
      ],
      "execution_count": 59,
      "outputs": []
    },
    {
      "cell_type": "code",
      "metadata": {
        "id": "j4ipL8h5q3cw"
      },
      "source": [
        "#training data\n",
        "x_training = numpy.asarray([1,2,5,8,9,12,14,16,18,20])\n",
        "y_training = numpy.asarray([1500,3500,7200,11000,12500,18500,22000,24500,28000,30500])\n",
        "\n",
        "x_test = numpy.asarray([3,7,13,15,19])\n",
        "y_test = numpy.asarray([4400,10000,19500,23500,29000])\n"
      ],
      "execution_count": 64,
      "outputs": []
    },
    {
      "cell_type": "code",
      "metadata": {
        "id": "OYl4H0DCrdVB"
      },
      "source": [
        "#create tensor : training\n",
        "x_data = torch.from_numpy(x_training)"
      ],
      "execution_count": 65,
      "outputs": []
    },
    {
      "cell_type": "code",
      "metadata": {
        "colab": {
          "base_uri": "https://localhost:8080/"
        },
        "id": "YvO86cU7ri90",
        "outputId": "90987882-9665-4d5d-dd4d-91f89c98efd3"
      },
      "source": [
        "x_data#就是输出出来了"
      ],
      "execution_count": 66,
      "outputs": [
        {
          "output_type": "execute_result",
          "data": {
            "text/plain": [
              "tensor([ 1,  2,  5,  8,  9, 12, 14, 16, 18, 20])"
            ]
          },
          "metadata": {
            "tags": []
          },
          "execution_count": 66
        }
      ]
    },
    {
      "cell_type": "code",
      "metadata": {
        "id": "oFRNsbNurquj"
      },
      "source": [
        "y_data = torch.from_numpy(y_training)"
      ],
      "execution_count": 67,
      "outputs": []
    },
    {
      "cell_type": "code",
      "metadata": {
        "colab": {
          "base_uri": "https://localhost:8080/"
        },
        "id": "gkxoT8EVr0Sn",
        "outputId": "65aceb4f-2e7c-48ea-b20a-0454d6a19bfc"
      },
      "source": [
        "y_data#依旧输出"
      ],
      "execution_count": 68,
      "outputs": [
        {
          "output_type": "execute_result",
          "data": {
            "text/plain": [
              "tensor([ 1500,  3500,  7200, 11000, 12500, 18500, 22000, 24500, 28000, 30500])"
            ]
          },
          "metadata": {
            "tags": []
          },
          "execution_count": 68
        }
      ]
    },
    {
      "cell_type": "code",
      "metadata": {
        "id": "Fht3vpmIr33y"
      },
      "source": [
        "x_test_data = torch.from_numpy(x_test)"
      ],
      "execution_count": 69,
      "outputs": []
    },
    {
      "cell_type": "code",
      "metadata": {
        "colab": {
          "base_uri": "https://localhost:8080/"
        },
        "id": "cspdvs0tr9x9",
        "outputId": "0d7ab955-b6d9-49fb-cb50-c2c83cdbc0d1"
      },
      "source": [
        "x_test_data#依旧"
      ],
      "execution_count": 70,
      "outputs": [
        {
          "output_type": "execute_result",
          "data": {
            "text/plain": [
              "tensor([ 3,  7, 13, 15, 19])"
            ]
          },
          "metadata": {
            "tags": []
          },
          "execution_count": 70
        }
      ]
    },
    {
      "cell_type": "code",
      "metadata": {
        "id": "UlRSNEdEsAph"
      },
      "source": [
        "y_test_data = torch.from_numpy(y_test)"
      ],
      "execution_count": 71,
      "outputs": []
    },
    {
      "cell_type": "code",
      "metadata": {
        "colab": {
          "base_uri": "https://localhost:8080/"
        },
        "id": "a6fIYp0usG6A",
        "outputId": "5aed4a0f-80df-4233-f753-19aa5da6e403"
      },
      "source": [
        "y_test_data# same"
      ],
      "execution_count": 72,
      "outputs": [
        {
          "output_type": "execute_result",
          "data": {
            "text/plain": [
              "tensor([ 4400, 10000, 19500, 23500, 29000])"
            ]
          },
          "metadata": {
            "tags": []
          },
          "execution_count": 72
        }
      ]
    },
    {
      "cell_type": "markdown",
      "metadata": {
        "id": "TEoLRNv4sMG3"
      },
      "source": [
        "上面就是在准备数据，将正常的数组变成张量（有点像换形式）\n",
        "then define model architecture"
      ]
    },
    {
      "cell_type": "code",
      "metadata": {
        "id": "GXUXkdpHsVW3"
      },
      "source": [
        "#define weights +biases 权重和偏差\n",
        "weight = torch.tensor(numpy.random.randn())"
      ],
      "execution_count": 74,
      "outputs": []
    },
    {
      "cell_type": "code",
      "metadata": {
        "colab": {
          "base_uri": "https://localhost:8080/"
        },
        "id": "7TVv7Q-jshDw",
        "outputId": "b619d82b-252f-4826-a6ca-a3372db9aa92"
      },
      "source": [
        "weight"
      ],
      "execution_count": 75,
      "outputs": [
        {
          "output_type": "execute_result",
          "data": {
            "text/plain": [
              "tensor(0.7722)"
            ]
          },
          "metadata": {
            "tags": []
          },
          "execution_count": 75
        }
      ]
    },
    {
      "cell_type": "code",
      "metadata": {
        "id": "X1szlGHaszpU"
      },
      "source": [
        "weight = torch.tensor(numpy.random.randn(),requires_grad = True)# open automatic gradient compute weight bias打开自动剃度计算关于权重和偏差"
      ],
      "execution_count": 76,
      "outputs": []
    },
    {
      "cell_type": "code",
      "metadata": {
        "colab": {
          "base_uri": "https://localhost:8080/"
        },
        "id": "N31BzSCFs4iG",
        "outputId": "e9b839c4-33f6-4abf-dde0-a83a11b42b09"
      },
      "source": [
        "weight"
      ],
      "execution_count": 77,
      "outputs": [
        {
          "output_type": "execute_result",
          "data": {
            "text/plain": [
              "tensor(2.4253, requires_grad=True)"
            ]
          },
          "metadata": {
            "tags": []
          },
          "execution_count": 77
        }
      ]
    },
    {
      "cell_type": "code",
      "metadata": {
        "id": "ksjEHEkPs6bx"
      },
      "source": [
        "bias = torch.tensor(numpy.random.randn(),requires_grad=True)#true开关"
      ],
      "execution_count": 78,
      "outputs": []
    },
    {
      "cell_type": "code",
      "metadata": {
        "colab": {
          "base_uri": "https://localhost:8080/"
        },
        "id": "aN5gRbP8thXP",
        "outputId": "d222adab-3807-4c2f-acc6-ce128db3220a"
      },
      "source": [
        "bias"
      ],
      "execution_count": 79,
      "outputs": [
        {
          "output_type": "execute_result",
          "data": {
            "text/plain": [
              "tensor(0.4342, requires_grad=True)"
            ]
          },
          "metadata": {
            "tags": []
          },
          "execution_count": 79
        }
      ]
    },
    {
      "cell_type": "code",
      "metadata": {
        "colab": {
          "base_uri": "https://localhost:8080/"
        },
        "id": "wsiRayvVtj1Q",
        "outputId": "abaeebc5-afe3-4bf1-d22d-e352d4a654f5"
      },
      "source": [
        "print(weight,bias)\n",
        "'''\n",
        "print(weight)\n",
        "print(bias)'''"
      ],
      "execution_count": 80,
      "outputs": [
        {
          "output_type": "stream",
          "text": [
            "tensor(2.4253, requires_grad=True) tensor(0.4342, requires_grad=True)\n"
          ],
          "name": "stdout"
        }
      ]
    },
    {
      "cell_type": "markdown",
      "metadata": {
        "id": "2R7Cknb0tr66"
      },
      "source": [
        "every Tensor has a flag(标志）‘require_grad' increase efficiency \n",
        "grain exclusion of subgraphs from gradient compute允许从梯度计算中细粒度地排除子图\n",
        "如果单个操作的打单个输入需要渐变 gradient ，那么output also gradient渐变\n",
        "反之亦然不变-不变；performed 执行 所有tensors 不需要gradient 的子图中，never backward comput 向后计算。"
      ]
    },
    {
      "cell_type": "code",
      "metadata": {
        "id": "lP071qdqut6u"
      },
      "source": [
        "#define model\n",
        "#Hypothesis 假设 = W * X + b(linear model)\n",
        "def linearRegression(x):\n",
        "  return x * weight + bias"
      ],
      "execution_count": 83,
      "outputs": []
    },
    {
      "cell_type": "code",
      "metadata": {
        "id": "wpZQU5-Tu_Zg"
      },
      "source": [
        "#generate(create) predictions(gass) + compare grounnd truth labels\n",
        "#randomly initialise weight +bias ---> model can't predict properly (right) at the moment\n",
        "predictions = linearRegression(x_data) #x_training的tensor"
      ],
      "execution_count": 86,
      "outputs": []
    },
    {
      "cell_type": "code",
      "metadata": {
        "colab": {
          "base_uri": "https://localhost:8080/"
        },
        "id": "SOSQDeGJvoVo",
        "outputId": "4307b66f-5992-4c9c-e006-75f59a6d7157"
      },
      "source": [
        "print(predictions)"
      ],
      "execution_count": 90,
      "outputs": [
        {
          "output_type": "stream",
          "text": [
            "tensor([ 2.8595,  5.2848, 12.5607, 19.8366, 22.2619, 29.5378, 34.3884, 39.2390,\n",
            "        44.0896, 48.9402], grad_fn=<AddBackward0>)\n"
          ],
          "name": "stdout"
        }
      ]
    },
    {
      "cell_type": "code",
      "metadata": {
        "colab": {
          "base_uri": "https://localhost:8080/"
        },
        "id": "dlKVz44mvvSZ",
        "outputId": "1d9f14e4-d5ec-4df6-e65d-2f794994730b"
      },
      "source": [
        "print(y_data)  #y_data = y_training \n",
        "'''\n",
        "为什么不是呢？那正确的是什么呢？what's the correct answer？\n",
        "'''"
      ],
      "execution_count": 88,
      "outputs": [
        {
          "output_type": "stream",
          "text": [
            "tensor([ 1500,  3500,  7200, 11000, 12500, 18500, 22000, 24500, 28000, 30500])\n"
          ],
          "name": "stdout"
        }
      ]
    },
    {
      "cell_type": "markdown",
      "metadata": {
        "id": "wSQBKrpbwh0s"
      },
      "source": [
        "loss function [先导入数据+改tensor +定函数线回归 + 定损失"
      ]
    },
    {
      "cell_type": "code",
      "metadata": {
        "id": "WuqildTnxdsd"
      },
      "source": [
        "#loss --> use [MSE] mean squared error 均方误差（那应该还有别的）\n",
        "def mse(x1,x2):\n",
        "  diff = x1 - x2\n",
        "  return torch.sum(diff*diff)/diff.numel() #numel 元素个数(12345)->5\n",
        "  "
      ],
      "execution_count": 91,
      "outputs": []
    },
    {
      "cell_type": "code",
      "metadata": {
        "colab": {
          "base_uri": "https://localhost:8080/"
        },
        "id": "jK1pKLrCyEN4",
        "outputId": "192b0912-b64c-4f11-97f8-bb1630e677e0"
      },
      "source": [
        "#comput loss  ** lower better\n",
        "loss = mse(predictions, y_data)  #预测和y训练\n",
        "print(loss)\n",
        "\n",
        "'''\n",
        "PyTorch会自动计算损耗的梯度/导数（关于此处的权重和偏差）\n",
        "gradient/derivative\n",
        "weight and bias\n",
        "想要 automatically compute need 设置 set 'requires_grad = True' 这个话就像开关\n",
        "call 调用 backward()  trigger 触发 automatical compute gradients on chain rule（基于链规则的梯度自动计算）"
      ],
      "execution_count": 95,
      "outputs": [
        {
          "output_type": "stream",
          "text": [
            "tensor(3.4731e+08, grad_fn=<DivBackward0>)\n"
          ],
          "name": "stdout"
        }
      ]
    },
    {
      "cell_type": "code",
      "metadata": {
        "id": "JP0irPGcyT56"
      },
      "source": [
        "#就是计算梯度：compute gradients\n",
        "loss.backward()"
      ],
      "execution_count": 96,
      "outputs": []
    },
    {
      "cell_type": "code",
      "metadata": {
        "colab": {
          "base_uri": "https://localhost:8080/"
        },
        "id": "Z3wCiMmszNkZ",
        "outputId": "59021c57-34fa-43fe-81a3-e4014b36481a"
      },
      "source": [
        "loss"
      ],
      "execution_count": 97,
      "outputs": [
        {
          "output_type": "execute_result",
          "data": {
            "text/plain": [
              "tensor(3.4731e+08, grad_fn=<DivBackward0>)"
            ]
          },
          "metadata": {
            "tags": []
          },
          "execution_count": 97
        }
      ]
    },
    {
      "cell_type": "code",
      "metadata": {
        "colab": {
          "base_uri": "https://localhost:8080/"
        },
        "id": "AQYCIcDozR0H",
        "outputId": "d4cc1ec1-c5c9-4364-a957-f83301726a17"
      },
      "source": [
        "# after backward (倒推法？倒退)向后传递后, store gradients in tensors(involved 相关) ' .grad ' property性能属性 \n",
        "print(weight)"
      ],
      "execution_count": 98,
      "outputs": [
        {
          "output_type": "stream",
          "text": [
            "tensor(2.4253, requires_grad=True)\n"
          ],
          "name": "stdout"
        }
      ]
    },
    {
      "cell_type": "code",
      "metadata": {
        "colab": {
          "base_uri": "https://localhost:8080/"
        },
        "id": "pYZsBwsrz8mK",
        "outputId": "7257e569-5b6a-483e-d6e1-f6e9e9f9e96f"
      },
      "source": [
        "print(weight.grad)#重量梯度"
      ],
      "execution_count": 99,
      "outputs": [
        {
          "output_type": "stream",
          "text": [
            "tensor(-455465.7188)\n"
          ],
          "name": "stdout"
        }
      ]
    },
    {
      "cell_type": "code",
      "metadata": {
        "colab": {
          "base_uri": "https://localhost:8080/"
        },
        "id": "AM3TWnjdz_jW",
        "outputId": "1477e2d0-23e4-4a8f-b521-eb4c88bda3e7"
      },
      "source": [
        "print()"
      ],
      "execution_count": 100,
      "outputs": [
        {
          "output_type": "stream",
          "text": [
            "\n"
          ],
          "name": "stdout"
        }
      ]
    },
    {
      "cell_type": "code",
      "metadata": {
        "colab": {
          "base_uri": "https://localhost:8080/"
        },
        "id": "2yAXGEAX0AyT",
        "outputId": "f28a64d1-98c2-489a-85a2-e5864404977b"
      },
      "source": [
        "# gradient for bias 梯度偏差\n",
        "print(bias)\n",
        "print(bias.grad)"
      ],
      "execution_count": 101,
      "outputs": [
        {
          "output_type": "stream",
          "text": [
            "tensor(0.4342, requires_grad=True)\n",
            "tensor(-31788.2012)\n"
          ],
          "name": "stdout"
        }
      ]
    },
    {
      "cell_type": "markdown",
      "metadata": {
        "id": "fSyNJx7L0Qo1"
      },
      "source": [
        "adjust weight + bias use gradients 调参 用梯度\n",
        "reset gradients before next forward pass(向前通过) because PyTorch accumulates gradients(累积梯度/渐变）"
      ]
    },
    {
      "cell_type": "code",
      "metadata": {
        "colab": {
          "base_uri": "https://localhost:8080/"
        },
        "id": "uZvpJYyb0sAe",
        "outputId": "d16bbd0e-17ac-481c-82d3-872f7039855e"
      },
      "source": [
        "'''\n",
        "don't want update operation though gradient\n",
        "in '【torch.no_grad()】' don't automatic gradient (stop)【requires_grad = True】（start）\n",
        "le-5 == learning rate （this part)\n",
        "'''\n",
        "with torch.no_grad():\n",
        "  weight -= weight.grad * 1e-5 # 重量梯度  【a *=2(乘以 a=a*2)】 [weight = weight -weight.grad * 1e-5]【Wnew = Wold -lr * Loss'/w'】\n",
        "  bias -= bias * 1e-5  # next reset the gradients (don't forget) #是一e－5\n",
        "  weight.grad.zero_()\n",
        "  bias.grad.zero_()\n",
        "print(weight)\n",
        "print(bias)\n"
      ],
      "execution_count": 110,
      "outputs": [
        {
          "output_type": "stream",
          "text": [
            "tensor(6.9800, requires_grad=True)\n",
            "tensor(0.4342, requires_grad=True)\n"
          ],
          "name": "stdout"
        }
      ]
    },
    {
      "cell_type": "code",
      "metadata": {
        "colab": {
          "base_uri": "https://localhost:8080/"
        },
        "id": "NamNMMbj21xt",
        "outputId": "1ad22cd8-905f-454a-aabd-86adeeb449d2"
      },
      "source": [
        "weight"
      ],
      "execution_count": 106,
      "outputs": [
        {
          "output_type": "execute_result",
          "data": {
            "text/plain": [
              "tensor(6.9800, requires_grad=True)"
            ]
          },
          "metadata": {
            "tags": []
          },
          "execution_count": 106
        }
      ]
    },
    {
      "cell_type": "code",
      "metadata": {
        "colab": {
          "base_uri": "https://localhost:8080/"
        },
        "id": "jMlbqlFf3g7Y",
        "outputId": "3fbe7f1a-6d07-4bd0-ac22-f4dbeb26800c"
      },
      "source": [
        "bias"
      ],
      "execution_count": 107,
      "outputs": [
        {
          "output_type": "execute_result",
          "data": {
            "text/plain": [
              "tensor(0.4342, requires_grad=True)"
            ]
          },
          "metadata": {
            "tags": []
          },
          "execution_count": 107
        }
      ]
    },
    {
      "cell_type": "code",
      "metadata": {
        "colab": {
          "base_uri": "https://localhost:8080/"
        },
        "id": "pVUcfikt3ntB",
        "outputId": "607972c0-e219-49d9-c3b6-f875ca53bd17"
      },
      "source": [
        "bias"
      ],
      "execution_count": 109,
      "outputs": [
        {
          "output_type": "execute_result",
          "data": {
            "text/plain": [
              "tensor(0.4342, requires_grad=True)"
            ]
          },
          "metadata": {
            "tags": []
          },
          "execution_count": 109
        }
      ]
    },
    {
      "cell_type": "code",
      "metadata": {
        "colab": {
          "base_uri": "https://localhost:8080/"
        },
        "id": "M_7XdpNI3udS",
        "outputId": "115cc081-3f2c-4268-9017-b6978a3385fc"
      },
      "source": [
        "print(weight.grad, bias.grad)\n"
      ],
      "execution_count": 112,
      "outputs": [
        {
          "output_type": "stream",
          "text": [
            "tensor(0.) tensor(0.)\n"
          ],
          "name": "stdout"
        }
      ]
    },
    {
      "cell_type": "code",
      "metadata": {
        "colab": {
          "base_uri": "https://localhost:8080/"
        },
        "id": "eD8RE_ed36lP",
        "outputId": "ed224f46-4534-4d1a-a552-a680a6d9d914"
      },
      "source": [
        "# predict + compute loss again  这回loss will lower (weights +biases)  【变成了重量梯度？'】\n",
        "predictions = linearRegression(x_data)\n",
        "loss = mse(predictions, y_data)\n",
        "print(predictions)\n",
        "print(y_data)\n",
        "print(loss)   #3.4731e+08, 低了点"
      ],
      "execution_count": 116,
      "outputs": [
        {
          "output_type": "stream",
          "text": [
            "tensor([  7.4141,  14.3941,  35.3340,  56.2738,  63.2538,  84.1936,  98.1536,\n",
            "        112.1135, 126.0734, 140.0333], grad_fn=<AddBackward0>)\n",
            "tensor([ 1500,  3500,  7200, 11000, 12500, 18500, 22000, 24500, 28000, 30500])\n",
            "tensor(3.4524e+08, grad_fn=<DivBackward0>)\n"
          ],
          "name": "stdout"
        }
      ]
    },
    {
      "cell_type": "markdown",
      "metadata": {
        "id": "WSOC8W-19XBa"
      },
      "source": [
        "自动梯度计算###要找点资料"
      ]
    },
    {
      "cell_type": "markdown",
      "metadata": {
        "id": "LuNPXy6l5IBd"
      },
      "source": [
        "multiple epochs 【多时期】（循环起来）loop"
      ]
    },
    {
      "cell_type": "code",
      "metadata": {
        "id": "zfCvd9cb5P3w"
      },
      "source": [
        "no_of_epochs = 5000 # an epoch : one iteration [over the entire][遍及] 全部 input data\n",
        "#一个时代是整个输入数据的一次迭代 [5000次？]\n",
        "display_interval = 200 # interval 间隔1  2  3  ；  how often  display training info [200]"
      ],
      "execution_count": 118,
      "outputs": []
    },
    {
      "cell_type": "markdown",
      "metadata": {
        "id": "rmrcDJL5_YEe"
      },
      "source": [
        "with 语句干嘛的？？"
      ]
    },
    {
      "cell_type": "code",
      "metadata": {
        "colab": {
          "base_uri": "https://localhost:8080/"
        },
        "id": "GmkWIect-KYS",
        "outputId": "4f2fb8b6-4241-4f63-d376-6e513a16e2f5"
      },
      "source": [
        "for epoch in range(no_of_epochs):\n",
        "  predictions = linearRegression(x_data) #所有的预测都是线性回归然后输入 x_training\n",
        "  loss = mse(predictions, y_data)       #loss 更像是个评估标准MSE\n",
        "  loss.backward()                 #往回\n",
        "  with torch.no_grad():           #终止   \n",
        "    weight -= weight.grad * 1e-5  #重新更新weight 和bias 权重和偏差\n",
        "    bias -= bias.grad * 1e-5\n",
        "    weight.grad.zero_()     #将梯度清零（因为pytorch 会叠加\n",
        "    bias.grad.zero_()\n",
        "  if epoch % display_interval == 0 :    #  % 是求模 ——》除法的余数 等于0就是整除\n",
        "      predictions = linearRegression(x_data)   #开始 compute current model cost 计算当前模型成本 calculate\n",
        "      loss = mse(predictions, y_data)\n",
        "      print(\"Epoch:\", '%04d' %(epoch), \"loss=\",\"{:.8f}\".format(loss),\"W=\", \"{:.4f}\".format(weight), \"b=\", \"{:.4f}\".format(bias)) #% 格式化输出. 【eg : a = test  print'it is a %s' %(a)】 就是用a的内容替换%s;;这里用epoch替换%04d\n",
        "print(\"=========================================\")\n",
        "\n",
        "training_loss = mse(linearRegression(x_data), y_data) # 你想用你写的函数就把函数名字拿出来，再确认好你要往里放的对应的参数就好\n",
        "print(\"Optimised:\", \"loss=\", \":.9f\".format(training_loss.data), \\\n",
        "      \"W=\" , \"{:.9f}\".format(weight.data), \"b=\",\"{:.9f}\".format(bias.data))#loss.data 不是loss_data；；；\\后不能有空格  并且必须换行\n"
      ],
      "execution_count": 140,
      "outputs": [
        {
          "output_type": "stream",
          "text": [
            "Epoch: 0000 loss= 401712.18750000 W= 1528.7083 b= -42.9546\n",
            "Epoch: 0200 loss= 401649.46875000 W= 1528.7332 b= -43.3085\n",
            "Epoch: 0400 loss= 401586.34375000 W= 1528.7579 b= -43.6617\n",
            "Epoch: 0600 loss= 401524.18750000 W= 1528.7827 b= -44.0149\n",
            "Epoch: 0800 loss= 401461.25000000 W= 1528.8075 b= -44.3673\n",
            "Epoch: 1000 loss= 401398.75000000 W= 1528.8323 b= -44.7198\n",
            "Epoch: 1200 loss= 401336.71875000 W= 1528.8569 b= -45.0715\n",
            "Epoch: 1400 loss= 401274.46875000 W= 1528.8816 b= -45.4232\n",
            "Epoch: 1600 loss= 401211.62500000 W= 1528.9062 b= -45.7742\n",
            "Epoch: 1800 loss= 401149.78125000 W= 1528.9309 b= -46.1251\n",
            "Epoch: 2000 loss= 401087.59375000 W= 1528.9556 b= -46.4754\n",
            "Epoch: 2200 loss= 401026.78125000 W= 1528.9801 b= -46.8255\n",
            "Epoch: 2400 loss= 400965.21875000 W= 1529.0046 b= -47.1751\n",
            "Epoch: 2600 loss= 400903.68750000 W= 1529.0292 b= -47.5245\n",
            "Epoch: 2800 loss= 400842.06250000 W= 1529.0537 b= -47.8734\n",
            "Epoch: 3000 loss= 400781.06250000 W= 1529.0782 b= -48.2220\n",
            "Epoch: 3200 loss= 400719.59375000 W= 1529.1027 b= -48.5702\n",
            "Epoch: 3400 loss= 400658.78125000 W= 1529.1271 b= -48.9181\n",
            "Epoch: 3600 loss= 400597.87500000 W= 1529.1515 b= -49.2655\n",
            "Epoch: 3800 loss= 400537.50000000 W= 1529.1759 b= -49.6126\n",
            "Epoch: 4000 loss= 400476.71875000 W= 1529.2003 b= -49.9594\n",
            "Epoch: 4200 loss= 400416.46875000 W= 1529.2247 b= -50.3058\n",
            "Epoch: 4400 loss= 400356.00000000 W= 1529.2491 b= -50.6519\n",
            "Epoch: 4600 loss= 400296.06250000 W= 1529.2736 b= -50.9975\n",
            "Epoch: 4800 loss= 400235.93750000 W= 1529.2980 b= -51.3429\n",
            "=========================================\n",
            "Optimised: loss= :.9f W= 1529.322265625 b= -51.686019897\n"
          ],
          "name": "stdout"
        }
      ]
    },
    {
      "cell_type": "code",
      "metadata": {
        "id": "DaurFw2aA9fz"
      },
      "source": [
        " '''不变\n",
        "Epoch: 0 loss= 425168.68750000 \n",
        "Epoch: 200 loss= 425057.00000000 \n",
        "Epoch: 400 loss= 424944.93750000 \n",
        "Epoch: 600 loss= 424833.50000000 \n",
        "Epoch: 800 loss= 424722.40625000 \n",
        "Epoch: 1000 loss= 424610.65625000 \n",
        "Epoch: 1200 loss= 424500.09375000 \n",
        "Epoch: 1400 loss= 424389.50000000 \n",
        "Epoch: 1600 loss= 424278.90625000 \n",
        "Epoch: 1800 loss= 424168.65625000 \n",
        "Epoch: 2000 loss= 424058.43750000 \n",
        "Epoch: 2200 loss= 423949.15625000 \n",
        "Epoch: 2400 loss= 423839.90625000 \n",
        "Epoch: 2600 loss= 423729.656\n",
        "'''\n",
        "'''变了loss\n",
        "Epoch: 0000 loss= tensor(431083.5000, grad_fn=<DivBackward0>) \n",
        "Epoch: 0200 loss= tensor(430959.3125, grad_fn=<DivBackward0>) \n",
        "Epoch: 0400 loss= tensor(430834.3438, grad_fn=<DivBackward0>) \n",
        "Epoch: 0600 loss= tensor(430710.5938, grad_fn=<DivBackward0>) \n",
        "\n",
        "''''不变\n",
        "'''\n",
        "Epoch: 0000 loss= 422436.43750000 \n",
        "Epoch: 0200 loss= 422329.34375000 \n",
        "Epoch: 0400 loss= 422223.25000000 \n",
        "Epoch: 0600 loss= 422117.34375000 \n",
        "Epoch: 0800 loss= 422012.06250000 \n",
        "Epoch: 1000 loss= 421906.84375000 \n",
        "Epoch: 1200 loss= 421801.25000000 \n",
        "Epoch: 1400 loss= 421696.25000000 \n",
        "Epoch: 1600 loss= 421591.43750000 \n",
        "Epoch: 1800 loss= 421486.31250000 \n",
        "Epoch: 2000 loss= 421382.65625000 \n",
        "Epoch: 2200 loss= 421278.59375000 \n",
        "Epoch: 2400 loss= 421174.09375000 \n",
        "Epoch: 2600 loss= 421070.50\n",
        "'''\n",
        "\n",
        "'''不变\n",
        "Epoch: 0000 loss= 419843.00000000 W= tensor(1522.3992, requires_grad=True)\n",
        "Epoch: 0200 loss= 419741.75000000 W= tensor(1522.4307, requires_grad=True)\n",
        "Epoch: 0400 loss= 419640.93750000 W= tensor(1522.4620, requires_grad=True)\n",
        "Epoch: 0600 loss= 419540.40625000 W= tensor(1522.4935, requires_grad=True)\n",
        "Epoch: 0800 loss= 419440.43750000 W= tensor(1522.5248, requires_grad=True)\n",
        "Epoch: 1000 loss= 419340.25000000 W= tensor(1522.5562, requires_grad=True)\n",
        "'''\n",
        "\n",
        "'''变了w\n",
        "poch: 0000 loss= 417381.78125000 W= 1523.1759\n",
        "Epoch: 0200 loss= 417285.84375000 W= 1523.2067\n",
        "Epoch: 0400 loss= 417190.28125000 W= 1523.2372\n",
        "Epoch: 0600 loss= 417094.75000000 W= 1523.2678\n",
        "Epoch: 0800 loss= 416999.62500000 W= 1523.2985\n",
        "Epoc\n",
        "'''\n",
        "'''没变\n",
        "Epoch: 0000 loss= 415045.87500000 W= 1523.9327 b= tensor(25.0393, requires_grad=True)\n",
        "Epoch: 0200 loss= 414955.43750000 W= 1523.9625 b= tensor(24.6142, requires_grad=True)\n",
        "Epoch: 0400 loss= 414864.18750000 W= 1523.9924 b= tensor(24.1896, requires_grad=True)\n",
        "Epoch: 0600 loss= 414774.00000000 W= 1524.0222 b= tensor(23.7653, requires_grad=True)\n",
        "Epoch: 0800 los\n",
        "'''\n",
        "\n",
        "'''变了\n",
        "Epoch: 0000 loss= 412829.18750000 W= 1524.6698 b= 14.5444\n",
        "Epoch: 0200 loss= 412742.93750000 W= 1524.6989 b= 14.1303\n",
        "Epoch: 0400 loss= 412657.12500000 W= 1524.7279 b= 13.7167\n",
        "Epoch: 0600 loss= 412571.46875000 W= 1524.7570 b= 13.3034\n",
        "Epoch: 0800 loss= 412485.56250000 W= 1524.7860 b= 12.8907\n",
        "Epoch: 1000 loss= 412399.84375000 W= 1524.8149 b= \n",
        "\n",
        "\n",
        "'''\n"
      ],
      "execution_count": null,
      "outputs": []
    },
    {
      "cell_type": "markdown",
      "metadata": {
        "id": "NEPWEVPtCVxu"
      },
      "source": [
        "控制格式还得好好学学  ；； \\ 然后另起一行，是在干嘛？print 中的\n"
      ]
    },
    {
      "cell_type": "markdown",
      "metadata": {
        "id": "Xm8KR9VZCZAH"
      },
      "source": [
        "然后开始画图了"
      ]
    },
    {
      "cell_type": "code",
      "metadata": {
        "colab": {
          "base_uri": "https://localhost:8080/",
          "height": 282
        },
        "id": "_FAhXvf2EALh",
        "outputId": "5d41cbd9-185c-489c-94f4-47589c96b768"
      },
      "source": [
        "#plot training data  graph\n",
        "import matplotlib.pyplot as plt\n",
        "plt.plot(x_training)  #把plot 写成了plt   , y_training, 'ro', label = 'Training data'"
      ],
      "execution_count": 147,
      "outputs": [
        {
          "output_type": "execute_result",
          "data": {
            "text/plain": [
              "[<matplotlib.lines.Line2D at 0x7fb36b5378d0>]"
            ]
          },
          "metadata": {
            "tags": []
          },
          "execution_count": 147
        },
        {
          "output_type": "display_data",
          "data": {
            "image/png": "[encoded data removed]",
            "text/plain": [
              "<Figure size 432x288 with 1 Axes>"
            ]
          },
          "metadata": {
            "tags": [],
            "needs_background": "light"
          }
        }
      ]
    },
    {
      "cell_type": "code",
      "metadata": {
        "colab": {
          "base_uri": "https://localhost:8080/",
          "height": 282
        },
        "id": "j793UxWaEJq8",
        "outputId": "78bfd9e8-24a3-4191-9eb7-d9f513fa334b"
      },
      "source": [
        "plt.plot(y_training)"
      ],
      "execution_count": 148,
      "outputs": [
        {
          "output_type": "execute_result",
          "data": {
            "text/plain": [
              "[<matplotlib.lines.Line2D at 0x7fb36b52ac90>]"
            ]
          },
          "metadata": {
            "tags": []
          },
          "execution_count": 148
        },
        {
          "output_type": "display_data",
          "data": {
            "image/png": "[encoded data removed]",
            "text/plain": [
              "<Figure size 432x288 with 1 Axes>"
            ]
          },
          "metadata": {
            "tags": [],
            "needs_background": "light"
          }
        }
      ]
    },
    {
      "cell_type": "code",
      "metadata": {
        "colab": {
          "base_uri": "https://localhost:8080/",
          "height": 282
        },
        "id": "OHFmnsQnEzSN",
        "outputId": "50993daa-e536-42ef-f868-bae406a24854"
      },
      "source": [
        "plt.plot(x_training,y_training,)  #后面有，也没关系"
      ],
      "execution_count": 149,
      "outputs": [
        {
          "output_type": "execute_result",
          "data": {
            "text/plain": [
              "[<matplotlib.lines.Line2D at 0x7fb36b492d50>]"
            ]
          },
          "metadata": {
            "tags": []
          },
          "execution_count": 149
        },
        {
          "output_type": "display_data",
          "data": {
            "image/png": "[encoded data removed]",
            "text/plain": [
              "<Figure size 432x288 with 1 Axes>"
            ]
          },
          "metadata": {
            "tags": [],
            "needs_background": "light"
          }
        }
      ]
    },
    {
      "cell_type": "code",
      "metadata": {
        "colab": {
          "base_uri": "https://localhost:8080/",
          "height": 282
        },
        "id": "GD8E6ZSKE5nm",
        "outputId": "a4f97323-15c4-46d2-b0bd-00b801c8a119"
      },
      "source": [
        "plt.plot(x_training,y_training,'ro')   # ro 红散点"
      ],
      "execution_count": 150,
      "outputs": [
        {
          "output_type": "execute_result",
          "data": {
            "text/plain": [
              "[<matplotlib.lines.Line2D at 0x7fb36b559350>]"
            ]
          },
          "metadata": {
            "tags": []
          },
          "execution_count": 150
        },
        {
          "output_type": "display_data",
          "data": {
            "image/png": "[encoded data removed]",
            "text/plain": [
              "<Figure size 432x288 with 1 Axes>"
            ]
          },
          "metadata": {
            "tags": [],
            "needs_background": "light"
          }
        }
      ]
    },
    {
      "cell_type": "code",
      "metadata": {
        "colab": {
          "base_uri": "https://localhost:8080/",
          "height": 282
        },
        "id": "YuJZXTgOFASn",
        "outputId": "009e0408-9e80-480e-a5e7-b405c1b06fdb"
      },
      "source": [
        "plt.plot(x_training,y_training,'ro', label= 'Training data')  #label= 'Training data示例图应该"
      ],
      "execution_count": 162,
      "outputs": [
        {
          "output_type": "execute_result",
          "data": {
            "text/plain": [
              "[<matplotlib.lines.Line2D at 0x7fb36b175690>]"
            ]
          },
          "metadata": {
            "tags": []
          },
          "execution_count": 162
        },
        {
          "output_type": "display_data",
          "data": {
            "image/png": "[encoded data removed]",
            "text/plain": [
              "<Figure size 432x288 with 1 Axes>"
            ]
          },
          "metadata": {
            "tags": [],
            "needs_background": "light"
          }
        }
      ]
    },
    {
      "cell_type": "code",
      "metadata": {
        "colab": {
          "base_uri": "https://localhost:8080/",
          "height": 282
        },
        "id": "N0VK6RFtFIuA",
        "outputId": "9163b9b6-3efe-4d50-f8f0-7e3aeea292f3"
      },
      "source": [
        "plt.plot(x_training, weight.data * x_training)"
      ],
      "execution_count": 158,
      "outputs": [
        {
          "output_type": "execute_result",
          "data": {
            "text/plain": [
              "[<matplotlib.lines.Line2D at 0x7fb36b32fc10>]"
            ]
          },
          "metadata": {
            "tags": []
          },
          "execution_count": 158
        },
        {
          "output_type": "display_data",
          "data": {
            "image/png": "[encoded data removed]",
            "text/plain": [
              "<Figure size 432x288 with 1 Axes>"
            ]
          },
          "metadata": {
            "tags": [],
            "needs_background": "light"
          }
        }
      ]
    },
    {
      "cell_type": "code",
      "metadata": {
        "colab": {
          "base_uri": "https://localhost:8080/",
          "height": 282
        },
        "id": "ilJNDZiiFoyg",
        "outputId": "3031f519-73ba-4215-f301-ec2040c58918"
      },
      "source": [
        "plt.plot(x_training, weight.data * x_training + bias.data, label='Linear')"
      ],
      "execution_count": 159,
      "outputs": [
        {
          "output_type": "execute_result",
          "data": {
            "text/plain": [
              "[<matplotlib.lines.Line2D at 0x7fb36b235550>]"
            ]
          },
          "metadata": {
            "tags": []
          },
          "execution_count": 159
        },
        {
          "output_type": "display_data",
          "data": {
            "image/png": "[encoded data removed]",
            "text/plain": [
              "<Figure size 432x288 with 1 Axes>"
            ]
          },
          "metadata": {
            "tags": [],
            "needs_background": "light"
          }
        }
      ]
    },
    {
      "cell_type": "code",
      "metadata": {
        "colab": {
          "base_uri": "https://localhost:8080/",
          "height": 304
        },
        "id": "Ysp20Jo6FudQ",
        "outputId": "415db6b5-c2d3-4b3d-9e5a-1230893b5223"
      },
      "source": [
        "plt.legend()"
      ],
      "execution_count": 160,
      "outputs": [
        {
          "output_type": "stream",
          "text": [
            "No handles with labels found to put in legend.\n"
          ],
          "name": "stderr"
        },
        {
          "output_type": "execute_result",
          "data": {
            "text/plain": [
              "<matplotlib.legend.Legend at 0x7fb36c6b5210>"
            ]
          },
          "metadata": {
            "tags": []
          },
          "execution_count": 160
        },
        {
          "output_type": "display_data",
          "data": {
            "image/png": "[encoded data removed]",
            "text/plain": [
              "<Figure size 432x288 with 1 Axes>"
            ]
          },
          "metadata": {
            "tags": [],
            "needs_background": "light"
          }
        }
      ]
    },
    {
      "cell_type": "code",
      "metadata": {
        "id": "15f42sEJF0ho"
      },
      "source": [
        "plt.show()"
      ],
      "execution_count": 161,
      "outputs": []
    },
    {
      "cell_type": "code",
      "metadata": {
        "colab": {
          "base_uri": "https://localhost:8080/",
          "height": 264
        },
        "id": "sTMt76MmF3B1",
        "outputId": "b5782768-e257-49c7-ace8-397ac5b7fd47"
      },
      "source": [
        "#summ\n",
        "plt.plot(x_training,y_training,'ro', label= 'Training data')  \n",
        "plt.plot(x_training, weight.data * x_training + bias.data, label='Linear')\n",
        "plt.legend()  #这才将示例弄出来左上角\n",
        "plt.show()  #就没有上面的码了，而且不能自己单独"
      ],
      "execution_count": 170,
      "outputs": [
        {
          "output_type": "display_data",
          "data": {
            "image/png": "[encoded data removed]",
            "text/plain": [
              "<Figure size 432x288 with 1 Axes>"
            ]
          },
          "metadata": {
            "tags": [],
            "needs_background": "light"
          }
        }
      ]
    },
    {
      "cell_type": "code",
      "metadata": {
        "colab": {
          "base_uri": "https://localhost:8080/"
        },
        "id": "9ysiGYqOGEz-",
        "outputId": "ebba0d3a-7799-4ec1-d301-58ef0ea21c15"
      },
      "source": [
        "testing_loss = mse(linearRegression(x_test_data), y_test_data) # compute test loss \n",
        "print(\"Testing loss\" ,\"{:.9f}\".format(testing_loss.data)) #Testing loss 185738.281250000\n",
        "print(\"Absolute mean square loss difference:\",\"{:.9f}\".format(abs(\n",
        "    training_loss.data - testing_loss.data)))   #Absolute mean square loss difference: 214437.906250000 绝对·均方差·绝对值\n",
        "    "
      ],
      "execution_count": 173,
      "outputs": [
        {
          "output_type": "stream",
          "text": [
            "Testing loss 185738.281250000\n",
            "Absolute mean square loss difference: 214437.906250000\n"
          ],
          "name": "stdout"
        }
      ]
    },
    {
      "cell_type": "code",
      "metadata": {
        "colab": {
          "base_uri": "https://localhost:8080/",
          "height": 284
        },
        "id": "ZQi3Y8d8GReb",
        "outputId": "e7502e1b-67a1-4993-ad94-71456b6d7f9b"
      },
      "source": [
        "plt.plot(x_test, y_test, 'bo')  #'bo' 蓝色 画图"
      ],
      "execution_count": 174,
      "outputs": [
        {
          "output_type": "execute_result",
          "data": {
            "text/plain": [
              "[<matplotlib.lines.Line2D at 0x7fb36b12cb50>]"
            ]
          },
          "metadata": {
            "tags": []
          },
          "execution_count": 174
        },
        {
          "output_type": "display_data",
          "data": {
            "image/png": "[encoded data removed]",
            "text/plain": [
              "<Figure size 432x288 with 1 Axes>"
            ]
          },
          "metadata": {
            "tags": [],
            "needs_background": "light"
          }
        }
      ]
    },
    {
      "cell_type": "code",
      "metadata": {
        "colab": {
          "base_uri": "https://localhost:8080/",
          "height": 284
        },
        "id": "5oo9PkCuHSi4",
        "outputId": "6edb41b7-d471-443f-eb3c-45a8e9373471"
      },
      "source": [
        "plt.plot(x_test, y_test, 'bo', label='Testing data') "
      ],
      "execution_count": 175,
      "outputs": [
        {
          "output_type": "execute_result",
          "data": {
            "text/plain": [
              "[<matplotlib.lines.Line2D at 0x7fb36b040f50>]"
            ]
          },
          "metadata": {
            "tags": []
          },
          "execution_count": 175
        },
        {
          "output_type": "display_data",
          "data": {
            "image/png": "[encoded data removed]",
            "text/plain": [
              "<Figure size 432x288 with 1 Axes>"
            ]
          },
          "metadata": {
            "tags": [],
            "needs_background": "light"
          }
        }
      ]
    },
    {
      "cell_type": "code",
      "metadata": {
        "colab": {
          "base_uri": "https://localhost:8080/",
          "height": 588
        },
        "id": "lj6BjxddHcby",
        "outputId": "e78d7eda-7f10-463f-f323-6974f08d2fad"
      },
      "source": [
        "'''\n",
        "plt.plot(x_test, y_test, 'bo', label='Testing data') \n",
        "plt.plot(x_test,weight.data)  #ValueError: x and y must have same first dimension, but have shapes (5,) and (1,)\n",
        "'''"
      ],
      "execution_count": 176,
      "outputs": [
        {
          "output_type": "error",
          "ename": "ValueError",
          "evalue": "ignored",
          "traceback": [
            "\u001b[0;31m---------------------------------------------------------------------------\u001b[0m",
            "\u001b[0;31mValueError\u001b[0m                                Traceback (most recent call last)",
            "\u001b[0;32m<ipython-input-176-fe27bb0dfb40>\u001b[0m in \u001b[0;36m<module>\u001b[0;34m()\u001b[0m\n\u001b[1;32m      1\u001b[0m \u001b[0mplt\u001b[0m\u001b[0;34m.\u001b[0m\u001b[0mplot\u001b[0m\u001b[0;34m(\u001b[0m\u001b[0mx_test\u001b[0m\u001b[0;34m,\u001b[0m \u001b[0my_test\u001b[0m\u001b[0;34m,\u001b[0m \u001b[0;34m'bo'\u001b[0m\u001b[0;34m,\u001b[0m \u001b[0mlabel\u001b[0m\u001b[0;34m=\u001b[0m\u001b[0;34m'Testing data'\u001b[0m\u001b[0;34m)\u001b[0m\u001b[0;34m\u001b[0m\u001b[0;34m\u001b[0m\u001b[0m\n\u001b[0;32m----> 2\u001b[0;31m \u001b[0mplt\u001b[0m\u001b[0;34m.\u001b[0m\u001b[0mplot\u001b[0m\u001b[0;34m(\u001b[0m\u001b[0mx_test\u001b[0m\u001b[0;34m,\u001b[0m\u001b[0mweight\u001b[0m\u001b[0;34m.\u001b[0m\u001b[0mdata\u001b[0m\u001b[0;34m)\u001b[0m\u001b[0;34m\u001b[0m\u001b[0;34m\u001b[0m\u001b[0m\n\u001b[0m",
            "\u001b[0;32m/usr/local/lib/python3.7/dist-packages/matplotlib/pyplot.py\u001b[0m in \u001b[0;36mplot\u001b[0;34m(scalex, scaley, data, *args, **kwargs)\u001b[0m\n\u001b[1;32m   2761\u001b[0m     return gca().plot(\n\u001b[1;32m   2762\u001b[0m         *args, scalex=scalex, scaley=scaley, **({\"data\": data} if data\n\u001b[0;32m-> 2763\u001b[0;31m         is not None else {}), **kwargs)\n\u001b[0m\u001b[1;32m   2764\u001b[0m \u001b[0;34m\u001b[0m\u001b[0m\n\u001b[1;32m   2765\u001b[0m \u001b[0;34m\u001b[0m\u001b[0m\n",
            "\u001b[0;32m/usr/local/lib/python3.7/dist-packages/matplotlib/axes/_axes.py\u001b[0m in \u001b[0;36mplot\u001b[0;34m(self, scalex, scaley, data, *args, **kwargs)\u001b[0m\n\u001b[1;32m   1645\u001b[0m         \"\"\"\n\u001b[1;32m   1646\u001b[0m         \u001b[0mkwargs\u001b[0m \u001b[0;34m=\u001b[0m \u001b[0mcbook\u001b[0m\u001b[0;34m.\u001b[0m\u001b[0mnormalize_kwargs\u001b[0m\u001b[0;34m(\u001b[0m\u001b[0mkwargs\u001b[0m\u001b[0;34m,\u001b[0m \u001b[0mmlines\u001b[0m\u001b[0;34m.\u001b[0m\u001b[0mLine2D\u001b[0m\u001b[0;34m)\u001b[0m\u001b[0;34m\u001b[0m\u001b[0;34m\u001b[0m\u001b[0m\n\u001b[0;32m-> 1647\u001b[0;31m         \u001b[0mlines\u001b[0m \u001b[0;34m=\u001b[0m \u001b[0;34m[\u001b[0m\u001b[0;34m*\u001b[0m\u001b[0mself\u001b[0m\u001b[0;34m.\u001b[0m\u001b[0m_get_lines\u001b[0m\u001b[0;34m(\u001b[0m\u001b[0;34m*\u001b[0m\u001b[0margs\u001b[0m\u001b[0;34m,\u001b[0m \u001b[0mdata\u001b[0m\u001b[0;34m=\u001b[0m\u001b[0mdata\u001b[0m\u001b[0;34m,\u001b[0m \u001b[0;34m**\u001b[0m\u001b[0mkwargs\u001b[0m\u001b[0;34m)\u001b[0m\u001b[0;34m]\u001b[0m\u001b[0;34m\u001b[0m\u001b[0;34m\u001b[0m\u001b[0m\n\u001b[0m\u001b[1;32m   1648\u001b[0m         \u001b[0;32mfor\u001b[0m \u001b[0mline\u001b[0m \u001b[0;32min\u001b[0m \u001b[0mlines\u001b[0m\u001b[0;34m:\u001b[0m\u001b[0;34m\u001b[0m\u001b[0;34m\u001b[0m\u001b[0m\n\u001b[1;32m   1649\u001b[0m             \u001b[0mself\u001b[0m\u001b[0;34m.\u001b[0m\u001b[0madd_line\u001b[0m\u001b[0;34m(\u001b[0m\u001b[0mline\u001b[0m\u001b[0;34m)\u001b[0m\u001b[0;34m\u001b[0m\u001b[0;34m\u001b[0m\u001b[0m\n",
            "\u001b[0;32m/usr/local/lib/python3.7/dist-packages/matplotlib/axes/_base.py\u001b[0m in \u001b[0;36m__call__\u001b[0;34m(self, *args, **kwargs)\u001b[0m\n\u001b[1;32m    214\u001b[0m                 \u001b[0mthis\u001b[0m \u001b[0;34m+=\u001b[0m \u001b[0margs\u001b[0m\u001b[0;34m[\u001b[0m\u001b[0;36m0\u001b[0m\u001b[0;34m]\u001b[0m\u001b[0;34m,\u001b[0m\u001b[0;34m\u001b[0m\u001b[0;34m\u001b[0m\u001b[0m\n\u001b[1;32m    215\u001b[0m                 \u001b[0margs\u001b[0m \u001b[0;34m=\u001b[0m \u001b[0margs\u001b[0m\u001b[0;34m[\u001b[0m\u001b[0;36m1\u001b[0m\u001b[0;34m:\u001b[0m\u001b[0;34m]\u001b[0m\u001b[0;34m\u001b[0m\u001b[0;34m\u001b[0m\u001b[0m\n\u001b[0;32m--> 216\u001b[0;31m             \u001b[0;32myield\u001b[0m \u001b[0;32mfrom\u001b[0m \u001b[0mself\u001b[0m\u001b[0;34m.\u001b[0m\u001b[0m_plot_args\u001b[0m\u001b[0;34m(\u001b[0m\u001b[0mthis\u001b[0m\u001b[0;34m,\u001b[0m \u001b[0mkwargs\u001b[0m\u001b[0;34m)\u001b[0m\u001b[0;34m\u001b[0m\u001b[0;34m\u001b[0m\u001b[0m\n\u001b[0m\u001b[1;32m    217\u001b[0m \u001b[0;34m\u001b[0m\u001b[0m\n\u001b[1;32m    218\u001b[0m     \u001b[0;32mdef\u001b[0m \u001b[0mget_next_color\u001b[0m\u001b[0;34m(\u001b[0m\u001b[0mself\u001b[0m\u001b[0;34m)\u001b[0m\u001b[0;34m:\u001b[0m\u001b[0;34m\u001b[0m\u001b[0;34m\u001b[0m\u001b[0m\n",
            "\u001b[0;32m/usr/local/lib/python3.7/dist-packages/matplotlib/axes/_base.py\u001b[0m in \u001b[0;36m_plot_args\u001b[0;34m(self, tup, kwargs)\u001b[0m\n\u001b[1;32m    340\u001b[0m \u001b[0;34m\u001b[0m\u001b[0m\n\u001b[1;32m    341\u001b[0m         \u001b[0;32mif\u001b[0m \u001b[0mx\u001b[0m\u001b[0;34m.\u001b[0m\u001b[0mshape\u001b[0m\u001b[0;34m[\u001b[0m\u001b[0;36m0\u001b[0m\u001b[0;34m]\u001b[0m \u001b[0;34m!=\u001b[0m \u001b[0my\u001b[0m\u001b[0;34m.\u001b[0m\u001b[0mshape\u001b[0m\u001b[0;34m[\u001b[0m\u001b[0;36m0\u001b[0m\u001b[0;34m]\u001b[0m\u001b[0;34m:\u001b[0m\u001b[0;34m\u001b[0m\u001b[0;34m\u001b[0m\u001b[0m\n\u001b[0;32m--> 342\u001b[0;31m             raise ValueError(f\"x and y must have same first dimension, but \"\n\u001b[0m\u001b[1;32m    343\u001b[0m                              f\"have shapes {x.shape} and {y.shape}\")\n\u001b[1;32m    344\u001b[0m         \u001b[0;32mif\u001b[0m \u001b[0mx\u001b[0m\u001b[0;34m.\u001b[0m\u001b[0mndim\u001b[0m \u001b[0;34m>\u001b[0m \u001b[0;36m2\u001b[0m \u001b[0;32mor\u001b[0m \u001b[0my\u001b[0m\u001b[0;34m.\u001b[0m\u001b[0mndim\u001b[0m \u001b[0;34m>\u001b[0m \u001b[0;36m2\u001b[0m\u001b[0;34m:\u001b[0m\u001b[0;34m\u001b[0m\u001b[0;34m\u001b[0m\u001b[0m\n",
            "\u001b[0;31mValueError\u001b[0m: x and y must have same first dimension, but have shapes (5,) and (1,)"
          ]
        },
        {
          "output_type": "display_data",
          "data": {
            "image/png": "[encoded data removed]",
            "text/plain": [
              "<Figure size 432x288 with 1 Axes>"
            ]
          },
          "metadata": {
            "tags": [],
            "needs_background": "light"
          }
        }
      ]
    },
    {
      "cell_type": "code",
      "metadata": {
        "colab": {
          "base_uri": "https://localhost:8080/",
          "height": 588
        },
        "id": "HeL5IWBqHiaN",
        "outputId": "0048dfee-f7dd-4cbb-d86a-4365aedab2b4"
      },
      "source": [
        "'''plt.plot(x_test, y_test, 'bo', label='Testing data') \n",
        "plt.plot(x_test,weight.data * x_training)\n",
        "'''\n",
        "#ValueError: x and y must have same first dimension, but have shapes (5,) and torch.Size([10])"
      ],
      "execution_count": 177,
      "outputs": [
        {
          "output_type": "error",
          "ename": "ValueError",
          "evalue": "ignored",
          "traceback": [
            "\u001b[0;31m---------------------------------------------------------------------------\u001b[0m",
            "\u001b[0;31mValueError\u001b[0m                                Traceback (most recent call last)",
            "\u001b[0;32m<ipython-input-177-3b32e3f6ff3e>\u001b[0m in \u001b[0;36m<module>\u001b[0;34m()\u001b[0m\n\u001b[1;32m      1\u001b[0m \u001b[0mplt\u001b[0m\u001b[0;34m.\u001b[0m\u001b[0mplot\u001b[0m\u001b[0;34m(\u001b[0m\u001b[0mx_test\u001b[0m\u001b[0;34m,\u001b[0m \u001b[0my_test\u001b[0m\u001b[0;34m,\u001b[0m \u001b[0;34m'bo'\u001b[0m\u001b[0;34m,\u001b[0m \u001b[0mlabel\u001b[0m\u001b[0;34m=\u001b[0m\u001b[0;34m'Testing data'\u001b[0m\u001b[0;34m)\u001b[0m\u001b[0;34m\u001b[0m\u001b[0;34m\u001b[0m\u001b[0m\n\u001b[0;32m----> 2\u001b[0;31m \u001b[0mplt\u001b[0m\u001b[0;34m.\u001b[0m\u001b[0mplot\u001b[0m\u001b[0;34m(\u001b[0m\u001b[0mx_test\u001b[0m\u001b[0;34m,\u001b[0m\u001b[0mweight\u001b[0m\u001b[0;34m.\u001b[0m\u001b[0mdata\u001b[0m \u001b[0;34m*\u001b[0m \u001b[0mx_training\u001b[0m\u001b[0;34m)\u001b[0m\u001b[0;34m\u001b[0m\u001b[0;34m\u001b[0m\u001b[0m\n\u001b[0m",
            "\u001b[0;32m/usr/local/lib/python3.7/dist-packages/matplotlib/pyplot.py\u001b[0m in \u001b[0;36mplot\u001b[0;34m(scalex, scaley, data, *args, **kwargs)\u001b[0m\n\u001b[1;32m   2761\u001b[0m     return gca().plot(\n\u001b[1;32m   2762\u001b[0m         *args, scalex=scalex, scaley=scaley, **({\"data\": data} if data\n\u001b[0;32m-> 2763\u001b[0;31m         is not None else {}), **kwargs)\n\u001b[0m\u001b[1;32m   2764\u001b[0m \u001b[0;34m\u001b[0m\u001b[0m\n\u001b[1;32m   2765\u001b[0m \u001b[0;34m\u001b[0m\u001b[0m\n",
            "\u001b[0;32m/usr/local/lib/python3.7/dist-packages/matplotlib/axes/_axes.py\u001b[0m in \u001b[0;36mplot\u001b[0;34m(self, scalex, scaley, data, *args, **kwargs)\u001b[0m\n\u001b[1;32m   1645\u001b[0m         \"\"\"\n\u001b[1;32m   1646\u001b[0m         \u001b[0mkwargs\u001b[0m \u001b[0;34m=\u001b[0m \u001b[0mcbook\u001b[0m\u001b[0;34m.\u001b[0m\u001b[0mnormalize_kwargs\u001b[0m\u001b[0;34m(\u001b[0m\u001b[0mkwargs\u001b[0m\u001b[0;34m,\u001b[0m \u001b[0mmlines\u001b[0m\u001b[0;34m.\u001b[0m\u001b[0mLine2D\u001b[0m\u001b[0;34m)\u001b[0m\u001b[0;34m\u001b[0m\u001b[0;34m\u001b[0m\u001b[0m\n\u001b[0;32m-> 1647\u001b[0;31m         \u001b[0mlines\u001b[0m \u001b[0;34m=\u001b[0m \u001b[0;34m[\u001b[0m\u001b[0;34m*\u001b[0m\u001b[0mself\u001b[0m\u001b[0;34m.\u001b[0m\u001b[0m_get_lines\u001b[0m\u001b[0;34m(\u001b[0m\u001b[0;34m*\u001b[0m\u001b[0margs\u001b[0m\u001b[0;34m,\u001b[0m \u001b[0mdata\u001b[0m\u001b[0;34m=\u001b[0m\u001b[0mdata\u001b[0m\u001b[0;34m,\u001b[0m \u001b[0;34m**\u001b[0m\u001b[0mkwargs\u001b[0m\u001b[0;34m)\u001b[0m\u001b[0;34m]\u001b[0m\u001b[0;34m\u001b[0m\u001b[0;34m\u001b[0m\u001b[0m\n\u001b[0m\u001b[1;32m   1648\u001b[0m         \u001b[0;32mfor\u001b[0m \u001b[0mline\u001b[0m \u001b[0;32min\u001b[0m \u001b[0mlines\u001b[0m\u001b[0;34m:\u001b[0m\u001b[0;34m\u001b[0m\u001b[0;34m\u001b[0m\u001b[0m\n\u001b[1;32m   1649\u001b[0m             \u001b[0mself\u001b[0m\u001b[0;34m.\u001b[0m\u001b[0madd_line\u001b[0m\u001b[0;34m(\u001b[0m\u001b[0mline\u001b[0m\u001b[0;34m)\u001b[0m\u001b[0;34m\u001b[0m\u001b[0;34m\u001b[0m\u001b[0m\n",
            "\u001b[0;32m/usr/local/lib/python3.7/dist-packages/matplotlib/axes/_base.py\u001b[0m in \u001b[0;36m__call__\u001b[0;34m(self, *args, **kwargs)\u001b[0m\n\u001b[1;32m    214\u001b[0m                 \u001b[0mthis\u001b[0m \u001b[0;34m+=\u001b[0m \u001b[0margs\u001b[0m\u001b[0;34m[\u001b[0m\u001b[0;36m0\u001b[0m\u001b[0;34m]\u001b[0m\u001b[0;34m,\u001b[0m\u001b[0;34m\u001b[0m\u001b[0;34m\u001b[0m\u001b[0m\n\u001b[1;32m    215\u001b[0m                 \u001b[0margs\u001b[0m \u001b[0;34m=\u001b[0m \u001b[0margs\u001b[0m\u001b[0;34m[\u001b[0m\u001b[0;36m1\u001b[0m\u001b[0;34m:\u001b[0m\u001b[0;34m]\u001b[0m\u001b[0;34m\u001b[0m\u001b[0;34m\u001b[0m\u001b[0m\n\u001b[0;32m--> 216\u001b[0;31m             \u001b[0;32myield\u001b[0m \u001b[0;32mfrom\u001b[0m \u001b[0mself\u001b[0m\u001b[0;34m.\u001b[0m\u001b[0m_plot_args\u001b[0m\u001b[0;34m(\u001b[0m\u001b[0mthis\u001b[0m\u001b[0;34m,\u001b[0m \u001b[0mkwargs\u001b[0m\u001b[0;34m)\u001b[0m\u001b[0;34m\u001b[0m\u001b[0;34m\u001b[0m\u001b[0m\n\u001b[0m\u001b[1;32m    217\u001b[0m \u001b[0;34m\u001b[0m\u001b[0m\n\u001b[1;32m    218\u001b[0m     \u001b[0;32mdef\u001b[0m \u001b[0mget_next_color\u001b[0m\u001b[0;34m(\u001b[0m\u001b[0mself\u001b[0m\u001b[0;34m)\u001b[0m\u001b[0;34m:\u001b[0m\u001b[0;34m\u001b[0m\u001b[0;34m\u001b[0m\u001b[0m\n",
            "\u001b[0;32m/usr/local/lib/python3.7/dist-packages/matplotlib/axes/_base.py\u001b[0m in \u001b[0;36m_plot_args\u001b[0;34m(self, tup, kwargs)\u001b[0m\n\u001b[1;32m    340\u001b[0m \u001b[0;34m\u001b[0m\u001b[0m\n\u001b[1;32m    341\u001b[0m         \u001b[0;32mif\u001b[0m \u001b[0mx\u001b[0m\u001b[0;34m.\u001b[0m\u001b[0mshape\u001b[0m\u001b[0;34m[\u001b[0m\u001b[0;36m0\u001b[0m\u001b[0;34m]\u001b[0m \u001b[0;34m!=\u001b[0m \u001b[0my\u001b[0m\u001b[0;34m.\u001b[0m\u001b[0mshape\u001b[0m\u001b[0;34m[\u001b[0m\u001b[0;36m0\u001b[0m\u001b[0;34m]\u001b[0m\u001b[0;34m:\u001b[0m\u001b[0;34m\u001b[0m\u001b[0;34m\u001b[0m\u001b[0m\n\u001b[0;32m--> 342\u001b[0;31m             raise ValueError(f\"x and y must have same first dimension, but \"\n\u001b[0m\u001b[1;32m    343\u001b[0m                              f\"have shapes {x.shape} and {y.shape}\")\n\u001b[1;32m    344\u001b[0m         \u001b[0;32mif\u001b[0m \u001b[0mx\u001b[0m\u001b[0;34m.\u001b[0m\u001b[0mndim\u001b[0m \u001b[0;34m>\u001b[0m \u001b[0;36m2\u001b[0m \u001b[0;32mor\u001b[0m \u001b[0my\u001b[0m\u001b[0;34m.\u001b[0m\u001b[0mndim\u001b[0m \u001b[0;34m>\u001b[0m \u001b[0;36m2\u001b[0m\u001b[0;34m:\u001b[0m\u001b[0;34m\u001b[0m\u001b[0;34m\u001b[0m\u001b[0m\n",
            "\u001b[0;31mValueError\u001b[0m: x and y must have same first dimension, but have shapes (5,) and torch.Size([10])"
          ]
        },
        {
          "output_type": "display_data",
          "data": {
            "image/png": "[encoded data removed]",
            "text/plain": [
              "<Figure size 432x288 with 1 Axes>"
            ]
          },
          "metadata": {
            "tags": [],
            "needs_background": "light"
          }
        }
      ]
    },
    {
      "cell_type": "code",
      "metadata": {
        "colab": {
          "base_uri": "https://localhost:8080/",
          "height": 266
        },
        "id": "djv73N07HuqG",
        "outputId": "ed3fab7f-ce48-46a2-8908-98170d86dbc5"
      },
      "source": [
        "plt.plot(x_test, y_test,  label='Testing data')  #不规定就是线'bo',\n",
        "plt.plot(x_test,weight.data * x_test + bias.data, label= 'Linear')\n",
        "plt.legend()\n",
        "plt.show()"
      ],
      "execution_count": 184,
      "outputs": [
        {
          "output_type": "display_data",
          "data": {
            "image/png": "[encoded data removed]",
            "text/plain": [
              "<Figure size 432x288 with 1 Axes>"
            ]
          },
          "metadata": {
            "tags": [],
            "needs_background": "light"
          }
        }
      ]
    },
    {
      "cell_type": "code",
      "metadata": {
        "colab": {
          "base_uri": "https://localhost:8080/",
          "height": 266
        },
        "id": "YeBUaihKICtg",
        "outputId": "9ab69a1a-61de-48a5-f922-23e34340f9dc"
      },
      "source": [
        "plt.plot(x_test, y_test, 'bo', label='Testing data')  #不规定就是线'bo',\n",
        "plt.plot(x_test,weight.data * x_test + bias.data, label= 'Linear')\n",
        "plt.legend()\n",
        "plt.show()"
      ],
      "execution_count": 185,
      "outputs": [
        {
          "output_type": "display_data",
          "data": {
            "image/png": "[encoded data removed]",
            "text/plain": [
              "<Figure size 432x288 with 1 Axes>"
            ]
          },
          "metadata": {
            "tags": [],
            "needs_background": "light"
          }
        }
      ]
    },
    {
      "cell_type": "markdown",
      "metadata": {
        "id": "VYN0IG6YIdiD"
      },
      "source": [
        "**linear regression __ use  PyTorch built-ins** 使用内置的pytorch 线性回归"
      ]
    },
    {
      "cell_type": "code",
      "metadata": {
        "id": "y8Jlpfz5Iya_"
      },
      "source": [
        "#没准调包了\n",
        "# prepare data"
      ],
      "execution_count": 1,
      "outputs": []
    },
    {
      "cell_type": "code",
      "metadata": {
        "id": "B1tfjtALrjSW"
      },
      "source": [
        "import numpy\n",
        "import matplotlib.pyplot as plt\n",
        "import torch\n",
        "import torch.nn as nn"
      ],
      "execution_count": 3,
      "outputs": []
    },
    {
      "cell_type": "code",
      "metadata": {
        "id": "Kdb7p4Knro82"
      },
      "source": [
        "#training data\n",
        "x_data = torch.randn(90,10)  #90 行 row \\line10 列column  : this is 2d array \n",
        "y_data = torch.randn(90,1)  \n",
        "'''\n",
        "we have 90 samples 10features ——————》house condition\n",
        "such bedroom number ; distance to city center ……\n",
        "aim】: predict house price\n",
        "\n",
        "'''"
      ],
      "execution_count": 6,
      "outputs": []
    },
    {
      "cell_type": "code",
      "metadata": {
        "colab": {
          "base_uri": "https://localhost:8080/"
        },
        "id": "Tx6By2_rryIx",
        "outputId": "8559095c-b287-47aa-fe1c-6ca4239bf7c1"
      },
      "source": [
        "x_data"
      ],
      "execution_count": 5,
      "outputs": [
        {
          "output_type": "execute_result",
          "data": {
            "text/plain": [
              "tensor([[-1.2916e+00, -6.1030e-01,  2.1007e-01, -1.5329e+00, -7.1062e-01,\n",
              "          1.9946e+00,  1.4496e+00,  2.2706e-02, -8.6627e-01,  1.8878e+00],\n",
              "        [ 6.9743e-01, -5.6674e-01, -2.5194e-01,  9.3696e-01, -3.5725e-02,\n",
              "          8.1835e-01, -4.7763e-01,  1.8231e+00, -4.8933e-01, -9.2679e-01],\n",
              "        [ 5.4129e-01, -1.5213e+00, -2.9973e-01, -2.3851e-01,  1.2096e+00,\n",
              "          1.9841e+00, -2.1368e-01,  7.1456e-02,  4.9390e-01,  1.1940e-02],\n",
              "        [-9.6249e-01, -4.8230e-01, -1.3749e+00,  8.5356e-01, -8.9609e-01,\n",
              "          1.2467e+00,  5.5782e-01,  1.9519e-01,  5.3227e-02, -8.5293e-01],\n",
              "        [-2.6381e+00, -1.1171e+00,  4.4728e-01,  9.9498e-01, -4.2606e-02,\n",
              "          9.5956e-01,  1.0839e+00,  8.6209e-01,  1.8204e-01, -5.2057e-01],\n",
              "        [-1.0928e+00,  2.4964e+00, -4.7076e-01, -3.8841e-01, -2.2050e-01,\n",
              "          1.4312e-01, -9.9137e-01, -1.5369e+00,  2.2081e+00, -6.9018e-01],\n",
              "        [-2.0697e+00, -2.3187e-01,  8.0291e-01, -4.6133e-01, -2.2261e-01,\n",
              "         -5.5630e-01,  1.9698e+00, -1.2306e+00,  1.4483e-01, -4.2415e-01],\n",
              "        [-1.0243e+00,  3.9572e-01,  2.9223e-01, -3.7065e-01,  1.1641e+00,\n",
              "          1.4728e+00, -7.9867e-01, -8.3766e-01, -5.0069e-01,  3.4674e-01],\n",
              "        [-3.8362e-01,  1.4180e+00, -1.1371e+00, -4.1271e-01, -7.7915e-01,\n",
              "         -1.3360e+00,  1.0087e-01, -4.8777e-01,  2.1162e+00, -1.9584e+00],\n",
              "        [ 4.8348e-01,  1.2211e+00,  1.8785e+00, -8.0918e-01, -4.0700e-01,\n",
              "         -1.1965e+00, -2.4683e-01,  1.3243e+00,  1.7032e-01, -1.4896e+00],\n",
              "        [ 1.4161e+00,  1.4133e+00, -8.3722e-01, -7.3140e-01,  6.3852e-01,\n",
              "         -1.6472e+00,  4.6784e-01,  1.5773e+00, -9.2807e-01,  1.1137e+00],\n",
              "        [ 6.0719e-01, -5.0253e-01,  5.0564e-01,  1.0303e+00,  3.3856e-01,\n",
              "         -5.2314e-01,  5.8952e-01,  7.0722e-01,  1.5288e+00, -8.7801e-03],\n",
              "        [-3.5105e-02, -4.5549e-01, -6.5265e-01, -9.5053e-01,  5.2310e-01,\n",
              "         -1.1034e+00,  5.2122e-02,  2.5758e-01, -4.1567e-01,  1.5700e-01],\n",
              "        [-6.6127e-01, -1.2705e+00,  1.2079e-01, -9.4965e-01,  9.5791e-01,\n",
              "          6.3782e-01,  1.5402e+00, -1.1477e+00,  5.0393e-01, -1.6003e+00],\n",
              "        [-9.6988e-01, -3.7258e-01,  1.7098e-03, -5.3712e-01,  2.6052e+00,\n",
              "         -2.7329e+00, -5.6165e-02, -1.1190e+00, -1.4710e-01,  1.2665e+00],\n",
              "        [ 1.7807e-01, -1.1750e-01, -2.2322e+00,  1.8230e-01,  1.0383e+00,\n",
              "          4.7628e-01, -8.6597e-01, -2.2780e+00, -1.2363e+00,  8.5748e-01],\n",
              "        [-1.4313e+00, -6.4915e-01,  1.0987e-01,  2.9462e-01,  2.7145e-01,\n",
              "         -1.2646e-01,  1.9311e-01,  7.9392e-01, -7.2903e-01,  2.0173e+00],\n",
              "        [ 6.1208e-01, -9.9384e-02,  4.0843e-02, -2.5181e-01, -9.0859e-01,\n",
              "         -6.5172e-01,  7.9071e-01, -1.3338e+00,  9.0125e-01, -9.4581e-02],\n",
              "        [ 5.9670e-01,  1.4863e+00, -1.2581e+00,  8.3337e-01,  4.7829e-02,\n",
              "         -2.5082e-01,  1.6247e+00, -4.4336e-01, -2.2677e+00, -9.1770e-01],\n",
              "        [ 9.7486e-01, -1.2296e+00, -2.3418e-01, -1.6876e+00,  9.8593e-01,\n",
              "         -2.8707e-01, -2.0675e+00, -6.8361e-01,  2.2546e-01, -1.9473e-01],\n",
              "        [ 1.9255e+00, -1.4023e-01,  5.6572e-01,  8.0920e-01,  1.3600e+00,\n",
              "         -1.3075e+00,  6.6418e-04, -3.1224e-01,  7.8062e-01,  1.3738e+00],\n",
              "        [-4.4686e-01,  9.4523e-01, -7.1387e-01, -9.7639e-01, -8.8050e-01,\n",
              "         -5.0039e-01, -4.7986e-01, -3.1445e-01, -2.0791e-01, -4.5508e-01],\n",
              "        [ 1.7569e-01, -1.1187e+00,  7.9138e-02, -1.7878e+00, -7.8475e-01,\n",
              "         -1.5686e+00,  1.6873e+00,  1.6710e+00,  8.3278e-01, -3.2846e-01],\n",
              "        [ 8.4546e-02,  5.7973e-01, -2.7691e-01,  2.2891e+00,  1.2150e+00,\n",
              "         -1.4594e+00, -8.4332e-01,  4.2937e-01, -7.9818e-01, -7.5072e-01],\n",
              "        [ 1.1799e-01, -1.2719e+00,  9.5155e-01,  1.1541e+00,  9.6821e-01,\n",
              "          1.0869e+00,  6.2488e-02,  2.7181e-01, -6.5906e-01,  3.1020e-01],\n",
              "        [ 2.1408e+00, -8.3436e-02, -1.6252e-01, -4.5158e-01,  3.2548e-01,\n",
              "         -9.0690e-01, -9.3359e-02, -4.2357e-01,  6.3701e-01,  2.3674e-01],\n",
              "        [ 2.2008e+00, -4.8262e-01, -1.6386e+00, -3.3065e-01, -5.5312e-01,\n",
              "          2.4047e-01,  1.5330e+00, -1.2216e+00,  1.3113e+00,  1.7642e-01],\n",
              "        [ 3.0060e-01,  1.6174e+00,  1.0120e+00,  1.4876e+00, -1.2305e-01,\n",
              "         -2.4193e-02, -1.5914e+00,  6.6582e-02,  4.5131e-01, -1.1618e+00],\n",
              "        [ 9.1430e-01,  2.0443e+00, -8.9980e-02,  9.2006e-01,  1.6978e-01,\n",
              "         -9.7932e-01,  9.1187e-01,  3.0349e-01,  4.4992e-02,  6.6044e-01],\n",
              "        [-2.0259e-01, -8.0547e-01, -4.1219e-01,  1.8179e+00,  4.6643e-01,\n",
              "          3.0898e+00, -1.0538e-01, -1.5248e+00,  1.0727e+00,  1.4156e+00],\n",
              "        [-6.4028e-01,  1.9182e+00,  4.3910e-01,  1.3280e+00,  1.0620e-02,\n",
              "         -2.4830e+00, -4.0448e-01,  2.0254e+00,  2.6149e-01,  2.6965e-01],\n",
              "        [-9.2126e-01, -6.5229e-01,  1.6879e+00,  3.2085e-01, -1.3555e+00,\n",
              "          4.3157e-01,  1.6838e-01, -6.1787e-01,  1.3520e+00, -1.6968e-02],\n",
              "        [-3.8324e-01, -1.2679e+00,  5.7170e-01,  4.1942e-03,  1.3758e+00,\n",
              "          8.5863e-01, -4.3874e-02,  8.6035e-01, -1.4773e+00, -3.5320e-01],\n",
              "        [-8.8110e-01,  4.1588e-02,  2.7100e+00, -1.2194e+00,  5.9271e-01,\n",
              "         -8.5715e-01,  8.5813e-02,  1.4208e+00, -1.0061e+00, -2.7624e-02],\n",
              "        [-6.4175e-01,  9.1579e-01,  1.6530e+00,  1.1163e-02, -6.6734e-01,\n",
              "          4.4990e-01,  9.1547e-01,  8.5378e-02,  1.3654e+00, -1.1289e+00],\n",
              "        [-5.8832e-01,  1.5560e+00,  1.4635e+00,  1.2905e-01, -2.9141e-01,\n",
              "         -1.1302e+00, -2.6176e-02,  4.3118e-01,  2.0759e+00,  4.5465e-04],\n",
              "        [-2.1864e+00, -1.4776e+00,  5.0761e-01,  5.4408e-01,  9.3876e-01,\n",
              "          1.5949e+00,  9.3907e-01,  3.0466e-01, -6.8556e-01,  1.4818e+00],\n",
              "        [-1.1405e-01, -7.2523e-01, -1.4831e+00, -7.2046e-01, -1.1553e+00,\n",
              "          9.6325e-01, -1.5699e+00, -5.9964e-01,  1.2864e-01,  9.0392e-01],\n",
              "        [ 2.3497e-01,  1.8022e-01,  4.0983e-01, -2.7260e-01, -1.9828e+00,\n",
              "         -2.8110e-01,  4.0300e-01,  2.3439e+00, -7.2410e-02, -5.5455e-01],\n",
              "        [-5.8527e-01,  1.1308e+00, -1.4193e+00, -1.2047e+00, -1.1731e+00,\n",
              "          1.3402e-01,  2.3525e-01, -3.7993e-02,  1.8490e-02,  4.1722e-02],\n",
              "        [ 8.9399e-01,  1.9979e+00,  1.5274e+00,  8.6380e-01, -1.0505e+00,\n",
              "          4.7987e-01,  3.0264e-01, -7.6619e-01, -1.2193e+00,  7.1382e-01],\n",
              "        [-1.2732e-01,  8.8760e-01, -6.3244e-01,  3.3794e-01, -8.3451e-01,\n",
              "          4.2330e-01,  1.1028e-01,  5.4129e-01, -1.3499e+00, -6.9358e-01],\n",
              "        [ 1.3970e-01, -4.9046e-01, -1.5247e-01, -8.0575e-01, -7.0294e-01,\n",
              "          7.4489e-01, -2.2780e-01,  1.6245e+00,  7.3798e-01, -3.7321e-01],\n",
              "        [ 3.0821e-01, -1.2378e-01,  5.7086e-01,  6.0388e-01,  7.1268e-01,\n",
              "         -8.7078e-01, -5.7487e-01, -5.7764e-01,  2.0543e-01,  8.9937e-01],\n",
              "        [-2.9546e-01, -2.9456e+00,  7.3618e-01, -7.9200e-01,  2.9764e-01,\n",
              "          4.8894e-01, -1.5530e+00,  2.5161e-03, -6.8020e-01, -8.6375e-01],\n",
              "        [ 6.0193e-01, -2.0487e+00, -2.3359e+00, -4.4985e-01,  1.1643e+00,\n",
              "         -1.0788e+00,  1.2889e-01,  4.5090e-01, -1.1611e+00,  1.5458e+00],\n",
              "        [ 1.7201e+00,  8.0330e-01, -6.0269e-01, -1.0404e+00, -7.4923e-01,\n",
              "         -6.2233e-01,  2.3701e-01,  5.8382e-01, -1.7323e+00, -1.2066e-01],\n",
              "        [-1.0515e+00, -3.6993e-01, -1.0922e+00,  1.2946e+00,  1.0116e+00,\n",
              "          4.8379e-01, -8.6346e-01,  2.3357e+00,  1.5901e+00, -1.1947e+00],\n",
              "        [ 9.4894e-02,  1.5605e-01, -1.9173e+00,  2.8586e-02,  1.8344e+00,\n",
              "          3.3567e-01, -2.3956e+00, -2.8556e-01,  1.2516e+00,  3.2924e-01],\n",
              "        [-1.5379e+00,  2.0423e-01, -1.6507e-01, -1.0416e+00, -1.6270e+00,\n",
              "         -1.2721e+00, -9.7556e-03,  5.7966e-01,  8.3409e-01, -5.5977e-01],\n",
              "        [ 1.6169e+00, -6.2372e-01,  3.9887e-01,  8.3933e-02,  2.3111e+00,\n",
              "          1.5807e-01,  1.2573e-01,  1.5475e+00, -5.7234e-01, -3.8630e-01],\n",
              "        [ 1.2244e+00, -5.1523e-01, -1.4575e-01, -5.5800e-01, -3.8362e-01,\n",
              "         -6.0823e-01,  8.5017e-01,  1.0198e-01, -1.2069e+00,  4.1498e-02],\n",
              "        [ 1.7634e+00, -2.2847e+00,  3.7102e-01, -1.6982e+00, -6.3602e-01,\n",
              "         -1.0707e-02,  1.0973e+00, -2.5941e+00, -1.6263e-01,  1.0696e+00],\n",
              "        [-6.5212e-01, -1.0218e+00,  1.7710e-02,  1.3392e-01, -3.4427e-01,\n",
              "         -1.7717e-01, -1.3249e+00,  1.1016e+00, -3.2526e-02, -1.4245e+00],\n",
              "        [-2.3519e+00,  8.8329e-01,  2.6020e-01,  1.0056e+00, -4.9029e-01,\n",
              "         -1.8544e+00,  1.0922e-01,  5.4386e-01,  4.9538e-01, -1.6808e+00],\n",
              "        [-7.5053e-01,  6.0173e-01, -1.2086e-01,  2.1738e+00, -1.5187e+00,\n",
              "         -6.5071e-01, -1.0344e+00,  6.5853e-01, -1.6290e+00, -1.9341e+00],\n",
              "        [ 8.1860e-02,  1.0447e+00, -9.9481e-01,  2.2354e+00, -3.2816e-01,\n",
              "         -5.7583e-01,  1.2701e+00, -8.9002e-01,  9.2834e-01,  5.5925e-01],\n",
              "        [-1.1209e+00,  2.0305e+00, -3.1044e+00,  8.6695e-01,  1.0580e-01,\n",
              "          1.9206e-01,  1.1437e+00, -9.7868e-01, -2.7816e+00,  6.9740e-01],\n",
              "        [-8.7207e-01, -6.6747e-01,  1.0451e+00, -7.6384e-01, -5.9820e-01,\n",
              "          5.8983e-01, -8.5506e-02,  1.2485e+00, -9.4570e-03, -9.6137e-01],\n",
              "        [ 1.0932e+00,  2.3063e-01, -9.0837e-01, -7.5758e-01,  7.6960e-01,\n",
              "          2.3326e+00, -5.2221e-01, -6.9876e-01, -4.6957e-01,  1.0310e+00],\n",
              "        [ 4.7629e-01, -1.7423e+00, -7.6092e-01, -8.9978e-01,  9.9442e-01,\n",
              "         -5.8834e-01, -1.7024e-01, -3.0039e-01,  1.3992e+00, -1.3814e+00],\n",
              "        [ 1.3686e-01, -1.9765e-01, -9.8746e-01,  8.5118e-01,  1.4427e+00,\n",
              "         -1.0729e+00,  2.8306e-01, -1.8665e+00,  2.0893e+00, -1.4486e+00],\n",
              "        [-1.6508e+00,  2.1304e-01, -3.1873e-01, -5.1765e-01,  1.8395e+00,\n",
              "         -1.0904e+00,  8.2711e-01,  1.2828e+00,  1.3817e+00,  1.9719e+00],\n",
              "        [ 2.6428e-03, -7.5634e-01, -2.0120e-01, -6.0553e-01,  1.3765e+00,\n",
              "          6.7398e-01, -2.6185e+00, -7.1908e-01, -1.2980e+00,  3.9912e-01],\n",
              "        [-9.6947e-01,  7.9613e-01, -2.1015e+00, -1.7371e+00,  7.3116e-01,\n",
              "         -7.5278e-01,  1.2425e+00,  2.0091e+00,  4.3379e-01, -4.8269e-01],\n",
              "        [ 3.0930e-01, -5.3150e-01, -1.4134e-01, -9.0812e-01,  2.2207e-01,\n",
              "         -4.1534e-01,  3.2443e-01, -5.6844e-01,  7.0856e-01,  9.5727e-04],\n",
              "        [-6.8953e-01, -2.5246e-01,  1.7225e+00, -9.7769e-02,  2.1903e-02,\n",
              "         -1.6003e+00,  7.0547e-01,  2.7982e-01, -1.0505e+00,  2.4385e-01],\n",
              "        [ 8.3762e-01,  5.1740e-01,  2.1593e-01, -9.0410e-02,  4.5065e-01,\n",
              "         -5.4246e-01, -1.3902e+00,  1.0689e-01, -5.1700e-01,  1.0972e+00],\n",
              "        [ 5.5170e-01, -4.9991e-01,  6.9759e-01,  2.3978e+00,  1.7915e-01,\n",
              "         -3.5029e-01, -9.5055e-01, -3.4136e-02, -1.9923e-01, -6.5599e-01],\n",
              "        [ 1.1836e+00,  1.3241e+00,  3.2131e-01,  6.6179e-01,  5.5114e-01,\n",
              "          3.8728e-01,  1.1822e+00,  1.2747e+00, -7.2681e-01, -1.1577e+00],\n",
              "        [ 9.5985e-01,  5.2824e-02,  4.3421e-01,  2.1570e-01,  1.4233e+00,\n",
              "          2.1284e+00,  2.0754e+00, -1.6245e+00,  1.4279e+00, -8.3752e-01],\n",
              "        [ 8.7569e-01, -1.3280e+00, -1.1508e+00, -2.0881e-01,  1.2929e+00,\n",
              "          8.2046e-01,  1.0049e+00,  6.0219e-01,  1.4430e+00, -2.4374e-01],\n",
              "        [-1.3241e+00,  6.7102e-01, -2.5987e-01,  1.1573e+00,  7.4743e-01,\n",
              "         -5.0738e-01, -6.6965e-01, -2.2959e+00, -1.0395e-01,  2.2282e-01],\n",
              "        [-1.4184e+00, -1.2267e+00, -1.1261e+00, -9.0109e-01,  1.0805e+00,\n",
              "          2.8435e-02,  9.0760e-01, -3.6070e-01, -3.8533e-01, -2.6542e+00],\n",
              "        [-3.8406e-01, -4.6117e-01, -1.0540e+00,  5.9625e-01, -2.9314e-01,\n",
              "          4.6082e-01,  2.6336e-01,  1.9149e-01, -6.2388e-01,  4.5471e-02],\n",
              "        [-2.5912e-01,  1.9069e-01, -5.0725e-01, -6.4378e-01, -4.4494e-01,\n",
              "         -1.7487e+00, -6.5539e-01,  9.1739e-01,  1.3392e+00, -4.6257e-01],\n",
              "        [ 1.0525e+00,  1.4970e+00,  4.8903e-01, -1.4643e+00, -5.3826e-01,\n",
              "         -1.8490e+00, -9.0960e-01,  1.0792e+00, -3.9255e-01,  4.1193e-01],\n",
              "        [-1.2654e-02, -5.0254e-01, -1.2121e+00,  9.5149e-01, -2.4006e-01,\n",
              "          1.9388e-01,  7.7699e-01,  7.6536e-01,  1.0650e+00, -1.0297e+00],\n",
              "        [ 5.5030e-01,  2.9535e-01,  1.9896e-01,  5.2399e-01,  8.7864e-01,\n",
              "         -6.5907e-01,  1.6439e-01, -4.5135e-02, -1.5850e+00,  4.0744e-01],\n",
              "        [ 6.1245e-01,  8.6965e-01,  2.1311e-01, -4.3358e-01, -1.0300e+00,\n",
              "         -3.9527e-01,  2.9476e-02,  1.0512e+00, -8.8781e-01,  4.4237e-01],\n",
              "        [-7.0106e-01,  2.1369e-01,  2.1012e-01,  7.8195e-01, -2.2732e-01,\n",
              "          1.1174e+00, -1.0980e+00,  6.5551e-01, -3.9854e-01,  1.7357e+00],\n",
              "        [-2.6192e-01,  1.0955e+00,  8.7181e-02, -1.5891e+00,  2.5989e-01,\n",
              "         -1.1992e-01, -3.8199e-01,  4.2119e-01, -9.2991e-01,  7.5030e-01],\n",
              "        [-7.9221e-02, -1.5197e+00,  2.6341e+00,  8.8842e-01, -1.0943e+00,\n",
              "         -1.2249e+00, -1.5196e+00, -1.3001e+00,  8.8614e-01, -1.3808e+00],\n",
              "        [-2.2360e-01,  1.0520e+00, -7.0908e-01, -2.0447e-01, -2.3141e-01,\n",
              "         -8.5839e-02, -4.4032e-01, -1.7471e+00,  5.0008e-01,  6.1062e-02],\n",
              "        [-2.9162e-01,  6.7689e-01, -4.7997e-01,  1.4995e+00, -5.1921e-01,\n",
              "         -2.7265e-01, -1.2719e+00,  6.3914e-01,  3.2377e-01, -1.1111e+00],\n",
              "        [-3.8750e-01,  8.1294e-01,  6.6423e-01, -9.7003e-01,  6.8828e-01,\n",
              "         -3.1296e-01, -7.4112e-01, -5.1272e-01, -3.1888e-01,  1.8374e-01],\n",
              "        [ 4.7867e-01,  4.1959e-02,  5.5488e-01, -1.2225e+00, -8.6892e-01,\n",
              "         -2.7888e-01,  1.1301e+00, -4.9226e-01,  1.4255e+00,  1.5452e+00],\n",
              "        [-7.6448e-01, -2.5414e-01, -6.0863e-02,  1.0561e+00,  4.1560e-01,\n",
              "          6.9886e-01, -6.0495e-01,  6.2604e-01,  1.2849e-01, -2.9853e-01],\n",
              "        [-7.7830e-01,  4.6021e-01,  9.3052e-03, -1.3317e+00, -1.9519e+00,\n",
              "          1.3529e+00, -2.4521e+00, -1.2825e-01, -4.8011e-01, -6.5814e-01],\n",
              "        [ 1.5129e-01,  6.2898e-02,  6.1962e-01, -4.2194e-01,  1.2878e+00,\n",
              "          1.9288e-02, -1.7413e+00, -4.4739e-01, -8.5442e-01,  9.9702e-01]])"
            ]
          },
          "metadata": {
            "tags": []
          },
          "execution_count": 5
        }
      ]
    },
    {
      "cell_type": "code",
      "metadata": {
        "colab": {
          "base_uri": "https://localhost:8080/"
        },
        "id": "oBcbFV2_r5mY",
        "outputId": "0a9a324a-7148-48ce-bad3-ff307ded96d3"
      },
      "source": [
        "y_data"
      ],
      "execution_count": 7,
      "outputs": [
        {
          "output_type": "execute_result",
          "data": {
            "text/plain": [
              "tensor([[-0.1972],\n",
              "        [-0.9083],\n",
              "        [ 0.6572],\n",
              "        [ 0.0196],\n",
              "        [ 0.9881],\n",
              "        [ 0.4458],\n",
              "        [-0.7241],\n",
              "        [-0.6642],\n",
              "        [-0.4875],\n",
              "        [-1.8370],\n",
              "        [ 0.2574],\n",
              "        [-0.4430],\n",
              "        [-0.5969],\n",
              "        [ 0.9317],\n",
              "        [-0.6761],\n",
              "        [-0.1504],\n",
              "        [-0.5022],\n",
              "        [-1.0516],\n",
              "        [-1.4830],\n",
              "        [-1.1472],\n",
              "        [-0.6423],\n",
              "        [-0.4581],\n",
              "        [ 0.7890],\n",
              "        [ 0.3570],\n",
              "        [-0.7068],\n",
              "        [ 0.2720],\n",
              "        [ 0.2059],\n",
              "        [-0.3785],\n",
              "        [ 1.0259],\n",
              "        [-1.3314],\n",
              "        [ 1.2859],\n",
              "        [-0.9206],\n",
              "        [-0.2175],\n",
              "        [ 0.1446],\n",
              "        [-1.2492],\n",
              "        [ 1.1368],\n",
              "        [ 0.7295],\n",
              "        [ 0.9520],\n",
              "        [-1.1840],\n",
              "        [-0.1835],\n",
              "        [-0.3044],\n",
              "        [-0.4379],\n",
              "        [-0.6604],\n",
              "        [ 2.0105],\n",
              "        [ 0.8221],\n",
              "        [ 0.1055],\n",
              "        [ 1.6315],\n",
              "        [ 2.4609],\n",
              "        [-0.3710],\n",
              "        [ 2.1614],\n",
              "        [-1.9255],\n",
              "        [-0.6730],\n",
              "        [-2.1195],\n",
              "        [ 1.2383],\n",
              "        [ 0.1084],\n",
              "        [ 1.4082],\n",
              "        [ 1.8067],\n",
              "        [ 0.3632],\n",
              "        [ 0.0436],\n",
              "        [ 0.5890],\n",
              "        [ 0.3623],\n",
              "        [ 1.1969],\n",
              "        [ 0.2506],\n",
              "        [-0.9687],\n",
              "        [ 1.7290],\n",
              "        [-0.4802],\n",
              "        [-0.8183],\n",
              "        [-0.4601],\n",
              "        [-0.6223],\n",
              "        [ 1.7474],\n",
              "        [ 1.1983],\n",
              "        [-0.0505],\n",
              "        [ 0.1984],\n",
              "        [-1.6648],\n",
              "        [ 0.1463],\n",
              "        [-0.3844],\n",
              "        [ 1.2407],\n",
              "        [ 0.6713],\n",
              "        [ 0.4006],\n",
              "        [ 1.3955],\n",
              "        [-1.4181],\n",
              "        [-0.0112],\n",
              "        [ 0.2081],\n",
              "        [ 0.3270],\n",
              "        [ 0.1192],\n",
              "        [ 0.2779],\n",
              "        [-0.4996],\n",
              "        [ 0.4572],\n",
              "        [ 1.5807],\n",
              "        [ 0.2481]])"
            ]
          },
          "metadata": {
            "tags": []
          },
          "execution_count": 7
        }
      ]
    },
    {
      "cell_type": "code",
      "metadata": {
        "id": "wXjjkdi8rzAw"
      },
      "source": [
        "# testing data\n",
        "x_test_data = torch.randn(10,10)  #这里xy 写错了\n",
        "y_test_data = torch.randn(10,1)"
      ],
      "execution_count": 40,
      "outputs": []
    },
    {
      "cell_type": "code",
      "metadata": {
        "colab": {
          "base_uri": "https://localhost:8080/"
        },
        "id": "2H3W3NdqsvW_",
        "outputId": "5cd6e88f-d0ed-44e3-da83-993302b01271"
      },
      "source": [
        "y_test_data"
      ],
      "execution_count": 10,
      "outputs": [
        {
          "output_type": "execute_result",
          "data": {
            "text/plain": [
              "tensor([[-2.6449e+00,  1.2915e+00, -1.3198e+00, -7.4114e-01, -9.1458e-01,\n",
              "         -1.0351e+00, -6.2368e-01,  3.8420e-01,  1.2255e+00,  1.8658e-01],\n",
              "        [ 8.4396e-01, -1.9249e-04,  9.7140e-01,  4.4959e-01,  6.4829e-01,\n",
              "          1.4096e+00, -1.3904e+00, -1.3802e+00, -4.6701e-01,  2.0126e+00],\n",
              "        [-6.7355e-02,  1.8961e+00,  1.3210e-01,  1.0199e+00, -1.9045e-01,\n",
              "          4.9773e-01, -5.1548e-01,  1.1900e-01, -6.3972e-01, -1.2999e+00],\n",
              "        [ 4.4275e-01,  6.8558e-01,  5.2177e-01, -1.8190e-01, -1.0314e+00,\n",
              "          5.1189e-01,  7.5050e-01,  7.6871e-01, -6.3612e-02, -6.3385e-01],\n",
              "        [-6.5564e-01, -4.9695e-02, -6.6172e-02,  3.8477e-01, -6.6768e-01,\n",
              "         -2.1844e+00,  5.3124e-01,  1.5077e+00,  1.5635e+00, -6.3577e-01],\n",
              "        [-1.2786e+00,  1.8394e+00, -1.1444e+00,  1.4649e+00,  7.1816e-01,\n",
              "          4.9609e-01,  1.2579e+00,  3.0650e+00, -1.6153e+00,  1.2376e+00],\n",
              "        [ 1.4350e+00, -1.1922e+00, -3.3676e-01,  9.9823e-02, -1.1530e-01,\n",
              "          4.0709e-01, -3.1074e-01, -3.8044e+00,  7.5227e-01,  8.8048e-01],\n",
              "        [-1.9363e+00,  3.9769e-01, -9.7280e-02, -9.8895e-02, -1.1358e-01,\n",
              "          5.5401e-01, -8.8597e-01, -5.6638e-01,  1.2801e-01,  1.0526e-01],\n",
              "        [-7.0177e-01, -1.1768e-01,  3.2201e-01, -1.1496e+00, -1.7078e-01,\n",
              "         -3.1024e+00,  1.8631e+00, -2.1212e+00, -8.7936e-02,  1.8153e+00],\n",
              "        [ 1.1685e+00,  6.6116e-01, -7.2611e-01,  4.1913e-04, -2.3991e+00,\n",
              "          2.9378e-01,  3.6390e-01,  9.4528e-01,  5.9864e-01,  1.2925e+00]])"
            ]
          },
          "metadata": {
            "tags": []
          },
          "execution_count": 10
        }
      ]
    },
    {
      "cell_type": "code",
      "metadata": {
        "colab": {
          "base_uri": "https://localhost:8080/"
        },
        "id": "ZDe0WR88s0Ww",
        "outputId": "f5e0c724-7d0d-4726-8414-572b5741ee10"
      },
      "source": [
        "y_test_data"
      ],
      "execution_count": 12,
      "outputs": [
        {
          "output_type": "execute_result",
          "data": {
            "text/plain": [
              "tensor([[-1.8808e+00],\n",
              "        [-1.6392e+00],\n",
              "        [-2.7557e-01],\n",
              "        [-1.0199e+00],\n",
              "        [-1.0576e-02],\n",
              "        [ 5.9208e-01],\n",
              "        [-1.0030e+00],\n",
              "        [ 6.8714e-01],\n",
              "        [-1.7491e-03],\n",
              "        [ 1.7157e-01]])"
            ]
          },
          "metadata": {
            "tags": []
          },
          "execution_count": 12
        }
      ]
    },
    {
      "cell_type": "markdown",
      "metadata": {
        "id": "uEEzG0Rts8_r"
      },
      "source": [
        " need not initialize weight+ bias manually(use our hands👌）。\n",
        " we can use model (torch.nn.Linear)\n",
        " 【it contains model+class to build nenural network 】"
      ]
    },
    {
      "cell_type": "code",
      "metadata": {
        "colab": {
          "base_uri": "https://localhost:8080/"
        },
        "id": "7QEBxmAJt0Oi",
        "outputId": "3aae136d-6d7c-49d0-98aa-197e7f7d000b"
      },
      "source": [
        "#define model\n",
        "linearRegression = nn.Linear(10,1)\n",
        "print(linearRegression)"
      ],
      "execution_count": 14,
      "outputs": [
        {
          "output_type": "stream",
          "text": [
            "Linear(in_features=10, out_features=1, bias=True)\n"
          ],
          "name": "stdout"
        }
      ]
    },
    {
      "cell_type": "code",
      "metadata": {
        "colab": {
          "base_uri": "https://localhost:8080/"
        },
        "id": "LVXLWi_Pt86x",
        "outputId": "45d38770-46cd-4b35-d97d-af45ab4661f5"
      },
      "source": [
        "print(linearRegression.weight)"
      ],
      "execution_count": 15,
      "outputs": [
        {
          "output_type": "stream",
          "text": [
            "Parameter containing:\n",
            "tensor([[-0.2384, -0.0453,  0.2436, -0.1216,  0.2076,  0.2975,  0.0364, -0.2171,\n",
            "          0.1497,  0.0071]], requires_grad=True)\n"
          ],
          "name": "stdout"
        }
      ]
    },
    {
      "cell_type": "code",
      "metadata": {
        "colab": {
          "base_uri": "https://localhost:8080/"
        },
        "id": "PPqjQhsyt__1",
        "outputId": "230e5597-0e48-4f6d-f24b-b0c8a084ac17"
      },
      "source": [
        "print(linearRegression.bias)"
      ],
      "execution_count": 16,
      "outputs": [
        {
          "output_type": "stream",
          "text": [
            "Parameter containing:\n",
            "tensor([-0.2160], requires_grad=True)\n"
          ],
          "name": "stdout"
        }
      ]
    },
    {
      "cell_type": "markdown",
      "metadata": {
        "id": "xHAr-IMDuCkS"
      },
      "source": [
        "don't update weight + bias  use gradients manually(use our hands)【optim.SGD】(contains: Adam + SGD)"
      ]
    },
    {
      "cell_type": "markdown",
      "metadata": {
        "id": "zvEkb0H7u7Q3"
      },
      "source": [
        "优化器 optimizer SGD"
      ]
    },
    {
      "cell_type": "code",
      "metadata": {
        "id": "NfqHJQ3wuWJL"
      },
      "source": [
        "#define optimizer 优化器\n",
        "#pass model parameters -》 to updata + specify (定 make sure) learning rate  call optim.SGD\n",
        "#SGD optimizer (pytorch) 【是具有min 动量 momentun 的梯度下降】(mini-batch gradient descent with momentum)\n",
        "# 因为批次大小为N ,所以SGD 是'批次梯度下降'  batch size of our model is N ; SGD  is batch gradient descent\n",
        "optimizer = torch.optim.SGD(linearRegression.parameters(), lr=1e-5) #把上面的参数都传进来【nn.Linear(10,1)】可能是\n"
      ],
      "execution_count": 17,
      "outputs": []
    },
    {
      "cell_type": "code",
      "metadata": {
        "colab": {
          "base_uri": "https://localhost:8080/"
        },
        "id": "FW0jWUxewF1A",
        "outputId": "177f03a8-fffc-4ade-f9f8-097934d1a946"
      },
      "source": [
        "optimizer"
      ],
      "execution_count": 18,
      "outputs": [
        {
          "output_type": "execute_result",
          "data": {
            "text/plain": [
              "SGD (\n",
              "Parameter Group 0\n",
              "    dampening: 0\n",
              "    lr: 1e-05\n",
              "    momentum: 0\n",
              "    nesterov: False\n",
              "    weight_decay: 0\n",
              ")"
            ]
          },
          "metadata": {
            "tags": []
          },
          "execution_count": 18
        }
      ]
    },
    {
      "cell_type": "markdown",
      "metadata": {
        "id": "NMs7PqcywGy_"
      },
      "source": [
        "built in loss __loss function 损失函数 ( mse_loss )\n",
        "【 torch.nn.functional 】 （interface 接口） contains: typical operations ( build nenural networks ---> convolution operations; activation functions + loss functions ) 开始做层了，卷积，激活，损失"
      ]
    },
    {
      "cell_type": "code",
      "metadata": {
        "colab": {
          "base_uri": "https://localhost:8080/"
        },
        "id": "_mmIjGGNwT4j",
        "outputId": "43f196fd-4293-4560-88bb-a8802b79a019"
      },
      "source": [
        "import torch.nn.functional as F # import nn.functional\n",
        "loss_func = F.mse_loss    #define  loss function\n",
        "loss = loss_func(linearRegression(x_data), y_data) #compute loss(calculate) 预测和y_traing\n",
        "print(loss)"
      ],
      "execution_count": 19,
      "outputs": [
        {
          "output_type": "stream",
          "text": [
            "tensor(1.4263, grad_fn=<MseLossBackward>)\n"
          ],
          "name": "stdout"
        }
      ]
    },
    {
      "cell_type": "markdown",
      "metadata": {
        "id": "RAhqc1JYxL79"
      },
      "source": [
        "train model 开始训练了"
      ]
    },
    {
      "cell_type": "code",
      "metadata": {
        "colab": {
          "base_uri": "https://localhost:8080/"
        },
        "id": "ufBN0AeoxOoe",
        "outputId": "b601b46c-0f12-409c-e7f9-6e50f8dcfc5e"
      },
      "source": [
        "no_of_epochs = 5000 # one iteration input data= an epoch (感觉像是开始搞5000次)\n",
        "display_interval = 200  # 每200display 一次 展示\n",
        "\n",
        "for epoch in range(no_of_epochs):       #loop  括号别少啊\n",
        "  predictions = linearRegression(x_data)  \n",
        "  loss = loss_func(predictions, y_data)   #预测——》损失，将预测的投进去看看对不对\n",
        "  loss.backward()           #反回，不满意数据要开始优化了  ；；； once after backward() 自动化更新参数公共定义优化器\n",
        "  #call step() 通过我们定义的优化器 自动更新参数，  可在backward 后调用一次\n",
        "  optimizer.step()\n",
        "  optimizer.zero_grad()   #reset gradient ~~~~~ before we did 像之前一样渐变、梯度\n",
        "  #compute model cost use current model\n",
        "  if epoch % display_interval == 0 :  #SyntaxError: unexpected EOF while parsing 单独一句时候  看能不能整除\n",
        "      predictions = linearRegression(x_data)  #开始重复了\n",
        "      loss = loss_func(predictions, y_data)   #重复\n",
        "      print(\"epoch:\", '%04d' %(epoch), \"loss=\", '{:.8f}'.format(loss))\n",
        "\n",
        "print(\"======================\")\n",
        "#loss --> use [MSE] mean squared error 均方误差（那应该还有别的）\n",
        "def mse(x1,x2):\n",
        "  diff = x1 - x2\n",
        "  return torch.sum(diff*diff)/diff.numel() #numel 元素个数(12345)->5\n",
        "print()\n",
        "\n",
        "training_loss = mse(linearRegression(x_data), y_data)   #这里报错说mse 没定义   #加上上面的就定义了\n",
        "print(\"Optimised:\",\"loss=\", \"{:.9f}\".format(training_loss.data))  #Optimised: loss= 0.947928548\n",
        "\n",
        "\n",
        "#compute testing loss \n",
        "testing_loss = loss_func(linearRegression(x_test_data), y_test_data)#往里带的都是预测的  # x_test_data) 这里也没定义？#写完运行啊\n",
        "print(\"Testing loss=\", \"{:.9f}\".format(testing_loss.data) )  #Testing loss= 0.789164841\n",
        "print(\"Absolute meam square loss difference:\", \"{:.9f}\".format(abs(\n",
        "    training_loss.data - testing_loss.data)))  #Absolute meam square loss difference: 0.134768486;;;;绝对meam平方损失差。0.134768486\n",
        "    "
      ],
      "execution_count": 42,
      "outputs": [
        {
          "output_type": "stream",
          "text": [
            "epoch: 0000 loss= 0.92494643\n",
            "epoch: 0200 loss= 0.92471528\n",
            "epoch: 0400 loss= 0.92448568\n",
            "epoch: 0600 loss= 0.92425758\n",
            "epoch: 0800 loss= 0.92403096\n",
            "epoch: 1000 loss= 0.92380589\n",
            "epoch: 1200 loss= 0.92358238\n",
            "epoch: 1400 loss= 0.92336071\n",
            "epoch: 1600 loss= 0.92314065\n",
            "epoch: 1800 loss= 0.92292166\n",
            "epoch: 2000 loss= 0.92270440\n",
            "epoch: 2200 loss= 0.92248857\n",
            "epoch: 2400 loss= 0.92227429\n",
            "epoch: 2600 loss= 0.92206126\n",
            "epoch: 2800 loss= 0.92184991\n",
            "epoch: 3000 loss= 0.92164016\n",
            "epoch: 3200 loss= 0.92143148\n",
            "epoch: 3400 loss= 0.92122430\n",
            "epoch: 3600 loss= 0.92101896\n",
            "epoch: 3800 loss= 0.92081475\n",
            "epoch: 4000 loss= 0.92061156\n",
            "epoch: 4200 loss= 0.92041034\n",
            "epoch: 4400 loss= 0.92021012\n",
            "epoch: 4600 loss= 0.92001116\n",
            "epoch: 4800 loss= 0.91981399\n",
            "======================\n",
            "\n",
            "Optimised: loss= 0.919619083\n",
            "Testing loss= 0.784850597\n",
            "Absolute meam square loss difference: 0.134768486\n"
          ],
          "name": "stdout"
        }
      ]
    },
    {
      "cell_type": "code",
      "metadata": {
        "id": "FP-ZeqLWyESE"
      },
      "source": [
        ""
      ],
      "execution_count": null,
      "outputs": []
    }
  ]
}