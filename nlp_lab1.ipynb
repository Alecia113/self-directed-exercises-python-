{
  "nbformat": 4,
  "nbformat_minor": 0,
  "metadata": {
    "colab": {
      "name": "nlp.lab1.ipynb",
      "provenance": [],
      "collapsed_sections": [],
      "authorship_tag": "ABX9TyPmUoc3O0ad8jHD7DrLZYL/",
      "include_colab_link": true
    },
    "kernelspec": {
      "name": "python3",
      "display_name": "Python 3"
    }
  },
  "cells": [
    {
      "cell_type": "markdown",
      "metadata": {
        "id": "view-in-github",
        "colab_type": "text"
      },
      "source": [
        "<a href=\"https://colab.research.google.com/github/Alecia113/self-directed-exercises-python-/blob/NLP/nlp_lab1.ipynb\" target=\"_parent\"><img src=\"https://colab.research.google.com/assets/colab-badge.svg\" alt=\"Open In Colab\"/></a>"
      ]
    },
    {
      "cell_type": "markdown",
      "metadata": {
        "id": "qjvhbt84fF_w"
      },
      "source": [
        "# **PyTorch**"
      ]
    },
    {
      "cell_type": "markdown",
      "metadata": {
        "id": "-E1DTgW9V-f_"
      },
      "source": [
        "**Tensor张量**"
      ]
    },
    {
      "cell_type": "code",
      "metadata": {
        "id": "ejx4WI1SSd8l",
        "colab": {
          "base_uri": "https://localhost:8080/",
          "height": 142
        },
        "outputId": "d3f7fced-2b3a-4e5e-bc32-9759d9584562"
      },
      "source": [
        "#Tensor 张量 computation graph + automatic differentiation \\计算图和自动微分\n",
        "'''\n",
        "nerual networks\n",
        "  nd-tensor instance \\调用 nd——》n dimensional\n",
        "attributes\n",
        "  1:rank 等级 dimensions numbers(维数):rank-2 tensor == 2d-tensor\n",
        "  2：Axes 轴 specific demensions(特定尺寸) Axes == dimensions(number) 轴数等于尺寸数（维度数）\n",
        "              axes length == how number elements running along this axis (轴长＝沿该轴延伸的元素数)\n",
        "  3： shape 形状 axis length (formed) [由每个轴的长度形成]\n",
        "              eg:shape(1,2)== 2d-tensor :first axis = 1(length) second axis = 2 [2d张量，第一轴长度1，第二轴长度2]\n",
        "              scalar(标量); vector(向量) ;matrix（矩阵）;cube（立方骰子）\n",
        " 【代码】key properties 关键属性\n",
        "    torch.dtype: torch.float32（数据类型）\n",
        "    torch.device:CPU/CUDA(GPU)\\(一个对象在其上；或将要分配的torch.Tensor的设备【火炬张量】)\n",
        "    torch.layout: memory layout (torch.Tensor 内存布局对象)\n",
        "  \n",
        "              '''\n"
      ],
      "execution_count": 1,
      "outputs": [
        {
          "output_type": "execute_result",
          "data": {
            "application/vnd.google.colaboratory.intrinsic+json": {
              "type": "string"
            },
            "text/plain": [
              "'\\nnerual networks\\n  nd-tensor instance \\\\调用 nd——》n dimensional\\nattributes\\n  1:rank 等级 dimensions numbers(维数):rank-2 tensor == 2d-tensor\\n  2：Axes 轴 specific demensions(特定尺寸) Axes == dimensions(number) 轴数等于尺寸数（维度数）\\n              axes length == how number elements running along this axis (轴长＝沿该轴延伸的元素数)\\n  3： shape 形状 axis length (formed) [由每个轴的长度形成]\\n              eg:shape(1,2)== 2d-tensor :first axis = 1(length) second axis = 2 [2d张量，第一轴长度1，第二轴长度2]\\n              scalar(标量); vector(向量) ;matrix（矩阵）;cube（立方骰子）\\n 【代码】key properties 关键属性\\n    torch.dtype: torch.float32（数据类型）\\n    torch.device:CPU/CUDA(GPU)\\\\(一个对象在其上；或将要分配的torch.Tensor的设备【火炬张量】)\\n    torch.layout: memory layout (torch.Tensor 内存布局对象)\\n  \\n              '"
            ]
          },
          "metadata": {
            "tags": []
          },
          "execution_count": 1
        }
      ]
    },
    {
      "cell_type": "markdown",
      "metadata": {
        "id": "uF-CKHn2SsvI"
      },
      "source": [
        "**Computational graph and automatic differentiation 计算图和自动微分**"
      ]
    },
    {
      "cell_type": "code",
      "metadata": {
        "id": "2OlW07D3WL6c",
        "colab": {
          "base_uri": "https://localhost:8080/",
          "height": 106
        },
        "outputId": "4eb3aaa1-bbef-465b-b004-783585fad3ab"
      },
      "source": [
        "'''\n",
        "  （有向无环 directed acyclic) 计算图 computational graphs to draw some doing functional about tensors in neural networks\n",
        "  PyTorch使用（有向无环）计算图来绘制应用于神经网络内部张量的功能操作，从而计算出用于网络优化的导数\n",
        "   use in net optimization : by  calculate derivatives \n",
        "In graphs (🐰)\n",
        "  nodes == tensors\n",
        "  eages == functions: + * [ output tensors from input tensors(入到出函数 求和×)]\n",
        "  computational graph == dynamic computational graph\n",
        "  当在神经网络的前向传递过程中创建操作时，PyTorch会即时生成计算图，称为动态计算图\n",
        "  '''"
      ],
      "execution_count": 2,
      "outputs": [
        {
          "output_type": "execute_result",
          "data": {
            "application/vnd.google.colaboratory.intrinsic+json": {
              "type": "string"
            },
            "text/plain": [
              "'\\n  （有向无环 directed acyclic) 计算图 computational graphs to draw some doing functional about tensors in neural networks\\n  PyTorch使用（有向无环）计算图来绘制应用于神经网络内部张量的功能操作，从而计算出用于网络优化的导数\\n   use in net optimization : by  calculate derivatives \\nIn graphs (🐰)\\n  nodes == tensors\\n  eages == functions: + * [ output tensors from input tensors(入到出函数 求和×)]\\n  computational graph == dynamic computational graph\\n  当在神经网络的前向传递过程中创建操作时，PyTorch会即时生成计算图，称为动态计算图\\n  '"
            ]
          },
          "metadata": {
            "tags": []
          },
          "execution_count": 2
        }
      ]
    },
    {
      "cell_type": "markdown",
      "metadata": {
        "id": "9reBdCVKX45k"
      },
      "source": [
        "# **programming**"
      ]
    },
    {
      "cell_type": "markdown",
      "metadata": {
        "id": "hJBatq9rX8uX"
      },
      "source": [
        "**importing PyTorch library**[beginning]\n"
      ]
    },
    {
      "cell_type": "code",
      "metadata": {
        "colab": {
          "base_uri": "https://localhost:8080/"
        },
        "id": "g5DdimlFYBpH",
        "outputId": "3deb58a4-954f-4dd9-f628-4ab9b8c5583f"
      },
      "source": [
        "import torch \n",
        "print(torch.__version__)"
      ],
      "execution_count": 3,
      "outputs": [
        {
          "output_type": "stream",
          "text": [
            "1.8.0+cu101\n"
          ],
          "name": "stdout"
        }
      ]
    },
    {
      "cell_type": "markdown",
      "metadata": {
        "id": "f3J4U18JYQWM"
      },
      "source": [
        "**create tensors ~~numerical data (数值数据）**"
      ]
    },
    {
      "cell_type": "markdown",
      "metadata": {
        "id": "hWi1655BaPj1"
      },
      "source": [
        "数scalar"
      ]
    },
    {
      "cell_type": "code",
      "metadata": {
        "colab": {
          "base_uri": "https://localhost:8080/"
        },
        "id": "Oe8GwttbYyQo",
        "outputId": "ade4fbf7-2b4a-4cf6-bd3e-3ac26987759b"
      },
      "source": [
        "import numpy as np\n",
        "\n",
        "data = torch.tensor(1)# scalar (0 rank)[0demensions]\n",
        "print(data.shape)"
      ],
      "execution_count": 4,
      "outputs": [
        {
          "output_type": "stream",
          "text": [
            "torch.Size([])\n"
          ],
          "name": "stdout"
        }
      ]
    },
    {
      "cell_type": "code",
      "metadata": {
        "colab": {
          "base_uri": "https://localhost:8080/"
        },
        "id": "x8iVR4i3a8ym",
        "outputId": "e486b570-5ff3-48b2-f0fa-42782973f52d"
      },
      "source": [
        "data#tensor(1)"
      ],
      "execution_count": 5,
      "outputs": [
        {
          "output_type": "execute_result",
          "data": {
            "text/plain": [
              "tensor(1)"
            ]
          },
          "metadata": {
            "tags": []
          },
          "execution_count": 5
        }
      ]
    },
    {
      "cell_type": "markdown",
      "metadata": {
        "id": "hGvqntinaTEK"
      },
      "source": [
        "向量"
      ]
    },
    {
      "cell_type": "code",
      "metadata": {
        "colab": {
          "base_uri": "https://localhost:8080/"
        },
        "id": "A7MEig7yZgQu",
        "outputId": "4c630541-f6b6-4b22-8d17-072632c98bbc"
      },
      "source": [
        "data = np.array([1,2]) # Vector (1 rank~~~1 demensions)\n",
        "data = torch.Tensor(data)\n",
        "print(data.shape)"
      ],
      "execution_count": 6,
      "outputs": [
        {
          "output_type": "stream",
          "text": [
            "torch.Size([2])\n"
          ],
          "name": "stdout"
        }
      ]
    },
    {
      "cell_type": "code",
      "metadata": {
        "colab": {
          "base_uri": "https://localhost:8080/"
        },
        "id": "cCYEBqkUa0_Q",
        "outputId": "813d2399-c9d1-4286-cd35-87a3a76facf4"
      },
      "source": [
        "data #tensor([1., 2.])"
      ],
      "execution_count": 7,
      "outputs": [
        {
          "output_type": "execute_result",
          "data": {
            "text/plain": [
              "tensor([1., 2.])"
            ]
          },
          "metadata": {
            "tags": []
          },
          "execution_count": 7
        }
      ]
    },
    {
      "cell_type": "markdown",
      "metadata": {
        "id": "G7jm5pDMaU1O"
      },
      "source": [
        "Tensor he tensor 测试"
      ]
    },
    {
      "cell_type": "code",
      "metadata": {
        "colab": {
          "base_uri": "https://localhost:8080/"
        },
        "id": "zLPBuWysZ45i",
        "outputId": "f7b8bce0-6277-4889-e074-a94f3ff15460"
      },
      "source": [
        "data = np.array([1,2])\n",
        "data = torch.tensor(data)#大小写\n",
        "print(data.shape)"
      ],
      "execution_count": 8,
      "outputs": [
        {
          "output_type": "stream",
          "text": [
            "torch.Size([2])\n"
          ],
          "name": "stdout"
        }
      ]
    },
    {
      "cell_type": "code",
      "metadata": {
        "colab": {
          "base_uri": "https://localhost:8080/"
        },
        "id": "KUuPIBPwaveG",
        "outputId": "210a0462-4c13-4007-d8f4-fcb70269bc06"
      },
      "source": [
        "data#tensor([1, 2])"
      ],
      "execution_count": 9,
      "outputs": [
        {
          "output_type": "execute_result",
          "data": {
            "text/plain": [
              "tensor([1, 2])"
            ]
          },
          "metadata": {
            "tags": []
          },
          "execution_count": 9
        }
      ]
    },
    {
      "cell_type": "markdown",
      "metadata": {
        "id": "VpN9wudoaL2p"
      },
      "source": [
        "矩阵 matrx"
      ]
    },
    {
      "cell_type": "code",
      "metadata": {
        "colab": {
          "base_uri": "https://localhost:8080/"
        },
        "id": "HCFKMutmadi9",
        "outputId": "67ddfffc-f0e8-4f47-923c-62555e0cbfab"
      },
      "source": [
        "data = np.ones((2,2,))# matrix (2rank) 2D 注意括号\n",
        "data = torch.Tensor(data) #大写\n",
        "print(data.shape)"
      ],
      "execution_count": 10,
      "outputs": [
        {
          "output_type": "stream",
          "text": [
            "torch.Size([2, 2])\n"
          ],
          "name": "stdout"
        }
      ]
    },
    {
      "cell_type": "code",
      "metadata": {
        "colab": {
          "base_uri": "https://localhost:8080/",
          "height": 35
        },
        "id": "QD8puf23atsD",
        "outputId": "e1bf0bf7-a29a-45db-927e-11b6dbcdb0ae"
      },
      "source": [
        "data\n",
        "'''tensor([[1., 1.],\n",
        "          [1., 1.]])\n",
        "        '''"
      ],
      "execution_count": 11,
      "outputs": [
        {
          "output_type": "execute_result",
          "data": {
            "application/vnd.google.colaboratory.intrinsic+json": {
              "type": "string"
            },
            "text/plain": [
              "'tensor([[1., 1.],\\n          [1., 1.]])\\n        '"
            ]
          },
          "metadata": {
            "tags": []
          },
          "execution_count": 11
        }
      ]
    },
    {
      "cell_type": "markdown",
      "metadata": {
        "id": "c7a5z-OBbNJ3"
      },
      "source": [
        "块：cube"
      ]
    },
    {
      "cell_type": "code",
      "metadata": {
        "colab": {
          "base_uri": "https://localhost:8080/"
        },
        "id": "De60wuyjbQ0I",
        "outputId": "72f1b944-d6d6-4e95-fafe-9b4f9fbd4c9a"
      },
      "source": [
        "data = np.ones((2,2,2))# Cube (3 rank = 3D 括号)\n",
        "data = torch.Tensor(data)#还得让张量跑一下\n",
        "print(data.shape)"
      ],
      "execution_count": 12,
      "outputs": [
        {
          "output_type": "stream",
          "text": [
            "torch.Size([2, 2, 2])\n"
          ],
          "name": "stdout"
        }
      ]
    },
    {
      "cell_type": "code",
      "metadata": {
        "colab": {
          "base_uri": "https://localhost:8080/",
          "height": 35
        },
        "id": "H7CWx6UIblm7",
        "outputId": "b6ee8860-f558-42b2-fa10-1da5baa4d54d"
      },
      "source": [
        "data\n",
        "'''\n",
        "tensor([[[1., 1.],\n",
        "         [1., 1.]],\n",
        "\n",
        "        [[1., 1.],\n",
        "         [1., 1.]]])\n",
        "         '''"
      ],
      "execution_count": 13,
      "outputs": [
        {
          "output_type": "execute_result",
          "data": {
            "application/vnd.google.colaboratory.intrinsic+json": {
              "type": "string"
            },
            "text/plain": [
              "'\\ntensor([[[1., 1.],\\n         [1., 1.]],\\n\\n        [[1., 1.],\\n         [1., 1.]]])\\n         '"
            ]
          },
          "metadata": {
            "tags": []
          },
          "execution_count": 13
        }
      ]
    },
    {
      "cell_type": "markdown",
      "metadata": {
        "id": "9Wz5_eU5bqGN"
      },
      "source": [
        "块向量"
      ]
    },
    {
      "cell_type": "code",
      "metadata": {
        "colab": {
          "base_uri": "https://localhost:8080/"
        },
        "id": "dt01Cz4_bwcX",
        "outputId": "c29091ba-464c-44c0-ada1-cf770d4709bc"
      },
      "source": [
        "data = np.ones((2,2,2,2,))#都是one  vector of cubes  4rank 4d\n",
        "data = torch.Tensor(data)\n",
        "print(data.shape)"
      ],
      "execution_count": 14,
      "outputs": [
        {
          "output_type": "stream",
          "text": [
            "torch.Size([2, 2, 2, 2])\n"
          ],
          "name": "stdout"
        }
      ]
    },
    {
      "cell_type": "code",
      "metadata": {
        "colab": {
          "base_uri": "https://localhost:8080/",
          "height": 53
        },
        "id": "dqC4y9qvb_lm",
        "outputId": "38fbcd55-ec98-496b-af18-10a9aa66105a"
      },
      "source": [
        "data #有点像国王下棋盘那种feel\n",
        "'''\n",
        "tensor([[[[1., 1.],\n",
        "          [1., 1.]],\n",
        "\n",
        "         [[1., 1.],\n",
        "          [1., 1.]]],\n",
        "\n",
        "\n",
        "        [[[1., 1.],\n",
        "          [1., 1.]],\n",
        "\n",
        "         [[1., 1.],\n",
        "          [1., 1.]]]])\n",
        "          '''"
      ],
      "execution_count": 15,
      "outputs": [
        {
          "output_type": "execute_result",
          "data": {
            "application/vnd.google.colaboratory.intrinsic+json": {
              "type": "string"
            },
            "text/plain": [
              "'\\ntensor([[[[1., 1.],\\n          [1., 1.]],\\n\\n         [[1., 1.],\\n          [1., 1.]]],\\n\\n\\n        [[[1., 1.],\\n          [1., 1.]],\\n\\n         [[1., 1.],\\n          [1., 1.]]]])\\n          '"
            ]
          },
          "metadata": {
            "tags": []
          },
          "execution_count": 15
        }
      ]
    },
    {
      "cell_type": "code",
      "metadata": {
        "id": "KYv_QirCcOFQ",
        "colab": {
          "base_uri": "https://localhost:8080/",
          "height": 53
        },
        "outputId": "1f0b2f17-f517-4811-99ad-dad52826f5c5"
      },
      "source": [
        "#注意1：大小写的t、、2：T: constructor ( bulid function)   t: factory function(construct+return to caller)\n",
        "'''\n",
        "t: 它不仅构造了torch.Tensor 还反馈了他们给调用者\n",
        "T： can return empty tensor don't use input special data but t : must input data\n",
        "\n",
        "'''"
      ],
      "execution_count": 16,
      "outputs": [
        {
          "output_type": "execute_result",
          "data": {
            "application/vnd.google.colaboratory.intrinsic+json": {
              "type": "string"
            },
            "text/plain": [
              "\"\\nt: 它不仅构造了torch.Tensor 还反馈了他们给调用者\\nT： can return empty tensor don't use input special data but t : must input data\\n\\n\""
            ]
          },
          "metadata": {
            "tags": []
          },
          "execution_count": 16
        }
      ]
    },
    {
      "cell_type": "code",
      "metadata": {
        "colab": {
          "base_uri": "https://localhost:8080/"
        },
        "id": "QVQLA3qbdk-H",
        "outputId": "7b3b5437-b7d4-463a-e239-397cc5fb0182"
      },
      "source": [
        "data = torch.Tensor()#一个数就不需要ones了大于3都需要2 是array\n",
        "print(data)"
      ],
      "execution_count": 17,
      "outputs": [
        {
          "output_type": "stream",
          "text": [
            "tensor([])\n"
          ],
          "name": "stdout"
        }
      ]
    },
    {
      "cell_type": "code",
      "metadata": {
        "id": "IhEDlBa4eEl6",
        "colab": {
          "base_uri": "https://localhost:8080/",
          "height": 35
        },
        "outputId": "4c3ad55b-9b98-4854-f215-c86061c6eaf5"
      },
      "source": [
        "'''data = torch.tensor()\n",
        "print(data)\n",
        "'''\n",
        "#TypeError: tensor() missing 1 required positional arguments: \"data\""
      ],
      "execution_count": 18,
      "outputs": [
        {
          "output_type": "execute_result",
          "data": {
            "application/vnd.google.colaboratory.intrinsic+json": {
              "type": "string"
            },
            "text/plain": [
              "'data = torch.tensor()\\nprint(data)\\n'"
            ]
          },
          "metadata": {
            "tags": []
          },
          "execution_count": 18
        }
      ]
    },
    {
      "cell_type": "markdown",
      "metadata": {
        "id": "L65HJiZ-ee2p"
      },
      "source": [
        "数据类型"
      ]
    },
    {
      "cell_type": "code",
      "metadata": {
        "id": "fGqF_KV-ehu_",
        "colab": {
          "base_uri": "https://localhost:8080/",
          "height": 53
        },
        "outputId": "220fbd79-c403-413b-f118-b309721371a2"
      },
      "source": [
        "'''\n",
        "  torch.Tensor default dtype \"float32\" \n",
        "  torch.tensor() dtype == input data dtype #传入的数据（类型推断）\n",
        "  example\n",
        "  '''"
      ],
      "execution_count": 19,
      "outputs": [
        {
          "output_type": "execute_result",
          "data": {
            "application/vnd.google.colaboratory.intrinsic+json": {
              "type": "string"
            },
            "text/plain": [
              "'\\n  torch.Tensor default dtype \"float32\" \\n  torch.tensor() dtype == input data dtype #传入的数据（类型推断）\\n  example\\n  '"
            ]
          },
          "metadata": {
            "tags": []
          },
          "execution_count": 19
        }
      ]
    },
    {
      "cell_type": "code",
      "metadata": {
        "id": "-BGL0Frke3SL",
        "colab": {
          "base_uri": "https://localhost:8080/"
        },
        "outputId": "80562b4d-bbaa-4f1b-a570-8fe19547ffa5"
      },
      "source": [
        "data = np.array([1,2]) #数组int64\n",
        "print(data.dtype)"
      ],
      "execution_count": 20,
      "outputs": [
        {
          "output_type": "stream",
          "text": [
            "int64\n"
          ],
          "name": "stdout"
        }
      ]
    },
    {
      "cell_type": "code",
      "metadata": {
        "colab": {
          "base_uri": "https://localhost:8080/"
        },
        "id": "AlIpkKFzRnkD",
        "outputId": "d6759bbd-8a60-459c-b3d7-3e272a09008b"
      },
      "source": [
        "data_T = torch.Tensor(data)  #是之前传入的\n",
        "print(data_T)"
      ],
      "execution_count": 21,
      "outputs": [
        {
          "output_type": "stream",
          "text": [
            "tensor([1., 2.])\n"
          ],
          "name": "stdout"
        }
      ]
    },
    {
      "cell_type": "code",
      "metadata": {
        "colab": {
          "base_uri": "https://localhost:8080/"
        },
        "id": "mT2ZPS_-RuUE",
        "outputId": "32abcc74-9d63-4dbe-fb9b-ae091edcf129"
      },
      "source": [
        "print(data_T.dtype) #默认是float32"
      ],
      "execution_count": 22,
      "outputs": [
        {
          "output_type": "stream",
          "text": [
            "torch.float32\n"
          ],
          "name": "stdout"
        }
      ]
    },
    {
      "cell_type": "code",
      "metadata": {
        "colab": {
          "base_uri": "https://localhost:8080/"
        },
        "id": "d6y6-NihR-Si",
        "outputId": "d91fcafb-d2d0-4db6-97a3-587459c978ae"
      },
      "source": [
        "print(data_T.dtype== torch.get_default_dtype())# default 默认 "
      ],
      "execution_count": 23,
      "outputs": [
        {
          "output_type": "stream",
          "text": [
            "True\n"
          ],
          "name": "stdout"
        }
      ]
    },
    {
      "cell_type": "code",
      "metadata": {
        "colab": {
          "base_uri": "https://localhost:8080/"
        },
        "id": "5elrBGrvlgQs",
        "outputId": "81ab6914-c71d-45e3-bb3b-43bd78c6fd8a"
      },
      "source": [
        "print()"
      ],
      "execution_count": 24,
      "outputs": [
        {
          "output_type": "stream",
          "text": [
            "\n"
          ],
          "name": "stdout"
        }
      ]
    },
    {
      "cell_type": "code",
      "metadata": {
        "id": "4zZYBpvKloeE"
      },
      "source": [
        "# change use 'torch.set_default_dtype(dtype)"
      ],
      "execution_count": 25,
      "outputs": []
    },
    {
      "cell_type": "code",
      "metadata": {
        "id": "60DWb0XLmOc8"
      },
      "source": [
        "data_t = torch.tensor(data)"
      ],
      "execution_count": 26,
      "outputs": []
    },
    {
      "cell_type": "code",
      "metadata": {
        "colab": {
          "base_uri": "https://localhost:8080/"
        },
        "id": "rdjRluZtmViT",
        "outputId": "31ec9ed7-a3e7-4446-aacc-7d36f6bb6a9f"
      },
      "source": [
        "data_t"
      ],
      "execution_count": 27,
      "outputs": [
        {
          "output_type": "execute_result",
          "data": {
            "text/plain": [
              "tensor([1, 2])"
            ]
          },
          "metadata": {
            "tags": []
          },
          "execution_count": 27
        }
      ]
    },
    {
      "cell_type": "code",
      "metadata": {
        "colab": {
          "base_uri": "https://localhost:8080/"
        },
        "id": "RRGrLkyemYA_",
        "outputId": "5f32b1bf-1ac7-4ed5-f7c3-ef17a43804de"
      },
      "source": [
        "print(data_t)"
      ],
      "execution_count": 28,
      "outputs": [
        {
          "output_type": "stream",
          "text": [
            "tensor([1, 2])\n"
          ],
          "name": "stdout"
        }
      ]
    },
    {
      "cell_type": "code",
      "metadata": {
        "colab": {
          "base_uri": "https://localhost:8080/"
        },
        "id": "Dl4R7GYjmaTV",
        "outputId": "59936499-fe8b-4a28-d0f4-3f9ff5e69208"
      },
      "source": [
        "print(data_t.dtype)"
      ],
      "execution_count": 29,
      "outputs": [
        {
          "output_type": "stream",
          "text": [
            "torch.int64\n"
          ],
          "name": "stdout"
        }
      ]
    },
    {
      "cell_type": "code",
      "metadata": {
        "id": "sIJPnmyImdPJ"
      },
      "source": [
        "#specify datatype (指定) 'torch.tensor()\n",
        "data_t = torch.tensor(data, dtype=torch.float64)#(tensou) 就是在后面多加个参数"
      ],
      "execution_count": 30,
      "outputs": []
    },
    {
      "cell_type": "code",
      "metadata": {
        "colab": {
          "base_uri": "https://localhost:8080/"
        },
        "id": "0VNDpwy7mzY9",
        "outputId": "b6f53a29-89a9-4993-a4df-56ce5579998b"
      },
      "source": [
        "data_t.dtype"
      ],
      "execution_count": 31,
      "outputs": [
        {
          "output_type": "execute_result",
          "data": {
            "text/plain": [
              "torch.float64"
            ]
          },
          "metadata": {
            "tags": []
          },
          "execution_count": 31
        }
      ]
    },
    {
      "cell_type": "code",
      "metadata": {
        "colab": {
          "base_uri": "https://localhost:8080/"
        },
        "id": "_7pLSPLtm_fv",
        "outputId": "53817357-7a72-479d-ea37-58d9ab4076d4"
      },
      "source": [
        "data_t"
      ],
      "execution_count": 32,
      "outputs": [
        {
          "output_type": "execute_result",
          "data": {
            "text/plain": [
              "tensor([1., 2.], dtype=torch.float64)"
            ]
          },
          "metadata": {
            "tags": []
          },
          "execution_count": 32
        }
      ]
    },
    {
      "cell_type": "code",
      "metadata": {
        "id": "GUGByuPznBXT"
      },
      "source": [
        "#期望expect 使用torch.Tensor + torch.tensor  or // torch.as_tensor  + torch.from_numpy"
      ],
      "execution_count": 33,
      "outputs": []
    },
    {
      "cell_type": "code",
      "metadata": {
        "id": "f6NEoZN3nTA8"
      },
      "source": [
        "#创建张量tensor 'torch.as_tensor'\n",
        "data = np.ones((2,2,2))"
      ],
      "execution_count": 34,
      "outputs": []
    },
    {
      "cell_type": "code",
      "metadata": {
        "colab": {
          "base_uri": "https://localhost:8080/"
        },
        "id": "zxHNumfNnclj",
        "outputId": "d61c33ad-bf7a-425b-d750-6667363f3049"
      },
      "source": [
        "data"
      ],
      "execution_count": 35,
      "outputs": [
        {
          "output_type": "execute_result",
          "data": {
            "text/plain": [
              "array([[[1., 1.],\n",
              "        [1., 1.]],\n",
              "\n",
              "       [[1., 1.],\n",
              "        [1., 1.]]])"
            ]
          },
          "metadata": {
            "tags": []
          },
          "execution_count": 35
        }
      ]
    },
    {
      "cell_type": "code",
      "metadata": {
        "id": "zj1LnPvKnc6L"
      },
      "source": [
        "data = torch.as_tensor(data)"
      ],
      "execution_count": 36,
      "outputs": []
    },
    {
      "cell_type": "code",
      "metadata": {
        "colab": {
          "base_uri": "https://localhost:8080/"
        },
        "id": "Je1z5elGnhw0",
        "outputId": "6f966b54-139f-430e-d2e0-3597094831fc"
      },
      "source": [
        "data"
      ],
      "execution_count": 37,
      "outputs": [
        {
          "output_type": "execute_result",
          "data": {
            "text/plain": [
              "tensor([[[1., 1.],\n",
              "         [1., 1.]],\n",
              "\n",
              "        [[1., 1.],\n",
              "         [1., 1.]]], dtype=torch.float64)"
            ]
          },
          "metadata": {
            "tags": []
          },
          "execution_count": 37
        }
      ]
    },
    {
      "cell_type": "code",
      "metadata": {
        "colab": {
          "base_uri": "https://localhost:8080/"
        },
        "id": "Fq_i6O9Nnjjj",
        "outputId": "6644ca8f-0bf6-4a75-8933-3b2de7824a73"
      },
      "source": [
        "print(data.shape)"
      ],
      "execution_count": 38,
      "outputs": [
        {
          "output_type": "stream",
          "text": [
            "torch.Size([2, 2, 2])\n"
          ],
          "name": "stdout"
        }
      ]
    },
    {
      "cell_type": "code",
      "metadata": {
        "id": "hA0Rnm01nma8"
      },
      "source": [
        "# 创建张量 create tensor 'torch.form_numpy\n",
        "data = np.ones((2,2,2,2))"
      ],
      "execution_count": 39,
      "outputs": []
    },
    {
      "cell_type": "code",
      "metadata": {
        "colab": {
          "base_uri": "https://localhost:8080/"
        },
        "id": "M0njEC9bn7CS",
        "outputId": "ff4700ab-06b9-4027-9d6a-c0d13015aef8"
      },
      "source": [
        "data"
      ],
      "execution_count": 40,
      "outputs": [
        {
          "output_type": "execute_result",
          "data": {
            "text/plain": [
              "array([[[[1., 1.],\n",
              "         [1., 1.]],\n",
              "\n",
              "        [[1., 1.],\n",
              "         [1., 1.]]],\n",
              "\n",
              "\n",
              "       [[[1., 1.],\n",
              "         [1., 1.]],\n",
              "\n",
              "        [[1., 1.],\n",
              "         [1., 1.]]]])"
            ]
          },
          "metadata": {
            "tags": []
          },
          "execution_count": 40
        }
      ]
    },
    {
      "cell_type": "code",
      "metadata": {
        "id": "jOhzJmj9n8zH",
        "colab": {
          "base_uri": "https://localhost:8080/",
          "height": 35
        },
        "outputId": "22cd38ef-6afd-406b-c92a-2896f1d157ce"
      },
      "source": [
        "data = torch.from_numpy(data) #from form  \n",
        "'''为啥要建张量？'''"
      ],
      "execution_count": 41,
      "outputs": [
        {
          "output_type": "execute_result",
          "data": {
            "application/vnd.google.colaboratory.intrinsic+json": {
              "type": "string"
            },
            "text/plain": [
              "'为啥要建张量？'"
            ]
          },
          "metadata": {
            "tags": []
          },
          "execution_count": 41
        }
      ]
    },
    {
      "cell_type": "code",
      "metadata": {
        "colab": {
          "base_uri": "https://localhost:8080/"
        },
        "id": "pbhD3T0koSkU",
        "outputId": "70d8ef79-d49d-4178-a6ca-0362a9ed0a90"
      },
      "source": [
        "data"
      ],
      "execution_count": 42,
      "outputs": [
        {
          "output_type": "execute_result",
          "data": {
            "text/plain": [
              "tensor([[[[1., 1.],\n",
              "          [1., 1.]],\n",
              "\n",
              "         [[1., 1.],\n",
              "          [1., 1.]]],\n",
              "\n",
              "\n",
              "        [[[1., 1.],\n",
              "          [1., 1.]],\n",
              "\n",
              "         [[1., 1.],\n",
              "          [1., 1.]]]], dtype=torch.float64)"
            ]
          },
          "metadata": {
            "tags": []
          },
          "execution_count": 42
        }
      ]
    },
    {
      "cell_type": "code",
      "metadata": {
        "colab": {
          "base_uri": "https://localhost:8080/"
        },
        "id": "14G6-iiHoWAS",
        "outputId": "2173c367-f5b8-4556-f19d-1795c8a2440a"
      },
      "source": [
        "print(data.shape)"
      ],
      "execution_count": 43,
      "outputs": [
        {
          "output_type": "stream",
          "text": [
            "torch.Size([2, 2, 2, 2])\n"
          ],
          "name": "stdout"
        }
      ]
    },
    {
      "cell_type": "markdown",
      "metadata": {
        "id": "h-2gPnorollO"
      },
      "source": [
        "factory functions  to create tensors without data"
      ]
    },
    {
      "cell_type": "code",
      "metadata": {
        "colab": {
          "base_uri": "https://localhost:8080/"
        },
        "id": "gSLAgULKoxIl",
        "outputId": "2dc81d8a-6528-47ad-8abb-159cfffab1e6"
      },
      "source": [
        "torch.eye(2)  #单位矩阵 identity matrix"
      ],
      "execution_count": 44,
      "outputs": [
        {
          "output_type": "execute_result",
          "data": {
            "text/plain": [
              "tensor([[1., 0.],\n",
              "        [0., 1.]])"
            ]
          },
          "metadata": {
            "tags": []
          },
          "execution_count": 44
        }
      ]
    },
    {
      "cell_type": "code",
      "metadata": {
        "colab": {
          "base_uri": "https://localhost:8080/"
        },
        "id": "NbxiaxhGozw1",
        "outputId": "d8bb4366-4b2b-458e-8cb9-ae0c122d6c74"
      },
      "source": [
        "torch.zeros(2,2)# all zeros"
      ],
      "execution_count": 45,
      "outputs": [
        {
          "output_type": "execute_result",
          "data": {
            "text/plain": [
              "tensor([[0., 0.],\n",
              "        [0., 0.]])"
            ]
          },
          "metadata": {
            "tags": []
          },
          "execution_count": 45
        }
      ]
    },
    {
      "cell_type": "code",
      "metadata": {
        "colab": {
          "base_uri": "https://localhost:8080/"
        },
        "id": "RomWzef2pCiF",
        "outputId": "ba6e0418-c34e-4927-e8b1-d6bd6acae2d3"
      },
      "source": [
        "torch.zeros(2,2,2)"
      ],
      "execution_count": 46,
      "outputs": [
        {
          "output_type": "execute_result",
          "data": {
            "text/plain": [
              "tensor([[[0., 0.],\n",
              "         [0., 0.]],\n",
              "\n",
              "        [[0., 0.],\n",
              "         [0., 0.]]])"
            ]
          },
          "metadata": {
            "tags": []
          },
          "execution_count": 46
        }
      ]
    },
    {
      "cell_type": "code",
      "metadata": {
        "colab": {
          "base_uri": "https://localhost:8080/"
        },
        "id": "sTziRj9ppGM9",
        "outputId": "7739d6cc-32ae-4d78-fbdf-ccb63697c200"
      },
      "source": [
        "torch.ones(2,2)# 返回给定形状的张量。并填满 given shape filled with all ones"
      ],
      "execution_count": 47,
      "outputs": [
        {
          "output_type": "execute_result",
          "data": {
            "text/plain": [
              "tensor([[1., 1.],\n",
              "        [1., 1.]])"
            ]
          },
          "metadata": {
            "tags": []
          },
          "execution_count": 47
        }
      ]
    },
    {
      "cell_type": "code",
      "metadata": {
        "colab": {
          "base_uri": "https://localhost:8080/"
        },
        "id": "GOZ0eB4UpQzY",
        "outputId": "d481dee8-30a0-4539-89d2-8062ea5a74a1"
      },
      "source": [
        "torch.ones(2,2,2,2)"
      ],
      "execution_count": 48,
      "outputs": [
        {
          "output_type": "execute_result",
          "data": {
            "text/plain": [
              "tensor([[[[1., 1.],\n",
              "          [1., 1.]],\n",
              "\n",
              "         [[1., 1.],\n",
              "          [1., 1.]]],\n",
              "\n",
              "\n",
              "        [[[1., 1.],\n",
              "          [1., 1.]],\n",
              "\n",
              "         [[1., 1.],\n",
              "          [1., 1.]]]])"
            ]
          },
          "metadata": {
            "tags": []
          },
          "execution_count": 48
        }
      ]
    },
    {
      "cell_type": "code",
      "metadata": {
        "colab": {
          "base_uri": "https://localhost:8080/"
        },
        "id": "-iC_NpFYpnAp",
        "outputId": "061375af-c271-441a-aae0-ce54a3e64d5e"
      },
      "source": [
        "torch.ones(4)#行"
      ],
      "execution_count": 49,
      "outputs": [
        {
          "output_type": "execute_result",
          "data": {
            "text/plain": [
              "tensor([1., 1., 1., 1.])"
            ]
          },
          "metadata": {
            "tags": []
          },
          "execution_count": 49
        }
      ]
    },
    {
      "cell_type": "code",
      "metadata": {
        "colab": {
          "base_uri": "https://localhost:8080/"
        },
        "id": "jpHGXE_npUAg",
        "outputId": "87d0ebc4-60d7-4577-d6d9-6c9482fbe5bf"
      },
      "source": [
        "torch.ones(4,4)#1"
      ],
      "execution_count": 50,
      "outputs": [
        {
          "output_type": "execute_result",
          "data": {
            "text/plain": [
              "tensor([[1., 1., 1., 1.],\n",
              "        [1., 1., 1., 1.],\n",
              "        [1., 1., 1., 1.],\n",
              "        [1., 1., 1., 1.]])"
            ]
          },
          "metadata": {
            "tags": []
          },
          "execution_count": 50
        }
      ]
    },
    {
      "cell_type": "code",
      "metadata": {
        "colab": {
          "base_uri": "https://localhost:8080/"
        },
        "id": "qEho0JeFpXNg",
        "outputId": "ff580623-1e89-4985-a2a7-f3cd92511f87"
      },
      "source": [
        "torch.ones(4,4,4)#4"
      ],
      "execution_count": 51,
      "outputs": [
        {
          "output_type": "execute_result",
          "data": {
            "text/plain": [
              "tensor([[[1., 1., 1., 1.],\n",
              "         [1., 1., 1., 1.],\n",
              "         [1., 1., 1., 1.],\n",
              "         [1., 1., 1., 1.]],\n",
              "\n",
              "        [[1., 1., 1., 1.],\n",
              "         [1., 1., 1., 1.],\n",
              "         [1., 1., 1., 1.],\n",
              "         [1., 1., 1., 1.]],\n",
              "\n",
              "        [[1., 1., 1., 1.],\n",
              "         [1., 1., 1., 1.],\n",
              "         [1., 1., 1., 1.],\n",
              "         [1., 1., 1., 1.]],\n",
              "\n",
              "        [[1., 1., 1., 1.],\n",
              "         [1., 1., 1., 1.],\n",
              "         [1., 1., 1., 1.],\n",
              "         [1., 1., 1., 1.]]])"
            ]
          },
          "metadata": {
            "tags": []
          },
          "execution_count": 51
        }
      ]
    },
    {
      "cell_type": "code",
      "metadata": {
        "colab": {
          "base_uri": "https://localhost:8080/"
        },
        "id": "c6poBf7Ipc-A",
        "outputId": "5e58bc9c-7ed3-4a1c-dc11-54b4ad05c9e5"
      },
      "source": [
        "torch.ones(4,4,4,4)  #16"
      ],
      "execution_count": 52,
      "outputs": [
        {
          "output_type": "execute_result",
          "data": {
            "text/plain": [
              "tensor([[[[1., 1., 1., 1.],\n",
              "          [1., 1., 1., 1.],\n",
              "          [1., 1., 1., 1.],\n",
              "          [1., 1., 1., 1.]],\n",
              "\n",
              "         [[1., 1., 1., 1.],\n",
              "          [1., 1., 1., 1.],\n",
              "          [1., 1., 1., 1.],\n",
              "          [1., 1., 1., 1.]],\n",
              "\n",
              "         [[1., 1., 1., 1.],\n",
              "          [1., 1., 1., 1.],\n",
              "          [1., 1., 1., 1.],\n",
              "          [1., 1., 1., 1.]],\n",
              "\n",
              "         [[1., 1., 1., 1.],\n",
              "          [1., 1., 1., 1.],\n",
              "          [1., 1., 1., 1.],\n",
              "          [1., 1., 1., 1.]]],\n",
              "\n",
              "\n",
              "        [[[1., 1., 1., 1.],\n",
              "          [1., 1., 1., 1.],\n",
              "          [1., 1., 1., 1.],\n",
              "          [1., 1., 1., 1.]],\n",
              "\n",
              "         [[1., 1., 1., 1.],\n",
              "          [1., 1., 1., 1.],\n",
              "          [1., 1., 1., 1.],\n",
              "          [1., 1., 1., 1.]],\n",
              "\n",
              "         [[1., 1., 1., 1.],\n",
              "          [1., 1., 1., 1.],\n",
              "          [1., 1., 1., 1.],\n",
              "          [1., 1., 1., 1.]],\n",
              "\n",
              "         [[1., 1., 1., 1.],\n",
              "          [1., 1., 1., 1.],\n",
              "          [1., 1., 1., 1.],\n",
              "          [1., 1., 1., 1.]]],\n",
              "\n",
              "\n",
              "        [[[1., 1., 1., 1.],\n",
              "          [1., 1., 1., 1.],\n",
              "          [1., 1., 1., 1.],\n",
              "          [1., 1., 1., 1.]],\n",
              "\n",
              "         [[1., 1., 1., 1.],\n",
              "          [1., 1., 1., 1.],\n",
              "          [1., 1., 1., 1.],\n",
              "          [1., 1., 1., 1.]],\n",
              "\n",
              "         [[1., 1., 1., 1.],\n",
              "          [1., 1., 1., 1.],\n",
              "          [1., 1., 1., 1.],\n",
              "          [1., 1., 1., 1.]],\n",
              "\n",
              "         [[1., 1., 1., 1.],\n",
              "          [1., 1., 1., 1.],\n",
              "          [1., 1., 1., 1.],\n",
              "          [1., 1., 1., 1.]]],\n",
              "\n",
              "\n",
              "        [[[1., 1., 1., 1.],\n",
              "          [1., 1., 1., 1.],\n",
              "          [1., 1., 1., 1.],\n",
              "          [1., 1., 1., 1.]],\n",
              "\n",
              "         [[1., 1., 1., 1.],\n",
              "          [1., 1., 1., 1.],\n",
              "          [1., 1., 1., 1.],\n",
              "          [1., 1., 1., 1.]],\n",
              "\n",
              "         [[1., 1., 1., 1.],\n",
              "          [1., 1., 1., 1.],\n",
              "          [1., 1., 1., 1.],\n",
              "          [1., 1., 1., 1.]],\n",
              "\n",
              "         [[1., 1., 1., 1.],\n",
              "          [1., 1., 1., 1.],\n",
              "          [1., 1., 1., 1.],\n",
              "          [1., 1., 1., 1.]]]])"
            ]
          },
          "metadata": {
            "tags": []
          },
          "execution_count": 52
        }
      ]
    },
    {
      "cell_type": "code",
      "metadata": {
        "colab": {
          "base_uri": "https://localhost:8080/"
        },
        "id": "rCHhiiKbprlg",
        "outputId": "12c41be9-5ee6-4a12-a3c7-f88ea5553e3e"
      },
      "source": [
        "torch.rand(2)#given shap____values fill it  uniform distribution 均匀分布 on[0,1)"
      ],
      "execution_count": 53,
      "outputs": [
        {
          "output_type": "execute_result",
          "data": {
            "text/plain": [
              "tensor([0.7768, 0.9144])"
            ]
          },
          "metadata": {
            "tags": []
          },
          "execution_count": 53
        }
      ]
    },
    {
      "cell_type": "code",
      "metadata": {
        "colab": {
          "base_uri": "https://localhost:8080/"
        },
        "id": "jirPB-3WpwDn",
        "outputId": "096bc5b7-43c2-43d8-d92b-5425a292778c"
      },
      "source": [
        "torch.rand(2)"
      ],
      "execution_count": 54,
      "outputs": [
        {
          "output_type": "execute_result",
          "data": {
            "text/plain": [
              "tensor([0.0956, 0.9846])"
            ]
          },
          "metadata": {
            "tags": []
          },
          "execution_count": 54
        }
      ]
    },
    {
      "cell_type": "code",
      "metadata": {
        "colab": {
          "base_uri": "https://localhost:8080/"
        },
        "id": "R-3msoRmpyzT",
        "outputId": "cdd6cc51-445f-4a77-fd30-aed05bd08cba"
      },
      "source": [
        "torch.rand(2,2) "
      ],
      "execution_count": 55,
      "outputs": [
        {
          "output_type": "execute_result",
          "data": {
            "text/plain": [
              "tensor([[0.1355, 0.7927],\n",
              "        [0.1597, 0.2582]])"
            ]
          },
          "metadata": {
            "tags": []
          },
          "execution_count": 55
        }
      ]
    },
    {
      "cell_type": "code",
      "metadata": {
        "colab": {
          "base_uri": "https://localhost:8080/"
        },
        "id": "mKGRMD_Fp1bT",
        "outputId": "e14d834c-0b10-42bc-a8bb-29c6bec5337b"
      },
      "source": [
        "torch.rand(2,2,2)"
      ],
      "execution_count": 56,
      "outputs": [
        {
          "output_type": "execute_result",
          "data": {
            "text/plain": [
              "tensor([[[0.7514, 0.1522],\n",
              "         [0.1954, 0.3906]],\n",
              "\n",
              "        [[0.2731, 0.8968],\n",
              "         [0.9245, 0.6986]]])"
            ]
          },
          "metadata": {
            "tags": []
          },
          "execution_count": 56
        }
      ]
    },
    {
      "cell_type": "markdown",
      "metadata": {
        "id": "Xcs66jSNqIDj"
      },
      "source": [
        "**basic tensor operations 基本张量计算**"
      ]
    },
    {
      "cell_type": "code",
      "metadata": {
        "id": "eOzCbnNIqLhj"
      },
      "source": [
        "#https://pytorch.org/docs/stable/torch.html#math-operations\n"
      ],
      "execution_count": 57,
      "outputs": []
    },
    {
      "cell_type": "markdown",
      "metadata": {
        "id": "om5fn-GhqIOb"
      },
      "source": [
        "simple linear regression algorithm"
      ]
    },
    {
      "cell_type": "markdown",
      "metadata": {
        "id": "9cAOJbhSqo3X"
      },
      "source": [
        "prepare data 准备数据"
      ]
    },
    {
      "cell_type": "code",
      "metadata": {
        "id": "4hxqt7HiqtHK"
      },
      "source": [
        "import numpy\n",
        "import matplotlib.pyplot as plt\n",
        "import torch"
      ],
      "execution_count": 58,
      "outputs": []
    },
    {
      "cell_type": "code",
      "metadata": {
        "id": "j4ipL8h5q3cw"
      },
      "source": [
        "#training data\n",
        "x_training = numpy.asarray([1,2,5,8,9,12,14,16,18,20])\n",
        "y_training = numpy.asarray([1500,3500,7200,11000,12500,18500,22000,24500,28000,30500])\n",
        "\n",
        "x_test = numpy.asarray([3,7,13,15,19])\n",
        "y_test = numpy.asarray([4400,10000,19500,23500,29000])\n"
      ],
      "execution_count": 59,
      "outputs": []
    },
    {
      "cell_type": "code",
      "metadata": {
        "id": "OYl4H0DCrdVB"
      },
      "source": [
        "#create tensor : training\n",
        "x_data = torch.from_numpy(x_training)"
      ],
      "execution_count": 60,
      "outputs": []
    },
    {
      "cell_type": "code",
      "metadata": {
        "colab": {
          "base_uri": "https://localhost:8080/"
        },
        "id": "YvO86cU7ri90",
        "outputId": "1681a72c-fa07-4e9a-e8aa-a8fe88c10feb"
      },
      "source": [
        "x_data#就是输出出来了"
      ],
      "execution_count": 61,
      "outputs": [
        {
          "output_type": "execute_result",
          "data": {
            "text/plain": [
              "tensor([ 1,  2,  5,  8,  9, 12, 14, 16, 18, 20])"
            ]
          },
          "metadata": {
            "tags": []
          },
          "execution_count": 61
        }
      ]
    },
    {
      "cell_type": "code",
      "metadata": {
        "id": "oFRNsbNurquj"
      },
      "source": [
        "y_data = torch.from_numpy(y_training)"
      ],
      "execution_count": 62,
      "outputs": []
    },
    {
      "cell_type": "code",
      "metadata": {
        "colab": {
          "base_uri": "https://localhost:8080/"
        },
        "id": "gkxoT8EVr0Sn",
        "outputId": "4749b72a-a0ba-434a-c942-8352ea47c24f"
      },
      "source": [
        "y_data#依旧输出"
      ],
      "execution_count": 63,
      "outputs": [
        {
          "output_type": "execute_result",
          "data": {
            "text/plain": [
              "tensor([ 1500,  3500,  7200, 11000, 12500, 18500, 22000, 24500, 28000, 30500])"
            ]
          },
          "metadata": {
            "tags": []
          },
          "execution_count": 63
        }
      ]
    },
    {
      "cell_type": "code",
      "metadata": {
        "id": "Fht3vpmIr33y"
      },
      "source": [
        "x_test_data = torch.from_numpy(x_test)"
      ],
      "execution_count": 64,
      "outputs": []
    },
    {
      "cell_type": "code",
      "metadata": {
        "colab": {
          "base_uri": "https://localhost:8080/"
        },
        "id": "cspdvs0tr9x9",
        "outputId": "27bc2544-3894-4d7b-d978-ee7980f6c4e0"
      },
      "source": [
        "x_test_data#依旧"
      ],
      "execution_count": 65,
      "outputs": [
        {
          "output_type": "execute_result",
          "data": {
            "text/plain": [
              "tensor([ 3,  7, 13, 15, 19])"
            ]
          },
          "metadata": {
            "tags": []
          },
          "execution_count": 65
        }
      ]
    },
    {
      "cell_type": "code",
      "metadata": {
        "id": "UlRSNEdEsAph"
      },
      "source": [
        "y_test_data = torch.from_numpy(y_test)"
      ],
      "execution_count": 66,
      "outputs": []
    },
    {
      "cell_type": "code",
      "metadata": {
        "colab": {
          "base_uri": "https://localhost:8080/"
        },
        "id": "a6fIYp0usG6A",
        "outputId": "8861e3de-9106-4233-a870-6fe235e42e54"
      },
      "source": [
        "y_test_data# same"
      ],
      "execution_count": 67,
      "outputs": [
        {
          "output_type": "execute_result",
          "data": {
            "text/plain": [
              "tensor([ 4400, 10000, 19500, 23500, 29000])"
            ]
          },
          "metadata": {
            "tags": []
          },
          "execution_count": 67
        }
      ]
    },
    {
      "cell_type": "markdown",
      "metadata": {
        "id": "TEoLRNv4sMG3"
      },
      "source": [
        "上面就是在准备数据，将正常的数组变成张量（有点像换形式）\n",
        "then define model architecture"
      ]
    },
    {
      "cell_type": "code",
      "metadata": {
        "id": "GXUXkdpHsVW3"
      },
      "source": [
        "#define weights +biases 权重和偏差\n",
        "weight = torch.tensor(numpy.random.randn())"
      ],
      "execution_count": 68,
      "outputs": []
    },
    {
      "cell_type": "code",
      "metadata": {
        "colab": {
          "base_uri": "https://localhost:8080/"
        },
        "id": "7TVv7Q-jshDw",
        "outputId": "00e57d21-a303-4576-9a3d-634800879fb0"
      },
      "source": [
        "weight"
      ],
      "execution_count": 69,
      "outputs": [
        {
          "output_type": "execute_result",
          "data": {
            "text/plain": [
              "tensor(-0.2171)"
            ]
          },
          "metadata": {
            "tags": []
          },
          "execution_count": 69
        }
      ]
    },
    {
      "cell_type": "code",
      "metadata": {
        "id": "X1szlGHaszpU"
      },
      "source": [
        "weight = torch.tensor(numpy.random.randn(),requires_grad = True)# open automatic gradient compute weight bias打开自动剃度计算关于权重和偏差"
      ],
      "execution_count": 70,
      "outputs": []
    },
    {
      "cell_type": "code",
      "metadata": {
        "colab": {
          "base_uri": "https://localhost:8080/"
        },
        "id": "N31BzSCFs4iG",
        "outputId": "d7413d9a-af1a-4677-f5d9-e0e1a6683aa3"
      },
      "source": [
        "weight"
      ],
      "execution_count": 71,
      "outputs": [
        {
          "output_type": "execute_result",
          "data": {
            "text/plain": [
              "tensor(1.6454, requires_grad=True)"
            ]
          },
          "metadata": {
            "tags": []
          },
          "execution_count": 71
        }
      ]
    },
    {
      "cell_type": "code",
      "metadata": {
        "id": "ksjEHEkPs6bx"
      },
      "source": [
        "bias = torch.tensor(numpy.random.randn(),requires_grad=True)#true开关"
      ],
      "execution_count": 72,
      "outputs": []
    },
    {
      "cell_type": "code",
      "metadata": {
        "colab": {
          "base_uri": "https://localhost:8080/"
        },
        "id": "aN5gRbP8thXP",
        "outputId": "d8312a8e-8aa2-438c-872b-d2a91c9f30cf"
      },
      "source": [
        "bias"
      ],
      "execution_count": 73,
      "outputs": [
        {
          "output_type": "execute_result",
          "data": {
            "text/plain": [
              "tensor(-0.2128, requires_grad=True)"
            ]
          },
          "metadata": {
            "tags": []
          },
          "execution_count": 73
        }
      ]
    },
    {
      "cell_type": "code",
      "metadata": {
        "colab": {
          "base_uri": "https://localhost:8080/",
          "height": 53
        },
        "id": "wsiRayvVtj1Q",
        "outputId": "8af783ff-07aa-45a9-96c1-ff506c02ea3e"
      },
      "source": [
        "print(weight,bias)\n",
        "'''\n",
        "print(weight)\n",
        "print(bias)'''"
      ],
      "execution_count": 74,
      "outputs": [
        {
          "output_type": "stream",
          "text": [
            "tensor(1.6454, requires_grad=True) tensor(-0.2128, requires_grad=True)\n"
          ],
          "name": "stdout"
        },
        {
          "output_type": "execute_result",
          "data": {
            "application/vnd.google.colaboratory.intrinsic+json": {
              "type": "string"
            },
            "text/plain": [
              "'\\nprint(weight)\\nprint(bias)'"
            ]
          },
          "metadata": {
            "tags": []
          },
          "execution_count": 74
        }
      ]
    },
    {
      "cell_type": "markdown",
      "metadata": {
        "id": "2R7Cknb0tr66"
      },
      "source": [
        "every Tensor has a flag(标志）‘require_grad' increase efficiency \n",
        "grain exclusion of subgraphs from gradient compute允许从梯度计算中细粒度地排除子图\n",
        "如果单个操作的打单个输入需要渐变 gradient ，那么output also gradient渐变\n",
        "反之亦然不变-不变；performed 执行 所有tensors 不需要gradient 的子图中，never backward comput 向后计算。"
      ]
    },
    {
      "cell_type": "code",
      "metadata": {
        "id": "lP071qdqut6u"
      },
      "source": [
        "#define model\n",
        "#Hypothesis 假设 = W * X + b(linear model)\n",
        "def linearRegression(x):\n",
        "  return x * weight + bias"
      ],
      "execution_count": 75,
      "outputs": []
    },
    {
      "cell_type": "code",
      "metadata": {
        "id": "wpZQU5-Tu_Zg"
      },
      "source": [
        "#generate(create) predictions(gass) + compare grounnd truth labels\n",
        "#randomly initialise weight +bias ---> model can't predict properly (right) at the moment\n",
        "predictions = linearRegression(x_data) #x_training的tensor"
      ],
      "execution_count": 76,
      "outputs": []
    },
    {
      "cell_type": "code",
      "metadata": {
        "colab": {
          "base_uri": "https://localhost:8080/"
        },
        "id": "SOSQDeGJvoVo",
        "outputId": "81c3f806-74a5-4f94-ab60-5e685236a748"
      },
      "source": [
        "print(predictions)"
      ],
      "execution_count": 77,
      "outputs": [
        {
          "output_type": "stream",
          "text": [
            "tensor([ 1.4327,  3.0781,  8.0143, 12.9505, 14.5959, 19.5321, 22.8229, 26.1137,\n",
            "        29.4045, 32.6953], grad_fn=<AddBackward0>)\n"
          ],
          "name": "stdout"
        }
      ]
    },
    {
      "cell_type": "code",
      "metadata": {
        "colab": {
          "base_uri": "https://localhost:8080/",
          "height": 53
        },
        "id": "dlKVz44mvvSZ",
        "outputId": "fd060686-a6dd-4e56-be00-7e7b3b515459"
      },
      "source": [
        "print(y_data)  #y_data = y_training \n",
        "'''\n",
        "为什么不是呢？那正确的是什么呢？what's the correct answer？  #pre 和 y差很多\n",
        "'''"
      ],
      "execution_count": 78,
      "outputs": [
        {
          "output_type": "stream",
          "text": [
            "tensor([ 1500,  3500,  7200, 11000, 12500, 18500, 22000, 24500, 28000, 30500])\n"
          ],
          "name": "stdout"
        },
        {
          "output_type": "execute_result",
          "data": {
            "application/vnd.google.colaboratory.intrinsic+json": {
              "type": "string"
            },
            "text/plain": [
              "\"\\n为什么不是呢？那正确的是什么呢？what's the correct answer？  #pre 和 y差很多\\n\""
            ]
          },
          "metadata": {
            "tags": []
          },
          "execution_count": 78
        }
      ]
    },
    {
      "cell_type": "markdown",
      "metadata": {
        "id": "wSQBKrpbwh0s"
      },
      "source": [
        "loss function [先导入数据+改tensor +定函数线回归 + 定损失"
      ]
    },
    {
      "cell_type": "code",
      "metadata": {
        "id": "WuqildTnxdsd"
      },
      "source": [
        "#loss --> use [MSE] mean squared error 均方误差（那应该还有别的）\n",
        "def mse(x1,x2):\n",
        "  diff = x1 - x2\n",
        "  return torch.sum(diff*diff)/diff.numel() #numel 元素个数(12345)->5\n",
        "  "
      ],
      "execution_count": 79,
      "outputs": []
    },
    {
      "cell_type": "code",
      "metadata": {
        "colab": {
          "base_uri": "https://localhost:8080/",
          "height": 88
        },
        "id": "jK1pKLrCyEN4",
        "outputId": "f5a65b30-18b9-4b05-c82c-efd0ffff497e"
      },
      "source": [
        "#comput loss  ** lower better\n",
        "loss = mse(predictions, y_data)  #预测和y训练\n",
        "print(loss)\n",
        "\n",
        "'''\n",
        "PyTorch会自动计算损耗的梯度/导数（关于此处的权重和偏差）\n",
        "gradient/derivative\n",
        "weight and bias\n",
        "想要 automatically compute need 设置 set 'requires_grad = True' 这个话就像开关\n",
        "call 调用 backward()  trigger 触发 automatical compute gradients on chain rule（基于链规则的梯度自动计算）\n",
        "'''"
      ],
      "execution_count": 80,
      "outputs": [
        {
          "output_type": "stream",
          "text": [
            "tensor(3.4769e+08, grad_fn=<DivBackward0>)\n"
          ],
          "name": "stdout"
        },
        {
          "output_type": "execute_result",
          "data": {
            "application/vnd.google.colaboratory.intrinsic+json": {
              "type": "string"
            },
            "text/plain": [
              "\"\\nPyTorch会自动计算损耗的梯度/导数（关于此处的权重和偏差）\\ngradient/derivative\\nweight and bias\\n想要 automatically compute need 设置 set 'requires_grad = True' 这个话就像开关\\ncall 调用 backward()  trigger 触发 automatical compute gradients on chain rule（基于链规则的梯度自动计算）\\n\""
            ]
          },
          "metadata": {
            "tags": []
          },
          "execution_count": 80
        }
      ]
    },
    {
      "cell_type": "code",
      "metadata": {
        "id": "JP0irPGcyT56"
      },
      "source": [
        "#就是计算梯度：compute gradients\n",
        "loss.backward()#很有用"
      ],
      "execution_count": 81,
      "outputs": []
    },
    {
      "cell_type": "code",
      "metadata": {
        "colab": {
          "base_uri": "https://localhost:8080/"
        },
        "id": "Z3wCiMmszNkZ",
        "outputId": "d169457a-8d9c-4120-afa4-91fcddd3da3a"
      },
      "source": [
        "loss"
      ],
      "execution_count": 82,
      "outputs": [
        {
          "output_type": "execute_result",
          "data": {
            "text/plain": [
              "tensor(3.4769e+08, grad_fn=<DivBackward0>)"
            ]
          },
          "metadata": {
            "tags": []
          },
          "execution_count": 82
        }
      ]
    },
    {
      "cell_type": "code",
      "metadata": {
        "colab": {
          "base_uri": "https://localhost:8080/"
        },
        "id": "AQYCIcDozR0H",
        "outputId": "aeacd9c5-404b-4e29-c9c2-8e3c29e95491"
      },
      "source": [
        "# after backward (倒推法？倒退)向后传递后, store gradients in tensors(involved 相关) ' .grad ' property性能属性 \n",
        "print(weight)"
      ],
      "execution_count": 83,
      "outputs": [
        {
          "output_type": "stream",
          "text": [
            "tensor(1.6454, requires_grad=True)\n"
          ],
          "name": "stdout"
        }
      ]
    },
    {
      "cell_type": "code",
      "metadata": {
        "colab": {
          "base_uri": "https://localhost:8080/"
        },
        "id": "pYZsBwsrz8mK",
        "outputId": "1ba99008-9a67-4082-d700-ba478ad1ab8c"
      },
      "source": [
        "print(weight.grad)#重量梯度"
      ],
      "execution_count": 84,
      "outputs": [
        {
          "output_type": "stream",
          "text": [
            "tensor(-455712.5000)\n"
          ],
          "name": "stdout"
        }
      ]
    },
    {
      "cell_type": "code",
      "metadata": {
        "colab": {
          "base_uri": "https://localhost:8080/"
        },
        "id": "AM3TWnjdz_jW",
        "outputId": "6ffd8fea-9318-4ca8-89a1-e09707adddc2"
      },
      "source": [
        "print()"
      ],
      "execution_count": 85,
      "outputs": [
        {
          "output_type": "stream",
          "text": [
            "\n"
          ],
          "name": "stdout"
        }
      ]
    },
    {
      "cell_type": "code",
      "metadata": {
        "colab": {
          "base_uri": "https://localhost:8080/"
        },
        "id": "2yAXGEAX0AyT",
        "outputId": "9562cc7b-21e2-47dd-9d13-370398d6c045"
      },
      "source": [
        "# gradient for bias 梯度偏差\n",
        "print(bias)\n",
        "print(bias.grad)"
      ],
      "execution_count": 86,
      "outputs": [
        {
          "output_type": "stream",
          "text": [
            "tensor(-0.2128, requires_grad=True)\n",
            "tensor(-31805.8730)\n"
          ],
          "name": "stdout"
        }
      ]
    },
    {
      "cell_type": "markdown",
      "metadata": {
        "id": "fSyNJx7L0Qo1"
      },
      "source": [
        "adjust weight + bias use gradients 调参 用梯度\n",
        "reset gradients before next forward pass(向前通过) because PyTorch accumulates gradients(累积梯度/渐变）"
      ]
    },
    {
      "cell_type": "code",
      "metadata": {
        "colab": {
          "base_uri": "https://localhost:8080/"
        },
        "id": "uZvpJYyb0sAe",
        "outputId": "7c9d980e-5447-4600-ae1e-f6c6b9deb630"
      },
      "source": [
        "'''\n",
        "don't want update operation though gradient\n",
        "in '【torch.no_grad()】' don't automatic gradient (stop)【requires_grad = True】（start）\n",
        "le-5 == learning rate （this part)\n",
        "'''\n",
        "with torch.no_grad():\n",
        "  weight -= weight.grad * 1e-5 # 重量梯度  【a *=2(乘以 a=a*2)】 [weight = weight -weight.grad * 1e-5]【Wnew = Wold -lr * Loss'/w'】\n",
        "  bias -= bias * 1e-5  # next reset the gradients (don't forget) #是一e－5\n",
        "  weight.grad.zero_()\n",
        "  bias.grad.zero_()\n",
        "print(weight)\n",
        "print(bias)\n"
      ],
      "execution_count": 87,
      "outputs": [
        {
          "output_type": "stream",
          "text": [
            "tensor(6.2025, requires_grad=True)\n",
            "tensor(-0.2127, requires_grad=True)\n"
          ],
          "name": "stdout"
        }
      ]
    },
    {
      "cell_type": "code",
      "metadata": {
        "colab": {
          "base_uri": "https://localhost:8080/"
        },
        "id": "NamNMMbj21xt",
        "outputId": "0e850ccb-9bf2-4860-d302-1acbc5d80e21"
      },
      "source": [
        "weight"
      ],
      "execution_count": 88,
      "outputs": [
        {
          "output_type": "execute_result",
          "data": {
            "text/plain": [
              "tensor(6.2025, requires_grad=True)"
            ]
          },
          "metadata": {
            "tags": []
          },
          "execution_count": 88
        }
      ]
    },
    {
      "cell_type": "code",
      "metadata": {
        "colab": {
          "base_uri": "https://localhost:8080/"
        },
        "id": "jMlbqlFf3g7Y",
        "outputId": "14d73393-1347-4d34-cc79-fe03201ba1db"
      },
      "source": [
        "bias"
      ],
      "execution_count": 89,
      "outputs": [
        {
          "output_type": "execute_result",
          "data": {
            "text/plain": [
              "tensor(-0.2127, requires_grad=True)"
            ]
          },
          "metadata": {
            "tags": []
          },
          "execution_count": 89
        }
      ]
    },
    {
      "cell_type": "code",
      "metadata": {
        "colab": {
          "base_uri": "https://localhost:8080/"
        },
        "id": "pVUcfikt3ntB",
        "outputId": "ece3015f-f11a-4477-b597-558f436bb9a1"
      },
      "source": [
        "bias"
      ],
      "execution_count": 90,
      "outputs": [
        {
          "output_type": "execute_result",
          "data": {
            "text/plain": [
              "tensor(-0.2127, requires_grad=True)"
            ]
          },
          "metadata": {
            "tags": []
          },
          "execution_count": 90
        }
      ]
    },
    {
      "cell_type": "code",
      "metadata": {
        "colab": {
          "base_uri": "https://localhost:8080/"
        },
        "id": "M_7XdpNI3udS",
        "outputId": "3b48abcd-7181-435d-bec3-f54c07bbf365"
      },
      "source": [
        "print(weight.grad, bias.grad)\n"
      ],
      "execution_count": 91,
      "outputs": [
        {
          "output_type": "stream",
          "text": [
            "tensor(0.) tensor(0.)\n"
          ],
          "name": "stdout"
        }
      ]
    },
    {
      "cell_type": "code",
      "metadata": {
        "colab": {
          "base_uri": "https://localhost:8080/"
        },
        "id": "eD8RE_ed36lP",
        "outputId": "655aba01-9b54-4203-f934-e74b1f6944ff"
      },
      "source": [
        "# predict + compute loss again  这回loss will lower (weights +biases)  【变成了重量梯度？'】\n",
        "predictions = linearRegression(x_data)\n",
        "loss = mse(predictions, y_data)\n",
        "print(predictions)\n",
        "print(y_data)\n",
        "print(loss)   #3.4731e+08, 低了点"
      ],
      "execution_count": 92,
      "outputs": [
        {
          "output_type": "stream",
          "text": [
            "tensor([  5.9898,  12.1923,  30.7999,  49.4075,  55.6100,  74.2176,  86.6226,\n",
            "         99.0277, 111.4327, 123.8378], grad_fn=<AddBackward0>)\n",
            "tensor([ 1500,  3500,  7200, 11000, 12500, 18500, 22000, 24500, 28000, 30500])\n",
            "tensor(3.4562e+08, grad_fn=<DivBackward0>)\n"
          ],
          "name": "stdout"
        }
      ]
    },
    {
      "cell_type": "markdown",
      "metadata": {
        "id": "WSOC8W-19XBa"
      },
      "source": [
        "自动梯度计算###要找点资料"
      ]
    },
    {
      "cell_type": "markdown",
      "metadata": {
        "id": "LuNPXy6l5IBd"
      },
      "source": [
        "multiple epochs 【多时期】（循环起来）loop"
      ]
    },
    {
      "cell_type": "code",
      "metadata": {
        "id": "zfCvd9cb5P3w"
      },
      "source": [
        "no_of_epochs = 5000 # an epoch : one iteration [over the entire][遍及] 全部 input data\n",
        "#一个时代是整个输入数据的一次迭代 [5000次？]\n",
        "display_interval = 200 # interval 间隔1  2  3  ；  how often  display training info [200]"
      ],
      "execution_count": 93,
      "outputs": []
    },
    {
      "cell_type": "markdown",
      "metadata": {
        "id": "rmrcDJL5_YEe"
      },
      "source": [
        "with 语句干嘛的？？"
      ]
    },
    {
      "cell_type": "code",
      "metadata": {
        "colab": {
          "base_uri": "https://localhost:8080/"
        },
        "id": "GmkWIect-KYS",
        "outputId": "24a2f372-2d2a-4d2c-8b9f-a2593bf21363"
      },
      "source": [
        "for epoch in range(no_of_epochs):\n",
        "  predictions = linearRegression(x_data) #所有的预测都是线性回归然后输入 x_training\n",
        "  loss = mse(predictions, y_data)       #loss 更像是个评估标准MSE\n",
        "  loss.backward()                 #往回\n",
        "  with torch.no_grad():           #终止   \n",
        "    weight -= weight.grad * 1e-5  #重新更新weight 和bias 权重和偏差\n",
        "    bias -= bias.grad * 1e-5\n",
        "    weight.grad.zero_()     #将梯度清零（因为pytorch 会叠加\n",
        "    bias.grad.zero_()\n",
        "  if epoch % display_interval == 0 :    #  % 是求模 ——》除法的余数 等于0就是整除\n",
        "      predictions = linearRegression(x_data)   #开始 compute current model cost 计算当前模型成本 calculate\n",
        "      loss = mse(predictions, y_data)\n",
        "      print(\"Epoch:\", '%04d' %(epoch), \"loss=\",\"{:.8f}\".format(loss),\"W=\", \"{:.4f}\".format(weight), \"b=\", \"{:.4f}\".format(bias)) #% 格式化输出. 【eg : a = test  print'it is a %s' %(a)】 就是用a的内容替换%s;;这里用epoch替换%04d\n",
        "print(\"=========================================\")\n",
        "\n",
        "training_loss = mse(linearRegression(x_data), y_data) # 你想用你写的函数就把函数名字拿出来，再确认好你要往里放的对应的参数就好\n",
        "print(\"Optimised:\", \"loss=\", \":.9f\".format(training_loss.data), \\\n",
        "      \"W=\" , \"{:.9f}\".format(weight.data), \"b=\",\"{:.9f}\".format(bias.data))#loss.data 不是loss_data；；；\\后不能有空格  并且必须换行\n",
        "#loss 越来越小"
      ],
      "execution_count": 94,
      "outputs": [
        {
          "output_type": "stream",
          "text": [
            "Epoch: 0000 loss= 343545600.00000000 W= 10.7460 b= 0.1044\n",
            "Epoch: 0200 loss= 103393584.00000000 W= 692.4808 b= 47.5564\n",
            "Epoch: 0400 loss= 31329514.00000000 W= 1065.9464 b= 73.3199\n",
            "Epoch: 0600 loss= 9704796.00000000 W= 1270.5435 b= 87.2031\n",
            "Epoch: 0800 loss= 3215629.50000000 W= 1382.6365 b= 94.5783\n",
            "Epoch: 1000 loss= 1268290.75000000 W= 1444.0565 b= 98.3890\n",
            "Epoch: 1200 loss= 683857.25000000 W= 1477.7177 b= 100.2471\n",
            "Epoch: 1400 loss= 508395.18750000 W= 1496.1729 b= 101.0360\n",
            "Epoch: 1600 loss= 455648.06250000 W= 1506.2992 b= 101.2393\n",
            "Epoch: 1800 loss= 439732.00000000 W= 1511.8619 b= 101.1221\n",
            "Epoch: 2000 loss= 434866.18750000 W= 1514.9254 b= 100.8297\n",
            "Epoch: 2200 loss= 433316.25000000 W= 1516.6195 b= 100.4413\n",
            "Epoch: 2400 loss= 432762.00000000 W= 1517.5637 b= 100.0008\n",
            "Epoch: 2600 loss= 432506.50000000 W= 1518.0967 b= 99.5319\n",
            "Epoch: 2800 loss= 432340.84375000 W= 1518.4049 b= 99.0476\n",
            "Epoch: 3000 loss= 432202.09375000 W= 1518.5890 b= 98.5553\n",
            "Epoch: 3200 loss= 432071.43750000 W= 1518.7056 b= 98.0587\n",
            "Epoch: 3400 loss= 431943.50000000 W= 1518.7855 b= 97.5600\n",
            "Epoch: 3600 loss= 431817.59375000 W= 1518.8427 b= 97.0610\n",
            "Epoch: 3800 loss= 431691.81250000 W= 1518.8915 b= 96.5620\n",
            "Epoch: 4000 loss= 431565.93750000 W= 1518.9403 b= 96.0625\n",
            "Epoch: 4200 loss= 431440.65625000 W= 1518.9795 b= 95.5630\n",
            "Epoch: 4400 loss= 431315.31250000 W= 1519.0145 b= 95.0640\n",
            "Epoch: 4600 loss= 431190.56250000 W= 1519.0496 b= 94.5651\n",
            "Epoch: 4800 loss= 431065.68750000 W= 1519.0845 b= 94.0672\n",
            "=========================================\n",
            "Optimised: loss= :.9f W= 1519.119384766 b= 93.572265625\n"
          ],
          "name": "stdout"
        }
      ]
    },
    {
      "cell_type": "code",
      "metadata": {
        "id": "DaurFw2aA9fz",
        "colab": {
          "base_uri": "https://localhost:8080/",
          "height": 87
        },
        "outputId": "5dd8504d-ea96-4ebb-8c9d-e761f17fdadc"
      },
      "source": [
        " '''不变\n",
        "Epoch: 0 loss= 425168.68750000 \n",
        "Epoch: 200 loss= 425057.00000000 \n",
        "Epoch: 400 loss= 424944.93750000 \n",
        "Epoch: 600 loss= 424833.50000000 \n",
        "Epoch: 800 loss= 424722.40625000 \n",
        "Epoch: 1000 loss= 424610.65625000 \n",
        "Epoch: 1200 loss= 424500.09375000 \n",
        "Epoch: 1400 loss= 424389.50000000 \n",
        "Epoch: 1600 loss= 424278.90625000 \n",
        "Epoch: 1800 loss= 424168.65625000 \n",
        "Epoch: 2000 loss= 424058.43750000 \n",
        "Epoch: 2200 loss= 423949.15625000 \n",
        "Epoch: 2400 loss= 423839.90625000 \n",
        "Epoch: 2600 loss= 423729.656\n",
        "'''\n",
        "'''变了loss\n",
        "Epoch: 0000 loss= tensor(431083.5000, grad_fn=<DivBackward0>) \n",
        "Epoch: 0200 loss= tensor(430959.3125, grad_fn=<DivBackward0>) \n",
        "Epoch: 0400 loss= tensor(430834.3438, grad_fn=<DivBackward0>) \n",
        "Epoch: 0600 loss= tensor(430710.5938, grad_fn=<DivBackward0>) \n",
        "\n",
        "'''\n",
        "'''不变\n",
        "Epoch: 0000 loss= 422436.43750000 \n",
        "Epoch: 0200 loss= 422329.34375000 \n",
        "Epoch: 0400 loss= 422223.25000000 \n",
        "Epoch: 0600 loss= 422117.34375000 \n",
        "Epoch: 0800 loss= 422012.06250000 \n",
        "Epoch: 1000 loss= 421906.84375000 \n",
        "Epoch: 1200 loss= 421801.25000000 \n",
        "Epoch: 1400 loss= 421696.25000000 \n",
        "Epoch: 1600 loss= 421591.43750000 \n",
        "Epoch: 1800 loss= 421486.31250000 \n",
        "Epoch: 2000 loss= 421382.65625000 \n",
        "Epoch: 2200 loss= 421278.59375000 \n",
        "Epoch: 2400 loss= 421174.09375000 \n",
        "Epoch: 2600 loss= 421070.50\n",
        "'''\n",
        "\n",
        "'''不变\n",
        "Epoch: 0000 loss= 419843.00000000 W= tensor(1522.3992, requires_grad=True)\n",
        "Epoch: 0200 loss= 419741.75000000 W= tensor(1522.4307, requires_grad=True)\n",
        "Epoch: 0400 loss= 419640.93750000 W= tensor(1522.4620, requires_grad=True)\n",
        "Epoch: 0600 loss= 419540.40625000 W= tensor(1522.4935, requires_grad=True)\n",
        "Epoch: 0800 loss= 419440.43750000 W= tensor(1522.5248, requires_grad=True)\n",
        "Epoch: 1000 loss= 419340.25000000 W= tensor(1522.5562, requires_grad=True)\n",
        "'''\n",
        "\n",
        "'''变了w\n",
        "poch: 0000 loss= 417381.78125000 W= 1523.1759\n",
        "Epoch: 0200 loss= 417285.84375000 W= 1523.2067\n",
        "Epoch: 0400 loss= 417190.28125000 W= 1523.2372\n",
        "Epoch: 0600 loss= 417094.75000000 W= 1523.2678\n",
        "Epoch: 0800 loss= 416999.62500000 W= 1523.2985\n",
        "Epoc\n",
        "'''\n",
        "'''没变\n",
        "Epoch: 0000 loss= 415045.87500000 W= 1523.9327 b= tensor(25.0393, requires_grad=True)\n",
        "Epoch: 0200 loss= 414955.43750000 W= 1523.9625 b= tensor(24.6142, requires_grad=True)\n",
        "Epoch: 0400 loss= 414864.18750000 W= 1523.9924 b= tensor(24.1896, requires_grad=True)\n",
        "Epoch: 0600 loss= 414774.00000000 W= 1524.0222 b= tensor(23.7653, requires_grad=True)\n",
        "Epoch: 0800 los\n",
        "'''\n",
        "\n",
        "'''变了\n",
        "Epoch: 0000 loss= 412829.18750000 W= 1524.6698 b= 14.5444\n",
        "Epoch: 0200 loss= 412742.93750000 W= 1524.6989 b= 14.1303\n",
        "Epoch: 0400 loss= 412657.12500000 W= 1524.7279 b= 13.7167\n",
        "Epoch: 0600 loss= 412571.46875000 W= 1524.7570 b= 13.3034\n",
        "Epoch: 0800 loss= 412485.56250000 W= 1524.7860 b= 12.8907\n",
        "Epoch: 1000 loss= 412399.84375000 W= 1524.8149 b= \n",
        "\n",
        "\n",
        "'''\n"
      ],
      "execution_count": 95,
      "outputs": [
        {
          "output_type": "execute_result",
          "data": {
            "application/vnd.google.colaboratory.intrinsic+json": {
              "type": "string"
            },
            "text/plain": [
              "'变了\\nEpoch: 0000 loss= 412829.18750000 W= 1524.6698 b= 14.5444\\nEpoch: 0200 loss= 412742.93750000 W= 1524.6989 b= 14.1303\\nEpoch: 0400 loss= 412657.12500000 W= 1524.7279 b= 13.7167\\nEpoch: 0600 loss= 412571.46875000 W= 1524.7570 b= 13.3034\\nEpoch: 0800 loss= 412485.56250000 W= 1524.7860 b= 12.8907\\nEpoch: 1000 loss= 412399.84375000 W= 1524.8149 b= \\n\\n\\n'"
            ]
          },
          "metadata": {
            "tags": []
          },
          "execution_count": 95
        }
      ]
    },
    {
      "cell_type": "markdown",
      "metadata": {
        "id": "NEPWEVPtCVxu"
      },
      "source": [
        "控制格式还得好好学学  ；； \\ 然后另起一行，是在干嘛？print 中的\n"
      ]
    },
    {
      "cell_type": "markdown",
      "metadata": {
        "id": "Xm8KR9VZCZAH"
      },
      "source": [
        "然后开始画图了"
      ]
    },
    {
      "cell_type": "code",
      "metadata": {
        "colab": {
          "base_uri": "https://localhost:8080/",
          "height": 282
        },
        "id": "_FAhXvf2EALh",
        "outputId": "88f8abdf-11c4-4daf-8c73-21f342ad8d21"
      },
      "source": [
        "#plot training data  graph\n",
        "import matplotlib.pyplot as plt\n",
        "plt.plot(x_training)  #把plot 写成了plt   , y_training, 'ro', label = 'Training data'"
      ],
      "execution_count": 96,
      "outputs": [
        {
          "output_type": "execute_result",
          "data": {
            "text/plain": [
              "[<matplotlib.lines.Line2D at 0x7fd396592190>]"
            ]
          },
          "metadata": {
            "tags": []
          },
          "execution_count": 96
        },
        {
          "output_type": "display_data",
          "data": {
            "image/png": "[encoded data removed]",
            "text/plain": [
              "<Figure size 432x288 with 1 Axes>"
            ]
          },
          "metadata": {
            "tags": [],
            "needs_background": "light"
          }
        }
      ]
    },
    {
      "cell_type": "code",
      "metadata": {
        "colab": {
          "base_uri": "https://localhost:8080/",
          "height": 282
        },
        "id": "j793UxWaEJq8",
        "outputId": "36a7fc3c-48d9-4e88-ca08-9f737e34443f"
      },
      "source": [
        "plt.plot(y_training)"
      ],
      "execution_count": 97,
      "outputs": [
        {
          "output_type": "execute_result",
          "data": {
            "text/plain": [
              "[<matplotlib.lines.Line2D at 0x7fd396036d90>]"
            ]
          },
          "metadata": {
            "tags": []
          },
          "execution_count": 97
        },
        {
          "output_type": "display_data",
          "data": {
            "image/png": "[encoded data removed]",
            "text/plain": [
              "<Figure size 432x288 with 1 Axes>"
            ]
          },
          "metadata": {
            "tags": [],
            "needs_background": "light"
          }
        }
      ]
    },
    {
      "cell_type": "code",
      "metadata": {
        "colab": {
          "base_uri": "https://localhost:8080/",
          "height": 282
        },
        "id": "OHFmnsQnEzSN",
        "outputId": "18eef8e5-40cb-4647-b3e8-0c639826919d"
      },
      "source": [
        "plt.plot(x_training,y_training,)  #后面有，也没关系"
      ],
      "execution_count": 98,
      "outputs": [
        {
          "output_type": "execute_result",
          "data": {
            "text/plain": [
              "[<matplotlib.lines.Line2D at 0x7fd39602e4d0>]"
            ]
          },
          "metadata": {
            "tags": []
          },
          "execution_count": 98
        },
        {
          "output_type": "display_data",
          "data": {
            "image/png": "[encoded data removed]",
            "text/plain": [
              "<Figure size 432x288 with 1 Axes>"
            ]
          },
          "metadata": {
            "tags": [],
            "needs_background": "light"
          }
        }
      ]
    },
    {
      "cell_type": "code",
      "metadata": {
        "colab": {
          "base_uri": "https://localhost:8080/",
          "height": 282
        },
        "id": "GD8E6ZSKE5nm",
        "outputId": "a4ab2bc2-e985-4812-c2ab-94188408d00b"
      },
      "source": [
        "plt.plot(x_training,y_training,'ro')   # ro 红散点"
      ],
      "execution_count": 99,
      "outputs": [
        {
          "output_type": "execute_result",
          "data": {
            "text/plain": [
              "[<matplotlib.lines.Line2D at 0x7fd395f98dd0>]"
            ]
          },
          "metadata": {
            "tags": []
          },
          "execution_count": 99
        },
        {
          "output_type": "display_data",
          "data": {
            "image/png": "[encoded data removed]",
            "text/plain": [
              "<Figure size 432x288 with 1 Axes>"
            ]
          },
          "metadata": {
            "tags": [],
            "needs_background": "light"
          }
        }
      ]
    },
    {
      "cell_type": "code",
      "metadata": {
        "colab": {
          "base_uri": "https://localhost:8080/",
          "height": 282
        },
        "id": "YuJZXTgOFASn",
        "outputId": "552fc037-ece5-46e3-b02e-bfc81b3bf9a0"
      },
      "source": [
        "plt.plot(x_training,y_training,'ro', label= 'Training data')  #label= 'Training data示例图应该"
      ],
      "execution_count": 100,
      "outputs": [
        {
          "output_type": "execute_result",
          "data": {
            "text/plain": [
              "[<matplotlib.lines.Line2D at 0x7fd395f106d0>]"
            ]
          },
          "metadata": {
            "tags": []
          },
          "execution_count": 100
        },
        {
          "output_type": "display_data",
          "data": {
            "image/png": "[encoded data removed]",
            "text/plain": [
              "<Figure size 432x288 with 1 Axes>"
            ]
          },
          "metadata": {
            "tags": [],
            "needs_background": "light"
          }
        }
      ]
    },
    {
      "cell_type": "code",
      "metadata": {
        "colab": {
          "base_uri": "https://localhost:8080/",
          "height": 282
        },
        "id": "N0VK6RFtFIuA",
        "outputId": "b9823625-78c2-4881-f08d-e2ba6ddf43b0"
      },
      "source": [
        "plt.plot(x_training, weight.data * x_training)"
      ],
      "execution_count": 101,
      "outputs": [
        {
          "output_type": "execute_result",
          "data": {
            "text/plain": [
              "[<matplotlib.lines.Line2D at 0x7fd3ed61ed10>]"
            ]
          },
          "metadata": {
            "tags": []
          },
          "execution_count": 101
        },
        {
          "output_type": "display_data",
          "data": {
            "image/png": "[encoded data removed]",
            "text/plain": [
              "<Figure size 432x288 with 1 Axes>"
            ]
          },
          "metadata": {
            "tags": [],
            "needs_background": "light"
          }
        }
      ]
    },
    {
      "cell_type": "code",
      "metadata": {
        "colab": {
          "base_uri": "https://localhost:8080/",
          "height": 282
        },
        "id": "ilJNDZiiFoyg",
        "outputId": "3eea5a23-6bce-49a5-9b73-1988a2108e5a"
      },
      "source": [
        "plt.plot(x_training, weight.data * x_training + bias.data, label='Linear')"
      ],
      "execution_count": 102,
      "outputs": [
        {
          "output_type": "execute_result",
          "data": {
            "text/plain": [
              "[<matplotlib.lines.Line2D at 0x7fd395e5b2d0>]"
            ]
          },
          "metadata": {
            "tags": []
          },
          "execution_count": 102
        },
        {
          "output_type": "display_data",
          "data": {
            "image/png": "[encoded data removed]",
            "text/plain": [
              "<Figure size 432x288 with 1 Axes>"
            ]
          },
          "metadata": {
            "tags": [],
            "needs_background": "light"
          }
        }
      ]
    },
    {
      "cell_type": "code",
      "metadata": {
        "colab": {
          "base_uri": "https://localhost:8080/",
          "height": 304
        },
        "id": "Ysp20Jo6FudQ",
        "outputId": "8439906f-5fda-484a-ca03-9924856de032"
      },
      "source": [
        "plt.legend()"
      ],
      "execution_count": 103,
      "outputs": [
        {
          "output_type": "stream",
          "text": [
            "No handles with labels found to put in legend.\n"
          ],
          "name": "stderr"
        },
        {
          "output_type": "execute_result",
          "data": {
            "text/plain": [
              "<matplotlib.legend.Legend at 0x7fd395e1c5d0>"
            ]
          },
          "metadata": {
            "tags": []
          },
          "execution_count": 103
        },
        {
          "output_type": "display_data",
          "data": {
            "image/png": "[encoded data removed]",
            "text/plain": [
              "<Figure size 432x288 with 1 Axes>"
            ]
          },
          "metadata": {
            "tags": [],
            "needs_background": "light"
          }
        }
      ]
    },
    {
      "cell_type": "code",
      "metadata": {
        "id": "15f42sEJF0ho"
      },
      "source": [
        "plt.show()"
      ],
      "execution_count": 104,
      "outputs": []
    },
    {
      "cell_type": "code",
      "metadata": {
        "colab": {
          "base_uri": "https://localhost:8080/",
          "height": 264
        },
        "id": "sTMt76MmF3B1",
        "outputId": "47f6f985-0a3b-4e42-8fae-fb49ce54e686"
      },
      "source": [
        "#summ\n",
        "plt.plot(x_training,y_training,'ro', label= 'Training data')  \n",
        "plt.plot(x_training, weight.data * x_training + bias.data, label='Linear')\n",
        "plt.legend()  #这才将示例弄出来左上角\n",
        "plt.show()  #就没有上面的码了，而且不能自己单独"
      ],
      "execution_count": 105,
      "outputs": [
        {
          "output_type": "display_data",
          "data": {
            "image/png": "[encoded data removed]",
            "text/plain": [
              "<Figure size 432x288 with 1 Axes>"
            ]
          },
          "metadata": {
            "tags": [],
            "needs_background": "light"
          }
        }
      ]
    },
    {
      "cell_type": "code",
      "metadata": {
        "colab": {
          "base_uri": "https://localhost:8080/"
        },
        "id": "9ysiGYqOGEz-",
        "outputId": "df23499f-ce75-4a35-8e38-bf37063f4603"
      },
      "source": [
        "testing_loss = mse(linearRegression(x_test_data), y_test_data) # compute test loss \n",
        "print(\"Testing loss\" ,\"{:.9f}\".format(testing_loss.data)) #Testing loss 185738.281250000\n",
        "print(\"Absolute mean square loss difference:\",\"{:.9f}\".format(abs(\n",
        "    training_loss.data - testing_loss.data)))   #Absolute mean square loss difference: 214437.906250000 绝对·均方差·绝对值\n",
        "    "
      ],
      "execution_count": 106,
      "outputs": [
        {
          "output_type": "stream",
          "text": [
            "Testing loss 218990.171875000\n",
            "Absolute mean square loss difference: 211951.421875000\n"
          ],
          "name": "stdout"
        }
      ]
    },
    {
      "cell_type": "code",
      "metadata": {
        "colab": {
          "base_uri": "https://localhost:8080/",
          "height": 284
        },
        "id": "ZQi3Y8d8GReb",
        "outputId": "c8275fe9-69ba-44aa-e098-11250b4a67d6"
      },
      "source": [
        "plt.plot(x_test, y_test, 'bo')  #'bo' 蓝色 画图"
      ],
      "execution_count": 107,
      "outputs": [
        {
          "output_type": "execute_result",
          "data": {
            "text/plain": [
              "[<matplotlib.lines.Line2D at 0x7fd395cb0e50>]"
            ]
          },
          "metadata": {
            "tags": []
          },
          "execution_count": 107
        },
        {
          "output_type": "display_data",
          "data": {
            "image/png": "[encoded data removed]",
            "text/plain": [
              "<Figure size 432x288 with 1 Axes>"
            ]
          },
          "metadata": {
            "tags": [],
            "needs_background": "light"
          }
        }
      ]
    },
    {
      "cell_type": "code",
      "metadata": {
        "colab": {
          "base_uri": "https://localhost:8080/",
          "height": 284
        },
        "id": "5oo9PkCuHSi4",
        "outputId": "ec875f63-0c27-46eb-fb2d-39fe49389895"
      },
      "source": [
        "plt.plot(x_test, y_test, 'bo', label='Testing data') "
      ],
      "execution_count": 108,
      "outputs": [
        {
          "output_type": "execute_result",
          "data": {
            "text/plain": [
              "[<matplotlib.lines.Line2D at 0x7fd395caa510>]"
            ]
          },
          "metadata": {
            "tags": []
          },
          "execution_count": 108
        },
        {
          "output_type": "display_data",
          "data": {
            "image/png": "[encoded data removed]",
            "text/plain": [
              "<Figure size 432x288 with 1 Axes>"
            ]
          },
          "metadata": {
            "tags": [],
            "needs_background": "light"
          }
        }
      ]
    },
    {
      "cell_type": "code",
      "metadata": {
        "colab": {
          "base_uri": "https://localhost:8080/",
          "height": 53
        },
        "id": "lj6BjxddHcby",
        "outputId": "820224e1-f4ad-4f81-e76c-642730d567c5"
      },
      "source": [
        "'''\n",
        "plt.plot(x_test, y_test, 'bo', label='Testing data') \n",
        "plt.plot(x_test,weight.data)  #ValueError: x and y must have same first dimension, but have shapes (5,) and (1,)\n",
        "'''"
      ],
      "execution_count": 109,
      "outputs": [
        {
          "output_type": "execute_result",
          "data": {
            "application/vnd.google.colaboratory.intrinsic+json": {
              "type": "string"
            },
            "text/plain": [
              "\"\\nplt.plot(x_test, y_test, 'bo', label='Testing data') \\nplt.plot(x_test,weight.data)  #ValueError: x and y must have same first dimension, but have shapes (5,) and (1,)\\n\""
            ]
          },
          "metadata": {
            "tags": []
          },
          "execution_count": 109
        }
      ]
    },
    {
      "cell_type": "code",
      "metadata": {
        "colab": {
          "base_uri": "https://localhost:8080/",
          "height": 35
        },
        "id": "HeL5IWBqHiaN",
        "outputId": "c4a4e6d1-0f1c-4ff0-eff0-7a763920890b"
      },
      "source": [
        "'''plt.plot(x_test, y_test, 'bo', label='Testing data') \n",
        "plt.plot(x_test,weight.data * x_training)\n",
        "'''\n",
        "#ValueError: x and y must have same first dimension, but have shapes (5,) and torch.Size([10])"
      ],
      "execution_count": 110,
      "outputs": [
        {
          "output_type": "execute_result",
          "data": {
            "application/vnd.google.colaboratory.intrinsic+json": {
              "type": "string"
            },
            "text/plain": [
              "\"plt.plot(x_test, y_test, 'bo', label='Testing data') \\nplt.plot(x_test,weight.data * x_training)\\n\""
            ]
          },
          "metadata": {
            "tags": []
          },
          "execution_count": 110
        }
      ]
    },
    {
      "cell_type": "code",
      "metadata": {
        "colab": {
          "base_uri": "https://localhost:8080/",
          "height": 266
        },
        "id": "djv73N07HuqG",
        "outputId": "0b4ebe17-fb81-420f-eb92-73705d103dd3"
      },
      "source": [
        "plt.plot(x_test, y_test,  label='Testing data')  #不规定就是线'bo',\n",
        "plt.plot(x_test,weight.data * x_test + bias.data, label= 'Linear')\n",
        "plt.legend()\n",
        "plt.show()"
      ],
      "execution_count": 111,
      "outputs": [
        {
          "output_type": "display_data",
          "data": {
            "image/png": "[encoded data removed]",
            "text/plain": [
              "<Figure size 432x288 with 1 Axes>"
            ]
          },
          "metadata": {
            "tags": [],
            "needs_background": "light"
          }
        }
      ]
    },
    {
      "cell_type": "code",
      "metadata": {
        "colab": {
          "base_uri": "https://localhost:8080/",
          "height": 266
        },
        "id": "YeBUaihKICtg",
        "outputId": "4a7d09b7-74ee-41ec-9cbf-dff1ceca5caf"
      },
      "source": [
        "plt.plot(x_test, y_test, 'bo', label='Testing data')  #不规定就是线'bo',\n",
        "plt.plot(x_test,weight.data * x_test + bias.data, label= 'Linear')\n",
        "plt.legend()\n",
        "plt.show()"
      ],
      "execution_count": 112,
      "outputs": [
        {
          "output_type": "display_data",
          "data": {
            "image/png": "[encoded data removed]",
            "text/plain": [
              "<Figure size 432x288 with 1 Axes>"
            ]
          },
          "metadata": {
            "tags": [],
            "needs_background": "light"
          }
        }
      ]
    },
    {
      "cell_type": "markdown",
      "metadata": {
        "id": "VYN0IG6YIdiD"
      },
      "source": [
        "**linear regression __ use  PyTorch built-ins** 使用内置的pytorch 线性回归"
      ]
    },
    {
      "cell_type": "code",
      "metadata": {
        "id": "y8Jlpfz5Iya_"
      },
      "source": [
        "#没准调包了\n",
        "# prepare data"
      ],
      "execution_count": 113,
      "outputs": []
    },
    {
      "cell_type": "code",
      "metadata": {
        "id": "B1tfjtALrjSW"
      },
      "source": [
        "import numpy\n",
        "import matplotlib.pyplot as plt\n",
        "import torch\n",
        "import torch.nn as nn"
      ],
      "execution_count": 114,
      "outputs": []
    },
    {
      "cell_type": "code",
      "metadata": {
        "id": "Kdb7p4Knro82",
        "colab": {
          "base_uri": "https://localhost:8080/",
          "height": 53
        },
        "outputId": "b8099d10-cca9-42ce-c494-7d35a7b54883"
      },
      "source": [
        "#training data\n",
        "x_data = torch.randn(90,10)  #90 行 row \\line10 列column  : this is 2d array \n",
        "y_data = torch.randn(90,1)  \n",
        "'''\n",
        "we have 90 samples 10features ——————》house condition\n",
        "such bedroom number ; distance to city center ……\n",
        "aim】: predict house price\n",
        "y  =Wx  + b\n",
        "'''"
      ],
      "execution_count": 115,
      "outputs": [
        {
          "output_type": "execute_result",
          "data": {
            "application/vnd.google.colaboratory.intrinsic+json": {
              "type": "string"
            },
            "text/plain": [
              "'\\nwe have 90 samples 10features ——————》house condition\\nsuch bedroom number ; distance to city center ……\\naim】: predict house price\\ny  =Wx  + b\\n'"
            ]
          },
          "metadata": {
            "tags": []
          },
          "execution_count": 115
        }
      ]
    },
    {
      "cell_type": "code",
      "metadata": {
        "colab": {
          "base_uri": "https://localhost:8080/"
        },
        "id": "Tx6By2_rryIx",
        "outputId": "95fbde54-28b0-48ba-bd5e-20726ab58bb1"
      },
      "source": [
        "x_data"
      ],
      "execution_count": 116,
      "outputs": [
        {
          "output_type": "execute_result",
          "data": {
            "text/plain": [
              "tensor([[-0.1755,  1.6151,  0.5271, -0.6267,  1.1239, -0.8473, -1.6062,  0.4236,\n",
              "          2.0973,  0.3053],\n",
              "        [-2.0032,  1.3111, -0.7790, -0.2733, -0.0345, -1.3572,  0.5399, -0.3041,\n",
              "          0.6350, -0.1293],\n",
              "        [-2.0890,  0.3461, -1.4057,  2.0447, -2.3542,  1.5154, -1.8348,  0.9383,\n",
              "          1.3180, -0.5674],\n",
              "        [ 0.2213, -0.3123, -0.3373,  0.9355, -0.7394, -1.6507, -1.1762,  0.0396,\n",
              "         -0.0397,  0.0361],\n",
              "        [-1.1757,  1.6431, -0.5723,  1.2616, -0.6427, -0.1681, -0.4310,  0.2587,\n",
              "          0.3250, -0.6100],\n",
              "        [-0.6866,  2.3700,  0.8967,  0.5691,  1.3586, -1.1906, -0.4343,  0.1439,\n",
              "          0.4733, -0.0635],\n",
              "        [-0.5283,  0.8472,  0.9353,  0.0491, -0.3189, -0.5480, -0.6879, -0.3942,\n",
              "          1.5409,  1.1321],\n",
              "        [ 0.4360, -1.1068,  1.8233,  0.9357, -0.8364,  0.8093,  0.5171,  0.7115,\n",
              "          1.3995,  0.6237],\n",
              "        [-0.0857,  0.5035,  0.0139,  0.9817,  0.3212, -1.0751, -0.4603, -0.0866,\n",
              "         -0.5209,  1.1842],\n",
              "        [-0.1956,  0.5035, -1.8869, -1.6701, -1.1532,  1.1441, -0.9616, -0.9401,\n",
              "         -0.1603, -0.9602],\n",
              "        [-1.1222, -1.1901,  0.0746, -1.4785, -0.4083, -1.1110,  0.7903, -0.4183,\n",
              "          1.1880,  0.7006],\n",
              "        [ 0.3557, -1.2958,  0.9682, -0.9837,  0.1595,  0.5339, -0.7734,  2.0255,\n",
              "         -1.7387, -1.4990],\n",
              "        [-0.2819, -0.8278, -0.2576, -0.7302,  0.4622,  1.3615,  1.3752,  0.9330,\n",
              "          1.0907,  1.3057],\n",
              "        [ 2.0064, -0.6194,  2.0105,  1.2126,  0.9676, -0.2675,  0.1073, -0.2757,\n",
              "          0.3802,  0.6691],\n",
              "        [-0.2981,  2.5586,  0.2677, -1.2555,  0.6789, -0.4712, -1.4640,  0.7082,\n",
              "         -0.7144, -0.2691],\n",
              "        [ 1.6464, -1.5007, -0.1255,  1.2211,  1.2457,  0.5564,  1.1213,  0.5310,\n",
              "         -0.7790,  0.5159],\n",
              "        [-0.6691,  1.8406,  1.1356,  1.1264, -0.1901,  1.6749, -0.4964,  0.4631,\n",
              "         -0.8624,  0.5243],\n",
              "        [-0.4081,  0.2309, -2.2456, -1.4865, -0.5948,  0.2119, -0.5747,  1.3468,\n",
              "          1.3085,  1.2389],\n",
              "        [ 1.8196, -1.4143, -1.4636, -0.1521, -0.0403, -0.7460,  0.7438,  0.3208,\n",
              "         -0.8267, -0.0160],\n",
              "        [ 0.5048, -0.7060, -0.3738, -0.4767,  0.9931, -1.8464,  1.4234, -1.1874,\n",
              "         -0.2487, -1.3527],\n",
              "        [-0.7867,  0.8220, -0.7713,  0.5345, -0.7144, -0.4677, -0.6114, -0.0474,\n",
              "          0.4503, -0.6346],\n",
              "        [-0.0601, -0.5752, -0.5828, -0.7379,  0.2069,  0.1808, -2.4263, -0.2775,\n",
              "         -0.1212,  0.3774],\n",
              "        [-1.3574,  0.2016, -1.6693,  1.4189,  1.0097, -0.1606, -1.4626,  0.8533,\n",
              "          0.5164,  0.1481],\n",
              "        [ 0.0034,  0.9773, -0.9490, -0.7999, -0.3605, -0.4344, -0.5402,  0.3460,\n",
              "          0.6346,  0.8670],\n",
              "        [-1.5642, -1.4765,  1.8082, -0.0848, -0.3902,  1.4522,  0.1634, -0.0075,\n",
              "         -0.5308,  0.4633],\n",
              "        [-1.3690,  0.3155, -0.7992, -0.2421,  1.9521, -1.8343,  0.3035,  0.7702,\n",
              "          0.1177, -0.8206],\n",
              "        [ 0.1218,  0.3602,  0.8573, -0.1682,  0.2901,  0.0255,  1.2493,  0.7634,\n",
              "         -0.1785,  0.0754],\n",
              "        [-0.0369,  0.2527,  0.6716, -0.2119,  1.1214,  0.0140, -0.2412,  0.8650,\n",
              "          0.1860, -0.2415],\n",
              "        [ 0.1876,  0.5027, -0.9561, -0.3274,  0.3469, -1.6648,  0.4012,  0.5329,\n",
              "          3.1190,  0.4270],\n",
              "        [ 0.2907, -0.3672,  0.6020,  0.7354,  1.5479, -0.6991,  0.1892,  0.2856,\n",
              "         -0.1084,  0.7693],\n",
              "        [ 1.5566,  1.5960, -0.8932,  1.6922, -0.0285, -0.4826, -0.9450, -0.8482,\n",
              "          0.3061,  0.5549],\n",
              "        [ 0.6617,  0.9078, -0.7732, -1.2081,  0.9202, -2.5476,  0.0515, -0.9988,\n",
              "         -1.1744,  0.5934],\n",
              "        [-0.5358, -0.5777,  1.0064, -0.8803,  0.2823, -1.1186,  1.8519,  0.6873,\n",
              "         -0.2259, -0.7346],\n",
              "        [ 1.1618, -0.3464, -0.3922, -0.3179, -0.4255, -1.1911, -0.1317,  0.9033,\n",
              "          0.3568, -2.9501],\n",
              "        [ 1.4307,  0.2090, -1.3903, -0.1549,  1.2376,  1.4264, -0.1752, -0.3308,\n",
              "         -1.3598, -0.1574],\n",
              "        [ 2.4786, -0.4053,  0.7634,  2.3609,  0.3874,  1.7697,  0.0980, -0.4070,\n",
              "          2.0922, -0.8989],\n",
              "        [-0.2399, -0.5388,  0.1498, -0.6365, -1.2275,  0.8109,  0.6275, -0.0881,\n",
              "          0.1928, -0.9521],\n",
              "        [ 0.0458, -0.7529,  2.0779, -1.2395,  2.2118, -1.2010, -0.3920, -0.9391,\n",
              "         -2.1230,  0.4559],\n",
              "        [ 0.7778,  1.5512, -0.0207, -1.0092, -1.1446, -1.5873, -0.0989,  0.0613,\n",
              "          0.9023,  0.6705],\n",
              "        [ 0.8625, -1.8290, -0.0475,  0.3152, -0.2790,  0.1652,  1.3179, -0.7264,\n",
              "         -0.0537, -0.5298],\n",
              "        [-0.1344, -0.3975, -0.5738, -1.0902,  1.3070,  2.2912, -1.9430,  1.6960,\n",
              "          0.1988, -0.9397],\n",
              "        [ 0.4045,  0.1693,  0.1272,  0.8025, -0.4524,  1.2964, -1.0757, -0.2499,\n",
              "         -2.0092, -0.9687],\n",
              "        [ 2.5237, -1.3977, -0.4821, -0.0786, -0.8068,  1.4603, -1.6961,  0.7893,\n",
              "          0.4781,  0.7177],\n",
              "        [ 0.0695,  0.1175,  0.2847, -0.0910, -0.9544,  0.3259,  0.2223,  0.1336,\n",
              "          1.0333,  0.0058],\n",
              "        [ 0.0040,  0.4578, -0.8016, -0.5385, -0.3930,  0.0118,  1.0181, -0.1654,\n",
              "         -0.3880, -0.3786],\n",
              "        [ 0.5504, -0.8973, -0.4728, -0.7155, -0.6128, -2.0024,  0.0219, -0.5077,\n",
              "         -0.3223, -0.4795],\n",
              "        [ 0.3986, -0.0035, -0.0940, -1.6373,  0.0258,  0.5277, -1.4976, -0.0734,\n",
              "         -0.1177, -1.6752],\n",
              "        [-0.2951, -0.0528,  0.8036,  0.4255,  0.9928, -2.2083, -1.2874,  0.1798,\n",
              "          1.4056, -0.9213],\n",
              "        [-0.3715,  1.9112, -0.9783, -0.1303,  1.1885, -0.7231, -0.4081,  1.2102,\n",
              "         -0.9742, -1.2168],\n",
              "        [-0.0600,  1.1974, -0.7343,  0.0371, -0.2054, -0.1121, -0.4910,  0.3286,\n",
              "         -2.2983, -1.1681],\n",
              "        [ 0.7243, -1.0933, -0.1190,  0.6304,  1.0122, -0.0280,  0.9043, -0.0656,\n",
              "          0.8245, -0.4218],\n",
              "        [-2.6811,  0.1762,  0.4104, -1.2764,  1.9477,  0.8997, -0.1464, -0.1636,\n",
              "          0.5058, -1.6361],\n",
              "        [ 0.0479,  0.9138,  0.7832,  0.2959, -0.1817, -0.4794,  0.1394, -0.9967,\n",
              "         -1.1646,  0.8047],\n",
              "        [-0.1950,  0.3092,  1.6149,  0.9802,  0.0298, -0.4104, -0.2813,  0.7553,\n",
              "         -0.0680,  0.0524],\n",
              "        [ 1.5591,  0.0368,  1.1837, -0.3849, -0.7868, -0.4153, -1.4830,  0.1291,\n",
              "         -1.2051,  0.0726],\n",
              "        [-2.4216, -0.8001,  1.2585,  0.4125, -0.2437,  1.6282, -0.4650, -1.1834,\n",
              "         -0.3689, -0.7299],\n",
              "        [ 0.0059, -0.0594, -0.0876,  1.0133,  0.7573, -1.5331,  1.6617, -0.3797,\n",
              "          1.8127, -0.1650],\n",
              "        [-0.5368, -0.7515, -1.4255, -1.0434,  0.0372, -0.2966, -0.9115, -1.4684,\n",
              "          0.3170, -0.0561],\n",
              "        [-0.3062, -0.6982, -1.3724,  0.0302,  2.0734, -0.1485,  1.9717, -0.2290,\n",
              "          0.0261, -2.2300],\n",
              "        [ 0.8115,  0.6788,  0.2910, -1.2701, -0.0947,  0.0584,  0.7535, -0.1075,\n",
              "         -0.8185,  0.2896],\n",
              "        [ 1.3745,  0.2411,  0.7761, -0.7959,  0.1994,  0.4895,  0.2817, -1.5746,\n",
              "         -0.6390,  0.1619],\n",
              "        [ 1.8727,  0.6921, -0.2181, -1.4057,  0.1347, -0.3089,  1.1057,  0.6992,\n",
              "         -1.5695,  1.6085],\n",
              "        [ 1.1894, -0.5871,  1.1197, -0.5103, -1.5294, -1.2647, -2.0485, -0.5160,\n",
              "          1.8307, -1.6040],\n",
              "        [ 2.0073, -0.3040,  0.4598, -0.4536, -0.8914,  0.2026,  0.3981,  1.5291,\n",
              "          1.3622,  0.5435],\n",
              "        [-1.0944, -0.3764, -0.9234,  0.1288,  0.2711, -1.9591,  0.7895,  1.0832,\n",
              "         -0.2223,  0.7503],\n",
              "        [-1.1546, -2.3055, -0.4135,  0.6097,  0.6200, -0.2709, -0.0851, -1.6798,\n",
              "          0.5965,  1.0608],\n",
              "        [ 0.6167,  1.6270,  0.0519,  0.3368, -0.6813,  0.0487, -0.1432,  0.1653,\n",
              "          0.8930,  0.8995],\n",
              "        [-1.8939,  0.2054, -1.0957, -0.2655, -1.2700, -1.1528,  1.3853, -0.3773,\n",
              "         -1.6075,  0.1905],\n",
              "        [-1.0419, -1.8243,  0.3802, -0.3211,  0.7336,  1.0708,  1.1276, -0.0698,\n",
              "         -0.6824,  1.1939],\n",
              "        [ 1.0008, -1.3675, -0.8093,  0.2087,  0.4044,  0.5536,  0.3917, -0.0593,\n",
              "          1.8957,  1.2492],\n",
              "        [ 0.2779,  0.1228,  0.9114, -0.2358, -1.8035, -0.3365,  2.0129, -1.4047,\n",
              "         -0.3103, -0.1294],\n",
              "        [-1.7178,  0.2446,  1.9305,  0.9619, -0.2013, -0.2753, -0.5465,  0.6850,\n",
              "         -0.3623, -2.1647],\n",
              "        [-0.9426,  0.2132,  0.7559, -0.2814,  0.0402,  0.5285,  1.2735, -0.0366,\n",
              "         -0.6448,  1.2183],\n",
              "        [ 0.4067,  0.7668,  0.6423,  0.5711, -1.0702, -0.5457,  1.5203,  0.8193,\n",
              "          0.3952,  1.1203],\n",
              "        [-0.6521,  0.3256, -1.0102,  0.7332,  0.8451,  0.2143, -1.4593, -2.2848,\n",
              "          0.3556,  1.9270],\n",
              "        [-0.4301, -0.7089, -0.1911,  0.0847, -0.6009,  1.4286,  0.3113,  0.9882,\n",
              "         -0.1091,  1.6054],\n",
              "        [ 1.6418, -0.8420,  0.2856,  0.3494,  0.0048,  0.6065, -1.3919,  0.0358,\n",
              "          1.5540, -1.0733],\n",
              "        [-0.5534,  0.5061, -0.5817,  0.6703, -0.8275, -0.0478,  0.0742, -1.7247,\n",
              "          0.2231,  0.7547],\n",
              "        [-1.4650, -0.3457, -0.1341,  1.5722, -0.4401, -0.3077, -0.3969, -0.7386,\n",
              "          1.0490, -0.1962],\n",
              "        [-1.3813,  0.5659,  0.2937, -0.1386, -0.7685, -1.1583, -0.4810, -0.0961,\n",
              "         -0.9982, -0.7653],\n",
              "        [-0.5430,  0.9005,  1.4472, -0.4237, -1.1139, -0.6663,  0.4855,  0.6734,\n",
              "          0.5729,  0.8815],\n",
              "        [ 1.5002,  0.7798, -0.1248,  0.5303, -2.4299, -1.6795,  0.2141, -0.8039,\n",
              "         -0.6205,  0.1902],\n",
              "        [ 2.0068, -0.3740, -1.1664,  0.7617, -0.3489,  0.7477,  1.0001, -1.5171,\n",
              "         -0.0310,  1.1744],\n",
              "        [ 0.1302, -0.1219, -0.4304, -0.1666,  0.8158, -0.3647,  0.2263, -1.2250,\n",
              "         -0.7002,  1.0206],\n",
              "        [-0.4033,  1.4462, -1.2676, -0.1446, -0.4497, -0.3446,  1.7651,  0.0892,\n",
              "         -1.0240,  0.1712],\n",
              "        [ 2.1236,  1.5502,  0.9407, -0.4119,  0.5372, -0.3654,  0.9405,  2.0675,\n",
              "         -0.3866,  0.2964],\n",
              "        [-0.9804,  1.0796, -0.3606, -0.0675, -1.1128,  0.3857, -0.9070, -0.9660,\n",
              "          1.0125,  0.9528],\n",
              "        [ 0.2382, -1.5968,  0.0671,  0.5907, -0.2847, -0.4568, -1.2244, -1.0223,\n",
              "         -0.5235, -0.0720],\n",
              "        [ 0.5825, -1.1085, -1.1924, -0.5334, -0.5678,  0.8180, -0.8183,  2.3870,\n",
              "         -0.4094, -0.7717],\n",
              "        [ 1.3178,  0.2621,  0.8792, -1.7300, -1.4400,  0.2622,  1.6797, -0.9236,\n",
              "          0.8454, -0.5634]])"
            ]
          },
          "metadata": {
            "tags": []
          },
          "execution_count": 116
        }
      ]
    },
    {
      "cell_type": "code",
      "metadata": {
        "colab": {
          "base_uri": "https://localhost:8080/"
        },
        "id": "oBcbFV2_r5mY",
        "outputId": "e06c17ef-8adf-415a-a2a9-965e9fb3283c"
      },
      "source": [
        "y_data"
      ],
      "execution_count": 117,
      "outputs": [
        {
          "output_type": "execute_result",
          "data": {
            "text/plain": [
              "tensor([[ 1.4468],\n",
              "        [-1.7766],\n",
              "        [ 1.0353],\n",
              "        [-0.6351],\n",
              "        [ 1.1670],\n",
              "        [ 0.3384],\n",
              "        [ 1.5088],\n",
              "        [ 0.9121],\n",
              "        [ 1.2671],\n",
              "        [-0.9168],\n",
              "        [-0.0362],\n",
              "        [-0.6423],\n",
              "        [ 0.9972],\n",
              "        [-0.5165],\n",
              "        [-0.6645],\n",
              "        [-2.2712],\n",
              "        [ 0.5673],\n",
              "        [-0.0031],\n",
              "        [ 0.3800],\n",
              "        [-1.6595],\n",
              "        [ 0.7550],\n",
              "        [ 0.0155],\n",
              "        [-0.7000],\n",
              "        [ 0.6244],\n",
              "        [-0.9087],\n",
              "        [ 1.6347],\n",
              "        [ 0.9830],\n",
              "        [ 0.9637],\n",
              "        [ 0.6549],\n",
              "        [-0.0371],\n",
              "        [ 0.5462],\n",
              "        [ 0.9888],\n",
              "        [-2.3250],\n",
              "        [-0.3785],\n",
              "        [ 0.6721],\n",
              "        [ 0.8618],\n",
              "        [ 1.3237],\n",
              "        [-0.1013],\n",
              "        [-1.4915],\n",
              "        [-0.1221],\n",
              "        [-0.0576],\n",
              "        [-0.0664],\n",
              "        [-2.0642],\n",
              "        [-1.1207],\n",
              "        [ 0.5284],\n",
              "        [ 0.2629],\n",
              "        [-0.4904],\n",
              "        [-0.1628],\n",
              "        [-0.2278],\n",
              "        [ 0.3352],\n",
              "        [ 0.3992],\n",
              "        [-0.1796],\n",
              "        [ 0.0483],\n",
              "        [-1.1842],\n",
              "        [ 1.0800],\n",
              "        [-0.6148],\n",
              "        [-0.8559],\n",
              "        [-1.5001],\n",
              "        [ 1.3242],\n",
              "        [ 0.3750],\n",
              "        [-1.3352],\n",
              "        [-1.6221],\n",
              "        [ 0.1421],\n",
              "        [-1.5039],\n",
              "        [-0.5431],\n",
              "        [-1.6024],\n",
              "        [ 0.4390],\n",
              "        [ 0.3956],\n",
              "        [-1.6703],\n",
              "        [-0.9398],\n",
              "        [-0.4442],\n",
              "        [-0.3693],\n",
              "        [-0.1674],\n",
              "        [-0.5881],\n",
              "        [-1.0260],\n",
              "        [-1.0896],\n",
              "        [-0.0902],\n",
              "        [-1.8901],\n",
              "        [ 0.7411],\n",
              "        [ 0.0287],\n",
              "        [-0.4796],\n",
              "        [-1.8825],\n",
              "        [ 0.7609],\n",
              "        [-1.5124],\n",
              "        [-0.6979],\n",
              "        [-1.0056],\n",
              "        [ 0.3984],\n",
              "        [-0.3436],\n",
              "        [ 1.0245],\n",
              "        [ 0.2612]])"
            ]
          },
          "metadata": {
            "tags": []
          },
          "execution_count": 117
        }
      ]
    },
    {
      "cell_type": "code",
      "metadata": {
        "id": "wXjjkdi8rzAw"
      },
      "source": [
        "# testing data\n",
        "x_test_data = torch.randn(10,10)  #这里xy 写错了\n",
        "y_test_data = torch.randn(10,1)"
      ],
      "execution_count": 118,
      "outputs": []
    },
    {
      "cell_type": "code",
      "metadata": {
        "colab": {
          "base_uri": "https://localhost:8080/"
        },
        "id": "2H3W3NdqsvW_",
        "outputId": "e0fe8593-947c-4f74-ea17-8149d7f3543b"
      },
      "source": [
        "y_test_data"
      ],
      "execution_count": 119,
      "outputs": [
        {
          "output_type": "execute_result",
          "data": {
            "text/plain": [
              "tensor([[-1.8147],\n",
              "        [-0.7023],\n",
              "        [ 1.3222],\n",
              "        [ 0.6943],\n",
              "        [-0.0471],\n",
              "        [ 0.9329],\n",
              "        [ 1.1299],\n",
              "        [ 0.7367],\n",
              "        [-1.3803],\n",
              "        [ 0.1281]])"
            ]
          },
          "metadata": {
            "tags": []
          },
          "execution_count": 119
        }
      ]
    },
    {
      "cell_type": "code",
      "metadata": {
        "colab": {
          "base_uri": "https://localhost:8080/"
        },
        "id": "ZDe0WR88s0Ww",
        "outputId": "0573c813-ea5b-499b-99be-5285d7d081a8"
      },
      "source": [
        "y_test_data"
      ],
      "execution_count": 120,
      "outputs": [
        {
          "output_type": "execute_result",
          "data": {
            "text/plain": [
              "tensor([[-1.8147],\n",
              "        [-0.7023],\n",
              "        [ 1.3222],\n",
              "        [ 0.6943],\n",
              "        [-0.0471],\n",
              "        [ 0.9329],\n",
              "        [ 1.1299],\n",
              "        [ 0.7367],\n",
              "        [-1.3803],\n",
              "        [ 0.1281]])"
            ]
          },
          "metadata": {
            "tags": []
          },
          "execution_count": 120
        }
      ]
    },
    {
      "cell_type": "markdown",
      "metadata": {
        "id": "uEEzG0Rts8_r"
      },
      "source": [
        " need not initialize weight+ bias manually(use our hands👌）。\n",
        " we can use model (torch.nn.Linear)\n",
        " 【it contains model+class to build nenural network 】"
      ]
    },
    {
      "cell_type": "code",
      "metadata": {
        "colab": {
          "base_uri": "https://localhost:8080/"
        },
        "id": "7QEBxmAJt0Oi",
        "outputId": "6f6d7a6d-7e64-46f5-dd2d-bbca6f0d7e96"
      },
      "source": [
        "#define model\n",
        "linearRegression = nn.Linear(10,1)\n",
        "print(linearRegression)"
      ],
      "execution_count": 121,
      "outputs": [
        {
          "output_type": "stream",
          "text": [
            "Linear(in_features=10, out_features=1, bias=True)\n"
          ],
          "name": "stdout"
        }
      ]
    },
    {
      "cell_type": "code",
      "metadata": {
        "colab": {
          "base_uri": "https://localhost:8080/"
        },
        "id": "LVXLWi_Pt86x",
        "outputId": "3ba325c8-1958-4f0c-9390-ec27af342e7e"
      },
      "source": [
        "print(linearRegression.weight)"
      ],
      "execution_count": 122,
      "outputs": [
        {
          "output_type": "stream",
          "text": [
            "Parameter containing:\n",
            "tensor([[ 0.1669,  0.1250,  0.2617, -0.0466,  0.2699,  0.0956, -0.0031,  0.2202,\n",
            "          0.1204,  0.0564]], requires_grad=True)\n"
          ],
          "name": "stdout"
        }
      ]
    },
    {
      "cell_type": "code",
      "metadata": {
        "colab": {
          "base_uri": "https://localhost:8080/"
        },
        "id": "PPqjQhsyt__1",
        "outputId": "5faa2e43-d3d8-415b-b2e5-031a0e5c42b5"
      },
      "source": [
        "print(linearRegression.bias)"
      ],
      "execution_count": 123,
      "outputs": [
        {
          "output_type": "stream",
          "text": [
            "Parameter containing:\n",
            "tensor([-0.0464], requires_grad=True)\n"
          ],
          "name": "stdout"
        }
      ]
    },
    {
      "cell_type": "markdown",
      "metadata": {
        "id": "xHAr-IMDuCkS"
      },
      "source": [
        "don't update weight + bias  use gradients manually(use our hands)【optim.SGD】(contains: Adam + SGD)"
      ]
    },
    {
      "cell_type": "markdown",
      "metadata": {
        "id": "zvEkb0H7u7Q3"
      },
      "source": [
        "优化器 optimizer SGD"
      ]
    },
    {
      "cell_type": "code",
      "metadata": {
        "id": "NfqHJQ3wuWJL"
      },
      "source": [
        "#define optimizer 优化器\n",
        "#pass model parameters -》 to updata + specify (定 make sure) learning rate  call optim.SGD\n",
        "#SGD optimizer (pytorch) 【是具有min 动量 momentun 的梯度下降】(mini-batch gradient descent with momentum)\n",
        "# 因为批次大小为N ,所以SGD 是'批次梯度下降'  batch size of our model is N ; SGD  is batch gradient descent\n",
        "optimizer = torch.optim.SGD(linearRegression.parameters(), lr=1e-5) #把上面的参数都传进来【nn.Linear(10,1)】可能是\n"
      ],
      "execution_count": 124,
      "outputs": []
    },
    {
      "cell_type": "code",
      "metadata": {
        "colab": {
          "base_uri": "https://localhost:8080/"
        },
        "id": "FW0jWUxewF1A",
        "outputId": "437b1290-8e80-416d-a2d4-788c1ba06757"
      },
      "source": [
        "optimizer"
      ],
      "execution_count": 125,
      "outputs": [
        {
          "output_type": "execute_result",
          "data": {
            "text/plain": [
              "SGD (\n",
              "Parameter Group 0\n",
              "    dampening: 0\n",
              "    lr: 1e-05\n",
              "    momentum: 0\n",
              "    nesterov: False\n",
              "    weight_decay: 0\n",
              ")"
            ]
          },
          "metadata": {
            "tags": []
          },
          "execution_count": 125
        }
      ]
    },
    {
      "cell_type": "markdown",
      "metadata": {
        "id": "NMs7PqcywGy_"
      },
      "source": [
        "built in loss __loss function 损失函数 ( mse_loss )\n",
        "【 torch.nn.functional 】 （interface 接口） contains: typical operations ( build nenural networks ---> convolution operations; activation functions + loss functions ) 开始做层了，卷积，激活，损失"
      ]
    },
    {
      "cell_type": "code",
      "metadata": {
        "colab": {
          "base_uri": "https://localhost:8080/"
        },
        "id": "_mmIjGGNwT4j",
        "outputId": "11583ece-cb05-4c9f-ec39-7f52f9ca4ead"
      },
      "source": [
        "import torch.nn.functional as F # import nn.functional\n",
        "loss_func = F.mse_loss    #define  loss function\n",
        "loss = loss_func(linearRegression(x_data), y_data) #compute loss(calculate) 预测和y_traing\n",
        "print(loss)"
      ],
      "execution_count": 126,
      "outputs": [
        {
          "output_type": "stream",
          "text": [
            "tensor(1.1291, grad_fn=<MseLossBackward>)\n"
          ],
          "name": "stdout"
        }
      ]
    },
    {
      "cell_type": "markdown",
      "metadata": {
        "id": "RAhqc1JYxL79"
      },
      "source": [
        "train model 开始训练了"
      ]
    },
    {
      "cell_type": "code",
      "metadata": {
        "colab": {
          "base_uri": "https://localhost:8080/"
        },
        "id": "ufBN0AeoxOoe",
        "outputId": "ce8f9141-2a25-4ee8-fe6e-fbbb0fdd2924"
      },
      "source": [
        "no_of_epochs = 5000 # one iteration input data= an epoch (感觉像是开始搞5000次)\n",
        "display_interval = 200  # 每200display 一次 展示\n",
        "\n",
        "for epoch in range(no_of_epochs):       #loop  括号别少啊\n",
        "  predictions = linearRegression(x_data)  \n",
        "  loss = loss_func(predictions, y_data)   #预测——》损失，将预测的投进去看看对不对\n",
        "  loss.backward()           #反回，不满意数据要开始优化了  ；；； once after backward() 自动化更新参数公共定义优化器\n",
        "  #call step() 通过我们定义的优化器 自动更新参数，  可在backward 后调用一次\n",
        "  optimizer.step()\n",
        "  optimizer.zero_grad()   #reset gradient ~~~~~ before we did 像之前一样渐变、梯度\n",
        "  #compute model cost use current model\n",
        "  if epoch % display_interval == 0 :  #SyntaxError: unexpected EOF while parsing 单独一句时候  看能不能整除\n",
        "      predictions = linearRegression(x_data)  #开始重复了\n",
        "      loss = loss_func(predictions, y_data)   #重复\n",
        "      print(\"epoch:\", '%04d' %(epoch), \"loss=\", '{:.8f}'.format(loss))\n",
        "\n",
        "print(\"======================\")\n",
        "#loss --> use [MSE] mean squared error 均方误差（那应该还有别的）\n",
        "def mse(x1,x2):\n",
        "  diff = x1 - x2\n",
        "  return torch.sum(diff*diff)/diff.numel() #numel 元素个数(12345)->5\n",
        "print()\n",
        "\n",
        "training_loss = mse(linearRegression(x_data), y_data)   #这里报错说mse 没定义   #加上上面的就定义了\n",
        "print(\"Optimised:\",\"loss=\", \"{:.9f}\".format(training_loss.data))  #Optimised: loss= 0.947928548\n",
        "\n",
        "\n",
        "#compute testing loss \n",
        "testing_loss = loss_func(linearRegression(x_test_data), y_test_data)#往里带的都是预测的  # x_test_data) 这里也没定义？#写完运行啊\n",
        "print(\"Testing loss=\", \"{:.9f}\".format(testing_loss.data) )  #Testing loss= 0.789164841\n",
        "print(\"Absolute meam square loss difference:\", \"{:.9f}\".format(abs(\n",
        "    training_loss.data - testing_loss.data)))  #Absolute meam square loss difference: 0.134768486;;;;绝对meam平方损失差。0.134768486\n",
        "    "
      ],
      "execution_count": 127,
      "outputs": [
        {
          "output_type": "stream",
          "text": [
            "epoch: 0000 loss= 1.12912154\n",
            "epoch: 0200 loss= 1.12652993\n",
            "epoch: 0400 loss= 1.12396157\n",
            "epoch: 0600 loss= 1.12141824\n",
            "epoch: 0800 loss= 1.11889839\n",
            "epoch: 1000 loss= 1.11640251\n",
            "epoch: 1200 loss= 1.11392963\n",
            "epoch: 1400 loss= 1.11147904\n",
            "epoch: 1600 loss= 1.10905278\n",
            "epoch: 1800 loss= 1.10664833\n",
            "epoch: 2000 loss= 1.10426641\n",
            "epoch: 2200 loss= 1.10190690\n",
            "epoch: 2400 loss= 1.09956884\n",
            "epoch: 2600 loss= 1.09725308\n",
            "epoch: 2800 loss= 1.09495854\n",
            "epoch: 3000 loss= 1.09268498\n",
            "epoch: 3200 loss= 1.09043336\n",
            "epoch: 3400 loss= 1.08820248\n",
            "epoch: 3600 loss= 1.08599150\n",
            "epoch: 3800 loss= 1.08380234\n",
            "epoch: 4000 loss= 1.08163238\n",
            "epoch: 4200 loss= 1.07948279\n",
            "epoch: 4400 loss= 1.07735336\n",
            "epoch: 4600 loss= 1.07524312\n",
            "epoch: 4800 loss= 1.07315278\n",
            "======================\n",
            "\n",
            "Optimised: loss= 1.071092248\n",
            "Testing loss= 1.541687489\n",
            "Absolute meam square loss difference: 0.470595241\n"
          ],
          "name": "stdout"
        }
      ]
    },
    {
      "cell_type": "markdown",
      "metadata": {
        "id": "6QQvjgIuvjFl"
      },
      "source": [
        "# How to understand the loss results obtained by the optimizer or testing? What is their relationship with each other?"
      ]
    },
    {
      "cell_type": "markdown",
      "metadata": {
        "id": "FP-ZeqLWyESE"
      },
      "source": [
        "得出的结果怎么去理解。"
      ]
    },
    {
      "cell_type": "markdown",
      "metadata": {
        "id": "zaS4Ur9IETko"
      },
      "source": [
        "NLTK library(库） + WordNet"
      ]
    },
    {
      "cell_type": "code",
      "metadata": {
        "colab": {
          "base_uri": "https://localhost:8080/",
          "height": 53
        },
        "id": "mPYNHUoCEds9",
        "outputId": "4d850844-d183-4e04-cefa-7623278f6f31"
      },
      "source": [
        "#WordNet === large lexical (words) database [english]  cognitive (kown) synonyms （similar words)  \n",
        "#Nouns,verbs,adjectives, adverbs   group in ????\n",
        "'''\n",
        ". Nouns, verbs, adjectives and adverbs are grouped into sets of cognitive synonyms (synsets), each expressing a distinct concept.\n",
        "名词、动词、形容词、副词，被分为多组认知同义词。每组表达不同的概念。\n",
        "'''\n",
        "#in python nltk:  contain english WordNet \n",
        "# if use wordnet ____first download __ use NLTK library to download wordnet data\n",
        "#NLTK === Natural Language TOolkiit for python\n"
      ],
      "execution_count": 128,
      "outputs": [
        {
          "output_type": "execute_result",
          "data": {
            "application/vnd.google.colaboratory.intrinsic+json": {
              "type": "string"
            },
            "text/plain": [
              "'\\n. Nouns, verbs, adjectives and adverbs are grouped into sets of cognitive synonyms (synsets), each expressing a distinct concept.\\n名词、动词、形容词、副词，被分为多组认知同义词。每组表达不同的概念。\\n'"
            ]
          },
          "metadata": {
            "tags": []
          },
          "execution_count": 128
        }
      ]
    },
    {
      "cell_type": "code",
      "metadata": {
        "id": "DoKJn1K7EzVl"
      },
      "source": [
        "import nltk"
      ],
      "execution_count": 129,
      "outputs": []
    },
    {
      "cell_type": "markdown",
      "metadata": {
        "id": "rADrqW51IFGx"
      },
      "source": [
        "# **WordNet**"
      ]
    },
    {
      "cell_type": "code",
      "metadata": {
        "colab": {
          "base_uri": "https://localhost:8080/"
        },
        "id": "SiwSAFGIIJ51",
        "outputId": "ee039a73-9ca7-4d39-8c1a-f470ce217b2b"
      },
      "source": [
        "nltk.download('wordnet')  #先下"
      ],
      "execution_count": 130,
      "outputs": [
        {
          "output_type": "stream",
          "text": [
            "[nltk_data] Downloading package wordnet to /root/nltk_data...\n",
            "[nltk_data]   Unzipping corpora/wordnet.zip.\n"
          ],
          "name": "stdout"
        },
        {
          "output_type": "execute_result",
          "data": {
            "text/plain": [
              "True"
            ]
          },
          "metadata": {
            "tags": []
          },
          "execution_count": 130
        }
      ]
    },
    {
      "cell_type": "code",
      "metadata": {
        "id": "Ey-um4ygIOBU"
      },
      "source": [
        "from nltk.corpus import wordnet as wn"
      ],
      "execution_count": 131,
      "outputs": []
    },
    {
      "cell_type": "code",
      "metadata": {
        "id": "NhVgfd1iIWA2"
      },
      "source": [
        "# a set of (一组) synonyms _---> share a common meaning (共享含义)  get 它\n",
        "dog = wn.synset('dog.n.01')\n",
        "person = wn.synset('person.n.01')\n",
        "cat = wn.synset('cat.n.01')\n",
        "computer = wn.synset('computer.n.01')\n",
        "#synsets是list，synset是一个object "
      ],
      "execution_count": 132,
      "outputs": []
    },
    {
      "cell_type": "code",
      "metadata": {
        "colab": {
          "base_uri": "https://localhost:8080/"
        },
        "id": "vuZW0P78I1ME",
        "outputId": "5039f8d7-2bb3-4017-9273-f53f4ff49cdd"
      },
      "source": [
        "dog"
      ],
      "execution_count": 133,
      "outputs": [
        {
          "output_type": "execute_result",
          "data": {
            "text/plain": [
              "Synset('dog.n.01')"
            ]
          },
          "metadata": {
            "tags": []
          },
          "execution_count": 133
        }
      ]
    },
    {
      "cell_type": "code",
      "metadata": {
        "colab": {
          "base_uri": "https://localhost:8080/"
        },
        "id": "NIjjrZF0I65o",
        "outputId": "7ec29acc-14f7-4ae6-8bfb-57159466c944"
      },
      "source": [
        "person"
      ],
      "execution_count": 134,
      "outputs": [
        {
          "output_type": "execute_result",
          "data": {
            "text/plain": [
              "Synset('person.n.01')"
            ]
          },
          "metadata": {
            "tags": []
          },
          "execution_count": 134
        }
      ]
    },
    {
      "cell_type": "code",
      "metadata": {
        "colab": {
          "base_uri": "https://localhost:8080/"
        },
        "id": "Fedot1SOI7kV",
        "outputId": "56ed852f-15c7-4198-dd01-2b6137025042"
      },
      "source": [
        "cat"
      ],
      "execution_count": 135,
      "outputs": [
        {
          "output_type": "execute_result",
          "data": {
            "text/plain": [
              "Synset('cat.n.01')"
            ]
          },
          "metadata": {
            "tags": []
          },
          "execution_count": 135
        }
      ]
    },
    {
      "cell_type": "markdown",
      "metadata": {
        "id": "mlint6hKPEFM"
      },
      "source": [
        "# **path_similarity**\n"
      ]
    },
    {
      "cell_type": "code",
      "metadata": {
        "id": "fqLWdFGbPSGO"
      },
      "source": [
        "#return a score  (denote 表示 ) ~display  how similar between in two word  ;based on the shortest path__>connect feel in the is-a(hypernym/hypnoym) taxonomy==divide (is-a 双节/催眠)分类法。\n",
        "#score (0,1)  连上is-a （双音节/催眠）分类法 中的两个最短路径。  然后用这个返回个分。  看得分判断相似。\n"
      ],
      "execution_count": 136,
      "outputs": []
    },
    {
      "cell_type": "code",
      "metadata": {
        "id": "sAMQgldAPbta",
        "colab": {
          "base_uri": "https://localhost:8080/"
        },
        "outputId": "6ccffbe8-323e-4b38-ca16-9aa8a470e863"
      },
      "source": [
        "print(\"dog<->cat : \", wn.path_similarity(dog,cat))\n",
        "print(\"person<->cat:\", wn.path_similarity(person,cat))\n",
        "print(\"person<->dog:\", wn.path_similarity(person,dog))\n",
        "print(\"person<->computer:\", wn.path_similarity(person, computer))\n",
        "#值高相似度大\n",
        "#https://blog.csdn.net/mmc2015/article/details/50943163?ABstrategy=codes_snippets_optimize_v3"
      ],
      "execution_count": 137,
      "outputs": [
        {
          "output_type": "stream",
          "text": [
            "dog<->cat :  0.2\n",
            "person<->cat: 0.1\n",
            "person<->dog: 0.2\n",
            "person<->computer: 0.1111111111111111\n"
          ],
          "name": "stdout"
        }
      ]
    },
    {
      "cell_type": "markdown",
      "metadata": {
        "id": "WIZGpHONQ0qi"
      },
      "source": [
        "# Wu-Palmer Similarity( wup_similarity()  )\n"
      ]
    },
    {
      "cell_type": "code",
      "metadata": {
        "colab": {
          "base_uri": "https://localhost:8080/"
        },
        "id": "GePorwSbSRvY",
        "outputId": "748bc0a8-2cac-4956-b550-639f3477f988"
      },
      "source": [
        "#wup_similarity() ---> score (also two word similar)\n",
        "'''\n",
        "symble depth (senses in taxonomy(delivery)分类法) (deep)  and the two things least common subsumer\n",
        "Least Common Subsumer 最不常见的 次级消费者sub sumer\n",
        "(most specific ancestor node).\n",
        "此时给出的分数始终与Pedersen的Wordnet相似性的Perl实现所给出的分数一致。\n",
        "相似度小就是无关被，就是数值小无关\n",
        "'''\n",
        "print(\"dag<->cat : \", wn.wup_similarity(dog,cat))\n",
        "print(\"person<->cat :\", wn.wup_similarity(person,cat))\n",
        "print(\"person<->dog:\", wn.wup_similarity(person,dog))\n",
        "print(\"person<->:\", wn.wup_similarity(person,computer))"
      ],
      "execution_count": 138,
      "outputs": [
        {
          "output_type": "stream",
          "text": [
            "dag<->cat :  0.8571428571428571\n",
            "person<->cat : 0.5714285714285714\n",
            "person<->dog: 0.75\n",
            "person<->: 0.5\n"
          ],
          "name": "stdout"
        }
      ]
    },
    {
      "cell_type": "markdown",
      "metadata": {
        "id": "lE84YbdSWN-2"
      },
      "source": [
        "# **TFIDF(Term Frequency inverse document frequency**"
      ]
    },
    {
      "cell_type": "code",
      "metadata": {
        "colab": {
          "base_uri": "https://localhost:8080/",
          "height": 87
        },
        "id": "jmilEsfeXJmo",
        "outputId": "159540de-6f16-4aa5-fca5-06eea8992eba"
      },
      "source": [
        "'''【评价重要性】统计量度  （单词对文章多重要）\n",
        "TFIDF is a statistical measure --->evaluate in collection / corpus  how important a word in document\n",
        "# proportionally 成比例  importance -- times  (proportionally increases )[word 越重要次数越多呗]\n",
        "offset 抵消 frequency 频率  \n",
        "but \n",
        "重要性与 单词在语料库中出现的频率抵消了。\n",
        "就像是单词在文中为+   单词在语料库中为—  （还是小有疑问）\n",
        "'''"
      ],
      "execution_count": 139,
      "outputs": [
        {
          "output_type": "execute_result",
          "data": {
            "application/vnd.google.colaboratory.intrinsic+json": {
              "type": "string"
            },
            "text/plain": [
              "'【评价重要性】统计量度  （单词对文章多重要）\\nTFIDF is a statistical measure --->evaluate in collection / corpus  how important a word in document\\n# proportionally 成比例  importance -- times  (proportionally increases )[word 越重要次数越多呗]\\noffset 抵消 frequency 频率  \\nbut \\n重要性与 单词在语料库中出现的频率抵消了。\\n就像是单词在文中为+   单词在语料库中为—  （还是小有疑问）\\n'"
            ]
          },
          "metadata": {
            "tags": []
          },
          "execution_count": 139
        }
      ]
    },
    {
      "cell_type": "code",
      "metadata": {
        "colab": {
          "base_uri": "https://localhost:8080/"
        },
        "id": "jhsvaEDRaSTK",
        "outputId": "d56b05c8-ff6a-41bf-e327-d847e83030e7"
      },
      "source": [
        "#Tokenization  代币化\n",
        "import nltk  #导入要下东西的包\n",
        "nltk.download('punkt') #(punkt 针尖)\n",
        "from nltk.tokenize import word_tokenize, sent_tokenize   #?\n",
        "\n",
        "import re\n",
        "import numpy as np\n",
        "\n",
        "nltk.download('stopwords') \n",
        "from nltk.corpus import stopwords as sw #到语料库去下这个词"
      ],
      "execution_count": 140,
      "outputs": [
        {
          "output_type": "stream",
          "text": [
            "[nltk_data] Downloading package punkt to /root/nltk_data...\n",
            "[nltk_data]   Unzipping tokenizers/punkt.zip.\n",
            "[nltk_data] Downloading package stopwords to /root/nltk_data...\n",
            "[nltk_data]   Unzipping corpora/stopwords.zip.\n"
          ],
          "name": "stdout"
        }
      ]
    },
    {
      "cell_type": "code",
      "metadata": {
        "colab": {
          "base_uri": "https://localhost:8080/"
        },
        "id": "w9C1z0mAa72W",
        "outputId": "4a8448ca-553a-4960-b7ac-df7a5c984dd6"
      },
      "source": [
        "corpus = [\n",
        "          'Caren loves the NLP. The NLP hates Caren', # document 1\n",
        "          'Caren hates the NLP'#document 2\n",
        "]\n",
        "#tokenize 处理器，令牌化，标记字符串—————————— tokenize sentences (only use doc1)\n",
        "tokenized_sentence = sent_tokenize(corpus[0])\n",
        "print(\"\\ntokenized_sentence:\")\n",
        "print(tokenized_sentence)  #估计可以用在段、文章、句中。将两句话才开的作用\n"
      ],
      "execution_count": 141,
      "outputs": [
        {
          "output_type": "stream",
          "text": [
            "\n",
            "tokenized_sentence:\n",
            "['Caren loves the NLP.', 'The NLP hates Caren']\n"
          ],
          "name": "stdout"
        }
      ]
    },
    {
      "cell_type": "code",
      "metadata": {
        "colab": {
          "base_uri": "https://localhost:8080/"
        },
        "id": "nqOyFxUbby0X",
        "outputId": "4819c803-6ebc-4c05-bb7d-9114e4b221aa"
      },
      "source": [
        "clean_doc1 = re.sub(r'[^\\w\\s]','',corpus[0])  #Caren loves the NLP The NLP hates Caren ;; remove punctuations (only doc1)删除标点\n",
        "print(\"\\nclean_sentence:\")\n",
        "print(clean_doc1)"
      ],
      "execution_count": 142,
      "outputs": [
        {
          "output_type": "stream",
          "text": [
            "\n",
            "clean_sentence:\n",
            "Caren loves the NLP The NLP hates Caren\n"
          ],
          "name": "stdout"
        }
      ]
    },
    {
      "cell_type": "code",
      "metadata": {
        "colab": {
          "base_uri": "https://localhost:8080/",
          "height": 35
        },
        "id": "_2tWBqAecd6Y",
        "outputId": "956e1585-84c8-413d-d1e3-4513382fe306"
      },
      "source": [
        "clean_doc1"
      ],
      "execution_count": 143,
      "outputs": [
        {
          "output_type": "execute_result",
          "data": {
            "application/vnd.google.colaboratory.intrinsic+json": {
              "type": "string"
            },
            "text/plain": [
              "'Caren loves the NLP The NLP hates Caren'"
            ]
          },
          "metadata": {
            "tags": []
          },
          "execution_count": 143
        }
      ]
    },
    {
      "cell_type": "markdown",
      "metadata": {
        "id": "MSePNBT2eNat"
      },
      "source": [
        "\n",
        "==="
      ]
    },
    {
      "cell_type": "code",
      "metadata": {
        "colab": {
          "base_uri": "https://localhost:8080/"
        },
        "id": "laMCZfLDeP6x",
        "outputId": "f766ef2c-fb65-496e-b86e-bcaf3054d1cc"
      },
      "source": [
        "tokenized_doc1 = word_tokenize(clean_doc1)\n",
        "print(\"\\ntokenized_word:\", tokenized_doc1) #放下面合起来都行"
      ],
      "execution_count": 144,
      "outputs": [
        {
          "output_type": "stream",
          "text": [
            "\n",
            "tokenized_word: ['Caren', 'loves', 'the', 'NLP', 'The', 'NLP', 'hates', 'Caren']\n"
          ],
          "name": "stdout"
        }
      ]
    },
    {
      "cell_type": "code",
      "metadata": {
        "colab": {
          "base_uri": "https://localhost:8080/"
        },
        "id": "ZxHyr_9Ec1Xx",
        "outputId": "fe8e1d17-e21c-48a3-e94d-0ac275ce850e"
      },
      "source": [
        "lower_tokens = [t.lower() for t in tokenized_doc1]#\n",
        "print(\"\\nlower_case\")\n",
        "print(lower_tokens)\n",
        "#分开  将大写变小写"
      ],
      "execution_count": 145,
      "outputs": [
        {
          "output_type": "stream",
          "text": [
            "\n",
            "lower_case\n",
            "['caren', 'loves', 'the', 'nlp', 'the', 'nlp', 'hates', 'caren']\n"
          ],
          "name": "stdout"
        }
      ]
    },
    {
      "cell_type": "code",
      "metadata": {
        "colab": {
          "base_uri": "https://localhost:8080/"
        },
        "id": "IMitCVArc9d2",
        "outputId": "b5642d12-e7da-4e32-e39d-33c938aa4029"
      },
      "source": [
        "sww = sw.words() #stop word removal (删除 delect)\n",
        "tokenized_doc1 = [w for w in lower_tokens if not w in sww]   #  ['caren', 'loves', 'nlp', 'nlp', 'hates', 'caren']\n",
        "print(\"\\ntokensized_word (in lower case, w/o stopwords):\", tokenized_doc1)   #停止单词删除"
      ],
      "execution_count": 146,
      "outputs": [
        {
          "output_type": "stream",
          "text": [
            "\n",
            "tokensized_word (in lower case, w/o stopwords): ['caren', 'loves', 'nlp', 'nlp', 'hates', 'caren']\n"
          ],
          "name": "stdout"
        }
      ]
    },
    {
      "cell_type": "code",
      "metadata": {
        "colab": {
          "base_uri": "https://localhost:8080/"
        },
        "id": "4YSCTbvxe-xE",
        "outputId": "a1e591fb-3731-4753-d6a3-9652309cec21"
      },
      "source": [
        "tokenized_doc1  "
      ],
      "execution_count": 147,
      "outputs": [
        {
          "output_type": "execute_result",
          "data": {
            "text/plain": [
              "['caren', 'loves', 'nlp', 'nlp', 'hates', 'caren']"
            ]
          },
          "metadata": {
            "tags": []
          },
          "execution_count": 147
        }
      ]
    },
    {
      "cell_type": "markdown",
      "metadata": {
        "id": "KnstTw3-fACZ"
      },
      "source": [
        "same process for doc 2 ,导包。 输入语料库， 标记句子（和一块？)。删除标点1\n",
        "将大写换小写。停止删单词。 与A2 相同。"
      ]
    },
    {
      "cell_type": "code",
      "metadata": {
        "colab": {
          "base_uri": "https://localhost:8080/"
        },
        "id": "Nx_EgsY4gIFe",
        "outputId": "e5570b98-14b6-4d58-ccf6-eaee63690b05"
      },
      "source": [
        "clean_doc2 = re.sub(r'[^\\w\\s]', '' , corpus[1])  #标记语句\n",
        "tokenized_doc2 = word_tokenize(clean_doc2)   #分词\n",
        "lower_tokens2 = [t.lower() for t in tokenized_doc2]  #统一化，大写变小写\n",
        "'sww = sw.words() 竟然没这部了'\n",
        "tokenized_doc2 = [w for w in lower_tokens2 if not w in sww]   #哦变成这个了['caren', 'hates', 'nlp']删去同样的\n",
        "\n",
        "\n",
        "tokensized_docs = [tokenized_doc1, tokenized_doc2]    #[['caren', 'loves', 'nlp', 'nlp', 'hates', 'caren'], ['caren', 'hates', 'nlp']]\n",
        "#开始将两个文档合并了，合成了个数组。\n",
        "\n",
        "print(\"\\nfinal——docs:\", tokensized_docs[0], tokensized_docs[1]) #打出来别忘了，\n"
      ],
      "execution_count": 148,
      "outputs": [
        {
          "output_type": "stream",
          "text": [
            "\n",
            "final——docs: ['caren', 'loves', 'nlp', 'nlp', 'hates', 'caren'] ['caren', 'hates', 'nlp']\n"
          ],
          "name": "stdout"
        }
      ]
    },
    {
      "cell_type": "code",
      "metadata": {
        "colab": {
          "base_uri": "https://localhost:8080/",
          "height": 35
        },
        "id": "i4AfO_4eg2vW",
        "outputId": "ba4a3274-f7bc-45b6-de9d-9c54f6456083"
      },
      "source": [
        "clean_doc2"
      ],
      "execution_count": 149,
      "outputs": [
        {
          "output_type": "execute_result",
          "data": {
            "application/vnd.google.colaboratory.intrinsic+json": {
              "type": "string"
            },
            "text/plain": [
              "'Caren hates the NLP'"
            ]
          },
          "metadata": {
            "tags": []
          },
          "execution_count": 149
        }
      ]
    },
    {
      "cell_type": "code",
      "metadata": {
        "colab": {
          "base_uri": "https://localhost:8080/"
        },
        "id": "KZdHHFo0g4Ca",
        "outputId": "4faad242-8464-42c1-f46b-eb83dbb50153"
      },
      "source": [
        "tokenized_doc2"
      ],
      "execution_count": 150,
      "outputs": [
        {
          "output_type": "execute_result",
          "data": {
            "text/plain": [
              "['caren', 'hates', 'nlp']"
            ]
          },
          "metadata": {
            "tags": []
          },
          "execution_count": 150
        }
      ]
    },
    {
      "cell_type": "code",
      "metadata": {
        "colab": {
          "base_uri": "https://localhost:8080/"
        },
        "id": "4Fzj0kDDg4bb",
        "outputId": "399b2500-802e-4f83-9bf3-770386751e53"
      },
      "source": [
        "lower_tokens2"
      ],
      "execution_count": 151,
      "outputs": [
        {
          "output_type": "execute_result",
          "data": {
            "text/plain": [
              "['caren', 'hates', 'the', 'nlp']"
            ]
          },
          "metadata": {
            "tags": []
          },
          "execution_count": 151
        }
      ]
    },
    {
      "cell_type": "code",
      "metadata": {
        "colab": {
          "base_uri": "https://localhost:8080/"
        },
        "id": "l0gU8EdFhOI0",
        "outputId": "8ff0cd9a-5a61-4391-f33a-5e34bd5c54bf"
      },
      "source": [
        "sww"
      ],
      "execution_count": 152,
      "outputs": [
        {
          "output_type": "execute_result",
          "data": {
            "text/plain": [
              "['إذ',\n",
              " 'إذا',\n",
              " 'إذما',\n",
              " 'إذن',\n",
              " 'أف',\n",
              " 'أقل',\n",
              " 'أكثر',\n",
              " 'ألا',\n",
              " 'إلا',\n",
              " 'التي',\n",
              " 'الذي',\n",
              " 'الذين',\n",
              " 'اللاتي',\n",
              " 'اللائي',\n",
              " 'اللتان',\n",
              " 'اللتيا',\n",
              " 'اللتين',\n",
              " 'اللذان',\n",
              " 'اللذين',\n",
              " 'اللواتي',\n",
              " 'إلى',\n",
              " 'إليك',\n",
              " 'إليكم',\n",
              " 'إليكما',\n",
              " 'إليكن',\n",
              " 'أم',\n",
              " 'أما',\n",
              " 'أما',\n",
              " 'إما',\n",
              " 'أن',\n",
              " 'إن',\n",
              " 'إنا',\n",
              " 'أنا',\n",
              " 'أنت',\n",
              " 'أنتم',\n",
              " 'أنتما',\n",
              " 'أنتن',\n",
              " 'إنما',\n",
              " 'إنه',\n",
              " 'أنى',\n",
              " 'أنى',\n",
              " 'آه',\n",
              " 'آها',\n",
              " 'أو',\n",
              " 'أولاء',\n",
              " 'أولئك',\n",
              " 'أوه',\n",
              " 'آي',\n",
              " 'أي',\n",
              " 'أيها',\n",
              " 'إي',\n",
              " 'أين',\n",
              " 'أين',\n",
              " 'أينما',\n",
              " 'إيه',\n",
              " 'بخ',\n",
              " 'بس',\n",
              " 'بعد',\n",
              " 'بعض',\n",
              " 'بك',\n",
              " 'بكم',\n",
              " 'بكم',\n",
              " 'بكما',\n",
              " 'بكن',\n",
              " 'بل',\n",
              " 'بلى',\n",
              " 'بما',\n",
              " 'بماذا',\n",
              " 'بمن',\n",
              " 'بنا',\n",
              " 'به',\n",
              " 'بها',\n",
              " 'بهم',\n",
              " 'بهما',\n",
              " 'بهن',\n",
              " 'بي',\n",
              " 'بين',\n",
              " 'بيد',\n",
              " 'تلك',\n",
              " 'تلكم',\n",
              " 'تلكما',\n",
              " 'ته',\n",
              " 'تي',\n",
              " 'تين',\n",
              " 'تينك',\n",
              " 'ثم',\n",
              " 'ثمة',\n",
              " 'حاشا',\n",
              " 'حبذا',\n",
              " 'حتى',\n",
              " 'حيث',\n",
              " 'حيثما',\n",
              " 'حين',\n",
              " 'خلا',\n",
              " 'دون',\n",
              " 'ذا',\n",
              " 'ذات',\n",
              " 'ذاك',\n",
              " 'ذان',\n",
              " 'ذانك',\n",
              " 'ذلك',\n",
              " 'ذلكم',\n",
              " 'ذلكما',\n",
              " 'ذلكن',\n",
              " 'ذه',\n",
              " 'ذو',\n",
              " 'ذوا',\n",
              " 'ذواتا',\n",
              " 'ذواتي',\n",
              " 'ذي',\n",
              " 'ذين',\n",
              " 'ذينك',\n",
              " 'ريث',\n",
              " 'سوف',\n",
              " 'سوى',\n",
              " 'شتان',\n",
              " 'عدا',\n",
              " 'عسى',\n",
              " 'عل',\n",
              " 'على',\n",
              " 'عليك',\n",
              " 'عليه',\n",
              " 'عما',\n",
              " 'عن',\n",
              " 'عند',\n",
              " 'غير',\n",
              " 'فإذا',\n",
              " 'فإن',\n",
              " 'فلا',\n",
              " 'فمن',\n",
              " 'في',\n",
              " 'فيم',\n",
              " 'فيما',\n",
              " 'فيه',\n",
              " 'فيها',\n",
              " 'قد',\n",
              " 'كأن',\n",
              " 'كأنما',\n",
              " 'كأي',\n",
              " 'كأين',\n",
              " 'كذا',\n",
              " 'كذلك',\n",
              " 'كل',\n",
              " 'كلا',\n",
              " 'كلاهما',\n",
              " 'كلتا',\n",
              " 'كلما',\n",
              " 'كليكما',\n",
              " 'كليهما',\n",
              " 'كم',\n",
              " 'كم',\n",
              " 'كما',\n",
              " 'كي',\n",
              " 'كيت',\n",
              " 'كيف',\n",
              " 'كيفما',\n",
              " 'لا',\n",
              " 'لاسيما',\n",
              " 'لدى',\n",
              " 'لست',\n",
              " 'لستم',\n",
              " 'لستما',\n",
              " 'لستن',\n",
              " 'لسن',\n",
              " 'لسنا',\n",
              " 'لعل',\n",
              " 'لك',\n",
              " 'لكم',\n",
              " 'لكما',\n",
              " 'لكن',\n",
              " 'لكنما',\n",
              " 'لكي',\n",
              " 'لكيلا',\n",
              " 'لم',\n",
              " 'لما',\n",
              " 'لن',\n",
              " 'لنا',\n",
              " 'له',\n",
              " 'لها',\n",
              " 'لهم',\n",
              " 'لهما',\n",
              " 'لهن',\n",
              " 'لو',\n",
              " 'لولا',\n",
              " 'لوما',\n",
              " 'لي',\n",
              " 'لئن',\n",
              " 'ليت',\n",
              " 'ليس',\n",
              " 'ليسا',\n",
              " 'ليست',\n",
              " 'ليستا',\n",
              " 'ليسوا',\n",
              " 'ما',\n",
              " 'ماذا',\n",
              " 'متى',\n",
              " 'مذ',\n",
              " 'مع',\n",
              " 'مما',\n",
              " 'ممن',\n",
              " 'من',\n",
              " 'منه',\n",
              " 'منها',\n",
              " 'منذ',\n",
              " 'مه',\n",
              " 'مهما',\n",
              " 'نحن',\n",
              " 'نحو',\n",
              " 'نعم',\n",
              " 'ها',\n",
              " 'هاتان',\n",
              " 'هاته',\n",
              " 'هاتي',\n",
              " 'هاتين',\n",
              " 'هاك',\n",
              " 'هاهنا',\n",
              " 'هذا',\n",
              " 'هذان',\n",
              " 'هذه',\n",
              " 'هذي',\n",
              " 'هذين',\n",
              " 'هكذا',\n",
              " 'هل',\n",
              " 'هلا',\n",
              " 'هم',\n",
              " 'هما',\n",
              " 'هن',\n",
              " 'هنا',\n",
              " 'هناك',\n",
              " 'هنالك',\n",
              " 'هو',\n",
              " 'هؤلاء',\n",
              " 'هي',\n",
              " 'هيا',\n",
              " 'هيت',\n",
              " 'هيهات',\n",
              " 'والذي',\n",
              " 'والذين',\n",
              " 'وإذ',\n",
              " 'وإذا',\n",
              " 'وإن',\n",
              " 'ولا',\n",
              " 'ولكن',\n",
              " 'ولو',\n",
              " 'وما',\n",
              " 'ومن',\n",
              " 'وهو',\n",
              " 'يا',\n",
              " 'a',\n",
              " 'ad',\n",
              " 'altı',\n",
              " 'altmış',\n",
              " 'amma',\n",
              " 'arasında',\n",
              " 'artıq',\n",
              " 'ay',\n",
              " 'az',\n",
              " 'bax',\n",
              " 'belə',\n",
              " 'bəli',\n",
              " 'bəlkə',\n",
              " 'beş',\n",
              " 'bəy',\n",
              " 'bəzən',\n",
              " 'bəzi',\n",
              " 'bilər',\n",
              " 'bir',\n",
              " 'biraz',\n",
              " 'biri',\n",
              " 'birşey',\n",
              " 'biz',\n",
              " 'bizim',\n",
              " 'bizlər',\n",
              " 'bu',\n",
              " 'buna',\n",
              " 'bundan',\n",
              " 'bunların',\n",
              " 'bunu',\n",
              " 'bunun',\n",
              " 'buradan',\n",
              " 'bütün',\n",
              " 'ci',\n",
              " 'cı',\n",
              " 'çox',\n",
              " 'cu',\n",
              " 'cü',\n",
              " 'çünki',\n",
              " 'da',\n",
              " 'daha',\n",
              " 'də',\n",
              " 'dedi',\n",
              " 'dək',\n",
              " 'dən',\n",
              " 'dəqiqə',\n",
              " 'deyil',\n",
              " 'dir',\n",
              " 'doqquz',\n",
              " 'doqsan',\n",
              " 'dörd',\n",
              " 'düz',\n",
              " 'ə',\n",
              " 'edən',\n",
              " 'edir',\n",
              " 'əgər',\n",
              " 'əlbəttə',\n",
              " 'elə',\n",
              " 'əlli',\n",
              " 'ən',\n",
              " 'əslində',\n",
              " 'et',\n",
              " 'etdi',\n",
              " 'etmə',\n",
              " 'etmək',\n",
              " 'faiz',\n",
              " 'gilə',\n",
              " 'görə',\n",
              " 'ha',\n",
              " 'haqqında',\n",
              " 'harada',\n",
              " 'hə',\n",
              " 'heç',\n",
              " 'həm',\n",
              " 'həmin',\n",
              " 'həmişə',\n",
              " 'hər',\n",
              " 'ı',\n",
              " 'idi',\n",
              " 'iki',\n",
              " 'il',\n",
              " 'ildə',\n",
              " 'ilə',\n",
              " 'ilk',\n",
              " 'in',\n",
              " 'indi',\n",
              " 'isə',\n",
              " 'istifadə',\n",
              " 'iyirmi',\n",
              " 'ki',\n",
              " 'kim',\n",
              " 'kimə',\n",
              " 'kimi',\n",
              " 'lakin',\n",
              " 'lap',\n",
              " 'məhz',\n",
              " 'mən',\n",
              " 'mənə',\n",
              " 'mirşey',\n",
              " 'nə',\n",
              " 'nəhayət',\n",
              " 'niyə',\n",
              " 'o',\n",
              " 'obirisi',\n",
              " 'of',\n",
              " 'olan',\n",
              " 'olar',\n",
              " 'olaraq',\n",
              " 'oldu',\n",
              " 'olduğu',\n",
              " 'olmadı',\n",
              " 'olmaz',\n",
              " 'olmuşdur',\n",
              " 'olsun',\n",
              " 'olur',\n",
              " 'on',\n",
              " 'ona',\n",
              " 'ondan',\n",
              " 'onlar',\n",
              " 'onlardan',\n",
              " 'onların ',\n",
              " 'onsuzda',\n",
              " 'onu',\n",
              " 'onun',\n",
              " 'oradan',\n",
              " 'otuz',\n",
              " 'öz',\n",
              " 'özü',\n",
              " 'qarşı',\n",
              " 'qədər',\n",
              " 'qırx',\n",
              " 'saat',\n",
              " 'sadəcə',\n",
              " 'saniyə',\n",
              " 'səhv',\n",
              " 'səkkiz',\n",
              " 'səksən',\n",
              " 'sən',\n",
              " 'sənə',\n",
              " 'sənin',\n",
              " 'siz',\n",
              " 'sizin',\n",
              " 'sizlər',\n",
              " 'sonra',\n",
              " 'təəssüf',\n",
              " 'ü',\n",
              " 'üç',\n",
              " 'üçün',\n",
              " 'var',\n",
              " 'və',\n",
              " 'xan',\n",
              " 'xanım',\n",
              " 'xeyr',\n",
              " 'ya',\n",
              " 'yalnız',\n",
              " 'yaxşı',\n",
              " 'yeddi',\n",
              " 'yenə',\n",
              " 'yəni',\n",
              " 'yetmiş',\n",
              " 'yox',\n",
              " 'yoxdur',\n",
              " 'yoxsa',\n",
              " 'yüz',\n",
              " 'zamanog',\n",
              " 'i',\n",
              " 'jeg',\n",
              " 'det',\n",
              " 'at',\n",
              " 'en',\n",
              " 'den',\n",
              " 'til',\n",
              " 'er',\n",
              " 'som',\n",
              " 'på',\n",
              " 'de',\n",
              " 'med',\n",
              " 'han',\n",
              " 'af',\n",
              " 'for',\n",
              " 'ikke',\n",
              " 'der',\n",
              " 'var',\n",
              " 'mig',\n",
              " 'sig',\n",
              " 'men',\n",
              " 'et',\n",
              " 'har',\n",
              " 'om',\n",
              " 'vi',\n",
              " 'min',\n",
              " 'havde',\n",
              " 'ham',\n",
              " 'hun',\n",
              " 'nu',\n",
              " 'over',\n",
              " 'da',\n",
              " 'fra',\n",
              " 'du',\n",
              " 'ud',\n",
              " 'sin',\n",
              " 'dem',\n",
              " 'os',\n",
              " 'op',\n",
              " 'man',\n",
              " 'hans',\n",
              " 'hvor',\n",
              " 'eller',\n",
              " 'hvad',\n",
              " 'skal',\n",
              " 'selv',\n",
              " 'her',\n",
              " 'alle',\n",
              " 'vil',\n",
              " 'blev',\n",
              " 'kunne',\n",
              " 'ind',\n",
              " 'når',\n",
              " 'være',\n",
              " 'dog',\n",
              " 'noget',\n",
              " 'ville',\n",
              " 'jo',\n",
              " 'deres',\n",
              " 'efter',\n",
              " 'ned',\n",
              " 'skulle',\n",
              " 'denne',\n",
              " 'end',\n",
              " 'dette',\n",
              " 'mit',\n",
              " 'også',\n",
              " 'under',\n",
              " 'have',\n",
              " 'dig',\n",
              " 'anden',\n",
              " 'hende',\n",
              " 'mine',\n",
              " 'alt',\n",
              " 'meget',\n",
              " 'sit',\n",
              " 'sine',\n",
              " 'vor',\n",
              " 'mod',\n",
              " 'disse',\n",
              " 'hvis',\n",
              " 'din',\n",
              " 'nogle',\n",
              " 'hos',\n",
              " 'blive',\n",
              " 'mange',\n",
              " 'ad',\n",
              " 'bliver',\n",
              " 'hendes',\n",
              " 'været',\n",
              " 'thi',\n",
              " 'jer',\n",
              " 'sådan',\n",
              " 'de',\n",
              " 'en',\n",
              " 'van',\n",
              " 'ik',\n",
              " 'te',\n",
              " 'dat',\n",
              " 'die',\n",
              " 'in',\n",
              " 'een',\n",
              " 'hij',\n",
              " 'het',\n",
              " 'niet',\n",
              " 'zijn',\n",
              " 'is',\n",
              " 'was',\n",
              " 'op',\n",
              " 'aan',\n",
              " 'met',\n",
              " 'als',\n",
              " 'voor',\n",
              " 'had',\n",
              " 'er',\n",
              " 'maar',\n",
              " 'om',\n",
              " 'hem',\n",
              " 'dan',\n",
              " 'zou',\n",
              " 'of',\n",
              " 'wat',\n",
              " 'mijn',\n",
              " 'men',\n",
              " 'dit',\n",
              " 'zo',\n",
              " 'door',\n",
              " 'over',\n",
              " 'ze',\n",
              " 'zich',\n",
              " 'bij',\n",
              " 'ook',\n",
              " 'tot',\n",
              " 'je',\n",
              " 'mij',\n",
              " 'uit',\n",
              " 'der',\n",
              " 'daar',\n",
              " 'haar',\n",
              " 'naar',\n",
              " 'heb',\n",
              " 'hoe',\n",
              " 'heeft',\n",
              " 'hebben',\n",
              " 'deze',\n",
              " 'u',\n",
              " 'want',\n",
              " 'nog',\n",
              " 'zal',\n",
              " 'me',\n",
              " 'zij',\n",
              " 'nu',\n",
              " 'ge',\n",
              " 'geen',\n",
              " 'omdat',\n",
              " 'iets',\n",
              " 'worden',\n",
              " 'toch',\n",
              " 'al',\n",
              " 'waren',\n",
              " 'veel',\n",
              " 'meer',\n",
              " 'doen',\n",
              " 'toen',\n",
              " 'moet',\n",
              " 'ben',\n",
              " 'zonder',\n",
              " 'kan',\n",
              " 'hun',\n",
              " 'dus',\n",
              " 'alles',\n",
              " 'onder',\n",
              " 'ja',\n",
              " 'eens',\n",
              " 'hier',\n",
              " 'wie',\n",
              " 'werd',\n",
              " 'altijd',\n",
              " 'doch',\n",
              " 'wordt',\n",
              " 'wezen',\n",
              " 'kunnen',\n",
              " 'ons',\n",
              " 'zelf',\n",
              " 'tegen',\n",
              " 'na',\n",
              " 'reeds',\n",
              " 'wil',\n",
              " 'kon',\n",
              " 'niets',\n",
              " 'uw',\n",
              " 'iemand',\n",
              " 'geweest',\n",
              " 'andere',\n",
              " 'i',\n",
              " 'me',\n",
              " 'my',\n",
              " 'myself',\n",
              " 'we',\n",
              " 'our',\n",
              " 'ours',\n",
              " 'ourselves',\n",
              " 'you',\n",
              " \"you're\",\n",
              " \"you've\",\n",
              " \"you'll\",\n",
              " \"you'd\",\n",
              " 'your',\n",
              " 'yours',\n",
              " 'yourself',\n",
              " 'yourselves',\n",
              " 'he',\n",
              " 'him',\n",
              " 'his',\n",
              " 'himself',\n",
              " 'she',\n",
              " \"she's\",\n",
              " 'her',\n",
              " 'hers',\n",
              " 'herself',\n",
              " 'it',\n",
              " \"it's\",\n",
              " 'its',\n",
              " 'itself',\n",
              " 'they',\n",
              " 'them',\n",
              " 'their',\n",
              " 'theirs',\n",
              " 'themselves',\n",
              " 'what',\n",
              " 'which',\n",
              " 'who',\n",
              " 'whom',\n",
              " 'this',\n",
              " 'that',\n",
              " \"that'll\",\n",
              " 'these',\n",
              " 'those',\n",
              " 'am',\n",
              " 'is',\n",
              " 'are',\n",
              " 'was',\n",
              " 'were',\n",
              " 'be',\n",
              " 'been',\n",
              " 'being',\n",
              " 'have',\n",
              " 'has',\n",
              " 'had',\n",
              " 'having',\n",
              " 'do',\n",
              " 'does',\n",
              " 'did',\n",
              " 'doing',\n",
              " 'a',\n",
              " 'an',\n",
              " 'the',\n",
              " 'and',\n",
              " 'but',\n",
              " 'if',\n",
              " 'or',\n",
              " 'because',\n",
              " 'as',\n",
              " 'until',\n",
              " 'while',\n",
              " 'of',\n",
              " 'at',\n",
              " 'by',\n",
              " 'for',\n",
              " 'with',\n",
              " 'about',\n",
              " 'against',\n",
              " 'between',\n",
              " 'into',\n",
              " 'through',\n",
              " 'during',\n",
              " 'before',\n",
              " 'after',\n",
              " 'above',\n",
              " 'below',\n",
              " 'to',\n",
              " 'from',\n",
              " 'up',\n",
              " 'down',\n",
              " 'in',\n",
              " 'out',\n",
              " 'on',\n",
              " 'off',\n",
              " 'over',\n",
              " 'under',\n",
              " 'again',\n",
              " 'further',\n",
              " 'then',\n",
              " 'once',\n",
              " 'here',\n",
              " 'there',\n",
              " 'when',\n",
              " 'where',\n",
              " 'why',\n",
              " 'how',\n",
              " 'all',\n",
              " 'any',\n",
              " 'both',\n",
              " 'each',\n",
              " 'few',\n",
              " 'more',\n",
              " 'most',\n",
              " 'other',\n",
              " 'some',\n",
              " 'such',\n",
              " 'no',\n",
              " 'nor',\n",
              " 'not',\n",
              " 'only',\n",
              " 'own',\n",
              " 'same',\n",
              " 'so',\n",
              " 'than',\n",
              " 'too',\n",
              " 'very',\n",
              " 's',\n",
              " 't',\n",
              " 'can',\n",
              " 'will',\n",
              " 'just',\n",
              " 'don',\n",
              " \"don't\",\n",
              " 'should',\n",
              " \"should've\",\n",
              " 'now',\n",
              " 'd',\n",
              " 'll',\n",
              " 'm',\n",
              " 'o',\n",
              " 're',\n",
              " 've',\n",
              " 'y',\n",
              " 'ain',\n",
              " 'aren',\n",
              " \"aren't\",\n",
              " 'couldn',\n",
              " \"couldn't\",\n",
              " 'didn',\n",
              " \"didn't\",\n",
              " 'doesn',\n",
              " \"doesn't\",\n",
              " 'hadn',\n",
              " \"hadn't\",\n",
              " 'hasn',\n",
              " \"hasn't\",\n",
              " 'haven',\n",
              " \"haven't\",\n",
              " 'isn',\n",
              " \"isn't\",\n",
              " 'ma',\n",
              " 'mightn',\n",
              " \"mightn't\",\n",
              " 'mustn',\n",
              " \"mustn't\",\n",
              " 'needn',\n",
              " \"needn't\",\n",
              " 'shan',\n",
              " \"shan't\",\n",
              " 'shouldn',\n",
              " \"shouldn't\",\n",
              " 'wasn',\n",
              " \"wasn't\",\n",
              " 'weren',\n",
              " \"weren't\",\n",
              " 'won',\n",
              " \"won't\",\n",
              " 'wouldn',\n",
              " \"wouldn't\",\n",
              " 'olla',\n",
              " 'olen',\n",
              " 'olet',\n",
              " 'on',\n",
              " 'olemme',\n",
              " 'olette',\n",
              " 'ovat',\n",
              " 'ole',\n",
              " 'oli',\n",
              " 'olisi',\n",
              " 'olisit',\n",
              " 'olisin',\n",
              " 'olisimme',\n",
              " 'olisitte',\n",
              " 'olisivat',\n",
              " 'olit',\n",
              " 'olin',\n",
              " 'olimme',\n",
              " 'olitte',\n",
              " 'olivat',\n",
              " 'ollut',\n",
              " 'olleet',\n",
              " 'en',\n",
              " 'et',\n",
              " 'ei',\n",
              " 'emme',\n",
              " 'ette',\n",
              " 'eivät',\n",
              " 'minä',\n",
              " 'minun',\n",
              " 'minut',\n",
              " 'minua',\n",
              " 'minussa',\n",
              " 'minusta',\n",
              " 'minuun',\n",
              " 'minulla',\n",
              " 'minulta',\n",
              " 'minulle',\n",
              " 'sinä',\n",
              " 'sinun',\n",
              " 'sinut',\n",
              " 'sinua',\n",
              " 'sinussa',\n",
              " 'sinusta',\n",
              " 'sinuun',\n",
              " 'sinulla',\n",
              " 'sinulta',\n",
              " 'sinulle',\n",
              " 'hän',\n",
              " 'hänen',\n",
              " 'hänet',\n",
              " 'häntä',\n",
              " 'hänessä',\n",
              " 'hänestä',\n",
              " 'häneen',\n",
              " 'hänellä',\n",
              " 'häneltä',\n",
              " 'hänelle',\n",
              " 'me',\n",
              " 'meidän',\n",
              " 'meidät',\n",
              " 'meitä',\n",
              " 'meissä',\n",
              " 'meistä',\n",
              " 'meihin',\n",
              " 'meillä',\n",
              " 'meiltä',\n",
              " 'meille',\n",
              " 'te',\n",
              " 'teidän',\n",
              " 'teidät',\n",
              " 'teitä',\n",
              " 'teissä',\n",
              " 'teistä',\n",
              " 'teihin',\n",
              " 'teillä',\n",
              " 'teiltä',\n",
              " 'teille',\n",
              " 'he',\n",
              " 'heidän',\n",
              " 'heidät',\n",
              " 'heitä',\n",
              " 'heissä',\n",
              " 'heistä',\n",
              " 'heihin',\n",
              " 'heillä',\n",
              " 'heiltä',\n",
              " 'heille',\n",
              " 'tämä',\n",
              " 'tämän',\n",
              " 'tätä',\n",
              " 'tässä',\n",
              " 'tästä',\n",
              " 'tähän',\n",
              " 'tallä',\n",
              " 'tältä',\n",
              " 'tälle',\n",
              " 'tänä',\n",
              " 'täksi',\n",
              " 'tuo',\n",
              " 'tuon',\n",
              " 'tuotä',\n",
              " 'tuossa',\n",
              " 'tuosta',\n",
              " 'tuohon',\n",
              " 'tuolla',\n",
              " 'tuolta',\n",
              " 'tuolle',\n",
              " 'tuona',\n",
              " 'tuoksi',\n",
              " 'se',\n",
              " 'sen',\n",
              " 'sitä',\n",
              " 'siinä',\n",
              " 'siitä',\n",
              " 'siihen',\n",
              " 'sillä',\n",
              " 'siltä',\n",
              " 'sille',\n",
              " 'sinä',\n",
              " 'siksi',\n",
              " 'nämä',\n",
              " 'näiden',\n",
              " 'näitä',\n",
              " 'näissä',\n",
              " 'näistä',\n",
              " 'näihin',\n",
              " 'näillä',\n",
              " 'näiltä',\n",
              " 'näille',\n",
              " 'näinä',\n",
              " 'näiksi',\n",
              " 'nuo',\n",
              " 'noiden',\n",
              " 'noita',\n",
              " 'noissa',\n",
              " 'noista',\n",
              " 'noihin',\n",
              " 'noilla',\n",
              " 'noilta',\n",
              " 'noille',\n",
              " 'noina',\n",
              " 'noiksi',\n",
              " 'ne',\n",
              " 'niiden',\n",
              " 'niitä',\n",
              " 'niissä',\n",
              " 'niistä',\n",
              " 'niihin',\n",
              " 'niillä',\n",
              " 'niiltä',\n",
              " 'niille',\n",
              " 'niinä',\n",
              " 'niiksi',\n",
              " 'kuka',\n",
              " 'kenen',\n",
              " 'kenet',\n",
              " 'ketä',\n",
              " 'kenessä',\n",
              " 'kenestä',\n",
              " 'keneen',\n",
              " 'kenellä',\n",
              " 'keneltä',\n",
              " 'kenelle',\n",
              " 'kenenä',\n",
              " 'keneksi',\n",
              " 'ketkä',\n",
              " 'keiden',\n",
              " 'ketkä',\n",
              " 'keitä',\n",
              " 'keissä',\n",
              " 'keistä',\n",
              " 'keihin',\n",
              " 'keillä',\n",
              " 'keiltä',\n",
              " 'keille',\n",
              " 'keinä',\n",
              " 'keiksi',\n",
              " 'mikä',\n",
              " 'minkä',\n",
              " 'minkä',\n",
              " 'mitä',\n",
              " 'missä',\n",
              " 'mistä',\n",
              " 'mihin',\n",
              " 'millä',\n",
              " 'miltä',\n",
              " 'mille',\n",
              " 'minä',\n",
              " 'miksi',\n",
              " 'mitkä',\n",
              " 'joka',\n",
              " 'jonka',\n",
              " 'jota',\n",
              " 'jossa',\n",
              " 'josta',\n",
              " 'johon',\n",
              " 'jolla',\n",
              " 'jolta',\n",
              " 'jolle',\n",
              " 'jona',\n",
              " 'joksi',\n",
              " 'jotka',\n",
              " 'joiden',\n",
              " 'joita',\n",
              " 'joissa',\n",
              " 'joista',\n",
              " 'joihin',\n",
              " 'joilla',\n",
              " 'joilta',\n",
              " 'joille',\n",
              " 'joina',\n",
              " 'joiksi',\n",
              " 'että',\n",
              " ...]"
            ]
          },
          "metadata": {
            "tags": []
          },
          "execution_count": 152
        }
      ]
    },
    {
      "cell_type": "code",
      "metadata": {
        "colab": {
          "base_uri": "https://localhost:8080/"
        },
        "id": "4843aA-bh3wi",
        "outputId": "06ef5c96-5221-4dae-97fe-e013734534e7"
      },
      "source": [
        "tokenized_doc2"
      ],
      "execution_count": 153,
      "outputs": [
        {
          "output_type": "execute_result",
          "data": {
            "text/plain": [
              "['caren', 'hates', 'nlp']"
            ]
          },
          "metadata": {
            "tags": []
          },
          "execution_count": 153
        }
      ]
    },
    {
      "cell_type": "code",
      "metadata": {
        "colab": {
          "base_uri": "https://localhost:8080/"
        },
        "id": "Btrs46kjh5vC",
        "outputId": "44d4597f-c9dd-4a4f-9595-59d407d41644"
      },
      "source": [
        "tokensized_docs"
      ],
      "execution_count": 154,
      "outputs": [
        {
          "output_type": "execute_result",
          "data": {
            "text/plain": [
              "[['caren', 'loves', 'nlp', 'nlp', 'hates', 'caren'], ['caren', 'hates', 'nlp']]"
            ]
          },
          "metadata": {
            "tags": []
          },
          "execution_count": 154
        }
      ]
    },
    {
      "cell_type": "markdown",
      "metadata": {
        "id": "vg83aBXZig25"
      },
      "source": [
        "**Document Frequency (DF)**"
      ]
    },
    {
      "cell_type": "code",
      "metadata": {
        "colab": {
          "base_uri": "https://localhost:8080/"
        },
        "id": "cDOzA4oJx1bS",
        "outputId": "4b17acc5-6570-47af-b124-26be0eb9b635"
      },
      "source": [
        "'''\n",
        "DF === count t(word ~ term)  in N [document]\n",
        "df(t) = occurrence of t in documents   (t in N)\n",
        "idf(t) = log(N/(df+1)) \n",
        "'''\n",
        "\n",
        "DF = {}\n",
        "\n",
        "for tokensized_doc in tokensized_docs: #循环， tokensized   象征性 ；； get word(each unique) in Doc + compute number times(occurrence in D)\n",
        "\n",
        "  for term in np.unique(tokensized_doc):# for  可能是导入单词    ***\n",
        "    try:                # try的工作原理是:当开始一个try语句后,python就在当前程序的上下文中作标记\n",
        "      DF[term] += 1  # DF = DF+1\n",
        "    except:             #主动抛出异常\n",
        "      DF[term] = 1 \n",
        "'''\n",
        "因为在程序执行时，异常报错提示可能会影响到输出结果的显示，此时就可以使用try:...except:...\n",
        "'''\n",
        "DF\n",
        "\n",
        "#展示这个词在几个文档中出现\n"
      ],
      "execution_count": 161,
      "outputs": [
        {
          "output_type": "execute_result",
          "data": {
            "text/plain": [
              "{'caren': 2, 'hates': 2, 'loves': 1, 'nlp': 2}"
            ]
          },
          "metadata": {
            "tags": []
          },
          "execution_count": 161
        }
      ]
    },
    {
      "cell_type": "code",
      "metadata": {
        "colab": {
          "base_uri": "https://localhost:8080/"
        },
        "id": "28Uqky7x0HIw",
        "outputId": "0d2b41b7-5c42-43b9-bf44-e9fbe58a4e85"
      },
      "source": [
        "DF['caren']   #输出都这么输出了"
      ],
      "execution_count": 159,
      "outputs": [
        {
          "output_type": "execute_result",
          "data": {
            "text/plain": [
              "2"
            ]
          },
          "metadata": {
            "tags": []
          },
          "execution_count": 159
        }
      ]
    },
    {
      "cell_type": "markdown",
      "metadata": {
        "id": "Lt12d6Nn0Qgd"
      },
      "source": [
        "**TF-IDF calculation**"
      ]
    },
    {
      "cell_type": "code",
      "metadata": {
        "colab": {
          "base_uri": "https://localhost:8080/"
        },
        "id": "lT25ASZq0gL0",
        "outputId": "b3e050ae-8d07-4a93-99e6-7579456c3912"
      },
      "source": [
        "#https://docs.python.org/3/library/collections.html#collections.Counter\n",
        "#counter 用法 ——————count documents number (word appear)   counter == class  (counting elements from interable----[for?])\n",
        "\n",
        "from nltk.corpus import stopwords\n",
        "from nltk.tokenize import word_tokenize\n",
        "from collections import Counter\n",
        "import math  #数学还是要导入的\n",
        "\n",
        "tf_idf = {}  #word_tf={}  #存储每个词的tf值      ----{}\n",
        "\n",
        "\n",
        "N = len(tokensized_docs)   #2  total number D\n",
        "doc_id = 0\n",
        "\n",
        "for tokensized_doc in tokensized_docs:     # get each tokenised(mark) D  获得每个标记化文档     [不是i 是in]\n",
        "  counter = Counter(tokensized_doc)   #  initialise (0)  counter D  初始化计算器\n",
        "  total_num_words = len(tokensized_doc)   # calculate words (total) in D 计算文档中单词总数（长度）\n",
        "\n",
        "  for term in np.unique(tokensized_doc):   # 循环 for : get word (every unique) in D 获取文中每个词\n",
        "    tf = counter[term]/total_num_words      #calculate term(word) frequency(time occurence) 计算词频  [tfij]\n",
        "    df = DF[term]       #calculate D frequecy 计算文件频率\n",
        "    idf = math.log(N/(df+1))+1  #calculate inverse (turn transform 反向 back?) D times appear [dfi]  计算反向文档频率\n",
        "    #少一步 你只写了分步没有算加和\n",
        "    tf_idf[doc_id,term] = tf*idf  #calculate TF-IDF\n",
        "  doc_id += 1\n",
        "\n",
        "tf_idf\n"
      ],
      "execution_count": 234,
      "outputs": [
        {
          "output_type": "execute_result",
          "data": {
            "text/plain": [
              "{(0, 'caren'): 0.19817829729727854,\n",
              " (0, 'hates'): 0.09908914864863927,\n",
              " (0, 'loves'): 0.16666666666666666,\n",
              " (0, 'nlp'): 0.19817829729727854,\n",
              " (1, 'caren'): 0.19817829729727854,\n",
              " (1, 'hates'): 0.19817829729727854,\n",
              " (1, 'nlp'): 0.19817829729727854}"
            ]
          },
          "metadata": {
            "tags": []
          },
          "execution_count": 234
        }
      ]
    },
    {
      "cell_type": "code",
      "metadata": {
        "colab": {
          "base_uri": "https://localhost:8080/",
          "height": 195
        },
        "id": "gYgvt8X06xMp",
        "outputId": "9f38b52b-067a-42d6-e6f4-2eba0310399f"
      },
      "source": [
        "\n",
        "'''\n",
        "导入包\n",
        "储存TFIDF值【给个空间】\n",
        "N：知道文长度。log的分子\n",
        "doc_id 我猜是不是找第几个文档\n",
        "然后开始做循环了\n",
        "先从内部开看。\n",
        "进行的是，TF-IDF频率的计算。 \n",
        "  1得到每个词。\n",
        "  然后算每个词的词频。每个文档的频率。然后 算反向文档频率\n",
        "  上面的准备都是为了算TFIDF 这个词有多重要  （TFIDF： 术语频率反文档频率 ----单词或者语料库的重要性）\n",
        "  然后每次结束文档数加一？ 哦哦，原来是一个文档算完算另一个\n",
        "\n",
        "然后外部循环，每次都循环这个看看这个词有多重要。\n",
        "是在 外循环获得标记文当中进行的  【感觉更像是做准备工作】\n",
        "准备计算器。用于内部计数。准备文档总长度。用于内部算tf  （词几个文档出现--次数）[one-hot]  [词的数量➗总次数]\n",
        "DF是术语t在文档集N中的出现次数。;;;df(t) = t在文件中的出现次数。\n",
        "\n",
        "\n",
        "\n",
        "#不加doc_id = doc_id +1   没有第二个文档\n",
        "{(0, 'caren'): 0.19817829729727854,\n",
        " (0, 'hates'): 0.19817829729727854,\n",
        " (0, 'loves'): 0.16666666666666666,\n",
        " (0, 'nlp'): 0.19817829729727854}\n",
        "\n",
        "\n",
        " #不加 doc_id = 0\n",
        " 结果每次都会增加 2-4`````次数会增加，但频率不会增加   结果表示这个词有多重要  （频率）\n",
        " {(2, 'caren'): 0.19817829729727854, \n",
        " (2, 'hates'): 0.09908914864863927,\n",
        " (2, 'loves'): 0.16666666666666666,\n",
        " (2, 'nlp'): 0.19817829729727854,\n",
        " (3, 'caren'): 0.19817829729727854,\n",
        " (3, 'hates'): 0.19817829729727854,\n",
        " (3, 'nlp'): 0.19817829729727854\n",
        "\n",
        "'''"
      ],
      "execution_count": 228,
      "outputs": [
        {
          "output_type": "execute_result",
          "data": {
            "application/vnd.google.colaboratory.intrinsic+json": {
              "type": "string"
            },
            "text/plain": [
              "\"\\n导入包\\n储存TFIDF值【给个空间】\\nN：知道文长度。log的分子\\ndoc_id 我猜是不是找第几个文档\\n然后开始做循环了\\n先从内部开看。\\n进行的是，TF-IDF频率的计算。 \\n  1得到每个词。\\n  然后算每个词的词频。每个文档的频率。然后 算反向文档频率\\n  上面的准备都是为了算TFIDF 这个词有多重要  （TFIDF： 术语频率反文档频率 ----单词或者语料库的重要性）\\n  然后每次结束文档数加一？ 哦哦，原来是一个文档算完算另一个\\n\\n然后外部循环，每次都循环这个看看这个词有多重要。\\n是在 外循环获得标记文当中进行的  【感觉更像是做准备工作】\\n准备计算器。用于内部计数。准备文档总长度。用于内部算tf  （词几个文档出现--次数）[one-hot]  [词的数量➗总次数]\\nDF是术语t在文档集N中的出现次数。;;;df(t) = t在文件中的出现次数。   \\n\\n#不加doc_id = doc_id +1   没有第二个文档\\n{(0, 'caren'): 0.19817829729727854,\\n (0, 'hates'): 0.19817829729727854,\\n (0, 'loves'): 0.16666666666666666,\\n (0, 'nlp'): 0.19817829729727854}\\n\\n\\n #不加 doc_id = 0\\n 结果每次都会增加 2-4`````次数会增加，但频率不会增加   结果表示这个词有多重要  （频率）\\n {(2, 'caren'): 0.19817829729727854, \\n (2, 'hates'): 0.09908914864863927,\\n (2, 'loves'): 0.16666666666666666,\\n (2, 'nlp'): 0.19817829729727854,\\n (3, 'caren'): 0.19817829729727854,\\n (3, 'hates'): 0.19817829729727854,\\n (3, 'nlp'): 0.19817829729727854\\n\\n\""
            ]
          },
          "metadata": {
            "tags": []
          },
          "execution_count": 228
        }
      ]
    },
    {
      "cell_type": "code",
      "metadata": {
        "colab": {
          "base_uri": "https://localhost:8080/"
        },
        "id": "0NAZAbvu13U0",
        "outputId": "17054ff8-b368-416d-9640-4e9c11bff801"
      },
      "source": [
        "\n",
        "tf_idf"
      ],
      "execution_count": 166,
      "outputs": [
        {
          "output_type": "execute_result",
          "data": {
            "text/plain": [
              "{}"
            ]
          },
          "metadata": {
            "tags": []
          },
          "execution_count": 166
        }
      ]
    },
    {
      "cell_type": "code",
      "metadata": {
        "colab": {
          "base_uri": "https://localhost:8080/"
        },
        "id": "ptunzzD514U6",
        "outputId": "2eed6fcd-53fd-4902-cc3f-caf6f355c824"
      },
      "source": [
        "N"
      ],
      "execution_count": 168,
      "outputs": [
        {
          "output_type": "execute_result",
          "data": {
            "text/plain": [
              "2"
            ]
          },
          "metadata": {
            "tags": []
          },
          "execution_count": 168
        }
      ]
    },
    {
      "cell_type": "code",
      "metadata": {
        "colab": {
          "base_uri": "https://localhost:8080/"
        },
        "id": "RJMNf6Vn2ApV",
        "outputId": "558e54b6-c52e-4deb-eff0-bb5ea3b487e4"
      },
      "source": [
        "doc_id"
      ],
      "execution_count": 170,
      "outputs": [
        {
          "output_type": "execute_result",
          "data": {
            "text/plain": [
              "0"
            ]
          },
          "metadata": {
            "tags": []
          },
          "execution_count": 170
        }
      ]
    },
    {
      "cell_type": "code",
      "metadata": {
        "colab": {
          "base_uri": "https://localhost:8080/"
        },
        "id": "ZXj5gW3Y2HmJ",
        "outputId": "1f071a02-c864-4f32-8645-08ad07c27181"
      },
      "source": [
        "tf"
      ],
      "execution_count": 179,
      "outputs": [
        {
          "output_type": "execute_result",
          "data": {
            "text/plain": [
              "0.3333333333333333"
            ]
          },
          "metadata": {
            "tags": []
          },
          "execution_count": 179
        }
      ]
    },
    {
      "cell_type": "code",
      "metadata": {
        "colab": {
          "base_uri": "https://localhost:8080/"
        },
        "id": "u4yq9msy4J0q",
        "outputId": "5e5beaab-f47e-4265-bf8f-28b1d65870d0"
      },
      "source": [
        "df"
      ],
      "execution_count": 180,
      "outputs": [
        {
          "output_type": "execute_result",
          "data": {
            "text/plain": [
              "2"
            ]
          },
          "metadata": {
            "tags": []
          },
          "execution_count": 180
        }
      ]
    },
    {
      "cell_type": "code",
      "metadata": {
        "colab": {
          "base_uri": "https://localhost:8080/"
        },
        "id": "IkAkPOmI4LAt",
        "outputId": "0d81c2b3-a1fc-4cc2-ccf5-2320fda8ca98"
      },
      "source": [
        "idf"
      ],
      "execution_count": 185,
      "outputs": [
        {
          "output_type": "execute_result",
          "data": {
            "text/plain": [
              "0.5945348918918356"
            ]
          },
          "metadata": {
            "tags": []
          },
          "execution_count": 185
        }
      ]
    },
    {
      "cell_type": "code",
      "metadata": {
        "colab": {
          "base_uri": "https://localhost:8080/"
        },
        "id": "SFNHsCGM5GD8",
        "outputId": "fb5362fe-6c39-40a6-f92c-7f7789aada36"
      },
      "source": [
        "doc_id"
      ],
      "execution_count": 186,
      "outputs": [
        {
          "output_type": "execute_result",
          "data": {
            "text/plain": [
              "2"
            ]
          },
          "metadata": {
            "tags": []
          },
          "execution_count": 186
        }
      ]
    },
    {
      "cell_type": "code",
      "metadata": {
        "colab": {
          "base_uri": "https://localhost:8080/"
        },
        "id": "PH89UPzB5JmY",
        "outputId": "fe8389c8-abff-4002-e6c5-ba8ce2da1fe0"
      },
      "source": [
        "\n",
        "total_num_words"
      ],
      "execution_count": 225,
      "outputs": [
        {
          "output_type": "execute_result",
          "data": {
            "text/plain": [
              "3"
            ]
          },
          "metadata": {
            "tags": []
          },
          "execution_count": 225
        }
      ]
    },
    {
      "cell_type": "markdown",
      "metadata": {
        "id": "GZ-I8OdE_Bsh"
      },
      "source": [
        "#**total_num_words**  这里的总词数为什么是3？？？【不是有两个文档吗？】  怎么理解df和tf\n"
      ]
    },
    {
      "cell_type": "markdown",
      "metadata": {
        "id": "sjh9qXmEA1XF"
      },
      "source": [
        "**sort importance---descending order(discrease)**按重要性排序（降序）"
      ]
    },
    {
      "cell_type": "code",
      "metadata": {
        "colab": {
          "base_uri": "https://localhost:8080/"
        },
        "id": "QzKiXlBrBECf",
        "outputId": "02e13a17-7c7b-4509-d224-2ee099b6fa82"
      },
      "source": [
        "import numpy as np\n",
        "\n",
        "dict_exmaple = tf_idf  # sort dictionary based on values  (根据值对字典排序)\n",
        "sorted_dict = sorted(dict_exmaple.items(), key= lambda x:x[1], reverse =True)  #sorted(iterable, *, key=None, reverse=False) reverse (back 反面)\n",
        "#Exmaple 图表\n",
        "sorted_dict"
      ],
      "execution_count": 241,
      "outputs": [
        {
          "output_type": "execute_result",
          "data": {
            "text/plain": [
              "[((0, 'caren'), 0.19817829729727854),\n",
              " ((0, 'nlp'), 0.19817829729727854),\n",
              " ((1, 'caren'), 0.19817829729727854),\n",
              " ((1, 'hates'), 0.19817829729727854),\n",
              " ((1, 'nlp'), 0.19817829729727854),\n",
              " ((0, 'loves'), 0.16666666666666666),\n",
              " ((0, 'hates'), 0.09908914864863927)]"
            ]
          },
          "metadata": {
            "tags": []
          },
          "execution_count": 241
        }
      ]
    },
    {
      "cell_type": "code",
      "metadata": {
        "id": "khhACAQCBm6l"
      },
      "source": [
        "'''\n",
        "\n",
        "corpus = [\n",
        "    'Caren loves the NLP. The NLP hates Caren', #document 1\n",
        "    'Caren hates the NLP' #document 2\n",
        "]\n",
        "\n",
        "只有转入tfidf\n",
        "[((0, 'caren'), 0.19817829729727854),\n",
        " ((0, 'hates'), 0.09908914864863927),\n",
        " ((0, 'loves'), 0.16666666666666666),\n",
        " ((0, 'nlp'), 0.19817829729727854),\n",
        " ((1, 'caren'), 0.19817829729727854),\n",
        " ((1, 'hates'), 0.19817829729727854),\n",
        " ((1, 'nlp'), 0.19817829729727854)]\n",
        " '''\n",
        " '''\n",
        " 加上key= lambda x:x[1]   频率出现了变化\n",
        " #a.sort(key=lambda x: x[1])表示它根据第二个元素排序   应该就是根据第二个元素排序\n",
        " 为对前面的对象中的第二维数据（即value）的值进行排序\n",
        " key=lambda 变量：变量[维数] 。维数可以按照自己的需要进行设置。\n",
        "\n",
        " https://blog.csdn.net/weixin_43838785/article/details/100748938\n",
        "\n",
        "【升序了】\n",
        " [((0, 'hates'), 0.09908914864863927),\n",
        " ((0, 'loves'), 0.16666666666666666),\n",
        " ((0, 'caren'), 0.19817829729727854),\n",
        " ((0, 'nlp'), 0.19817829729727854),\n",
        " ((1, 'caren'), 0.19817829729727854),\n",
        " ((1, 'hates'), 0.19817829729727854),\n",
        " ((1, 'nlp'), 0.19817829729727854)]\n",
        "\n",
        " '''\n",
        " '''\n",
        " 只有reverse （back)\n",
        " [((1, 'nlp'), 0.19817829729727854),\n",
        " ((1, 'hates'), 0.19817829729727854),\n",
        " ((1, 'caren'), 0.19817829729727854),\n",
        " ((0, 'nlp'), 0.19817829729727854),\n",
        " ((0, 'loves'), 0.16666666666666666),\n",
        " ((0, 'hates'), 0.09908914864863927),\n",
        " ((0, 'caren'), 0.19817829729727854)]\n"
      ],
      "execution_count": null,
      "outputs": []
    },
    {
      "cell_type": "markdown",
      "metadata": {
        "id": "gPflPAxlECBl"
      },
      "source": [
        "任重而道远+ 总结一下问题。"
      ]
    }
  ]
}