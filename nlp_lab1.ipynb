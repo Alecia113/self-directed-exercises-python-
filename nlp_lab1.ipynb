{
  "nbformat": 4,
  "nbformat_minor": 0,
  "metadata": {
    "colab": {
      "name": "nlp.lab1.ipynb",
      "provenance": [],
      "collapsed_sections": [],
      "authorship_tag": "ABX9TyMmnvtcDKhIWwr0sL3/NV49",
      "include_colab_link": true
    },
    "kernelspec": {
      "name": "python3",
      "display_name": "Python 3"
    }
  },
  "cells": [
    {
      "cell_type": "markdown",
      "metadata": {
        "id": "view-in-github",
        "colab_type": "text"
      },
      "source": [
        "<a href=\"https://colab.research.google.com/github/Alecia113/self-directed-exercises-python-/blob/NLP/nlp_lab1.ipynb\" target=\"_parent\"><img src=\"https://colab.research.google.com/assets/colab-badge.svg\" alt=\"Open In Colab\"/></a>"
      ]
    },
    {
      "cell_type": "markdown",
      "metadata": {
        "id": "qjvhbt84fF_w"
      },
      "source": [
        "# **PyTorch**"
      ]
    },
    {
      "cell_type": "markdown",
      "metadata": {
        "id": "-E1DTgW9V-f_"
      },
      "source": [
        "**Tensor张量**"
      ]
    },
    {
      "cell_type": "code",
      "metadata": {
        "id": "ejx4WI1SSd8l"
      },
      "source": [
        "#Tensor 张量 computation graph + automatic differentiation \\计算图和自动微分\n",
        "'''\n",
        "nerual networks\n",
        "  nd-tensor instance \\调用 nd——》n dimensional\n",
        "attributes\n",
        "  1:rank 等级 dimensions numbers(维数):rank-2 tensor == 2d-tensor\n",
        "  2：Axes 轴 specific demensions(特定尺寸) Axes == dimensions(number) 轴数等于尺寸数（维度数）\n",
        "              axes length == how number elements running along this axis (轴长＝沿该轴延伸的元素数)\n",
        "  3： shape 形状 axis length (formed) [由每个轴的长度形成]\n",
        "              eg:shape(1,2)== 2d-tensor :first axis = 1(length) second axis = 2 [2d张量，第一轴长度1，第二轴长度2]\n",
        "              scalar(标量); vector(向量) ;matrix（矩阵）;cube（立方骰子）\n",
        " 【代码】key properties 关键属性\n",
        "    torch.dtype: torch.float32（数据类型）\n",
        "    torch.device:CPU/CUDA(GPU)\\(一个对象在其上；或将要分配的torch.Tensor的设备【火炬张量】)\n",
        "    torch.layout: memory layout (torch.Tensor 内存布局对象)\n",
        "  \n",
        "              '''\n"
      ],
      "execution_count": null,
      "outputs": []
    },
    {
      "cell_type": "markdown",
      "metadata": {
        "id": "uF-CKHn2SsvI"
      },
      "source": [
        "**Computational graph and automatic differentiation 计算图和自动微分**"
      ]
    },
    {
      "cell_type": "code",
      "metadata": {
        "id": "2OlW07D3WL6c"
      },
      "source": [
        "'''\n",
        "  （有向无环 directed acyclic) 计算图 computational graphs to draw some doing functional about tensors in neural networks\n",
        "  PyTorch使用（有向无环）计算图来绘制应用于神经网络内部张量的功能操作，从而计算出用于网络优化的导数\n",
        "   use in net optimization : by  calculate derivatives \n",
        "In graphs (🐰)\n",
        "  nodes == tensors\n",
        "  eages == functions: + * [ output tensors from input tensors(入到出函数 求和×)]\n",
        "  computational graph == dynamic computational graph\n",
        "  当在神经网络的前向传递过程中创建操作时，PyTorch会即时生成计算图，称为动态计算图\n",
        "  '''"
      ],
      "execution_count": null,
      "outputs": []
    },
    {
      "cell_type": "markdown",
      "metadata": {
        "id": "9reBdCVKX45k"
      },
      "source": [
        "# **programming**"
      ]
    },
    {
      "cell_type": "markdown",
      "metadata": {
        "id": "hJBatq9rX8uX"
      },
      "source": [
        "**importing PyTorch library**[beginning]\n"
      ]
    },
    {
      "cell_type": "code",
      "metadata": {
        "colab": {
          "base_uri": "https://localhost:8080/"
        },
        "id": "g5DdimlFYBpH",
        "outputId": "808d1fe9-af55-42c3-f20c-a06e6e7dd40c"
      },
      "source": [
        "import torch \n",
        "print(torch.__version__)"
      ],
      "execution_count": 1,
      "outputs": [
        {
          "output_type": "stream",
          "text": [
            "1.7.1+cu101\n"
          ],
          "name": "stdout"
        }
      ]
    },
    {
      "cell_type": "markdown",
      "metadata": {
        "id": "f3J4U18JYQWM"
      },
      "source": [
        "**create tensors ~~numerical data (数值数据）**"
      ]
    },
    {
      "cell_type": "markdown",
      "metadata": {
        "id": "hWi1655BaPj1"
      },
      "source": [
        "数scalar"
      ]
    },
    {
      "cell_type": "code",
      "metadata": {
        "colab": {
          "base_uri": "https://localhost:8080/"
        },
        "id": "Oe8GwttbYyQo",
        "outputId": "d16ad599-e4fc-4470-bff4-a78f300e0d7c"
      },
      "source": [
        "import numpy as np\n",
        "\n",
        "data = torch.tensor(1)# scalar (0 rank)[0demensions]\n",
        "print(data.shape)"
      ],
      "execution_count": 4,
      "outputs": [
        {
          "output_type": "stream",
          "text": [
            "torch.Size([])\n"
          ],
          "name": "stdout"
        }
      ]
    },
    {
      "cell_type": "code",
      "metadata": {
        "colab": {
          "base_uri": "https://localhost:8080/"
        },
        "id": "x8iVR4i3a8ym",
        "outputId": "80a154b5-002f-426e-cd6d-6f88029eaa4e"
      },
      "source": [
        "data#tensor(1)"
      ],
      "execution_count": 5,
      "outputs": [
        {
          "output_type": "execute_result",
          "data": {
            "text/plain": [
              "tensor(1)"
            ]
          },
          "metadata": {
            "tags": []
          },
          "execution_count": 5
        }
      ]
    },
    {
      "cell_type": "markdown",
      "metadata": {
        "id": "hGvqntinaTEK"
      },
      "source": [
        "向量"
      ]
    },
    {
      "cell_type": "code",
      "metadata": {
        "colab": {
          "base_uri": "https://localhost:8080/"
        },
        "id": "A7MEig7yZgQu",
        "outputId": "fe313e30-0fb0-40b5-f895-cc15a4eb31a3"
      },
      "source": [
        "data = np.array([1,2]) # Vector (1 rank~~~1 demensions)\n",
        "data = torch.Tensor(data)\n",
        "print(data.shape)"
      ],
      "execution_count": 6,
      "outputs": [
        {
          "output_type": "stream",
          "text": [
            "torch.Size([2])\n"
          ],
          "name": "stdout"
        }
      ]
    },
    {
      "cell_type": "code",
      "metadata": {
        "colab": {
          "base_uri": "https://localhost:8080/"
        },
        "id": "cCYEBqkUa0_Q",
        "outputId": "b25d5722-12b7-4ab0-aca5-3792760c47fd"
      },
      "source": [
        "data #tensor([1., 2.])"
      ],
      "execution_count": 7,
      "outputs": [
        {
          "output_type": "execute_result",
          "data": {
            "text/plain": [
              "tensor([1., 2.])"
            ]
          },
          "metadata": {
            "tags": []
          },
          "execution_count": 7
        }
      ]
    },
    {
      "cell_type": "markdown",
      "metadata": {
        "id": "G7jm5pDMaU1O"
      },
      "source": [
        "Tensor he tensor 测试"
      ]
    },
    {
      "cell_type": "code",
      "metadata": {
        "colab": {
          "base_uri": "https://localhost:8080/"
        },
        "id": "zLPBuWysZ45i",
        "outputId": "1d172d58-f1c2-44d0-a304-04a4e8a039b8"
      },
      "source": [
        "data = np.array([1,2])\n",
        "data = torch.tensor(data)#大小写\n",
        "print(data.shape)"
      ],
      "execution_count": 8,
      "outputs": [
        {
          "output_type": "stream",
          "text": [
            "torch.Size([2])\n"
          ],
          "name": "stdout"
        }
      ]
    },
    {
      "cell_type": "code",
      "metadata": {
        "colab": {
          "base_uri": "https://localhost:8080/"
        },
        "id": "KUuPIBPwaveG",
        "outputId": "be185bf2-47fa-402f-feb4-655512f6da7c"
      },
      "source": [
        "data#tensor([1, 2])"
      ],
      "execution_count": 9,
      "outputs": [
        {
          "output_type": "execute_result",
          "data": {
            "text/plain": [
              "tensor([1, 2])"
            ]
          },
          "metadata": {
            "tags": []
          },
          "execution_count": 9
        }
      ]
    },
    {
      "cell_type": "markdown",
      "metadata": {
        "id": "VpN9wudoaL2p"
      },
      "source": [
        "矩阵 matrx"
      ]
    },
    {
      "cell_type": "code",
      "metadata": {
        "colab": {
          "base_uri": "https://localhost:8080/"
        },
        "id": "HCFKMutmadi9",
        "outputId": "9d1166b4-e5c2-4989-ab21-89cf3058a43b"
      },
      "source": [
        "data = np.ones((2,2,))# matrix (2rank) 2D 注意括号\n",
        "data = torch.Tensor(data) #大写\n",
        "print(data.shape)"
      ],
      "execution_count": 10,
      "outputs": [
        {
          "output_type": "stream",
          "text": [
            "torch.Size([2, 2])\n"
          ],
          "name": "stdout"
        }
      ]
    },
    {
      "cell_type": "code",
      "metadata": {
        "colab": {
          "base_uri": "https://localhost:8080/"
        },
        "id": "QD8puf23atsD",
        "outputId": "c4a9896a-fc84-4e22-810f-296b189b6a6c"
      },
      "source": [
        "data\n",
        "'''tensor([[1., 1.],\n",
        "          [1., 1.]])\n",
        "        '''"
      ],
      "execution_count": 11,
      "outputs": [
        {
          "output_type": "execute_result",
          "data": {
            "text/plain": [
              "tensor([[1., 1.],\n",
              "        [1., 1.]])"
            ]
          },
          "metadata": {
            "tags": []
          },
          "execution_count": 11
        }
      ]
    },
    {
      "cell_type": "markdown",
      "metadata": {
        "id": "c7a5z-OBbNJ3"
      },
      "source": [
        "块：cube"
      ]
    },
    {
      "cell_type": "code",
      "metadata": {
        "colab": {
          "base_uri": "https://localhost:8080/"
        },
        "id": "De60wuyjbQ0I",
        "outputId": "855a4680-4aa7-4fc6-a9ee-dfc6c5af1797"
      },
      "source": [
        "data = np.ones((2,2,2))# Cube (3 rank = 3D 括号)\n",
        "data = torch.Tensor(data)#还得让张量跑一下\n",
        "print(data.shape)"
      ],
      "execution_count": 13,
      "outputs": [
        {
          "output_type": "stream",
          "text": [
            "torch.Size([2, 2, 2])\n"
          ],
          "name": "stdout"
        }
      ]
    },
    {
      "cell_type": "code",
      "metadata": {
        "colab": {
          "base_uri": "https://localhost:8080/"
        },
        "id": "H7CWx6UIblm7",
        "outputId": "69298ed3-8027-40a5-c60c-b2d25bfecce1"
      },
      "source": [
        "data\n",
        "'''\n",
        "tensor([[[1., 1.],\n",
        "         [1., 1.]],\n",
        "\n",
        "        [[1., 1.],\n",
        "         [1., 1.]]])\n",
        "         '''"
      ],
      "execution_count": 14,
      "outputs": [
        {
          "output_type": "execute_result",
          "data": {
            "text/plain": [
              "tensor([[[1., 1.],\n",
              "         [1., 1.]],\n",
              "\n",
              "        [[1., 1.],\n",
              "         [1., 1.]]])"
            ]
          },
          "metadata": {
            "tags": []
          },
          "execution_count": 14
        }
      ]
    },
    {
      "cell_type": "markdown",
      "metadata": {
        "id": "9Wz5_eU5bqGN"
      },
      "source": [
        "块向量"
      ]
    },
    {
      "cell_type": "code",
      "metadata": {
        "colab": {
          "base_uri": "https://localhost:8080/"
        },
        "id": "dt01Cz4_bwcX",
        "outputId": "76a33eb7-f020-4a48-d264-a735075ecfa5"
      },
      "source": [
        "data = np.ones((2,2,2,2,))#都是one  vector of cubes  4rank 4d\n",
        "data = torch.Tensor(data)\n",
        "print(data.shape)"
      ],
      "execution_count": 16,
      "outputs": [
        {
          "output_type": "stream",
          "text": [
            "torch.Size([2, 2, 2, 2])\n"
          ],
          "name": "stdout"
        }
      ]
    },
    {
      "cell_type": "code",
      "metadata": {
        "colab": {
          "base_uri": "https://localhost:8080/"
        },
        "id": "dqC4y9qvb_lm",
        "outputId": "1c406008-a0ae-4a06-c83d-fdeb45d20a7b"
      },
      "source": [
        "data #有点像国王下棋盘那种feel\n",
        "'''\n",
        "tensor([[[[1., 1.],\n",
        "          [1., 1.]],\n",
        "\n",
        "         [[1., 1.],\n",
        "          [1., 1.]]],\n",
        "\n",
        "\n",
        "        [[[1., 1.],\n",
        "          [1., 1.]],\n",
        "\n",
        "         [[1., 1.],\n",
        "          [1., 1.]]]])\n",
        "          '''"
      ],
      "execution_count": 17,
      "outputs": [
        {
          "output_type": "execute_result",
          "data": {
            "text/plain": [
              "tensor([[[[1., 1.],\n",
              "          [1., 1.]],\n",
              "\n",
              "         [[1., 1.],\n",
              "          [1., 1.]]],\n",
              "\n",
              "\n",
              "        [[[1., 1.],\n",
              "          [1., 1.]],\n",
              "\n",
              "         [[1., 1.],\n",
              "          [1., 1.]]]])"
            ]
          },
          "metadata": {
            "tags": []
          },
          "execution_count": 17
        }
      ]
    },
    {
      "cell_type": "code",
      "metadata": {
        "id": "KYv_QirCcOFQ"
      },
      "source": [
        "#注意1：大小写的t、、2：T: constructor ( bulid function)   t: factory function(construct+return to caller)\n",
        "'''\n",
        "t: 它不仅构造了torch.Tensor 还反馈了他们给调用者\n",
        "T： can return empty tensor don't use input special data but t : must input data\n",
        "\n",
        "'''"
      ],
      "execution_count": null,
      "outputs": []
    },
    {
      "cell_type": "code",
      "metadata": {
        "colab": {
          "base_uri": "https://localhost:8080/"
        },
        "id": "QVQLA3qbdk-H",
        "outputId": "136ff964-9d6b-4100-8c46-2798c805fd9e"
      },
      "source": [
        "data = torch.Tensor()#一个数就不需要ones了大于3都需要2 是array\n",
        "print(data)"
      ],
      "execution_count": 21,
      "outputs": [
        {
          "output_type": "stream",
          "text": [
            "tensor([])\n"
          ],
          "name": "stdout"
        }
      ]
    },
    {
      "cell_type": "code",
      "metadata": {
        "id": "IhEDlBa4eEl6"
      },
      "source": [
        "'''data = torch.tensor()\n",
        "print(data)\n",
        "'''\n",
        "#TypeError: tensor() missing 1 required positional arguments: \"data\""
      ],
      "execution_count": null,
      "outputs": []
    },
    {
      "cell_type": "markdown",
      "metadata": {
        "id": "L65HJiZ-ee2p"
      },
      "source": [
        "数据类型"
      ]
    },
    {
      "cell_type": "code",
      "metadata": {
        "id": "fGqF_KV-ehu_"
      },
      "source": [
        "'''\n",
        "  torch.Tensor default dtype \"float32\" \n",
        "  torch.tensor() dtype == input data dtype #传入的数据（类型推断）\n",
        "  example\n",
        "  '''"
      ],
      "execution_count": null,
      "outputs": []
    },
    {
      "cell_type": "code",
      "metadata": {
        "id": "-BGL0Frke3SL"
      },
      "source": [
        ""
      ],
      "execution_count": null,
      "outputs": []
    }
  ]
}