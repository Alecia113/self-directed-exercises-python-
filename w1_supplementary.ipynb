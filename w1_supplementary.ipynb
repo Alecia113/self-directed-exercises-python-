{
  "nbformat": 4,
  "nbformat_minor": 0,
  "metadata": {
    "colab": {
      "name": "w1 supplementary.ipynb",
      "provenance": [],
      "collapsed_sections": [],
      "authorship_tag": "ABX9TyO/SAGuee/GlqfyobxIm38D",
      "include_colab_link": true
    },
    "kernelspec": {
      "name": "python3",
      "display_name": "Python 3"
    }
  },
  "cells": [
    {
      "cell_type": "markdown",
      "metadata": {
        "id": "view-in-github",
        "colab_type": "text"
      },
      "source": [
        "<a href=\"https://colab.research.google.com/github/Alecia113/self-directed-exercises-python-/blob/main/w1_supplementary.ipynb\" target=\"_parent\"><img src=\"https://colab.research.google.com/assets/colab-badge.svg\" alt=\"Open In Colab\"/></a>"
      ]
    },
    {
      "cell_type": "code",
      "metadata": {
        "id": "vS3FC5fAdXBS",
        "colab": {
          "base_uri": "https://localhost:8080/"
        },
        "outputId": "15409f48-a1df-4c51-f1c4-0322b97c4a81"
      },
      "source": [
        "!pip install wikipedia\n",
        "import wikipedia"
      ],
      "execution_count": 1,
      "outputs": [
        {
          "output_type": "stream",
          "text": [
            "Requirement already satisfied: wikipedia in /usr/local/lib/python3.7/dist-packages (1.4.0)\n",
            "Requirement already satisfied: beautifulsoup4 in /usr/local/lib/python3.7/dist-packages (from wikipedia) (4.6.3)\n",
            "Requirement already satisfied: requests<3.0.0,>=2.0.0 in /usr/local/lib/python3.7/dist-packages (from wikipedia) (2.23.0)\n",
            "Requirement already satisfied: urllib3!=1.25.0,!=1.25.1,<1.26,>=1.21.1 in /usr/local/lib/python3.7/dist-packages (from requests<3.0.0,>=2.0.0->wikipedia) (1.24.3)\n",
            "Requirement already satisfied: idna<3,>=2.5 in /usr/local/lib/python3.7/dist-packages (from requests<3.0.0,>=2.0.0->wikipedia) (2.10)\n",
            "Requirement already satisfied: certifi>=2017.4.17 in /usr/local/lib/python3.7/dist-packages (from requests<3.0.0,>=2.0.0->wikipedia) (2020.12.5)\n",
            "Requirement already satisfied: chardet<4,>=3.0.2 in /usr/local/lib/python3.7/dist-packages (from requests<3.0.0,>=2.0.0->wikipedia) (3.0.4)\n"
          ],
          "name": "stdout"
        }
      ]
    },
    {
      "cell_type": "code",
      "metadata": {
        "id": "ZvwTe2m19Kwz"
      },
      "source": [
        "tokens = [\"Long_COVID\", \"Coronavirus_disease_2019\",\"COVID-19_pandemic\"]\n",
        "docs = [wikipedia.page(token).content for token in tokens]"
      ],
      "execution_count": 2,
      "outputs": []
    },
    {
      "cell_type": "code",
      "metadata": {
        "colab": {
          "base_uri": "https://localhost:8080/"
        },
        "id": "yvdHHDTF9rnb",
        "outputId": "e069e62a-7a34-40bd-cd1f-1d26b733a997"
      },
      "source": [
        "import re\n",
        "import nltk\n",
        "import numpy as np\n",
        "nltk.download('punkt')\n",
        "nltk.download('stopwords')  \n",
        "from nltk.corpus import stopwords as sw\n",
        "from nltk.tokenize import word_tokenize, sent_tokenize\n"
      ],
      "execution_count": 3,
      "outputs": [
        {
          "output_type": "stream",
          "text": [
            "[nltk_data] Downloading package punkt to /root/nltk_data...\n",
            "[nltk_data]   Package punkt is already up-to-date!\n",
            "[nltk_data] Downloading package stopwords to /root/nltk_data...\n",
            "[nltk_data]   Package stopwords is already up-to-date!\n"
          ],
          "name": "stdout"
        }
      ]
    },
    {
      "cell_type": "code",
      "metadata": {
        "id": "SOaY1ize-Nml"
      },
      "source": [
        "#sww = sw.words() + [\"covid19\",\"covid\"]"
      ],
      "execution_count": 4,
      "outputs": []
    },
    {
      "cell_type": "code",
      "metadata": {
        "colab": {
          "base_uri": "https://localhost:8080/"
        },
        "id": "ckrsPHJbAKbr",
        "outputId": "d1ba87c6-d66f-42dd-ea65-7d3b8177054e"
      },
      "source": [
        "from collections import Counter\n",
        "import math\n",
        "import pprint\n",
        "def get_tf_and_idf(corpus, top_n):\n",
        "  #tf_list = {}\n",
        "  #tf_idf = {}\n",
        "\n",
        "  #N = len(new_doc)\n",
        "  new_doc = []\n",
        "  sww = sw.words()\n",
        "\n",
        "  for doc in corpus:\n",
        "\n",
        "\n",
        "      clean_doc = re.sub(r'[^\\w\\s]','',doc)\n",
        "      clean_doc1 = re.sub('COVID19','',clean_doc)  #大小写的问题\n",
        "      clean_doc2 = re.sub('COVID','',clean_doc1)\n",
        " \n",
        "\n",
        "      tokenized_doc = word_tokenize(clean_doc2)\n",
        "      lower_tokens = [t.lower() for t in tokenized_doc]\n",
        "      tokenized_doc = [w for w in lower_tokens if not w in sww]\n",
        "      new_doc.append(tokenized_doc)\n",
        "\n",
        "  #new_doc = [process(corpus[0]), process(corpus[1]), process(corpus[2])] #跟上面表达的一样的意思\n",
        "  #首先，计算DF\n",
        "  DF = {}\n",
        "\n",
        "  for doc in new_doc:\n",
        "    for term in np.unique(doc):\n",
        "\n",
        "      try:\n",
        "        DF[term] += 1\n",
        "      except:\n",
        "        DF[term] = 1\n",
        "  tf_list = {}\n",
        "  tf_idf = {}\n",
        "\n",
        "  N = len(new_doc)\n",
        "        \n",
        "  doc_id = 0\n",
        "\n",
        "  for tokensized_doc in new_doc:\n",
        "    counter = Counter(tokensized_doc)\n",
        "    total_num_words = len(tokensized_doc)\n",
        " \n",
        "\n",
        "    for term in np.unique(tokensized_doc):\n",
        "      tf = counter[term] / total_num_words\n",
        "      tf_list[doc_id,term] = tf\n",
        "      df = DF[term]\n",
        "      idf = math.log(N / (df + 1)) + 1\n",
        "      tf_idf[doc_id, term] = tf * idf\n",
        "    doc_id += 1\n",
        "  \n",
        "\n",
        "  sorted_tf = sorted(tf_list.items(), key = lambda x: x[1], reverse= True)\n",
        "  sorted_tf_idf = sorted(tf_idf.items(), key = lambda x: x[1], reverse=True)  \n",
        "\n",
        "\n",
        "  print(\"tf- top 10 is following: \")\n",
        "  pprint.pprint(sorted_tf[:top_n])\n",
        "  print()\n",
        "  print(\"tf-idf - top 10 is following: \")\n",
        "  pprint.pprint(sorted_tf_idf[:top_n])  \n",
        "\n",
        "get_tf_and_idf(docs,10)"
      ],
      "execution_count": 11,
      "outputs": [
        {
          "output_type": "stream",
          "text": [
            "tf- top 10 is following: \n",
            "[((0, 'symptoms'), 0.028051554207733132),\n",
            " ((0, 'long'), 0.02577710386656558),\n",
            " ((2, '2020'), 0.01448483192128997),\n",
            " ((0, 'people'), 0.01288855193328279),\n",
            " ((0, 'infection'), 0.012130401819560273),\n",
            " ((2, 'cases'), 0.011751844766329598),\n",
            " ((1, 'virus'), 0.011396496002721551),\n",
            " ((0, 'patients'), 0.01061410159211524),\n",
            " ((1, 'people'), 0.010035720360605545),\n",
            " ((0, '2020'), 0.009855951478392721)]\n",
            "\n",
            "tf-idf - top 10 is following: \n",
            "[((0, 'symptoms'), 0.01998162495775899),\n",
            " ((0, 'long'), 0.01836149320442718),\n",
            " ((2, '2020'), 0.01031780545505756),\n",
            " ((0, 'people'), 0.00918074660221359),\n",
            " ((0, 'infection'), 0.00864070268443632),\n",
            " ((2, 'cases'), 0.008371049708820284),\n",
            " ((1, 'virus'), 0.00811792841397018),\n",
            " ((0, 'patients'), 0.00756061484888178),\n",
            " ((1, 'people'), 0.007148623528720008),\n",
            " ((0, '2020'), 0.007020570931104509)]\n"
          ],
          "name": "stdout"
        }
      ]
    },
    {
      "cell_type": "code",
      "metadata": {
        "colab": {
          "base_uri": "https://localhost:8080/"
        },
        "id": "7lMmHJzdJUO1",
        "outputId": "9c22f400-bec7-47df-c673-4b7c036754b4"
      },
      "source": [
        "\n",
        "\n",
        "#function and class\n",
        "def function_name(A,B,C):\n",
        "\n",
        "  # 面对过程编程\n",
        "  # A，B，C 要干什么。\n",
        "  C = A + B\n",
        "  return C\n",
        "\n",
        "  print(A)\n",
        "\n",
        "function_name (1,2,0)\n",
        "#return 会中断的"
      ],
      "execution_count": 14,
      "outputs": [
        {
          "output_type": "execute_result",
          "data": {
            "text/plain": [
              "3"
            ]
          },
          "metadata": {
            "tags": []
          },
          "execution_count": 14
        }
      ]
    },
    {
      "cell_type": "code",
      "metadata": {
        "colab": {
          "base_uri": "https://localhost:8080/"
        },
        "id": "BbZ21c5WNUWY",
        "outputId": "1b625889-f406-4abe-ad9c-34be16fe5e21"
      },
      "source": [
        "\n",
        "#function and class\n",
        "def function_name(A,B,C):\n",
        "\n",
        "  # 面对过程编程\n",
        "  # A，B，C 要干什么。\n",
        "  C = A + B\n",
        "  if C > 2:\n",
        "    return C\n",
        "  else:\n",
        "    print(\"A is\", A)\n",
        "\n",
        " \n",
        "function_name (1,1,0)"
      ],
      "execution_count": 17,
      "outputs": [
        {
          "output_type": "stream",
          "text": [
            "A is 1\n"
          ],
          "name": "stdout"
        }
      ]
    },
    {
      "cell_type": "code",
      "metadata": {
        "id": "ehAYwQDXOmLd"
      },
      "source": [
        "## class 是一个大的类 -> Dog\n",
        "class Dog():\n",
        "  def __init__(self, name, age, color):  # init  #TypeError: __init__() got multiple values for argument 'name' \n",
        "  #因为没有加self\n",
        "    \n",
        "    #特征 - attributes\n",
        "    self.name = name\n",
        "    self.age = age\n",
        "    self.color = color\n",
        "  #def after_one_year(self):\n",
        "  def after_n_year(self, n):\n",
        "    #return \"Next year, the age of\" + self.name + \" is \" + str(self.age + 1) #加好前面\"\" 后不能有，\n",
        "    return \"after \" + str(n) + \" year,the age of \" + self.name + \" is \" + str(self.age + n)\n"
      ],
      "execution_count": 50,
      "outputs": []
    },
    {
      "cell_type": "code",
      "metadata": {
        "id": "dFaCvjOLR9XP"
      },
      "source": [
        "# 创建对象 - create object - 实例化\n",
        "#sklearn\n",
        "#Wangwang = Dog(name = \"Wangwang\", age = 10, color = \"White\")\n",
        "#clf = LinearRegression(A,B)\n",
        "Wangwang = Dog(\"Wangwang\",10,\"White\")"
      ],
      "execution_count": 52,
      "outputs": []
    },
    {
      "cell_type": "code",
      "metadata": {
        "colab": {
          "base_uri": "https://localhost:8080/"
        },
        "id": "GU8RXSAXSXDK",
        "outputId": "33146557-d7ed-49d8-ab65-3304eff4ea12"
      },
      "source": [
        "Wangwang.age"
      ],
      "execution_count": 30,
      "outputs": [
        {
          "output_type": "execute_result",
          "data": {
            "text/plain": [
              "10"
            ]
          },
          "metadata": {
            "tags": []
          },
          "execution_count": 30
        }
      ]
    },
    {
      "cell_type": "code",
      "metadata": {
        "colab": {
          "base_uri": "https://localhost:8080/",
          "height": 35
        },
        "id": "xzdAPKYDTF5_",
        "outputId": "99cdc214-f0bf-420d-faf0-f24b84198cc6"
      },
      "source": [
        "Wangwang.name"
      ],
      "execution_count": 31,
      "outputs": [
        {
          "output_type": "execute_result",
          "data": {
            "application/vnd.google.colaboratory.intrinsic+json": {
              "type": "string"
            },
            "text/plain": [
              "'Wangwang'"
            ]
          },
          "metadata": {
            "tags": []
          },
          "execution_count": 31
        }
      ]
    },
    {
      "cell_type": "code",
      "metadata": {
        "colab": {
          "base_uri": "https://localhost:8080/",
          "height": 35
        },
        "id": "NG_tK8ATTcwG",
        "outputId": "c4a47a69-6ed2-4014-d0b0-bacd1264484c"
      },
      "source": [
        "Wangwang.after_one_year()"
      ],
      "execution_count": 38,
      "outputs": [
        {
          "output_type": "execute_result",
          "data": {
            "application/vnd.google.colaboratory.intrinsic+json": {
              "type": "string"
            },
            "text/plain": [
              "'Next year, the age ofWangwang is 11'"
            ]
          },
          "metadata": {
            "tags": []
          },
          "execution_count": 38
        }
      ]
    },
    {
      "cell_type": "code",
      "metadata": {
        "colab": {
          "base_uri": "https://localhost:8080/",
          "height": 35
        },
        "id": "xsmrQPlfUYj9",
        "outputId": "5ee14a2b-6991-4535-8631-20f2cf72e22f"
      },
      "source": [
        "Wangwang.after_n_year(5)"
      ],
      "execution_count": 53,
      "outputs": [
        {
          "output_type": "execute_result",
          "data": {
            "application/vnd.google.colaboratory.intrinsic+json": {
              "type": "string"
            },
            "text/plain": [
              "'after 5 year,the age of Wangwang is 15'"
            ]
          },
          "metadata": {
            "tags": []
          },
          "execution_count": 53
        }
      ]
    }
  ]
}