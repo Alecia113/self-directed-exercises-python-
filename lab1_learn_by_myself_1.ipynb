{
  "nbformat": 4,
  "nbformat_minor": 0,
  "metadata": {
    "colab": {
      "name": "lab1_learn by myself_1.ipynb",
      "provenance": [],
      "collapsed_sections": [],
      "authorship_tag": "ABX9TyO28d5/pOXtlhG2Mu3oe3v7",
      "include_colab_link": true
    },
    "kernelspec": {
      "name": "python3",
      "display_name": "Python 3"
    }
  },
  "cells": [
    {
      "cell_type": "markdown",
      "metadata": {
        "id": "view-in-github",
        "colab_type": "text"
      },
      "source": [
        "<a href=\"https://colab.research.google.com/github/Alecia113/self-directed-exercises-python-/blob/NLP/lab1_learn_by_myself_1.ipynb\" target=\"_parent\"><img src=\"https://colab.research.google.com/assets/colab-badge.svg\" alt=\"Open In Colab\"/></a>"
      ]
    },
    {
      "cell_type": "markdown",
      "metadata": {
        "id": "gS4MCrEyQLNs"
      },
      "source": [
        "**下载到本地**"
      ]
    },
    {
      "cell_type": "code",
      "metadata": {
        "colab": {
          "base_uri": "https://localhost:8080/",
          "height": 33
        },
        "id": "d9IDe6NOUrqD",
        "outputId": "227b4649-bdd7-4d47-ff1f-0fa5ea66d214"
      },
      "source": [
        "from google.colab import files\n",
        "\n",
        "with open('lab1_learn by myself_1', 'w') as f:  #''中是你这个lab的大名\n",
        "  f.write('some content') #里面写的内容\n",
        "\n",
        "files.download('lab1_learn by myself_1')\n",
        "#/Users/yanyushan/Downloads 文件的位置\n",
        "#写完还得关"
      ],
      "execution_count": null,
      "outputs": [
        {
          "output_type": "display_data",
          "data": {
            "application/javascript": [
              "\n",
              "    async function download(id, filename, size) {\n",
              "      if (!google.colab.kernel.accessAllowed) {\n",
              "        return;\n",
              "      }\n",
              "      const div = document.createElement('div');\n",
              "      const label = document.createElement('label');\n",
              "      label.textContent = `Downloading \"${filename}\": `;\n",
              "      div.appendChild(label);\n",
              "      const progress = document.createElement('progress');\n",
              "      progress.max = size;\n",
              "      div.appendChild(progress);\n",
              "      document.body.appendChild(div);\n",
              "\n",
              "      const buffers = [];\n",
              "      let downloaded = 0;\n",
              "\n",
              "      const channel = await google.colab.kernel.comms.open(id);\n",
              "      // Send a message to notify the kernel that we're ready.\n",
              "      channel.send({})\n",
              "\n",
              "      for await (const message of channel.messages) {\n",
              "        // Send a message to notify the kernel that we're ready.\n",
              "        channel.send({})\n",
              "        if (message.buffers) {\n",
              "          for (const buffer of message.buffers) {\n",
              "            buffers.push(buffer);\n",
              "            downloaded += buffer.byteLength;\n",
              "            progress.value = downloaded;\n",
              "          }\n",
              "        }\n",
              "      }\n",
              "      const blob = new Blob(buffers, {type: 'application/binary'});\n",
              "      const a = document.createElement('a');\n",
              "      a.href = window.URL.createObjectURL(blob);\n",
              "      a.download = filename;\n",
              "      div.appendChild(a);\n",
              "      a.click();\n",
              "      div.remove();\n",
              "    }\n",
              "  "
            ],
            "text/plain": [
              "<IPython.core.display.Javascript object>"
            ]
          },
          "metadata": {
            "tags": []
          }
        },
        {
          "output_type": "display_data",
          "data": {
            "application/javascript": [
              "download(\"download_588582e2-2bfb-4766-a778-c110fb9ec5aa\", \"lab1_learn by myself_1\", 12)"
            ],
            "text/plain": [
              "<IPython.core.display.Javascript object>"
            ]
          },
          "metadata": {
            "tags": []
          }
        }
      ]
    },
    {
      "cell_type": "markdown",
      "metadata": {
        "id": "08W_0PwCVjHV"
      },
      "source": [
        "还有上传"
      ]
    },
    {
      "cell_type": "code",
      "metadata": {
        "id": "ppJFArLsVBaX"
      },
      "source": [
        "#https://colab.research.google.com/notebooks/io.ipynb#scrollTo=vz-jH8T_Uk2c"
      ],
      "execution_count": null,
      "outputs": []
    },
    {
      "cell_type": "code",
      "metadata": {
        "id": "6oOXlA7VVvfc",
        "colab": {
          "base_uri": "https://localhost:8080/",
          "height": 88
        },
        "outputId": "50d9bdb7-227a-49bd-cd39-94d0c7e46328"
      },
      "source": [
        "'''Google云端硬碟API\n",
        "REST API，可让您从应用程序内部利用Google云端硬盘存储空间。\n",
        "记下出现的对话框中显示的Client ID。然后单击以下按钮在同一项目中创建一个API密钥：Quickstart\n",
        "创建API密钥\n",
        "\n",
        "记下出现的对话框中显示的API密钥。\n",
        "Client ID\n",
        "\n",
        "687721558617-d9bfds4im41n36dhena9uvii6djfg7s0.apps.googleusercontent.com\n",
        "Client Secret\n",
        "UK5FMmWuKCN5QflbnV_AMruy\n",
        "\n",
        "\n",
        "转到Google API控制台。\n",
        "选择一个项目。\n",
        "在左侧的边栏中，展开API和身份验证，然后选择API。\n",
        "在显示的可用API列表中，点击Drive API链接，然后点击Enable API。\n",
        "\n",
        "\n",
        "'''\n"
      ],
      "execution_count": null,
      "outputs": [
        {
          "output_type": "execute_result",
          "data": {
            "application/vnd.google.colaboratory.intrinsic+json": {
              "type": "string"
            },
            "text/plain": [
              "'Google云端硬碟API\\nREST API，可让您从应用程序内部利用Google云端硬盘存储空间。\\n记下出现的对话框中显示的Client ID。然后单击以下按钮在同一项目中创建一个API密钥：Quickstart\\n创建API密钥\\n\\n记下出现的对话框中显示的API密钥。\\nClient ID\\n\\n687721558617-d9bfds4im41n36dhena9uvii6djfg7s0.apps.googleusercontent.com\\nClient Secret\\nUK5FMmWuKCN5QflbnV_AMruy\\n\\n\\n转到Google API控制台。\\n选择一个项目。\\n在左侧的边栏中，展开API和身份验证，然后选择API。\\n在显示的可用API列表中，点击Drive API链接，然后点击Enable API。\\n\\n\\n'"
            ]
          },
          "metadata": {
            "tags": []
          },
          "execution_count": 22
        }
      ]
    },
    {
      "cell_type": "code",
      "metadata": {
        "id": "rosrY5ygWuP-",
        "colab": {
          "base_uri": "https://localhost:8080/",
          "height": 160
        },
        "outputId": "4cb40633-2453-4ded-865f-e45137b648ee"
      },
      "source": [
        "'''\n",
        "<!DOCTYPE html>\n",
        "<html>\n",
        "  <head>\n",
        "    <title>Drive API Quickstart</title>\n",
        "    <meta charset=\"utf-8\" />\n",
        "  </head>\n",
        "  <body>\n",
        "    <p>Drive API Quickstart</p>\n",
        "\n",
        "    <!--Add buttons to initiate auth sequence and sign out-->\n",
        "    <button id=\"authorize_button\" style=\"display: none;\">Authorize</button>\n",
        "    <button id=\"signout_button\" style=\"display: none;\">Sign Out</button>\n",
        "\n",
        "    <pre id=\"content\" style=\"white-space: pre-wrap;\"></pre>\n",
        "\n",
        "    <script type=\"text/javascript\">\n",
        "      // Client ID and API key from the Developer Console\n",
        "      var CLIENT_ID = '<687721558617-d9bfds4im41n36dhena9uvii6djfg7s0.apps.googleusercontent.com>';\n",
        "      var API_KEY = '<UK5FMmWuKCN5QflbnV_AMruy>';\n",
        "\n",
        "      // Array of API discovery doc URLs for APIs used by the quickstart\n",
        "      var DISCOVERY_DOCS = [\"https://www.googleapis.com/discovery/v1/apis/drive/v3/rest\"];\n",
        "\n",
        "      // Authorization scopes required by the API; multiple scopes can be\n",
        "      // included, separated by spaces.\n",
        "      var SCOPES = 'https://www.googleapis.com/auth/drive.metadata.readonly';\n",
        "\n",
        "      var authorizeButton = document.getElementById('authorize_button');\n",
        "      var signoutButton = document.getElementById('signout_button');\n",
        "\n",
        "      /**\n",
        "       *  On load, called to load the auth2 library and API client library.\n",
        "       */\n",
        "      function handleClientLoad() {\n",
        "        gapi.load('client:auth2', initClient);\n",
        "      }\n",
        "\n",
        "      /**\n",
        "       *  Initializes the API client library and sets up sign-in state\n",
        "       *  listeners.\n",
        "       */\n",
        "      function initClient() {\n",
        "        gapi.client.init({\n",
        "          apiKey: API_KEY,\n",
        "          clientId: CLIENT_ID,\n",
        "          discoveryDocs: DISCOVERY_DOCS,\n",
        "          scope: SCOPES\n",
        "        }).then(function () {\n",
        "          // Listen for sign-in state changes.\n",
        "          gapi.auth2.getAuthInstance().isSignedIn.listen(updateSigninStatus);\n",
        "\n",
        "          // Handle the initial sign-in state.\n",
        "          updateSigninStatus(gapi.auth2.getAuthInstance().isSignedIn.get());\n",
        "          authorizeButton.onclick = handleAuthClick;\n",
        "          signoutButton.onclick = handleSignoutClick;\n",
        "        }, function(error) {\n",
        "          appendPre(JSON.stringify(error, null, 2));\n",
        "        });\n",
        "      }\n",
        "\n",
        "      /**\n",
        "       *  Called when the signed in status changes, to update the UI\n",
        "       *  appropriately. After a sign-in, the API is called.\n",
        "       */\n",
        "      function updateSigninStatus(isSignedIn) {\n",
        "        if (isSignedIn) {\n",
        "          authorizeButton.style.display = 'none';\n",
        "          signoutButton.style.display = 'block';\n",
        "          listFiles();\n",
        "        } else {\n",
        "          authorizeButton.style.display = 'block';\n",
        "          signoutButton.style.display = 'none';\n",
        "        }\n",
        "      }\n",
        "\n",
        "      /**\n",
        "       *  Sign in the user upon button click.\n",
        "       */\n",
        "      function handleAuthClick(event) {\n",
        "        gapi.auth2.getAuthInstance().signIn();\n",
        "      }\n",
        "\n",
        "      /**\n",
        "       *  Sign out the user upon button click.\n",
        "       */\n",
        "      function handleSignoutClick(event) {\n",
        "        gapi.auth2.getAuthInstance().signOut();\n",
        "      }\n",
        "\n",
        "      /**\n",
        "       * Append a pre element to the body containing the given message\n",
        "       * as its text node. Used to display the results of the API call.\n",
        "       *\n",
        "       * @param {string} message Text to be placed in pre element.\n",
        "       */\n",
        "      function appendPre(message) {\n",
        "        var pre = document.getElementById('content');\n",
        "        var textContent = document.createTextNode(message + '\\n');\n",
        "        pre.appendChild(textContent);\n",
        "      }\n",
        "\n",
        "      /**\n",
        "       * Print files.\n",
        "       */\n",
        "      function listFiles() {\n",
        "        gapi.client.drive.files.list({\n",
        "          'pageSize': 10,\n",
        "          'fields': \"nextPageToken, files(id, name)\"\n",
        "        }).then(function(response) {\n",
        "          appendPre('Files:');\n",
        "          var files = response.result.files;\n",
        "          if (files && files.length > 0) {\n",
        "            for (var i = 0; i < files.length; i++) {\n",
        "              var file = files[i];\n",
        "              appendPre(file.name + ' (' + file.id + ')');\n",
        "            }\n",
        "          } else {\n",
        "            appendPre('No files found.');\n",
        "          }\n",
        "        });\n",
        "      }\n",
        "\n",
        "    </script>\n",
        "\n",
        "    <script async defer src=\"https://apis.google.com/js/api.js\"\n",
        "      onload=\"this.onload=function(){};handleClientLoad()\"\n",
        "      onreadystatechange=\"if (this.readyState === 'complete') this.onload()\">\n",
        "    </script>\n",
        "  </body>\n",
        "</html>\n",
        "'''\n",
        "\n",
        "#研究了两个小时，别告诉我只是个标题。这个事情告诉我们，先看全……"
      ],
      "execution_count": null,
      "outputs": [
        {
          "output_type": "execute_result",
          "data": {
            "application/vnd.google.colaboratory.intrinsic+json": {
              "type": "string"
            },
            "text/plain": [
              "'\\n<!DOCTYPE html>\\n<html>\\n  <head>\\n    <title>Drive API Quickstart</title>\\n    <meta charset=\"utf-8\" />\\n  </head>\\n  <body>\\n    <p>Drive API Quickstart</p>\\n\\n    <!--Add buttons to initiate auth sequence and sign out-->\\n    <button id=\"authorize_button\" style=\"display: none;\">Authorize</button>\\n    <button id=\"signout_button\" style=\"display: none;\">Sign Out</button>\\n\\n    <pre id=\"content\" style=\"white-space: pre-wrap;\"></pre>\\n\\n    <script type=\"text/javascript\">\\n      // Client ID and API key from the Developer Console\\n      var CLIENT_ID = \\'<687721558617-d9bfds4im41n36dhena9uvii6djfg7s0.apps.googleusercontent.com>\\';\\n      var API_KEY = \\'<UK5FMmWuKCN5QflbnV_AMruy>\\';\\n\\n      // Array of API discovery doc URLs for APIs used by the quickstart\\n      var DISCOVERY_DOCS = [\"https://www.googleapis.com/discovery/v1/apis/drive/v3/rest\"];\\n\\n      // Authorization scopes required by the API; multiple scopes can be\\n      // included, separated by spaces.\\n      var SCOPES = \\'https://www.googleapis.com/auth/drive.metadata.readonly\\';\\n\\n      var authorizeButton = document.getElementById(\\'authorize_button\\');\\n      var signoutButton = document.getElementById(\\'signout_button\\');\\n\\n      /**\\n       *  On load, called to load the auth2 library and API client library.\\n       */\\n      function handleClientLoad() {\\n        gapi.load(\\'client:auth2\\', initClient);\\n      }\\n\\n      /**\\n       *  Initializes the API client library and sets up sign-in state\\n       *  listeners.\\n       */\\n      function initClient() {\\n        gapi.client.init({\\n          apiKey: API_KEY,\\n          clientId: CLIENT_ID,\\n          discoveryDocs: DISCOVERY_DOCS,\\n          scope: SCOPES\\n        }).then(function () {\\n          // Listen for sign-in state changes.\\n          gapi.auth2.getAuthInstance().isSignedIn.listen(updateSigninStatus);\\n\\n          // Handle the initial sign-in state.\\n          updateSigninStatus(gapi.auth2.getAuthInstance().isSignedIn.get());\\n          authorizeButton.onclick = handleAuthClick;\\n          signoutButton.onclick = handleSignoutClick;\\n        }, function(error) {\\n          appendPre(JSON.stringify(error, null, 2));\\n        });\\n      }\\n\\n      /**\\n       *  Called when the signed in status changes, to update the UI\\n       *  appropriately. After a sign-in, the API is called.\\n       */\\n      function updateSigninStatus(isSignedIn) {\\n        if (isSignedIn) {\\n          authorizeButton.style.display = \\'none\\';\\n          signoutButton.style.display = \\'block\\';\\n          listFiles();\\n        } else {\\n          authorizeButton.style.display = \\'block\\';\\n          signoutButton.style.display = \\'none\\';\\n        }\\n      }\\n\\n      /**\\n       *  Sign in the user upon button click.\\n       */\\n      function handleAuthClick(event) {\\n        gapi.auth2.getAuthInstance().signIn();\\n      }\\n\\n      /**\\n       *  Sign out the user upon button click.\\n       */\\n      function handleSignoutClick(event) {\\n        gapi.auth2.getAuthInstance().signOut();\\n      }\\n\\n      /**\\n       * Append a pre element to the body containing the given message\\n       * as its text node. Used to display the results of the API call.\\n       *\\n       * @param {string} message Text to be placed in pre element.\\n       */\\n      function appendPre(message) {\\n        var pre = document.getElementById(\\'content\\');\\n        var textContent = document.createTextNode(message + \\'\\n\\');\\n        pre.appendChild(textContent);\\n      }\\n\\n      /**\\n       * Print files.\\n       */\\n      function listFiles() {\\n        gapi.client.drive.files.list({\\n          \\'pageSize\\': 10,\\n          \\'fields\\': \"nextPageToken, files(id, name)\"\\n        }).then(function(response) {\\n          appendPre(\\'Files:\\');\\n          var files = response.result.files;\\n          if (files && files.length > 0) {\\n            for (var i = 0; i < files.length; i++) {\\n              var file = files[i];\\n              appendPre(file.name + \\' (\\' + file.id + \\')\\');\\n            }\\n          } else {\\n            appendPre(\\'No files found.\\');\\n          }\\n        });\\n      }\\n\\n    </script>\\n\\n    <script async defer src=\"https://apis.google.com/js/api.js\"\\n      onload=\"this.onload=function(){};handleClientLoad()\"\\n      onreadystatechange=\"if (this.readyState === \\'complete\\') this.onload()\">\\n    </script>\\n  </body>\\n</html>\\n'"
            ]
          },
          "metadata": {
            "tags": []
          },
          "execution_count": 23
        }
      ]
    },
    {
      "cell_type": "code",
      "metadata": {
        "colab": {
          "base_uri": "https://localhost:8080/"
        },
        "id": "lBrfnbcpjs8Z",
        "outputId": "802c8912-b623-4555-e119-e1fcb5cfa076"
      },
      "source": [
        "#熟悉的导入驱动器\n",
        "from google.colab import drive\n",
        "drive.mount('/content/drive')"
      ],
      "execution_count": null,
      "outputs": [
        {
          "output_type": "stream",
          "text": [
            "Mounted at /content/drive\n"
          ],
          "name": "stdout"
        }
      ]
    },
    {
      "cell_type": "code",
      "metadata": {
        "colab": {
          "base_uri": "https://localhost:8080/"
        },
        "id": "Y-8pEfVhkPH9",
        "outputId": "56d7a436-2e3e-4bea-f5db-9ae66a52af53"
      },
      "source": [
        "with open('/content/drive/My Drive/foo.txt', 'w') as f:\n",
        "  f.write('WOQUNIMEIA!')\n",
        "!cat /content/drive/My\\ Drive/foo.txt #这里的my是大写的    这是在这个foo.txt中写了文字"
      ],
      "execution_count": null,
      "outputs": [
        {
          "output_type": "stream",
          "text": [
            "WOQUNIMEIA!"
          ],
          "name": "stdout"
        }
      ]
    },
    {
      "cell_type": "code",
      "metadata": {
        "colab": {
          "base_uri": "https://localhost:8080/"
        },
        "id": "TMr6zVDUlLlA",
        "outputId": "19de9917-2b0e-45bb-8c4f-bb4b7b7856ac"
      },
      "source": [
        "drive.flush_and_unmount()  #冲洗和卸载\n",
        "print('现在，在这个合作会话中所做的所有更改都应该在 Drive 中可见。')"
      ],
      "execution_count": null,
      "outputs": [
        {
          "output_type": "stream",
          "text": [
            "现在，在这个合作会话中所做的所有更改都应该在 Drive 中可见。\n"
          ],
          "name": "stdout"
        }
      ]
    },
    {
      "cell_type": "markdown",
      "metadata": {
        "id": "sLGE5nKpkhFL"
      },
      "source": [
        "# **PyDrive验证身份；上传和下载文件**"
      ]
    },
    {
      "cell_type": "code",
      "metadata": {
        "id": "2s4Pi36gmH9t"
      },
      "source": [
        "from pydrive.auth import GoogleAuth\n",
        "from pydrive.drive import GoogleDrive\n",
        "from google.colab import auth\n",
        "from oauth2client.client import GoogleCredentials\n",
        "#https://zhangqiang.blog.csdn.net/article/details/89068238?utm_medium=distribute.pc_relevant.none-task-blog-OPENSEARCH-2.control&dist_request_id=1328603.27771.16150184898556057&depth_1-utm_source=distribute.pc_relevant.none-task-blog-OPENSEARCH-2.control\n",
        "#https://blog.csdn.net/sherpahu/article/details/82931761?ops_request_misc=%257B%2522request%255Fid%2522%253A%2522161501845116780265419059%2522%252C%2522scm%2522%253A%252220140713.130102334.pc%255Fall.%2522%257D&request_id=161501845116780265419059&biz_id=0&utm_medium=distribute.pc_search_result.none-task-blog-2~all~first_rank_v2~rank_v29-1-82931761.first_rank_v2_pc_rank_v29&utm_term=pydrive.auth用法\n",
        "#浅谈REST API\n",
        "#https://blog.csdn.net/champaignwolf/article/details/84099258?ops_request_misc=%257B%2522request%255Fid%2522%253A%2522161501482316780255235926%2522%252C%2522scm%2522%253A%252220140713.130102334.pc%255Fall.%2522%257D&request_id=161501482316780255235926&biz_id=0&utm_medium=distribute.pc_search_result.none-task-blog-2~all~first_rank_v2~rank_v29-1-84099258.first_rank_v2_pc_rank_v29&utm_term=原生+REST+API\n"
      ],
      "execution_count": null,
      "outputs": []
    },
    {
      "cell_type": "markdown",
      "metadata": {
        "id": "dWaxPBpqovw0"
      },
      "source": [
        "进行身份验证，然后创建PyDrive 客户端"
      ]
    },
    {
      "cell_type": "code",
      "metadata": {
        "id": "_rwyffuGlH_Q"
      },
      "source": [
        "auth.authenticate_user()\n",
        "gauth = GoogleAuth()\n",
        "gauth.credentials = GoogleCredentials.get_application_default()#credentials证书 default 默认违约缺席\n",
        "drive = GoogleDrive(gauth) #googledrive(googleAuth)"
      ],
      "execution_count": null,
      "outputs": []
    },
    {
      "cell_type": "markdown",
      "metadata": {
        "id": "BK2uvbLepkoq"
      },
      "source": [
        "创建并上传文本文件"
      ]
    },
    {
      "cell_type": "code",
      "metadata": {
        "colab": {
          "base_uri": "https://localhost:8080/"
        },
        "id": "87ua7Q70pkzV",
        "outputId": "d586d811-18ee-4643-a79e-2ae429cab8ec"
      },
      "source": [
        "uploaded = drive.CreateFile({'title': 'Sample upload.txt'})#创建\n",
        "uploaded.SetContentString('Sample upload file content')#得到内容文字(还是往里面写东西)\n",
        "uploaded.Upload()\n",
        "print('Uploaded file with ID {}'.format(uploaded.get('id')))#format 格式"
      ],
      "execution_count": null,
      "outputs": [
        {
          "output_type": "stream",
          "text": [
            "Uploaded file with ID 1BaU397BesC5jYe_DhTGohExd9OjAE_JR\n"
          ],
          "name": "stdout"
        }
      ]
    },
    {
      "cell_type": "code",
      "metadata": {
        "colab": {
          "base_uri": "https://localhost:8080/"
        },
        "id": "caVmWjIXplW9",
        "outputId": "60084420-6d38-4697-e716-1f4fe0055297"
      },
      "source": [
        "uploaded"
      ],
      "execution_count": null,
      "outputs": [
        {
          "output_type": "execute_result",
          "data": {
            "text/plain": [
              "GoogleDriveFile({'title': 'Sample upload.txt', 'mimeType': 'text/plain', 'kind': 'drive#file', 'id': '159bQ_GTdraXRGMNHP_4Y584_ZMSfKXX5', 'etag': '\"MTYxNTAxOTM4MTYxNw\"', 'selfLink': 'https://www.googleapis.com/drive/v2/files/159bQ_GTdraXRGMNHP_4Y584_ZMSfKXX5', 'webContentLink': 'https://drive.google.com/uc?id=159bQ_GTdraXRGMNHP_4Y584_ZMSfKXX5&export=download', 'alternateLink': 'https://drive.google.com/file/d/159bQ_GTdraXRGMNHP_4Y584_ZMSfKXX5/view?usp=drivesdk', 'embedLink': 'https://drive.google.com/file/d/159bQ_GTdraXRGMNHP_4Y584_ZMSfKXX5/preview?usp=drivesdk', 'iconLink': 'https://drive-thirdparty.googleusercontent.com/16/type/text/plain', 'labels': {'starred': False, 'hidden': False, 'trashed': False, 'restricted': False, 'viewed': True}, 'copyRequiresWriterPermission': False, 'createdDate': '2021-03-06T08:29:41.617Z', 'modifiedDate': '2021-03-06T08:29:41.617Z', 'modifiedByMeDate': '2021-03-06T08:29:41.617Z', 'lastViewedByMeDate': '2021-03-06T08:29:41.617Z', 'markedViewedByMeDate': '1970-01-01T00:00:00.000Z', 'version': '1', 'parents': [{'kind': 'drive#parentReference', 'id': '0AM_pgqxeX-SrUk9PVA', 'selfLink': 'https://www.googleapis.com/drive/v2/files/159bQ_GTdraXRGMNHP_4Y584_ZMSfKXX5/parents/0AM_pgqxeX-SrUk9PVA', 'parentLink': 'https://www.googleapis.com/drive/v2/files/0AM_pgqxeX-SrUk9PVA', 'isRoot': True}], 'downloadUrl': 'https://www.googleapis.com/drive/v2/files/159bQ_GTdraXRGMNHP_4Y584_ZMSfKXX5?alt=media&source=downloadUrl', 'userPermission': {'kind': 'drive#permission', 'etag': '\"2u3BujwMe_5K2h4u04bAAdH0uCY\"', 'id': 'me', 'selfLink': 'https://www.googleapis.com/drive/v2/files/159bQ_GTdraXRGMNHP_4Y584_ZMSfKXX5/permissions/me', 'role': 'owner', 'type': 'user'}, 'originalFilename': 'Sample upload.txt', 'fileExtension': 'txt', 'md5Checksum': '059e2f868d168afd1e00576884a50cbb', 'fileSize': '26', 'quotaBytesUsed': '26', 'ownerNames': ['y y'], 'owners': [{'kind': 'drive#user', 'displayName': 'y y', 'picture': {'url': 'https://lh3.googleusercontent.com/a-/AOh14GipYfT0isyu9OBQdBoTsYGexrV0R6d-exYABvjn=s64'}, 'isAuthenticatedUser': True, 'permissionId': '13673035170628933295', 'emailAddress': 'yanyushan97@gmail.com'}], 'lastModifyingUserName': 'y y', 'lastModifyingUser': {'kind': 'drive#user', 'displayName': 'y y', 'picture': {'url': 'https://lh3.googleusercontent.com/a-/AOh14GipYfT0isyu9OBQdBoTsYGexrV0R6d-exYABvjn=s64'}, 'isAuthenticatedUser': True, 'permissionId': '13673035170628933295', 'emailAddress': 'yanyushan97@gmail.com'}, 'capabilities': {'canCopy': True, 'canEdit': True}, 'editable': True, 'copyable': True, 'writersCanShare': True, 'shared': False, 'explicitlyTrashed': False, 'appDataContents': False, 'headRevisionId': '0B8_pgqxeX-SrOGt0eHl2bWxtK3F1cUNGVFJMYmVHWndGdFNRPQ', 'spaces': ['drive']})"
            ]
          },
          "metadata": {
            "tags": []
          },
          "execution_count": 34
        }
      ]
    },
    {
      "cell_type": "markdown",
      "metadata": {
        "id": "QP3_QeR2qhsc"
      },
      "source": [
        "按id加载文件，然后输出此文件的内容"
      ]
    },
    {
      "cell_type": "code",
      "metadata": {
        "id": "gEydQ8QFqpiu",
        "colab": {
          "base_uri": "https://localhost:8080/"
        },
        "outputId": "90414dbc-23d8-4cfd-bbc3-5d5d7dbea8ef"
      },
      "source": [
        "downloaded = drive.CreateFile({'id': uploaded.get('id')})#还得下载下来\n",
        "print('Downloaded content \"{}\"'.format(downloaded.GetContentString()))#该上传是上传输出还是得输出"
      ],
      "execution_count": null,
      "outputs": [
        {
          "output_type": "stream",
          "text": [
            "Downloaded content \"Sample upload file content\"\n"
          ],
          "name": "stdout"
        }
      ]
    },
    {
      "cell_type": "markdown",
      "metadata": {
        "id": "hAAiSpC6ruVw"
      },
      "source": [
        "# **Drive REST API**"
      ]
    },
    {
      "cell_type": "code",
      "metadata": {
        "id": "9P02L7mjrug8"
      },
      "source": [
        ""
      ],
      "execution_count": null,
      "outputs": []
    },
    {
      "cell_type": "code",
      "metadata": {
        "id": "RhuWM_SBrusF"
      },
      "source": [
        ""
      ],
      "execution_count": null,
      "outputs": []
    }
  ]
}